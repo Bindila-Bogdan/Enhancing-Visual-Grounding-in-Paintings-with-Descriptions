{
 "cells": [
  {
   "cell_type": "markdown",
   "id": "a7b06a21",
   "metadata": {},
   "source": [
    "# Add painting features\n",
    "This notebook is used to add painting features like type, style and century next to each object used for retrieval."
   ]
  },
  {
   "cell_type": "markdown",
   "id": "7cced01d",
   "metadata": {},
   "source": [
    "### 0. Import libraries"
   ]
  },
  {
   "cell_type": "code",
   "execution_count": null,
   "id": "b25e633a",
   "metadata": {},
   "outputs": [],
   "source": [
    "import re\n",
    "import copy\n",
    "import json\n",
    "import polars as pl\n",
    "\n",
    "INPUT_PATH_EMBEDDINGS = \"../../data/embeddings/\"\n",
    "INPUT_PATH_OBJECTS_DATA = \"../../data/processed/\""
   ]
  },
  {
   "cell_type": "markdown",
   "id": "de1309b4",
   "metadata": {},
   "source": [
    "### 1. Load paintings features"
   ]
  },
  {
   "cell_type": "code",
   "execution_count": null,
   "id": "d3870e15",
   "metadata": {},
   "outputs": [],
   "source": [
    "def load_paintings_objects():\n",
    "    with open(f\"{INPUT_PATH_OBJECTS_DATA}paintings_with_filtered_objects.json\") as f:\n",
    "        all_annotations = json.load(f)\n",
    "\n",
    "    object_labels = []\n",
    "    object_descriptions = []\n",
    "\n",
    "    for annotation in all_annotations:\n",
    "        object_labels.append(list(annotation[\"objects\"].keys()))\n",
    "        object_descriptions.append(\n",
    "            [obj_data[\"description\"] for obj_data in annotation[\"objects\"].values()]\n",
    "        )\n",
    "\n",
    "    paintings_objects = copy.deepcopy(all_annotations)\n",
    "\n",
    "    for index, _ in enumerate(paintings_objects):\n",
    "        paintings_objects[index][\"objects\"] = object_labels[index]\n",
    "        paintings_objects[index][\"object_description\"] = object_descriptions[index]\n",
    "\n",
    "    paintings_objects = (\n",
    "        pl.from_dicts(paintings_objects).explode(\"objects\", \"object_description\")\n",
    "    ).with_columns(\n",
    "        pl.col(\"object_description\")\n",
    "        .map_elements(\n",
    "            lambda x: re.sub(r\"\\s+\", \"\", x[:-1].replace(\".\", \" | \").strip())\n",
    "            .lower()\n",
    "            .replace(\"è\", \"e\")\n",
    "            .replace(\"é\", \"e\")\n",
    "            .replace(\"ó\", \"o\")\n",
    "            .replace(\"á\", \"a\")\n",
    "            .replace(\"ü\", \"u\")\n",
    "            .replace(\"ô\", \"o\")\n",
    "            .replace(\"ä\", \"a\")\n",
    "            .replace(\"à\", \"a\"),\n",
    "            return_dtype=pl.String,\n",
    "        )\n",
    "        .alias(\"text_no_spaces\")\n",
    "    )\n",
    "\n",
    "    return paintings_objects"
   ]
  },
  {
   "cell_type": "code",
   "execution_count": null,
   "id": "95a26564",
   "metadata": {},
   "outputs": [],
   "source": [
    "object_features = load_paintings_objects()\n",
    "object_features"
   ]
  },
  {
   "cell_type": "markdown",
   "id": "229d4776",
   "metadata": {},
   "source": [
    "### 2. Add features to clip embeddings"
   ]
  },
  {
   "cell_type": "code",
   "execution_count": null,
   "id": "21d47c76",
   "metadata": {},
   "outputs": [],
   "source": [
    "clip_embeddings = pl.read_json(\n",
    "    f\"{INPUT_PATH_EMBEDDINGS}clip_embeddings_test_clip_full_1e_6_diff_lr_not_frozen.json\"\n",
    ").with_columns(\n",
    "    pl.col(\"text\")\n",
    "    .map_elements(lambda x: re.sub(r\"\\s+\", \"\", x), return_dtype=pl.String)\n",
    "    .alias(\"text_no_spaces\")\n",
    ")\n",
    "clip_embeddings"
   ]
  },
  {
   "cell_type": "code",
   "execution_count": null,
   "id": "523670de",
   "metadata": {},
   "outputs": [],
   "source": [
    "clip_embeddings_with_features = clip_embeddings.join(\n",
    "    object_features, on=\"text_no_spaces\", how=\"left\"\n",
    ").filter(~((pl.col(\"index\") == 661) & (pl.col(\"id\") == 6969))).drop(\"text\", \"text_no_spaces\").rename({\"id\": \"painting_id\", \"objects\": \"label\"})\n",
    "clip_embeddings_with_features"
   ]
  },
  {
   "cell_type": "code",
   "execution_count": null,
   "id": "86e39f24",
   "metadata": {},
   "outputs": [],
   "source": [
    "clip_embeddings_with_features.write_json(f\"{INPUT_PATH_EMBEDDINGS}clip_embeddings_test_clip_full_1e_6_diff_lr_not_frozen_features.json\")"
   ]
  },
  {
   "cell_type": "markdown",
   "id": "06267b6b",
   "metadata": {},
   "source": [
    "### 3. Add features to projected embeddings"
   ]
  },
  {
   "cell_type": "code",
   "execution_count": null,
   "id": "3264747b",
   "metadata": {},
   "outputs": [],
   "source": [
    "projected_embeddings = pl.read_json(\n",
    "    f\"{INPUT_PATH_EMBEDDINGS}baseline_embeddings_test_projections_text_embedding_enhanced.json\"\n",
    ").with_columns(\n",
    "    pl.col(\"text\")\n",
    "    .map_elements(lambda x: re.sub(r\"\\s+\", \"\", x), return_dtype=pl.String)\n",
    "    .alias(\"text_no_spaces\")\n",
    ")\n",
    "projected_embeddings"
   ]
  },
  {
   "cell_type": "code",
   "execution_count": null,
   "id": "9e89a1e9",
   "metadata": {},
   "outputs": [],
   "source": [
    "projected_embeddings_with_features = projected_embeddings.join(\n",
    "    object_features, on=\"text_no_spaces\", how=\"left\"\n",
    ").filter(~((pl.col(\"probability\") == 0.5384060740470886) & (pl.col(\"id\") == 6969))).drop(\"text\", \"text_no_spaces\", \"id\").rename({\"objects\": \"label\"})\n",
    "projected_embeddings_with_features"
   ]
  },
  {
   "cell_type": "code",
   "execution_count": null,
   "id": "e2f0bb1f",
   "metadata": {},
   "outputs": [],
   "source": [
    "clip_embeddings_with_features.write_json(f\"{INPUT_PATH_EMBEDDINGS}baseline_embeddings_test_projections_text_embedding_enhanced_features.json\")"
   ]
  }
 ],
 "metadata": {
  "kernelspec": {
   "display_name": "enhance_vg",
   "language": "python",
   "name": "python3"
  },
  "language_info": {
   "codemirror_mode": {
    "name": "ipython",
    "version": 3
   },
   "file_extension": ".py",
   "mimetype": "text/x-python",
   "name": "python",
   "nbconvert_exporter": "python",
   "pygments_lexer": "ipython3",
   "version": "3.12.3"
  }
 },
 "nbformat": 4,
 "nbformat_minor": 5
}
