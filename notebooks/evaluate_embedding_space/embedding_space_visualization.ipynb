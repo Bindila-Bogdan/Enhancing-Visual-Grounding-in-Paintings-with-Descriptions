{
 "cells": [
  {
   "cell_type": "markdown",
   "id": "fa308455",
   "metadata": {},
   "source": [
    "# Embedding space visualization\n",
    "This notebook tests t-SNE and UMAP algorithms to plot the embeddings and understand if clusters are formed depending on features such as type, style or century of the painting."
   ]
  },
  {
   "cell_type": "markdown",
   "id": "a9a77ce3",
   "metadata": {},
   "source": [
    "### 0. Import libraries and data"
   ]
  },
  {
   "cell_type": "code",
   "execution_count": null,
   "id": "54925823",
   "metadata": {},
   "outputs": [],
   "source": [
    "import re\n",
    "import copy\n",
    "import json\n",
    "import numpy as np\n",
    "import polars as pl\n",
    "import plotly.express as px\n",
    "from umap import UMAP\n",
    "from sklearn.manifold import TSNE\n",
    "\n",
    "INPUT_PATH_EMBEDDINGS = \"../../data/embeddings/\""
   ]
  },
  {
   "cell_type": "code",
   "execution_count": null,
   "id": "1872555e",
   "metadata": {},
   "outputs": [],
   "source": [
    "clip_embeddings = pl.read_json(f\"{INPUT_PATH_EMBEDDINGS}clip_embeddings_test_clip_full_1e_6_diff_lr_not_frozen_features.json\", infer_schema_length=2000)\n",
    "projected_embeddings = pl.read_json(f\"{INPUT_PATH_EMBEDDINGS}baseline_embeddings_test_projections_text_embedding_enhanced_features.json\", infer_schema_length=2000)"
   ]
  },
  {
   "cell_type": "code",
   "execution_count": null,
   "id": "2fc3723d",
   "metadata": {},
   "outputs": [],
   "source": [
    "clip_description_embeddings = np.stack(clip_embeddings[\"text_embedding_enhanced\"].to_numpy())\n",
    "clip_description_embeddings"
   ]
  },
  {
   "cell_type": "code",
   "execution_count": null,
   "id": "b35c41e3",
   "metadata": {},
   "outputs": [],
   "source": [
    "clip_painting_types = [coarse_type if coarse_type is not None else \"none\" for coarse_type in clip_embeddings[\"label\"].to_numpy()]\n",
    "clip_painting_types"
   ]
  },
  {
   "cell_type": "code",
   "execution_count": null,
   "id": "dbf58036",
   "metadata": {},
   "outputs": [],
   "source": [
    "tsne = TSNE(n_components=2, perplexity=30, random_state=42)\n",
    "clip_description_embeddings_2d = tsne.fit_transform(clip_description_embeddings)"
   ]
  },
  {
   "cell_type": "code",
   "execution_count": null,
   "id": "93ea6217",
   "metadata": {},
   "outputs": [],
   "source": [
    "clip_description_embeddings_2d_type = pl.DataFrame(clip_description_embeddings_2d).with_columns(pl.Series(clip_painting_types).cast(pl.String).alias(\"type\"))\n",
    "clip_description_embeddings_2d_type"
   ]
  },
  {
   "cell_type": "code",
   "execution_count": null,
   "id": "6e76fce7",
   "metadata": {},
   "outputs": [],
   "source": [
    "fig_tsne = px.scatter(\n",
    "    clip_description_embeddings_2d_type,\n",
    "    x='column_0',\n",
    "    y='column_1',\n",
    "    color='type',\n",
    "    symbol='type',\n",
    "    title='t-SNE Visualization of Embeddings by Painting Style'\n",
    ")\n",
    "\n",
    "fig_tsne.show()"
   ]
  },
  {
   "cell_type": "code",
   "execution_count": null,
   "id": "1170d3d5",
   "metadata": {},
   "outputs": [],
   "source": [
    "umap = UMAP(n_neighbors=15, min_dist=0.1, n_components=2, random_state=42)\n",
    "clip_description_embeddings_2d_type = umap.fit_transform(clip_description_embeddings)\n"
   ]
  },
  {
   "cell_type": "code",
   "execution_count": null,
   "id": "84b12c24",
   "metadata": {},
   "outputs": [],
   "source": [
    "!pip install umap-learn"
   ]
  }
 ],
 "metadata": {
  "kernelspec": {
   "display_name": "enhance_vg",
   "language": "python",
   "name": "python3"
  },
  "language_info": {
   "codemirror_mode": {
    "name": "ipython",
    "version": 3
   },
   "file_extension": ".py",
   "mimetype": "text/x-python",
   "name": "python",
   "nbconvert_exporter": "python",
   "pygments_lexer": "ipython3",
   "version": "3.12.3"
  }
 },
 "nbformat": 4,
 "nbformat_minor": 5
}
