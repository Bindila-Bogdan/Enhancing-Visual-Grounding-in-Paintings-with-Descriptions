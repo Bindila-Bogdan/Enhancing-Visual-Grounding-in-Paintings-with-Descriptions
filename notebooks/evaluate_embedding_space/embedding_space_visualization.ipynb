{
 "cells": [
  {
   "cell_type": "markdown",
   "id": "fa308455",
   "metadata": {},
   "source": [
    "# Embedding space visualization\n",
    "This notebook tests t-SNE and UMAP algorithms to plot the embeddings and understand if clusters are formed depending on features such as type, style or century of the painting."
   ]
  },
  {
   "cell_type": "markdown",
   "id": "a9a77ce3",
   "metadata": {},
   "source": [
    "### 0. Import libraries and data"
   ]
  },
  {
   "cell_type": "code",
   "execution_count": null,
   "id": "54925823",
   "metadata": {},
   "outputs": [],
   "source": [
    "import numpy as np\n",
    "import polars as pl\n",
    "import plotly.express as px\n",
    "from umap import UMAP\n",
    "from sklearn.manifold import TSNE\n",
    "\n",
    "INPUT_PATH_EMBEDDINGS = \"../../data/embeddings/\""
   ]
  },
  {
   "cell_type": "code",
   "execution_count": null,
   "id": "1872555e",
   "metadata": {},
   "outputs": [],
   "source": [
    "clip_embeddings = pl.read_json(\n",
    "    f\"{INPUT_PATH_EMBEDDINGS}clip_embeddings_test_clip_full_1e_6_diff_lr_not_frozen_features.json\",\n",
    "    infer_schema_length=2000,\n",
    ").with_columns((pl.col(\"year\") // 100 + 1).alias(\"century\"))\n",
    "\n",
    "projected_embeddings = pl.read_json(\n",
    "    f\"{INPUT_PATH_EMBEDDINGS}baseline_embeddings_test_projections_text_embedding_enhanced_features.json\",\n",
    "    infer_schema_length=2000,\n",
    ").with_columns((pl.col(\"year\") // 100 + 1).alias(\"century\"))"
   ]
  },
  {
   "cell_type": "markdown",
   "id": "cb75d46c",
   "metadata": {},
   "source": [
    "- 2 types of embeddings\n",
    "- type, style, century, object"
   ]
  },
  {
   "cell_type": "code",
   "execution_count": null,
   "id": "7657851f",
   "metadata": {},
   "outputs": [],
   "source": [
    "def plot_embeddings(\n",
    "    complete_input_embeddings,\n",
    "    modality,\n",
    "    feature_name,\n",
    "    viz_algorithm=\"t-SNE\",\n",
    "    viz_algorithm_param=30,\n",
    "    top_feature_values=10,\n",
    "):\n",
    "    feature_values = (\n",
    "        complete_input_embeddings.filter(pl.col(feature_name).is_not_null())[feature_name]\n",
    "        .value_counts()\n",
    "        .sort(\"count\", descending=True)[:top_feature_values][feature_name]\n",
    "        .to_list()\n",
    "    )\n",
    "    input_embeddings = complete_input_embeddings.filter(pl.col(feature_name).is_in(feature_values))\n",
    "\n",
    "    print(\n",
    "        f\"Original size {complete_input_embeddings.shape[0]} - filtered size {input_embeddings.shape[0]}\"\n",
    "    )\n",
    "\n",
    "    if modality == \"image\":\n",
    "        embeddings = np.stack(input_embeddings[\"embedding_object_image\"].to_numpy())\n",
    "    elif modality == \"text\":\n",
    "        embeddings = np.stack(input_embeddings[\"text_embedding_enhanced\"].to_numpy())\n",
    "\n",
    "    features = [\n",
    "        feature if feature is not None else \"none\"\n",
    "        for feature in input_embeddings[feature_name].to_numpy()\n",
    "    ]\n",
    "\n",
    "    if viz_algorithm == \"t-SNE\":\n",
    "        tsne = TSNE(\n",
    "            n_components=2, perplexity=viz_algorithm_param, random_state=42, metric=\"cosine\"\n",
    "        )\n",
    "        embeddings_2d = tsne.fit_transform(embeddings)\n",
    "    elif viz_algorithm == \"UMAP\":\n",
    "        umap = UMAP(\n",
    "            n_neighbors=viz_algorithm_param,\n",
    "            min_dist=0.9,\n",
    "            n_components=2,\n",
    "            random_state=42,\n",
    "            n_jobs=1,\n",
    "            metric=\"cosine\",\n",
    "        )\n",
    "        embeddings_2d = umap.fit_transform(embeddings)\n",
    "\n",
    "    embeddings_2d = pl.DataFrame(embeddings_2d).with_columns(\n",
    "        pl.Series(features).cast(pl.String).alias(\"type\")\n",
    "    )\n",
    "\n",
    "    fig = px.scatter(\n",
    "        embeddings_2d,\n",
    "        x=\"column_0\",\n",
    "        y=\"column_1\",\n",
    "        color=\"type\",\n",
    "        symbol=\"type\",\n",
    "        title=f\"{viz_algorithm} Visualization of Embeddings by Painting {feature_name.capitalize()}\",\n",
    "    )\n",
    "\n",
    "    fig.show()"
   ]
  },
  {
   "cell_type": "markdown",
   "id": "31127e8e",
   "metadata": {},
   "source": [
    "### LABEL\n",
    "**projected**\n",
    "- text\n",
    "    - t-SNE 10; UMAP 5\n",
    "- image\n",
    "    - t-SNE 5, UMAP 5\n",
    "\n",
    "**clip**\n",
    "- text\n",
    "    - t-SNE 10 / 50; UMAP ?\n",
    "- image\n",
    "    - t-SNE 10; UMAP 5\n",
    "\n",
    "### TYPE\n",
    "**projected**\n",
    "- text\n",
    "    - t-SNE 30; UMAP 30\n",
    "- image\n",
    "    - t-SNE 30, UMAP 30 - in this case, UMAP produces a very uniformly spread distribution of points\n",
    "\n",
    "**clip**\n",
    "- text\n",
    "    - t-SNE 10/ 30; UMAP 30 - no clusters can be detected (UMAP tends to leave some outlier points)\n",
    "- image\n",
    "    - t-SNE 30; UMAP 30 - there is a tendency of data to be grouped in clusters"
   ]
  },
  {
   "cell_type": "code",
   "execution_count": null,
   "id": "5f90e52b",
   "metadata": {},
   "outputs": [],
   "source": [
    "for perplexity in [5, 10, 30, 50]:\n",
    "    plot_embeddings(projected_embeddings.clone(), \"image\", \"coarse_type\", \"t-SNE\", perplexity)"
   ]
  },
  {
   "cell_type": "code",
   "execution_count": null,
   "id": "f5892176",
   "metadata": {},
   "outputs": [],
   "source": [
    "for n_neightbors in [5, 10, 30, 50]:\n",
    "    plot_embeddings(projected_embeddings.clone(), \"image\", \"coarse_type\", \"UMAP\", n_neightbors)"
   ]
  },
  {
   "cell_type": "code",
   "execution_count": null,
   "id": "4901a629",
   "metadata": {},
   "outputs": [],
   "source": []
  }
 ],
 "metadata": {
  "kernelspec": {
   "display_name": "enhance_vg",
   "language": "python",
   "name": "python3"
  },
  "language_info": {
   "codemirror_mode": {
    "name": "ipython",
    "version": 3
   },
   "file_extension": ".py",
   "mimetype": "text/x-python",
   "name": "python",
   "nbconvert_exporter": "python",
   "pygments_lexer": "ipython3",
   "version": "3.12.3"
  }
 },
 "nbformat": 4,
 "nbformat_minor": 5
}
