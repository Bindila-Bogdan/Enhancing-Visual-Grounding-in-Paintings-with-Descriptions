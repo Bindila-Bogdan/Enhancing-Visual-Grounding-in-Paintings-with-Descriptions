{
 "cells": [
  {
   "cell_type": "markdown",
   "id": "7ce56737",
   "metadata": {},
   "source": [
    "# Analyze fine-tuning results\n",
    "This notebook is used to analyze the fine-tuning and the baseline results obtained wiht Grounding DINO."
   ]
  },
  {
   "cell_type": "markdown",
   "id": "9ff459e1",
   "metadata": {},
   "source": [
    "### 0. Import libraries and load data"
   ]
  },
  {
   "cell_type": "code",
   "execution_count": null,
   "id": "23ce3d11",
   "metadata": {},
   "outputs": [],
   "source": [
    "import json\n",
    "import polars as pl\n",
    "import plotly.express as px\n",
    "\n",
    "RESULTS_PATH = \"../../experiments/fine_tuning/\"\n",
    "RESULTS_FOLDER_NAME = \"logs_test/\"\n",
    "\n",
    "COLORS = [\"#cd968e\", \"#acb0e0\", \"#aecbdc\", \"#bcd5c3\", \"#bfbfbf\"]"
   ]
  },
  {
   "cell_type": "code",
   "execution_count": null,
   "id": "9e8c3cdc",
   "metadata": {},
   "outputs": [],
   "source": [
    "with open(f\"{RESULTS_PATH}{RESULTS_FOLDER_NAME}evaluation.json\", \"r\") as f:\n",
    "    evaluation = json.load(f)\n",
    "\n",
    "with open(f\"{RESULTS_PATH}{RESULTS_FOLDER_NAME}logs.json\", \"r\") as f:\n",
    "    logs = json.load(f)"
   ]
  },
  {
   "cell_type": "markdown",
   "id": "5ec9dbed",
   "metadata": {},
   "source": [
    "### 1. Prepare data and display the statistics"
   ]
  },
  {
   "cell_type": "code",
   "execution_count": null,
   "id": "e32123b8",
   "metadata": {},
   "outputs": [],
   "source": [
    "epochs_info = (\n",
    "    pl.from_dicts(logs)\n",
    "    .select(\n",
    "        \"epoch_time\", \"train_loss\", \"train_map_50\", \"train_map_50_95\", \"val_map_50\", \"val_map_50_95\"\n",
    "    )\n",
    "    .with_row_index(name=\"index\", offset=1)\n",
    "    .with_columns(\n",
    "        pl.col(\"epoch_time\")\n",
    "        .str.strptime(pl.Time, format=\"%H:%M:%S\")\n",
    "        .dt.second()\n",
    "        .alias(\"epoch_duration (s)\")\n",
    "    )\n",
    "    .drop(\"epoch_time\")\n",
    "    .rename(\n",
    "        {\n",
    "            \"index\": \"epoch\",\n",
    "            \"train_loss\": \"train loss\",\n",
    "            \"train_map_50\": \"train mAP@0.5\",\n",
    "            \"train_map_50_95\": \"train mAP@0.5-0.95\",\n",
    "            \"val_map_50\": \"val mAP@0.5\",\n",
    "            \"val_map_50_95\": \"val mAP@0.5-0.95\",\n",
    "        }\n",
    "    )\n",
    ")\n",
    "epochs_info"
   ]
  },
  {
   "cell_type": "code",
   "execution_count": null,
   "id": "81307954",
   "metadata": {},
   "outputs": [],
   "source": [
    "fig = px.line(\n",
    "    epochs_info,\n",
    "    x=\"epoch\",\n",
    "    y=\"train loss\",\n",
    "    title=\"Evolution of the train loss\",\n",
    "    markers=True,\n",
    "    color_discrete_sequence=COLORS[0:1],\n",
    ")\n",
    "fig.show()"
   ]
  },
  {
   "cell_type": "code",
   "execution_count": null,
   "id": "72aacab2",
   "metadata": {},
   "outputs": [],
   "source": [
    "fig = px.line(\n",
    "    epochs_info.rename({\"train mAP@0.5\": \"train\", \"val mAP@0.5\": \"val\"}),\n",
    "    x=\"epoch\",\n",
    "    y=[\"train\", \"val\"],\n",
    "    labels={\"value\": \"mAP@0.5\", \"variable\": \"data set\"},\n",
    "    title=\"Evolution of mAP@0.5\",\n",
    "    markers=True,\n",
    "    color_discrete_sequence=COLORS,\n",
    ")\n",
    "fig.show()"
   ]
  },
  {
   "cell_type": "code",
   "execution_count": null,
   "id": "7d034866",
   "metadata": {},
   "outputs": [],
   "source": [
    "fig = px.line(\n",
    "    epochs_info.rename({\"train mAP@0.5-0.95\": \"train\", \"val mAP@0.5-0.95\": \"val\"}),\n",
    "    x=\"epoch\",\n",
    "    y=[\"train\", \"val\"],\n",
    "    labels={\"value\": \"mAP@0.5-0.95\", \"variable\": \"data set\"},\n",
    "    title=\"Evolution of mAP@0.5-0.95\",\n",
    "    markers=True,\n",
    "    color_discrete_sequence=COLORS,\n",
    ")\n",
    "fig.show()"
   ]
  },
  {
   "cell_type": "code",
   "execution_count": null,
   "id": "ddbb9089",
   "metadata": {},
   "outputs": [],
   "source": [
    "train_val_metrics = epochs_info[-1].drop(\"epoch\", \"train loss\", \"epoch_duration (s)\").to_dicts()[0]\n",
    "for metric_name, metric_value in train_val_metrics.items():\n",
    "    print(f\"{metric_name}: {metric_value}\")\n",
    "print(f\"test mAP@50: {evaluation['test_map_50']}\\ntest mAP@50-95: {evaluation['test_map_50_95']}\")\n",
    "print(f\"training duration: {epochs_info['epoch_duration (s)'].sum()}s\")"
   ]
  }
 ],
 "metadata": {
  "kernelspec": {
   "display_name": "enhance_vg",
   "language": "python",
   "name": "python3"
  },
  "language_info": {
   "codemirror_mode": {
    "name": "ipython",
    "version": 3
   },
   "file_extension": ".py",
   "mimetype": "text/x-python",
   "name": "python",
   "nbconvert_exporter": "python",
   "pygments_lexer": "ipython3",
   "version": "3.12.3"
  }
 },
 "nbformat": 4,
 "nbformat_minor": 5
}
