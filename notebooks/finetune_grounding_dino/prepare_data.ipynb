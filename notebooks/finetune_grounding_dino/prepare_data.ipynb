{
 "cells": [
  {
   "cell_type": "markdown",
   "id": "5d3c177f",
   "metadata": {},
   "source": [
    "# Prepare data for fine-tuning\n",
    "Prepare data for fine-tuning the Open Grounding DINO model."
   ]
  },
  {
   "cell_type": "markdown",
   "id": "00dc8f98",
   "metadata": {},
   "source": [
    "### 0. Import libraries and load data"
   ]
  },
  {
   "cell_type": "code",
   "execution_count": 1,
   "id": "c84b038e",
   "metadata": {},
   "outputs": [],
   "source": [
    "import os\n",
    "import sys\n",
    "import json\n",
    "import shutil\n",
    "\n",
    "RAW_DATA_PATH = \"../../data/raw/\"\n",
    "ANNOTATIONS_PATH = \"../../data/annotations/\"\n",
    "STORAGE_PATH = \"../../data/fine-tuning/baseline/\"\n",
    "sys.path.append(\"../annotate_dataset/\")\n",
    "\n",
    "from annotate_paintings_utils import *"
   ]
  },
  {
   "cell_type": "code",
   "execution_count": 2,
   "id": "0a136ff9",
   "metadata": {},
   "outputs": [],
   "source": [
    "filenames = [\"annotations_10000_10009\", \"annotations_30_39\", \"annotations_100_109\", \"annotations_1000_1009\", \"annotations_2400_2409\", \"annotations_2500_2509\", \"annotations_7000_7009\"]\n",
    "all_annotations = []\n",
    "\n",
    "for filename in filenames:\n",
    "    with open(f\"{ANNOTATIONS_PATH}iterative_grounding/{filename}.json\") as f:\n",
    "        all_annotations.extend(json.load(f)[\"annotations\"])"
   ]
  },
  {
   "cell_type": "markdown",
   "id": "adcdbc52",
   "metadata": {},
   "source": [
    "### 1. Create data for fine-tuning in jsonl format"
   ]
  },
  {
   "cell_type": "code",
   "execution_count": 3,
   "id": "dfa39ba0",
   "metadata": {},
   "outputs": [],
   "source": [
    "if not os.path.exists(STORAGE_PATH):\n",
    "    os.mkdir(STORAGE_PATH)\n",
    "    os.mkdir(STORAGE_PATH + \"train/\")\n",
    "    os.mkdir(STORAGE_PATH + \"val/\")"
   ]
  },
  {
   "cell_type": "code",
   "execution_count": 4,
   "id": "eac0938a",
   "metadata": {},
   "outputs": [],
   "source": [
    "def create_dataset(all_annotations, set_name):\n",
    "    annotations = []\n",
    "\n",
    "    for painting_annotations in all_annotations:\n",
    "        painting_id = painting_annotations[\"painting_id\"]\n",
    "        extracted_objects = list(painting_annotations[\"objects\"].keys())\n",
    "        bboxes = painting_annotations[\"bounding_boxes\"]\n",
    "        image = load_image(painting_id)[1]\n",
    "\n",
    "        current_annotation = {\"filename\": f\"{painting_id}.png\", \"height\": image.size[1], \"width\": image.size[0]}\n",
    "        regions = []\n",
    "        unique_labels = set()\n",
    "\n",
    "        for bbox in bboxes:\n",
    "            if bbox[0] not in extracted_objects:\n",
    "                continue\n",
    "\n",
    "            regions.append({\"bbox\": bbox[2], \"phrase\": bbox[0]})\n",
    "            unique_labels.add(bbox[0])\n",
    "\n",
    "        current_annotation[\"grounding\"] = {\"caption\": \" . \".join(unique_labels) + \" .\", \"regions\": regions} \n",
    "\n",
    "        if len(unique_labels) != 0:\n",
    "            annotations.append(current_annotation)\n",
    "            source_path = f\"{RAW_DATA_PATH}filtered_paintings/{painting_id}.png\"\n",
    "            destination_path = f\"{STORAGE_PATH}{set_name}/{painting_id}.png\"\n",
    "            shutil.copy2(source_path, destination_path)\n",
    "\n",
    "    with open(f\"{STORAGE_PATH}{set_name}/{set_name}_annotations.jsonl\", \"w\", encoding='utf-8') as f:\n",
    "        for item in annotations:\n",
    "            json_line = json.dumps(item, ensure_ascii=False)\n",
    "            f.write(json_line + '\\n')"
   ]
  },
  {
   "cell_type": "code",
   "execution_count": 5,
   "id": "ec7a1bff",
   "metadata": {},
   "outputs": [],
   "source": [
    "train_annotations = all_annotations[:len(all_annotations) // 2]\n",
    "create_dataset(train_annotations, \"train\")\n",
    "val_annotations = all_annotations[len(all_annotations) // 2:]\n",
    "create_dataset(val_annotations, \"val\")"
   ]
  }
 ],
 "metadata": {
  "kernelspec": {
   "display_name": "enhance_vg",
   "language": "python",
   "name": "python3"
  },
  "language_info": {
   "codemirror_mode": {
    "name": "ipython",
    "version": 3
   },
   "file_extension": ".py",
   "mimetype": "text/x-python",
   "name": "python",
   "nbconvert_exporter": "python",
   "pygments_lexer": "ipython3",
   "version": "3.12.3"
  }
 },
 "nbformat": 4,
 "nbformat_minor": 5
}
