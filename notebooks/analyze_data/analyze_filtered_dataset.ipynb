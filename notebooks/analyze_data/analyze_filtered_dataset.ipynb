{
 "cells": [
  {
   "cell_type": "markdown",
   "metadata": {},
   "source": [
    "# Analyze the filtered dataset\n",
    "This notebook analyzes each feature of the dataset and is leveraged to understand which type of paintings are under-represented."
   ]
  },
  {
   "cell_type": "markdown",
   "metadata": {},
   "source": [
    "### 0. Import libraries and load data"
   ]
  },
  {
   "cell_type": "code",
   "execution_count": null,
   "metadata": {},
   "outputs": [],
   "source": [
    "import numpy as np\n",
    "import polars as pl\n",
    "from PIL import Image\n",
    "from tqdm import tqdm\n",
    "import plotly.express as px\n",
    "from collections import Counter\n",
    "\n",
    "RAW_DATA_PATH = \"../../data/raw/\"\n",
    "INTERMEDIATE_DATA_PATH = \"../../data/intermediate/\"\n",
    "PROCESSED_DATA_PATH = \"../../data/processed/\"\n",
    "COLORS = [\"#cd968e\", \"#acb0e0\", \"#aecbdc\", \"#bcd5c3\", \"#bfbfbf\"]"
   ]
  },
  {
   "cell_type": "code",
   "execution_count": null,
   "metadata": {},
   "outputs": [],
   "source": [
    "DATASET_TYPE = \"all_paintings_dataset\"\n",
    "\n",
    "if DATASET_TYPE == \"final_annotated_dataset\":\n",
    "    data = pl.read_json(f\"{PROCESSED_DATA_PATH}paintings_with_filtered_objects.json\", infer_schema_length=10000).drop(\"objects\")\n",
    "elif DATASET_TYPE == \"filtered_paintings_dataset\":\n",
    "    data = pl.read_json(\n",
    "        f\"{INTERMEDIATE_DATA_PATH}filtered_paintings/filtered_paintings_enhanced_data.json\"\n",
    "    )\n",
    "\n",
    "data"
   ]
  },
  {
   "cell_type": "code",
   "execution_count": null,
   "metadata": {},
   "outputs": [],
   "source": [
    "data.filter(~pl.col(\"first_style\").is_null() & ~pl.col(\"coarse_type\").is_null() &  ~pl.col(\"first_fine_grained_type\").is_null())"
   ]
  },
  {
   "cell_type": "code",
   "execution_count": null,
   "metadata": {},
   "outputs": [],
   "source": [
    "data[\"source\"].value_counts().sort(\"count\")"
   ]
  },
  {
   "cell_type": "markdown",
   "metadata": {},
   "source": [
    "### 1. Artists"
   ]
  },
  {
   "cell_type": "code",
   "execution_count": null,
   "metadata": {},
   "outputs": [],
   "source": [
    "artist_frequency = data[\"artist\"].value_counts().sort(\"count\").rename({\"count\": \"frequency\"})\n",
    "print(f\"Number of artists: {len(set(data['artist'].to_list()))}\")\n",
    "\n",
    "fig = px.histogram(\n",
    "    artist_frequency, x=\"frequency\", title=\"Artist Frequency\", color_discrete_sequence=COLORS[2:3]\n",
    ")\n",
    "fig.show()"
   ]
  },
  {
   "cell_type": "code",
   "execution_count": null,
   "metadata": {},
   "outputs": [],
   "source": [
    "data[\"artist\"].value_counts().sort(\"count\")"
   ]
  },
  {
   "cell_type": "code",
   "execution_count": null,
   "metadata": {},
   "outputs": [],
   "source": [
    "paintings_with_type_or_style = data.filter(\n",
    "    pl.col(\"coarse_type\").is_not_null()\n",
    "    | pl.col(\"first_fine_grained_type\").is_not_null()\n",
    "    | pl.col(\"second_fine_grained_type\").is_not_null()\n",
    "    | pl.col(\"first_style\").is_not_null()\n",
    "    | pl.col(\"second_style\").is_not_null()\n",
    ")\n",
    "\n",
    "artists_with_type_or_style = len(set(paintings_with_type_or_style[\"artist\"].to_list()))\n",
    "print(f\"Artists that have paintings with associated style or type: {artists_with_type_or_style}\")"
   ]
  },
  {
   "cell_type": "markdown",
   "metadata": {},
   "source": [
    "### 2. Year of creation"
   ]
  },
  {
   "cell_type": "code",
   "execution_count": null,
   "metadata": {},
   "outputs": [],
   "source": [
    "paintings_per_century = (\n",
    "    data.with_columns((pl.col(\"year\") // 100 + 1).alias(\"century\"))\n",
    "    .group_by(\"century\", \"source\")\n",
    "    .len()\n",
    "    .sort(\"century\")\n",
    "    .with_columns(pl.col(\"len\") / data.shape[0] * 100)\n",
    "    .rename({\"len\": \"percentage\"})\n",
    ")\n",
    "print(f\"Covered period: {data['year'].min()} - {data['year'].max()}\")\n",
    "\n",
    "fig = px.bar(\n",
    "    paintings_per_century.sort(\"source\"),\n",
    "    x=\"century\",\n",
    "    y=\"percentage\",\n",
    "    color=\"source\",\n",
    "    title=\"Distribution of Paintings Across Centuries\",\n",
    "    color_discrete_sequence=COLORS[:4],\n",
    ")\n",
    "fig.update_layout(xaxis={\"dtick\": 1})\n",
    "fig.show()"
   ]
  },
  {
   "cell_type": "code",
   "execution_count": null,
   "metadata": {},
   "outputs": [],
   "source": [
    "paintings_per_century_no = (\n",
    "    data.with_columns((pl.col(\"year\") // 100 + 1).alias(\"century\"))\n",
    "    .group_by(\"century\", \"source\")\n",
    "    .len()\n",
    "    .sort(\"century\")\n",
    "    .rename({\"len\": \"paintings number\"})\n",
    ")\n",
    "\n",
    "with pl.Config(tbl_rows=30):\n",
    "    display(paintings_per_century_no)"
   ]
  },
  {
   "cell_type": "markdown",
   "metadata": {},
   "source": [
    "### 3. Type and style"
   ]
  },
  {
   "cell_type": "code",
   "execution_count": null,
   "metadata": {},
   "outputs": [],
   "source": [
    "def plot_treemap(data, measurement_name, min_val):\n",
    "    formatted_data = pl.from_dict({measurement_name: data.keys(), \"count\": data.values()}).sort(\"count\")\n",
    "\n",
    "    formatted_data = formatted_data.with_columns(\n",
    "        pl.when(pl.col(\"count\") < min_val)\n",
    "        .then(pl.lit(\"other\"))\n",
    "        .otherwise(pl.col(measurement_name))\n",
    "        .alias(measurement_name) \n",
    "    )\n",
    "\n",
    "    fig = px.treemap(formatted_data, path=[px.Constant(measurement_name.capitalize()), measurement_name], values='count')\n",
    "    fig.update_traces(root_color=\"lightgrey\", marker=dict(cornerradius=5), textinfo='label+percent root')\n",
    "    fig.update_layout(\n",
    "        treemapcolorway = COLORS[:4],\n",
    "        margin = dict(t=5, l=5, r=5, b=5),\n",
    "    )\n",
    "    fig.show()"
   ]
  },
  {
   "cell_type": "code",
   "execution_count": null,
   "metadata": {},
   "outputs": [],
   "source": [
    "paintings_with_type_and_style = data.filter(\n",
    "    (\n",
    "        pl.col(\"coarse_type\").is_not_null()\n",
    "        | pl.col(\"first_fine_grained_type\").is_not_null()\n",
    "        | pl.col(\"second_fine_grained_type\").is_not_null()\n",
    "    )\n",
    "    & (pl.col(\"first_style\").is_not_null() | pl.col(\"second_style\").is_not_null())\n",
    ")\n",
    "print(f\"Paintings with style and type: {paintings_with_type_and_style.shape[0]}\")\n",
    "print(f\"Paintings with style or type: {paintings_with_type_or_style.shape[0]}\")"
   ]
  },
  {
   "cell_type": "code",
   "execution_count": null,
   "metadata": {},
   "outputs": [],
   "source": [
    "paintings_with_coarse_type_no = data.filter(pl.col(\"coarse_type\").is_not_null()).shape[0]\n",
    "\n",
    "coarse_grained_types = Counter(\n",
    "    [type_ for type_ in data[\"coarse_type\"].to_list() if type_ is not None]\n",
    ")\n",
    "\n",
    "print(f\"Number of paintings with coarse type: {paintings_with_coarse_type_no}\")\n",
    "\n",
    "print(f\"The {len(coarse_grained_types)} coarse types are:\")\n",
    "plot_treemap(coarse_grained_types, \"coarse grained types\", min_val=0)\n"
   ]
  },
  {
   "cell_type": "code",
   "execution_count": null,
   "metadata": {},
   "outputs": [],
   "source": [
    "paintings_with_fine_grained_type_no = data.filter(\n",
    "    pl.col(\"first_fine_grained_type\").is_not_null()\n",
    "    | pl.col(\"second_fine_grained_type\").is_not_null()\n",
    ").shape[0]\n",
    "\n",
    "fine_grained_types = Counter(\n",
    "    type_\n",
    "    for type_ in data[\"first_fine_grained_type\"].to_list()\n",
    "    + data[\"second_fine_grained_type\"].to_list()\n",
    "    if type_ is not None\n",
    ")\n",
    "\n",
    "print(f\"Number of paintings with fine-grained type: {paintings_with_fine_grained_type_no}\")\n",
    "print(f\"The {len(fine_grained_types)} fine-grained types are:\")\n",
    "plot_treemap(fine_grained_types, \"fine grained types\", min_val=25)\n"
   ]
  },
  {
   "cell_type": "code",
   "execution_count": null,
   "metadata": {},
   "outputs": [],
   "source": [
    "paintings_with_style_no = data.filter(\n",
    "    pl.col(\"first_style\").is_not_null() | pl.col(\"second_style\").is_not_null()\n",
    ").shape[0]\n",
    "\n",
    "styles = Counter(\n",
    "    style_\n",
    "    for style_ in data[\"first_style\"].to_list() + data[\"second_style\"].to_list()\n",
    "    if style_ is not None\n",
    ")\n",
    "\n",
    "print(f\"Number of paintings with style: {paintings_with_style_no}\")\n",
    "print(f\"The {len(styles)} styles are:\")\n",
    "plot_treemap(styles, \"style types\", min_val=40)"
   ]
  },
  {
   "cell_type": "markdown",
   "metadata": {},
   "source": [
    "### 4. Description length"
   ]
  },
  {
   "cell_type": "code",
   "execution_count": null,
   "metadata": {},
   "outputs": [],
   "source": [
    "data_description_word_count = data.with_columns(\n",
    "    pl.col(\"description\")\n",
    "    .map_elements(lambda x: len(x.split(\" \")), return_dtype=pl.Int64)\n",
    "    .alias(\"description word count\")\n",
    ")\n",
    "\n",
    "fig = px.box(\n",
    "    data_description_word_count,\n",
    "    x=\"description word count\",\n",
    "    title=\"Description Word Count\",\n",
    "    color_discrete_sequence=COLORS[0:3],\n",
    "    color=\"source\"\n",
    ")\n",
    "fig.update_xaxes(title_text=\"number of words\")\n",
    "fig.show()"
   ]
  },
  {
   "cell_type": "code",
   "execution_count": null,
   "metadata": {},
   "outputs": [],
   "source": [
    "description_lengths = [\"shortest:\\n\", \"\\nmedium:\\n\", \"\\nlong:\\n\"]\n",
    "\n",
    "for index, description_index in enumerate([0, 5000, -100]):\n",
    "    description = data_description_word_count.sort(\"description word count\")[\"description\"][\n",
    "        description_index\n",
    "    ]\n",
    "\n",
    "    print(f\"{description_lengths[index]}{description}\")"
   ]
  }
 ],
 "metadata": {
  "kernelspec": {
   "display_name": "enhance_vg",
   "language": "python",
   "name": "python3"
  },
  "language_info": {
   "codemirror_mode": {
    "name": "ipython",
    "version": 3
   },
   "file_extension": ".py",
   "mimetype": "text/x-python",
   "name": "python",
   "nbconvert_exporter": "python",
   "pygments_lexer": "ipython3",
   "version": "3.12.3"
  }
 },
 "nbformat": 4,
 "nbformat_minor": 2
}
