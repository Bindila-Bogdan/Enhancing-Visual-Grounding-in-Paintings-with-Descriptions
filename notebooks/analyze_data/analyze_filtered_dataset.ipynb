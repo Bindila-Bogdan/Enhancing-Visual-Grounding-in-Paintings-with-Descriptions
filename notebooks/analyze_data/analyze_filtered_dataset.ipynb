{
 "cells": [
  {
   "cell_type": "markdown",
   "metadata": {},
   "source": [
    "# Analyze the filtered dataset\n",
    "This notebook analyzes each feature of the dataset and is leveraged to understand which type of paintings are under-represented."
   ]
  },
  {
   "cell_type": "markdown",
   "metadata": {},
   "source": [
    "### 0. Import libraries and load data"
   ]
  },
  {
   "cell_type": "code",
   "execution_count": 1,
   "metadata": {},
   "outputs": [],
   "source": [
    "import polars as pl\n",
    "import plotly.express as px\n",
    "from collections import Counter\n",
    "\n",
    "INTERMEDIATE_DATA_PATH = \"../../data/intermediate/\"\n",
    "COLORS = [\"#cd968e\", \"#acb0e0\", \"#aecbdc\", \"#bcd5c3\", \"#bfbfbf\"]"
   ]
  },
  {
   "cell_type": "code",
   "execution_count": 2,
   "metadata": {},
   "outputs": [
    {
     "data": {
      "text/html": [
       "<div><style>\n",
       ".dataframe > thead > tr,\n",
       ".dataframe > tbody > tr {\n",
       "  text-align: right;\n",
       "  white-space: pre-wrap;\n",
       "}\n",
       "</style>\n",
       "<small>shape: (12_078, 11)</small><table border=\"1\" class=\"dataframe\"><thead><tr><th>id</th><th>title</th><th>artist</th><th>year</th><th>coarse_type</th><th>first_fine_grained_type</th><th>second_fine_grained_type</th><th>first_style</th><th>second_style</th><th>description</th><th>source</th></tr><tr><td>i64</td><td>str</td><td>str</td><td>i64</td><td>str</td><td>str</td><td>str</td><td>str</td><td>str</td><td>str</td><td>str</td></tr></thead><tbody><tr><td>0</td><td>&quot;Flora and Zephyr&quot;</td><td>&quot;Jacopo Amigoni&quot;</td><td>1739</td><td>&quot;mythological&quot;</td><td>null</td><td>null</td><td>null</td><td>null</td><td>&quot;The composition celebrates the…</td><td>&quot;met&quot;</td></tr><tr><td>1</td><td>&quot;Saint Alexander&quot;</td><td>&quot;Fra Angelico (Guido di Pietro)&quot;</td><td>1430</td><td>null</td><td>null</td><td>null</td><td>null</td><td>null</td><td>&quot;This early work by Fra Angelic…</td><td>&quot;met&quot;</td></tr><tr><td>2</td><td>&quot;The Crucifixion&quot;</td><td>&quot;Fra Angelico (Guido di Pietro)&quot;</td><td>1445</td><td>&quot;religious&quot;</td><td>&quot;religious&quot;</td><td>null</td><td>&quot;early renaissance&quot;</td><td>null</td><td>&quot;To the left of the Crucifixion…</td><td>&quot;met&quot;</td></tr><tr><td>3</td><td>&quot;The Nativity&quot;</td><td>&quot;Zanobi Strozzi&quot;</td><td>1434</td><td>null</td><td>null</td><td>null</td><td>null</td><td>null</td><td>&quot;Although long ascribed to Fra …</td><td>&quot;met&quot;</td></tr><tr><td>4</td><td>&quot;Christ Crowned with Thorns&quot;</td><td>&quot;Antonello da Messina (Antonell…</td><td>1479</td><td>null</td><td>&quot;religious&quot;</td><td>null</td><td>&quot;early renaissance&quot;</td><td>null</td><td>&quot;An artist of astonishing origi…</td><td>&quot;met&quot;</td></tr><tr><td>&hellip;</td><td>&hellip;</td><td>&hellip;</td><td>&hellip;</td><td>&hellip;</td><td>&hellip;</td><td>&hellip;</td><td>&hellip;</td><td>&hellip;</td><td>&hellip;</td><td>&hellip;</td></tr><tr><td>12073</td><td>&quot;The Giudecca, Venice&quot;</td><td>&quot;ROBERTS, David&quot;</td><td>1854</td><td>&quot;landscape&quot;</td><td>null</td><td>null</td><td>null</td><td>null</td><td>&quot;David Roberts was a great trav…</td><td>&quot;wga&quot;</td></tr><tr><td>12074</td><td>&quot;Herdsmen and Herds at a Waterf…</td><td>&quot;BERCHEM, Nicolaes&quot;</td><td>1665</td><td>&quot;landscape&quot;</td><td>null</td><td>null</td><td>null</td><td>null</td><td>&quot;The landscape Herdsmen and Her…</td><td>&quot;wga&quot;</td></tr><tr><td>12075</td><td>&quot;The Madonna of Foligno&quot;</td><td>&quot;RAFFAELLO Sanzio&quot;</td><td>1511</td><td>&quot;religious&quot;</td><td>null</td><td>null</td><td>null</td><td>null</td><td>&quot;The painting was executed for …</td><td>&quot;wga&quot;</td></tr><tr><td>12076</td><td>&quot;The Second of May, 1808: The C…</td><td>&quot;GOYA Y LUCIENTES, Francisco de&quot;</td><td>1814</td><td>&quot;history&quot;</td><td>&quot;battle&quot;</td><td>null</td><td>&quot;romanticism&quot;</td><td>null</td><td>&quot;After the expulsion of the Nap…</td><td>&quot;wga&quot;</td></tr><tr><td>12077</td><td>&quot;Blossoming Almond Branch in a …</td><td>&quot;GOGH, Vincent van&quot;</td><td>1888</td><td>&quot;still life&quot;</td><td>&quot;flower&quot;</td><td>null</td><td>&quot;post-impressionism&quot;</td><td>null</td><td>&quot;Catalogue numbers: F 392, JH 1…</td><td>&quot;wga&quot;</td></tr></tbody></table></div>"
      ],
      "text/plain": [
       "shape: (12_078, 11)\n",
       "┌───────┬──────────────┬─────────────┬──────┬───┬─────────────┬─────────────┬─────────────┬────────┐\n",
       "│ id    ┆ title        ┆ artist      ┆ year ┆ … ┆ first_style ┆ second_styl ┆ description ┆ source │\n",
       "│ ---   ┆ ---          ┆ ---         ┆ ---  ┆   ┆ ---         ┆ e           ┆ ---         ┆ ---    │\n",
       "│ i64   ┆ str          ┆ str         ┆ i64  ┆   ┆ str         ┆ ---         ┆ str         ┆ str    │\n",
       "│       ┆              ┆             ┆      ┆   ┆             ┆ str         ┆             ┆        │\n",
       "╞═══════╪══════════════╪═════════════╪══════╪═══╪═════════════╪═════════════╪═════════════╪════════╡\n",
       "│ 0     ┆ Flora and    ┆ Jacopo      ┆ 1739 ┆ … ┆ null        ┆ null        ┆ The         ┆ met    │\n",
       "│       ┆ Zephyr       ┆ Amigoni     ┆      ┆   ┆             ┆             ┆ composition ┆        │\n",
       "│       ┆              ┆             ┆      ┆   ┆             ┆             ┆ celebrates  ┆        │\n",
       "│       ┆              ┆             ┆      ┆   ┆             ┆             ┆ the…        ┆        │\n",
       "│ 1     ┆ Saint        ┆ Fra         ┆ 1430 ┆ … ┆ null        ┆ null        ┆ This early  ┆ met    │\n",
       "│       ┆ Alexander    ┆ Angelico    ┆      ┆   ┆             ┆             ┆ work by Fra ┆        │\n",
       "│       ┆              ┆ (Guido di   ┆      ┆   ┆             ┆             ┆ Angelic…    ┆        │\n",
       "│       ┆              ┆ Pietro)     ┆      ┆   ┆             ┆             ┆             ┆        │\n",
       "│ 2     ┆ The          ┆ Fra         ┆ 1445 ┆ … ┆ early       ┆ null        ┆ To the left ┆ met    │\n",
       "│       ┆ Crucifixion  ┆ Angelico    ┆      ┆   ┆ renaissance ┆             ┆ of the Cruc ┆        │\n",
       "│       ┆              ┆ (Guido di   ┆      ┆   ┆             ┆             ┆ ifixion…    ┆        │\n",
       "│       ┆              ┆ Pietro)     ┆      ┆   ┆             ┆             ┆             ┆        │\n",
       "│ 3     ┆ The Nativity ┆ Zanobi      ┆ 1434 ┆ … ┆ null        ┆ null        ┆ Although    ┆ met    │\n",
       "│       ┆              ┆ Strozzi     ┆      ┆   ┆             ┆             ┆ long        ┆        │\n",
       "│       ┆              ┆             ┆      ┆   ┆             ┆             ┆ ascribed to ┆        │\n",
       "│       ┆              ┆             ┆      ┆   ┆             ┆             ┆ Fra …       ┆        │\n",
       "│ 4     ┆ Christ       ┆ Antonello   ┆ 1479 ┆ … ┆ early       ┆ null        ┆ An artist   ┆ met    │\n",
       "│       ┆ Crowned with ┆ da Messina  ┆      ┆   ┆ renaissance ┆             ┆ of          ┆        │\n",
       "│       ┆ Thorns       ┆ (Antonell…  ┆      ┆   ┆             ┆             ┆ astonishing ┆        │\n",
       "│       ┆              ┆             ┆      ┆   ┆             ┆             ┆ origi…      ┆        │\n",
       "│ …     ┆ …            ┆ …           ┆ …    ┆ … ┆ …           ┆ …           ┆ …           ┆ …      │\n",
       "│ 12073 ┆ The          ┆ ROBERTS,    ┆ 1854 ┆ … ┆ null        ┆ null        ┆ David       ┆ wga    │\n",
       "│       ┆ Giudecca,    ┆ David       ┆      ┆   ┆             ┆             ┆ Roberts was ┆        │\n",
       "│       ┆ Venice       ┆             ┆      ┆   ┆             ┆             ┆ a great     ┆        │\n",
       "│       ┆              ┆             ┆      ┆   ┆             ┆             ┆ trav…       ┆        │\n",
       "│ 12074 ┆ Herdsmen and ┆ BERCHEM,    ┆ 1665 ┆ … ┆ null        ┆ null        ┆ The         ┆ wga    │\n",
       "│       ┆ Herds at a   ┆ Nicolaes    ┆      ┆   ┆             ┆             ┆ landscape   ┆        │\n",
       "│       ┆ Waterf…      ┆             ┆      ┆   ┆             ┆             ┆ Herdsmen    ┆        │\n",
       "│       ┆              ┆             ┆      ┆   ┆             ┆             ┆ and Her…    ┆        │\n",
       "│ 12075 ┆ The Madonna  ┆ RAFFAELLO   ┆ 1511 ┆ … ┆ null        ┆ null        ┆ The         ┆ wga    │\n",
       "│       ┆ of Foligno   ┆ Sanzio      ┆      ┆   ┆             ┆             ┆ painting    ┆        │\n",
       "│       ┆              ┆             ┆      ┆   ┆             ┆             ┆ was         ┆        │\n",
       "│       ┆              ┆             ┆      ┆   ┆             ┆             ┆ executed    ┆        │\n",
       "│       ┆              ┆             ┆      ┆   ┆             ┆             ┆ for …       ┆        │\n",
       "│ 12076 ┆ The Second   ┆ GOYA Y      ┆ 1814 ┆ … ┆ romanticism ┆ null        ┆ After the   ┆ wga    │\n",
       "│       ┆ of May,      ┆ LUCIENTES,  ┆      ┆   ┆             ┆             ┆ expulsion   ┆        │\n",
       "│       ┆ 1808: The C… ┆ Francisco   ┆      ┆   ┆             ┆             ┆ of the Nap… ┆        │\n",
       "│       ┆              ┆ de          ┆      ┆   ┆             ┆             ┆             ┆        │\n",
       "│ 12077 ┆ Blossoming   ┆ GOGH,       ┆ 1888 ┆ … ┆ post-impres ┆ null        ┆ Catalogue   ┆ wga    │\n",
       "│       ┆ Almond       ┆ Vincent van ┆      ┆   ┆ sionism     ┆             ┆ numbers: F  ┆        │\n",
       "│       ┆ Branch in a  ┆             ┆      ┆   ┆             ┆             ┆ 392, JH 1…  ┆        │\n",
       "│       ┆ …            ┆             ┆      ┆   ┆             ┆             ┆             ┆        │\n",
       "└───────┴──────────────┴─────────────┴──────┴───┴─────────────┴─────────────┴─────────────┴────────┘"
      ]
     },
     "execution_count": 2,
     "metadata": {},
     "output_type": "execute_result"
    }
   ],
   "source": [
    "data = pl.read_json(\n",
    "    f\"{INTERMEDIATE_DATA_PATH}filtered_paintings/filtered_paintings_enhanced_data.json\"\n",
    ")\n",
    "\n",
    "data"
   ]
  },
  {
   "cell_type": "code",
   "execution_count": 17,
   "metadata": {},
   "outputs": [
    {
     "data": {
      "text/html": [
       "<div><style>\n",
       ".dataframe > thead > tr,\n",
       ".dataframe > tbody > tr {\n",
       "  text-align: right;\n",
       "  white-space: pre-wrap;\n",
       "}\n",
       "</style>\n",
       "<small>shape: (3_465, 11)</small><table border=\"1\" class=\"dataframe\"><thead><tr><th>id</th><th>title</th><th>artist</th><th>year</th><th>coarse_type</th><th>first_fine_grained_type</th><th>second_fine_grained_type</th><th>first_style</th><th>second_style</th><th>description</th><th>source</th></tr><tr><td>i64</td><td>str</td><td>str</td><td>i64</td><td>str</td><td>str</td><td>str</td><td>str</td><td>str</td><td>str</td><td>str</td></tr></thead><tbody><tr><td>2</td><td>&quot;The Crucifixion&quot;</td><td>&quot;Fra Angelico (Guido di Pietro)&quot;</td><td>1445</td><td>&quot;religious&quot;</td><td>&quot;religious&quot;</td><td>null</td><td>&quot;early renaissance&quot;</td><td>null</td><td>&quot;To the left of the Crucifixion…</td><td>&quot;met&quot;</td></tr><tr><td>5</td><td>&quot;Portrait of a Young Man&quot;</td><td>&quot;Antonello da Messina (Antonell…</td><td>1475</td><td>&quot;portrait&quot;</td><td>&quot;portrait&quot;</td><td>null</td><td>&quot;early renaissance&quot;</td><td>null</td><td>&quot;Trained in Naples in the Nethe…</td><td>&quot;met&quot;</td></tr><tr><td>10</td><td>&quot;Portrait of a Man, Possibly a …</td><td>&quot;David Bailly&quot;</td><td>1641</td><td>&quot;portrait&quot;</td><td>&quot;portrait&quot;</td><td>null</td><td>&quot;baroque&quot;</td><td>null</td><td>&quot;This impressive portrait was o…</td><td>&quot;met&quot;</td></tr><tr><td>28</td><td>&quot;Madonna and Child&quot;</td><td>&quot;Giovanni Bellini&quot;</td><td>1489</td><td>&quot;religious&quot;</td><td>&quot;religious&quot;</td><td>null</td><td>&quot;high renaissance&quot;</td><td>null</td><td>&quot;Separated from our everyday wo…</td><td>&quot;met&quot;</td></tr><tr><td>29</td><td>&quot;Madonna and Child with Saints&quot;</td><td>&quot;Giovanni Bellini&quot;</td><td>1516</td><td>&quot;religious&quot;</td><td>&quot;religious&quot;</td><td>null</td><td>&quot;high renaissance&quot;</td><td>null</td><td>&quot;In the first decade of the 16t…</td><td>&quot;met&quot;</td></tr><tr><td>&hellip;</td><td>&hellip;</td><td>&hellip;</td><td>&hellip;</td><td>&hellip;</td><td>&hellip;</td><td>&hellip;</td><td>&hellip;</td><td>&hellip;</td><td>&hellip;</td><td>&hellip;</td></tr><tr><td>12067</td><td>&quot;Portrait of a Young Man&quot;</td><td>&quot;MEMLING, Hans&quot;</td><td>1485</td><td>&quot;portrait&quot;</td><td>&quot;portrait&quot;</td><td>null</td><td>&quot;northern renaissance&quot;</td><td>null</td><td>&quot;This portrait is a typical exa…</td><td>&quot;wga&quot;</td></tr><tr><td>12069</td><td>&quot;The Meeting of Tamar and Judah&quot;</td><td>&quot;TINTORETTO&quot;</td><td>1555</td><td>&quot;religious&quot;</td><td>&quot;religious&quot;</td><td>null</td><td>&quot;mannerism (late renaissance)&quot;</td><td>null</td><td>&quot;Tintoretto&#x27;s two paintings of …</td><td>&quot;wga&quot;</td></tr><tr><td>12071</td><td>&quot;Eighteenth-Century Venetian La…</td><td>&quot;FAVRETTO, Giacomo&quot;</td><td>1887</td><td>&quot;portrait&quot;</td><td>&quot;portrait&quot;</td><td>null</td><td>&quot;realism&quot;</td><td>null</td><td>&quot;The artist has isolated one fi…</td><td>&quot;wga&quot;</td></tr><tr><td>12076</td><td>&quot;The Second of May, 1808: The C…</td><td>&quot;GOYA Y LUCIENTES, Francisco de&quot;</td><td>1814</td><td>&quot;history&quot;</td><td>&quot;battle&quot;</td><td>null</td><td>&quot;romanticism&quot;</td><td>null</td><td>&quot;After the expulsion of the Nap…</td><td>&quot;wga&quot;</td></tr><tr><td>12077</td><td>&quot;Blossoming Almond Branch in a …</td><td>&quot;GOGH, Vincent van&quot;</td><td>1888</td><td>&quot;still life&quot;</td><td>&quot;flower&quot;</td><td>null</td><td>&quot;post-impressionism&quot;</td><td>null</td><td>&quot;Catalogue numbers: F 392, JH 1…</td><td>&quot;wga&quot;</td></tr></tbody></table></div>"
      ],
      "text/plain": [
       "shape: (3_465, 11)\n",
       "┌───────┬──────────────┬─────────────┬──────┬───┬─────────────┬─────────────┬─────────────┬────────┐\n",
       "│ id    ┆ title        ┆ artist      ┆ year ┆ … ┆ first_style ┆ second_styl ┆ description ┆ source │\n",
       "│ ---   ┆ ---          ┆ ---         ┆ ---  ┆   ┆ ---         ┆ e           ┆ ---         ┆ ---    │\n",
       "│ i64   ┆ str          ┆ str         ┆ i64  ┆   ┆ str         ┆ ---         ┆ str         ┆ str    │\n",
       "│       ┆              ┆             ┆      ┆   ┆             ┆ str         ┆             ┆        │\n",
       "╞═══════╪══════════════╪═════════════╪══════╪═══╪═════════════╪═════════════╪═════════════╪════════╡\n",
       "│ 2     ┆ The          ┆ Fra         ┆ 1445 ┆ … ┆ early       ┆ null        ┆ To the left ┆ met    │\n",
       "│       ┆ Crucifixion  ┆ Angelico    ┆      ┆   ┆ renaissance ┆             ┆ of the Cruc ┆        │\n",
       "│       ┆              ┆ (Guido di   ┆      ┆   ┆             ┆             ┆ ifixion…    ┆        │\n",
       "│       ┆              ┆ Pietro)     ┆      ┆   ┆             ┆             ┆             ┆        │\n",
       "│ 5     ┆ Portrait of  ┆ Antonello   ┆ 1475 ┆ … ┆ early       ┆ null        ┆ Trained in  ┆ met    │\n",
       "│       ┆ a Young Man  ┆ da Messina  ┆      ┆   ┆ renaissance ┆             ┆ Naples in   ┆        │\n",
       "│       ┆              ┆ (Antonell…  ┆      ┆   ┆             ┆             ┆ the Nethe…  ┆        │\n",
       "│ 10    ┆ Portrait of  ┆ David       ┆ 1641 ┆ … ┆ baroque     ┆ null        ┆ This        ┆ met    │\n",
       "│       ┆ a Man,       ┆ Bailly      ┆      ┆   ┆             ┆             ┆ impressive  ┆        │\n",
       "│       ┆ Possibly a … ┆             ┆      ┆   ┆             ┆             ┆ portrait    ┆        │\n",
       "│       ┆              ┆             ┆      ┆   ┆             ┆             ┆ was o…      ┆        │\n",
       "│ 28    ┆ Madonna and  ┆ Giovanni    ┆ 1489 ┆ … ┆ high        ┆ null        ┆ Separated   ┆ met    │\n",
       "│       ┆ Child        ┆ Bellini     ┆      ┆   ┆ renaissance ┆             ┆ from our    ┆        │\n",
       "│       ┆              ┆             ┆      ┆   ┆             ┆             ┆ everyday    ┆        │\n",
       "│       ┆              ┆             ┆      ┆   ┆             ┆             ┆ wo…         ┆        │\n",
       "│ 29    ┆ Madonna and  ┆ Giovanni    ┆ 1516 ┆ … ┆ high        ┆ null        ┆ In the      ┆ met    │\n",
       "│       ┆ Child with   ┆ Bellini     ┆      ┆   ┆ renaissance ┆             ┆ first       ┆        │\n",
       "│       ┆ Saints       ┆             ┆      ┆   ┆             ┆             ┆ decade of   ┆        │\n",
       "│       ┆              ┆             ┆      ┆   ┆             ┆             ┆ the 16t…    ┆        │\n",
       "│ …     ┆ …            ┆ …           ┆ …    ┆ … ┆ …           ┆ …           ┆ …           ┆ …      │\n",
       "│ 12067 ┆ Portrait of  ┆ MEMLING,    ┆ 1485 ┆ … ┆ northern    ┆ null        ┆ This        ┆ wga    │\n",
       "│       ┆ a Young Man  ┆ Hans        ┆      ┆   ┆ renaissance ┆             ┆ portrait is ┆        │\n",
       "│       ┆              ┆             ┆      ┆   ┆             ┆             ┆ a typical   ┆        │\n",
       "│       ┆              ┆             ┆      ┆   ┆             ┆             ┆ exa…        ┆        │\n",
       "│ 12069 ┆ The Meeting  ┆ TINTORETTO  ┆ 1555 ┆ … ┆ mannerism   ┆ null        ┆ Tintoretto' ┆ wga    │\n",
       "│       ┆ of Tamar and ┆             ┆      ┆   ┆ (late renai ┆             ┆ s two       ┆        │\n",
       "│       ┆ Judah        ┆             ┆      ┆   ┆ ssance)     ┆             ┆ paintings   ┆        │\n",
       "│       ┆              ┆             ┆      ┆   ┆             ┆             ┆ of …        ┆        │\n",
       "│ 12071 ┆ Eighteenth-C ┆ FAVRETTO,   ┆ 1887 ┆ … ┆ realism     ┆ null        ┆ The artist  ┆ wga    │\n",
       "│       ┆ entury       ┆ Giacomo     ┆      ┆   ┆             ┆             ┆ has         ┆        │\n",
       "│       ┆ Venetian La… ┆             ┆      ┆   ┆             ┆             ┆ isolated    ┆        │\n",
       "│       ┆              ┆             ┆      ┆   ┆             ┆             ┆ one fi…     ┆        │\n",
       "│ 12076 ┆ The Second   ┆ GOYA Y      ┆ 1814 ┆ … ┆ romanticism ┆ null        ┆ After the   ┆ wga    │\n",
       "│       ┆ of May,      ┆ LUCIENTES,  ┆      ┆   ┆             ┆             ┆ expulsion   ┆        │\n",
       "│       ┆ 1808: The C… ┆ Francisco   ┆      ┆   ┆             ┆             ┆ of the Nap… ┆        │\n",
       "│       ┆              ┆ de          ┆      ┆   ┆             ┆             ┆             ┆        │\n",
       "│ 12077 ┆ Blossoming   ┆ GOGH,       ┆ 1888 ┆ … ┆ post-impres ┆ null        ┆ Catalogue   ┆ wga    │\n",
       "│       ┆ Almond       ┆ Vincent van ┆      ┆   ┆ sionism     ┆             ┆ numbers: F  ┆        │\n",
       "│       ┆ Branch in a  ┆             ┆      ┆   ┆             ┆             ┆ 392, JH 1…  ┆        │\n",
       "│       ┆ …            ┆             ┆      ┆   ┆             ┆             ┆             ┆        │\n",
       "└───────┴──────────────┴─────────────┴──────┴───┴─────────────┴─────────────┴─────────────┴────────┘"
      ]
     },
     "execution_count": 17,
     "metadata": {},
     "output_type": "execute_result"
    }
   ],
   "source": [
    "data.filter(~pl.col(\"first_style\").is_null() & ~pl.col(\"coarse_type\").is_null() &  ~pl.col(\"first_fine_grained_type\").is_null())"
   ]
  },
  {
   "cell_type": "code",
   "execution_count": 3,
   "metadata": {},
   "outputs": [
    {
     "data": {
      "text/html": [
       "<div><style>\n",
       ".dataframe > thead > tr,\n",
       ".dataframe > tbody > tr {\n",
       "  text-align: right;\n",
       "  white-space: pre-wrap;\n",
       "}\n",
       "</style>\n",
       "<small>shape: (3, 2)</small><table border=\"1\" class=\"dataframe\"><thead><tr><th>source</th><th>count</th></tr><tr><td>str</td><td>u32</td></tr></thead><tbody><tr><td>&quot;wikiart&quot;</td><td>1235</td></tr><tr><td>&quot;met&quot;</td><td>1608</td></tr><tr><td>&quot;wga&quot;</td><td>9235</td></tr></tbody></table></div>"
      ],
      "text/plain": [
       "shape: (3, 2)\n",
       "┌─────────┬───────┐\n",
       "│ source  ┆ count │\n",
       "│ ---     ┆ ---   │\n",
       "│ str     ┆ u32   │\n",
       "╞═════════╪═══════╡\n",
       "│ wikiart ┆ 1235  │\n",
       "│ met     ┆ 1608  │\n",
       "│ wga     ┆ 9235  │\n",
       "└─────────┴───────┘"
      ]
     },
     "execution_count": 3,
     "metadata": {},
     "output_type": "execute_result"
    }
   ],
   "source": [
    "data[\"source\"].value_counts().sort(\"count\")"
   ]
  },
  {
   "cell_type": "markdown",
   "metadata": {},
   "source": [
    "### 1. Artists"
   ]
  },
  {
   "cell_type": "code",
   "execution_count": 4,
   "metadata": {},
   "outputs": [
    {
     "name": "stdout",
     "output_type": "stream",
     "text": [
      "Number of artists: 3112\n"
     ]
    },
    {
     "data": {
      "application/vnd.plotly.v1+json": {
       "config": {
        "plotlyServerURL": "https://plot.ly"
       },
       "data": [
        {
         "bingroup": "x",
         "hovertemplate": "frequency=%{x}<br>count=%{y}<extra></extra>",
         "legendgroup": "",
         "marker": {
          "color": "#aecbdc",
          "pattern": {
           "shape": ""
          }
         },
         "name": "",
         "orientation": "v",
         "showlegend": false,
         "type": "histogram",
         "x": {
          "bdata": "AQAAAAEAAAABAAAAAQAAAAEAAAABAAAAAQAAAAEAAAABAAAAAQAAAAEAAAABAAAAAQAAAAEAAAABAAAAAQAAAAEAAAABAAAAAQAAAAEAAAABAAAAAQAAAAEAAAABAAAAAQAAAAEAAAABAAAAAQAAAAEAAAABAAAAAQAAAAEAAAABAAAAAQAAAAEAAAABAAAAAQAAAAEAAAABAAAAAQAAAAEAAAABAAAAAQAAAAEAAAABAAAAAQAAAAEAAAABAAAAAQAAAAEAAAABAAAAAQAAAAEAAAABAAAAAQAAAAEAAAABAAAAAQAAAAEAAAABAAAAAQAAAAEAAAABAAAAAQAAAAEAAAABAAAAAQAAAAEAAAABAAAAAQAAAAEAAAABAAAAAQAAAAEAAAABAAAAAQAAAAEAAAABAAAAAQAAAAEAAAABAAAAAQAAAAEAAAABAAAAAQAAAAEAAAABAAAAAQAAAAEAAAABAAAAAQAAAAEAAAABAAAAAQAAAAEAAAABAAAAAQAAAAEAAAABAAAAAQAAAAEAAAABAAAAAQAAAAEAAAABAAAAAQAAAAEAAAABAAAAAQAAAAEAAAABAAAAAQAAAAEAAAABAAAAAQAAAAEAAAABAAAAAQAAAAEAAAABAAAAAQAAAAEAAAABAAAAAQAAAAEAAAABAAAAAQAAAAEAAAABAAAAAQAAAAEAAAABAAAAAQAAAAEAAAABAAAAAQAAAAEAAAABAAAAAQAAAAEAAAABAAAAAQAAAAEAAAABAAAAAQAAAAEAAAABAAAAAQAAAAEAAAABAAAAAQAAAAEAAAABAAAAAQAAAAEAAAABAAAAAQAAAAEAAAABAAAAAQAAAAEAAAABAAAAAQAAAAEAAAABAAAAAQAAAAEAAAABAAAAAQAAAAEAAAABAAAAAQAAAAEAAAABAAAAAQAAAAEAAAABAAAAAQAAAAEAAAABAAAAAQAAAAEAAAABAAAAAQAAAAEAAAABAAAAAQAAAAEAAAABAAAAAQAAAAEAAAABAAAAAQAAAAEAAAABAAAAAQAAAAEAAAABAAAAAQAAAAEAAAABAAAAAQAAAAEAAAABAAAAAQAAAAEAAAABAAAAAQAAAAEAAAABAAAAAQAAAAEAAAABAAAAAQAAAAEAAAABAAAAAQAAAAEAAAABAAAAAQAAAAEAAAABAAAAAQAAAAEAAAABAAAAAQAAAAEAAAABAAAAAQAAAAEAAAABAAAAAQAAAAEAAAABAAAAAQAAAAEAAAABAAAAAQAAAAEAAAABAAAAAQAAAAEAAAABAAAAAQAAAAEAAAABAAAAAQAAAAEAAAABAAAAAQAAAAEAAAABAAAAAQAAAAEAAAABAAAAAQAAAAEAAAABAAAAAQAAAAEAAAABAAAAAQAAAAEAAAABAAAAAQAAAAEAAAABAAAAAQAAAAEAAAABAAAAAQAAAAEAAAABAAAAAQAAAAEAAAABAAAAAQAAAAEAAAABAAAAAQAAAAEAAAABAAAAAQAAAAEAAAABAAAAAQAAAAEAAAABAAAAAQAAAAEAAAABAAAAAQAAAAEAAAABAAAAAQAAAAEAAAABAAAAAQAAAAEAAAABAAAAAQAAAAEAAAABAAAAAQAAAAEAAAABAAAAAQAAAAEAAAABAAAAAQAAAAEAAAABAAAAAQAAAAEAAAABAAAAAQAAAAEAAAABAAAAAQAAAAEAAAABAAAAAQAAAAEAAAABAAAAAQAAAAEAAAABAAAAAQAAAAEAAAABAAAAAQAAAAEAAAABAAAAAQAAAAEAAAABAAAAAQAAAAEAAAABAAAAAQAAAAEAAAABAAAAAQAAAAEAAAABAAAAAQAAAAEAAAABAAAAAQAAAAEAAAABAAAAAQAAAAEAAAABAAAAAQAAAAEAAAABAAAAAQAAAAEAAAABAAAAAQAAAAEAAAABAAAAAQAAAAEAAAABAAAAAQAAAAEAAAABAAAAAQAAAAEAAAABAAAAAQAAAAEAAAABAAAAAQAAAAEAAAABAAAAAQAAAAEAAAABAAAAAQAAAAEAAAABAAAAAQAAAAEAAAABAAAAAQAAAAEAAAABAAAAAQAAAAEAAAABAAAAAQAAAAEAAAABAAAAAQAAAAEAAAABAAAAAQAAAAEAAAABAAAAAQAAAAEAAAABAAAAAQAAAAEAAAABAAAAAQAAAAEAAAABAAAAAQAAAAEAAAABAAAAAQAAAAEAAAABAAAAAQAAAAEAAAABAAAAAQAAAAEAAAABAAAAAQAAAAEAAAABAAAAAQAAAAEAAAABAAAAAQAAAAEAAAABAAAAAQAAAAEAAAABAAAAAQAAAAEAAAABAAAAAQAAAAEAAAABAAAAAQAAAAEAAAABAAAAAQAAAAEAAAABAAAAAQAAAAEAAAABAAAAAQAAAAEAAAABAAAAAQAAAAEAAAABAAAAAQAAAAEAAAABAAAAAQAAAAEAAAABAAAAAQAAAAEAAAABAAAAAQAAAAEAAAABAAAAAQAAAAEAAAABAAAAAQAAAAEAAAABAAAAAQAAAAEAAAABAAAAAQAAAAEAAAABAAAAAQAAAAEAAAABAAAAAQAAAAEAAAABAAAAAQAAAAEAAAABAAAAAQAAAAEAAAABAAAAAQAAAAEAAAABAAAAAQAAAAEAAAABAAAAAQAAAAEAAAABAAAAAQAAAAEAAAABAAAAAQAAAAEAAAABAAAAAQAAAAEAAAABAAAAAQAAAAEAAAABAAAAAQAAAAEAAAABAAAAAQAAAAEAAAABAAAAAQAAAAEAAAABAAAAAQAAAAEAAAABAAAAAQAAAAEAAAABAAAAAQAAAAEAAAABAAAAAQAAAAEAAAABAAAAAQAAAAEAAAABAAAAAQAAAAEAAAABAAAAAQAAAAEAAAABAAAAAQAAAAEAAAABAAAAAQAAAAEAAAABAAAAAQAAAAEAAAABAAAAAQAAAAEAAAABAAAAAQAAAAEAAAABAAAAAQAAAAEAAAABAAAAAQAAAAEAAAABAAAAAQAAAAEAAAABAAAAAQAAAAEAAAABAAAAAQAAAAEAAAABAAAAAQAAAAEAAAABAAAAAQAAAAEAAAABAAAAAQAAAAEAAAABAAAAAQAAAAEAAAABAAAAAQAAAAEAAAABAAAAAQAAAAEAAAABAAAAAQAAAAEAAAABAAAAAQAAAAEAAAABAAAAAQAAAAEAAAABAAAAAQAAAAEAAAABAAAAAQAAAAEAAAABAAAAAQAAAAEAAAABAAAAAQAAAAEAAAABAAAAAQAAAAEAAAABAAAAAQAAAAEAAAABAAAAAQAAAAEAAAABAAAAAQAAAAEAAAABAAAAAQAAAAEAAAABAAAAAQAAAAEAAAABAAAAAQAAAAEAAAABAAAAAQAAAAEAAAABAAAAAQAAAAEAAAABAAAAAQAAAAEAAAABAAAAAQAAAAEAAAABAAAAAQAAAAEAAAABAAAAAQAAAAEAAAABAAAAAQAAAAEAAAABAAAAAQAAAAEAAAABAAAAAQAAAAEAAAABAAAAAQAAAAEAAAABAAAAAQAAAAEAAAABAAAAAQAAAAEAAAABAAAAAQAAAAEAAAABAAAAAQAAAAEAAAABAAAAAQAAAAEAAAABAAAAAQAAAAEAAAABAAAAAQAAAAEAAAABAAAAAQAAAAEAAAABAAAAAQAAAAEAAAABAAAAAQAAAAEAAAABAAAAAQAAAAEAAAABAAAAAQAAAAEAAAABAAAAAQAAAAEAAAABAAAAAQAAAAEAAAABAAAAAQAAAAEAAAABAAAAAQAAAAEAAAABAAAAAQAAAAEAAAABAAAAAQAAAAEAAAABAAAAAQAAAAEAAAABAAAAAQAAAAEAAAABAAAAAQAAAAEAAAABAAAAAQAAAAEAAAABAAAAAQAAAAEAAAABAAAAAQAAAAEAAAABAAAAAQAAAAEAAAABAAAAAQAAAAEAAAABAAAAAQAAAAEAAAABAAAAAQAAAAEAAAABAAAAAQAAAAEAAAABAAAAAQAAAAEAAAABAAAAAQAAAAEAAAABAAAAAQAAAAEAAAABAAAAAQAAAAEAAAABAAAAAQAAAAEAAAABAAAAAQAAAAEAAAABAAAAAQAAAAEAAAABAAAAAQAAAAEAAAABAAAAAQAAAAEAAAABAAAAAQAAAAEAAAABAAAAAQAAAAEAAAABAAAAAQAAAAEAAAABAAAAAQAAAAEAAAABAAAAAQAAAAEAAAABAAAAAQAAAAEAAAABAAAAAQAAAAEAAAABAAAAAQAAAAEAAAABAAAAAQAAAAEAAAABAAAAAQAAAAEAAAABAAAAAQAAAAEAAAABAAAAAQAAAAEAAAABAAAAAQAAAAEAAAABAAAAAQAAAAEAAAABAAAAAQAAAAEAAAABAAAAAQAAAAEAAAABAAAAAQAAAAEAAAABAAAAAQAAAAEAAAABAAAAAQAAAAEAAAABAAAAAQAAAAEAAAABAAAAAQAAAAEAAAABAAAAAQAAAAEAAAABAAAAAQAAAAEAAAABAAAAAQAAAAEAAAABAAAAAQAAAAEAAAABAAAAAQAAAAEAAAABAAAAAQAAAAEAAAABAAAAAQAAAAEAAAABAAAAAQAAAAEAAAABAAAAAQAAAAEAAAABAAAAAQAAAAEAAAABAAAAAQAAAAEAAAABAAAAAQAAAAEAAAABAAAAAQAAAAEAAAABAAAAAQAAAAEAAAABAAAAAQAAAAEAAAABAAAAAQAAAAEAAAABAAAAAQAAAAEAAAABAAAAAQAAAAEAAAABAAAAAQAAAAEAAAABAAAAAQAAAAEAAAABAAAAAQAAAAEAAAABAAAAAQAAAAEAAAABAAAAAQAAAAEAAAABAAAAAQAAAAEAAAABAAAAAQAAAAEAAAABAAAAAQAAAAEAAAABAAAAAQAAAAEAAAABAAAAAQAAAAEAAAABAAAAAQAAAAEAAAABAAAAAQAAAAEAAAABAAAAAQAAAAEAAAABAAAAAQAAAAEAAAABAAAAAQAAAAEAAAABAAAAAQAAAAEAAAABAAAAAQAAAAEAAAABAAAAAQAAAAEAAAABAAAAAQAAAAEAAAABAAAAAQAAAAEAAAABAAAAAQAAAAEAAAABAAAAAQAAAAEAAAABAAAAAQAAAAEAAAABAAAAAQAAAAEAAAABAAAAAQAAAAEAAAABAAAAAQAAAAEAAAABAAAAAQAAAAEAAAABAAAAAQAAAAEAAAABAAAAAQAAAAEAAAABAAAAAQAAAAEAAAABAAAAAQAAAAEAAAABAAAAAQAAAAEAAAABAAAAAQAAAAEAAAABAAAAAQAAAAEAAAABAAAAAQAAAAEAAAABAAAAAQAAAAEAAAABAAAAAQAAAAEAAAABAAAAAQAAAAEAAAABAAAAAQAAAAEAAAABAAAAAQAAAAEAAAABAAAAAQAAAAEAAAABAAAAAQAAAAEAAAABAAAAAQAAAAEAAAABAAAAAQAAAAEAAAABAAAAAQAAAAEAAAABAAAAAQAAAAEAAAABAAAAAQAAAAEAAAABAAAAAQAAAAEAAAABAAAAAQAAAAEAAAABAAAAAQAAAAEAAAABAAAAAQAAAAEAAAABAAAAAQAAAAEAAAABAAAAAQAAAAEAAAABAAAAAQAAAAEAAAABAAAAAQAAAAEAAAABAAAAAQAAAAEAAAABAAAAAQAAAAEAAAABAAAAAQAAAAEAAAABAAAAAQAAAAEAAAABAAAAAQAAAAEAAAABAAAAAQAAAAEAAAABAAAAAQAAAAEAAAABAAAAAQAAAAEAAAABAAAAAQAAAAEAAAABAAAAAQAAAAEAAAABAAAAAQAAAAEAAAABAAAAAQAAAAEAAAABAAAAAQAAAAEAAAABAAAAAQAAAAEAAAABAAAAAQAAAAEAAAABAAAAAQAAAAEAAAABAAAAAQAAAAEAAAABAAAAAQAAAAEAAAABAAAAAQAAAAEAAAABAAAAAQAAAAEAAAABAAAAAQAAAAEAAAABAAAAAQAAAAEAAAABAAAAAQAAAAEAAAABAAAAAQAAAAEAAAABAAAAAQAAAAEAAAABAAAAAQAAAAEAAAABAAAAAQAAAAEAAAABAAAAAQAAAAEAAAABAAAAAQAAAAEAAAABAAAAAQAAAAEAAAABAAAAAQAAAAEAAAABAAAAAQAAAAEAAAABAAAAAQAAAAEAAAABAAAAAQAAAAEAAAABAAAAAQAAAAEAAAABAAAAAQAAAAEAAAABAAAAAQAAAAEAAAABAAAAAQAAAAEAAAABAAAAAQAAAAEAAAABAAAAAQAAAAEAAAABAAAAAQAAAAEAAAABAAAAAQAAAAEAAAABAAAAAQAAAAEAAAABAAAAAQAAAAEAAAABAAAAAQAAAAEAAAABAAAAAQAAAAEAAAABAAAAAQAAAAEAAAABAAAAAQAAAAEAAAABAAAAAQAAAAEAAAABAAAAAQAAAAEAAAABAAAAAQAAAAEAAAABAAAAAQAAAAEAAAABAAAAAQAAAAEAAAABAAAAAQAAAAEAAAABAAAAAQAAAAEAAAABAAAAAQAAAAEAAAABAAAAAQAAAAEAAAABAAAAAQAAAAEAAAABAAAAAQAAAAEAAAABAAAAAQAAAAEAAAABAAAAAQAAAAEAAAABAAAAAQAAAAEAAAABAAAAAQAAAAEAAAABAAAAAQAAAAEAAAABAAAAAQAAAAEAAAABAAAAAQAAAAEAAAABAAAAAQAAAAEAAAABAAAAAQAAAAEAAAABAAAAAQAAAAEAAAABAAAAAQAAAAEAAAABAAAAAQAAAAEAAAABAAAAAQAAAAEAAAABAAAAAQAAAAEAAAABAAAAAQAAAAEAAAABAAAAAQAAAAEAAAABAAAAAQAAAAEAAAABAAAAAQAAAAEAAAABAAAAAQAAAAEAAAABAAAAAQAAAAEAAAABAAAAAQAAAAEAAAABAAAAAQAAAAEAAAABAAAAAQAAAAEAAAABAAAAAQAAAAEAAAABAAAAAQAAAAEAAAABAAAAAQAAAAEAAAABAAAAAQAAAAEAAAABAAAAAQAAAAEAAAABAAAAAQAAAAEAAAABAAAAAQAAAAEAAAABAAAAAQAAAAEAAAABAAAAAQAAAAEAAAABAAAAAQAAAAEAAAABAAAAAQAAAAEAAAABAAAAAQAAAAEAAAABAAAAAQAAAAEAAAABAAAAAQAAAAEAAAABAAAAAQAAAAEAAAABAAAAAQAAAAEAAAABAAAAAQAAAAEAAAABAAAAAQAAAAEAAAABAAAAAQAAAAEAAAABAAAAAQAAAAEAAAABAAAAAQAAAAEAAAABAAAAAQAAAAEAAAABAAAAAQAAAAEAAAABAAAAAQAAAAEAAAABAAAAAQAAAAEAAAABAAAAAQAAAAEAAAABAAAAAQAAAAEAAAABAAAAAQAAAAEAAAABAAAAAQAAAAEAAAABAAAAAQAAAAEAAAABAAAAAQAAAAEAAAABAAAAAQAAAAEAAAABAAAAAQAAAAEAAAABAAAAAQAAAAEAAAABAAAAAQAAAAEAAAABAAAAAQAAAAEAAAABAAAAAQAAAAEAAAABAAAAAQAAAAEAAAABAAAAAQAAAAEAAAABAAAAAQAAAAEAAAABAAAAAQAAAAEAAAABAAAAAQAAAAEAAAABAAAAAQAAAAEAAAABAAAAAQAAAAEAAAABAAAAAQAAAAEAAAABAAAAAQAAAAEAAAABAAAAAQAAAAEAAAABAAAAAQAAAAEAAAABAAAAAQAAAAEAAAABAAAAAQAAAAEAAAABAAAAAQAAAAEAAAABAAAAAQAAAAEAAAABAAAAAQAAAAEAAAABAAAAAQAAAAEAAAABAAAAAQAAAAEAAAABAAAAAQAAAAEAAAABAAAAAQAAAAEAAAABAAAAAQAAAAEAAAABAAAAAQAAAAEAAAABAAAAAQAAAAEAAAABAAAAAQAAAAEAAAABAAAAAQAAAAEAAAABAAAAAQAAAAEAAAABAAAAAQAAAAEAAAABAAAAAQAAAAEAAAABAAAAAQAAAAEAAAABAAAAAQAAAAEAAAABAAAAAQAAAAEAAAABAAAAAQAAAAEAAAABAAAAAgAAAAIAAAACAAAAAgAAAAIAAAACAAAAAgAAAAIAAAACAAAAAgAAAAIAAAACAAAAAgAAAAIAAAACAAAAAgAAAAIAAAACAAAAAgAAAAIAAAACAAAAAgAAAAIAAAACAAAAAgAAAAIAAAACAAAAAgAAAAIAAAACAAAAAgAAAAIAAAACAAAAAgAAAAIAAAACAAAAAgAAAAIAAAACAAAAAgAAAAIAAAACAAAAAgAAAAIAAAACAAAAAgAAAAIAAAACAAAAAgAAAAIAAAACAAAAAgAAAAIAAAACAAAAAgAAAAIAAAACAAAAAgAAAAIAAAACAAAAAgAAAAIAAAACAAAAAgAAAAIAAAACAAAAAgAAAAIAAAACAAAAAgAAAAIAAAACAAAAAgAAAAIAAAACAAAAAgAAAAIAAAACAAAAAgAAAAIAAAACAAAAAgAAAAIAAAACAAAAAgAAAAIAAAACAAAAAgAAAAIAAAACAAAAAgAAAAIAAAACAAAAAgAAAAIAAAACAAAAAgAAAAIAAAACAAAAAgAAAAIAAAACAAAAAgAAAAIAAAACAAAAAgAAAAIAAAACAAAAAgAAAAIAAAACAAAAAgAAAAIAAAACAAAAAgAAAAIAAAACAAAAAgAAAAIAAAACAAAAAgAAAAIAAAACAAAAAgAAAAIAAAACAAAAAgAAAAIAAAACAAAAAgAAAAIAAAACAAAAAgAAAAIAAAACAAAAAgAAAAIAAAACAAAAAgAAAAIAAAACAAAAAgAAAAIAAAACAAAAAgAAAAIAAAACAAAAAgAAAAIAAAACAAAAAgAAAAIAAAACAAAAAgAAAAIAAAACAAAAAgAAAAIAAAACAAAAAgAAAAIAAAACAAAAAgAAAAIAAAACAAAAAgAAAAIAAAACAAAAAgAAAAIAAAACAAAAAgAAAAIAAAACAAAAAgAAAAIAAAACAAAAAgAAAAIAAAACAAAAAgAAAAIAAAACAAAAAgAAAAIAAAACAAAAAgAAAAIAAAACAAAAAgAAAAIAAAACAAAAAgAAAAIAAAACAAAAAgAAAAIAAAACAAAAAgAAAAIAAAACAAAAAgAAAAIAAAACAAAAAgAAAAIAAAACAAAAAgAAAAIAAAACAAAAAgAAAAIAAAACAAAAAgAAAAIAAAACAAAAAgAAAAIAAAACAAAAAgAAAAIAAAACAAAAAgAAAAIAAAACAAAAAgAAAAIAAAACAAAAAgAAAAIAAAACAAAAAgAAAAIAAAACAAAAAgAAAAIAAAACAAAAAgAAAAIAAAACAAAAAgAAAAIAAAACAAAAAgAAAAIAAAACAAAAAgAAAAIAAAACAAAAAgAAAAIAAAACAAAAAgAAAAIAAAACAAAAAgAAAAIAAAACAAAAAgAAAAIAAAACAAAAAgAAAAIAAAACAAAAAgAAAAIAAAACAAAAAgAAAAIAAAACAAAAAgAAAAIAAAACAAAAAgAAAAIAAAACAAAAAgAAAAIAAAACAAAAAgAAAAIAAAACAAAAAgAAAAIAAAACAAAAAgAAAAIAAAACAAAAAgAAAAIAAAACAAAAAgAAAAIAAAACAAAAAgAAAAIAAAACAAAAAgAAAAIAAAACAAAAAgAAAAIAAAACAAAAAgAAAAIAAAACAAAAAgAAAAIAAAACAAAAAgAAAAIAAAACAAAAAgAAAAIAAAACAAAAAgAAAAIAAAACAAAAAgAAAAIAAAACAAAAAgAAAAIAAAACAAAAAgAAAAIAAAACAAAAAgAAAAIAAAACAAAAAgAAAAIAAAACAAAAAgAAAAIAAAACAAAAAgAAAAIAAAACAAAAAgAAAAIAAAACAAAAAgAAAAIAAAACAAAAAgAAAAIAAAACAAAAAgAAAAIAAAACAAAAAgAAAAIAAAACAAAAAgAAAAIAAAACAAAAAgAAAAIAAAACAAAAAgAAAAIAAAACAAAAAgAAAAIAAAACAAAAAgAAAAIAAAACAAAAAgAAAAIAAAACAAAAAgAAAAIAAAACAAAAAgAAAAIAAAACAAAAAgAAAAIAAAACAAAAAgAAAAIAAAACAAAAAgAAAAIAAAACAAAAAgAAAAIAAAACAAAAAgAAAAIAAAACAAAAAgAAAAIAAAACAAAAAgAAAAIAAAACAAAAAgAAAAIAAAACAAAAAgAAAAIAAAACAAAAAgAAAAIAAAACAAAAAgAAAAIAAAACAAAAAgAAAAIAAAACAAAAAgAAAAIAAAACAAAAAgAAAAIAAAACAAAAAgAAAAIAAAACAAAAAgAAAAIAAAACAAAAAgAAAAIAAAACAAAAAgAAAAIAAAACAAAAAgAAAAIAAAACAAAAAgAAAAIAAAACAAAAAgAAAAIAAAACAAAAAgAAAAIAAAACAAAAAgAAAAIAAAACAAAAAgAAAAIAAAACAAAAAgAAAAIAAAACAAAAAgAAAAIAAAACAAAAAgAAAAIAAAACAAAAAgAAAAIAAAACAAAAAgAAAAIAAAACAAAAAgAAAAIAAAACAAAAAgAAAAIAAAACAAAAAgAAAAIAAAACAAAAAgAAAAIAAAACAAAAAgAAAAIAAAACAAAAAgAAAAIAAAACAAAAAgAAAAIAAAACAAAAAgAAAAIAAAACAAAAAgAAAAIAAAACAAAAAgAAAAIAAAACAAAAAgAAAAIAAAACAAAAAgAAAAIAAAACAAAAAgAAAAIAAAACAAAAAgAAAAIAAAACAAAAAgAAAAIAAAACAAAAAgAAAAIAAAACAAAAAgAAAAIAAAACAAAAAgAAAAIAAAACAAAAAgAAAAIAAAACAAAAAgAAAAIAAAACAAAAAgAAAAIAAAACAAAAAgAAAAIAAAACAAAAAgAAAAIAAAACAAAAAgAAAAIAAAACAAAAAgAAAAIAAAACAAAAAgAAAAIAAAACAAAAAgAAAAIAAAACAAAAAgAAAAIAAAACAAAAAgAAAAMAAAADAAAAAwAAAAMAAAADAAAAAwAAAAMAAAADAAAAAwAAAAMAAAADAAAAAwAAAAMAAAADAAAAAwAAAAMAAAADAAAAAwAAAAMAAAADAAAAAwAAAAMAAAADAAAAAwAAAAMAAAADAAAAAwAAAAMAAAADAAAAAwAAAAMAAAADAAAAAwAAAAMAAAADAAAAAwAAAAMAAAADAAAAAwAAAAMAAAADAAAAAwAAAAMAAAADAAAAAwAAAAMAAAADAAAAAwAAAAMAAAADAAAAAwAAAAMAAAADAAAAAwAAAAMAAAADAAAAAwAAAAMAAAADAAAAAwAAAAMAAAADAAAAAwAAAAMAAAADAAAAAwAAAAMAAAADAAAAAwAAAAMAAAADAAAAAwAAAAMAAAADAAAAAwAAAAMAAAADAAAAAwAAAAMAAAADAAAAAwAAAAMAAAADAAAAAwAAAAMAAAADAAAAAwAAAAMAAAADAAAAAwAAAAMAAAADAAAAAwAAAAMAAAADAAAAAwAAAAMAAAADAAAAAwAAAAMAAAADAAAAAwAAAAMAAAADAAAAAwAAAAMAAAADAAAAAwAAAAMAAAADAAAAAwAAAAMAAAADAAAAAwAAAAMAAAADAAAAAwAAAAMAAAADAAAAAwAAAAMAAAADAAAAAwAAAAMAAAADAAAAAwAAAAMAAAADAAAAAwAAAAMAAAADAAAAAwAAAAMAAAADAAAAAwAAAAMAAAADAAAAAwAAAAMAAAADAAAAAwAAAAMAAAADAAAAAwAAAAMAAAADAAAAAwAAAAMAAAADAAAAAwAAAAMAAAADAAAAAwAAAAMAAAADAAAAAwAAAAMAAAADAAAAAwAAAAMAAAADAAAAAwAAAAMAAAADAAAAAwAAAAMAAAADAAAAAwAAAAMAAAADAAAAAwAAAAMAAAADAAAAAwAAAAMAAAADAAAAAwAAAAMAAAADAAAAAwAAAAMAAAADAAAAAwAAAAMAAAADAAAAAwAAAAMAAAADAAAAAwAAAAMAAAADAAAAAwAAAAMAAAADAAAAAwAAAAMAAAADAAAAAwAAAAMAAAADAAAAAwAAAAMAAAADAAAAAwAAAAMAAAADAAAAAwAAAAMAAAADAAAAAwAAAAMAAAADAAAAAwAAAAMAAAADAAAAAwAAAAMAAAADAAAAAwAAAAMAAAADAAAAAwAAAAMAAAADAAAAAwAAAAMAAAADAAAAAwAAAAMAAAADAAAAAwAAAAMAAAADAAAAAwAAAAMAAAADAAAAAwAAAAMAAAADAAAAAwAAAAMAAAADAAAAAwAAAAMAAAADAAAAAwAAAAMAAAADAAAAAwAAAAMAAAADAAAAAwAAAAMAAAADAAAAAwAAAAMAAAADAAAAAwAAAAMAAAADAAAAAwAAAAMAAAADAAAAAwAAAAMAAAADAAAAAwAAAAMAAAADAAAAAwAAAAMAAAADAAAAAwAAAAMAAAADAAAAAwAAAAMAAAADAAAAAwAAAAMAAAADAAAAAwAAAAMAAAADAAAAAwAAAAMAAAADAAAAAwAAAAMAAAADAAAABAAAAAQAAAAEAAAABAAAAAQAAAAEAAAABAAAAAQAAAAEAAAABAAAAAQAAAAEAAAABAAAAAQAAAAEAAAABAAAAAQAAAAEAAAABAAAAAQAAAAEAAAABAAAAAQAAAAEAAAABAAAAAQAAAAEAAAABAAAAAQAAAAEAAAABAAAAAQAAAAEAAAABAAAAAQAAAAEAAAABAAAAAQAAAAEAAAABAAAAAQAAAAEAAAABAAAAAQAAAAEAAAABAAAAAQAAAAEAAAABAAAAAQAAAAEAAAABAAAAAQAAAAEAAAABAAAAAQAAAAEAAAABAAAAAQAAAAEAAAABAAAAAQAAAAEAAAABAAAAAQAAAAEAAAABAAAAAQAAAAEAAAABAAAAAQAAAAEAAAABAAAAAQAAAAEAAAABAAAAAQAAAAEAAAABAAAAAQAAAAEAAAABAAAAAQAAAAEAAAABAAAAAQAAAAEAAAABAAAAAQAAAAEAAAABAAAAAQAAAAEAAAABAAAAAQAAAAEAAAABAAAAAQAAAAEAAAABAAAAAQAAAAEAAAABAAAAAQAAAAEAAAABAAAAAQAAAAEAAAABAAAAAQAAAAEAAAABAAAAAQAAAAEAAAABAAAAAQAAAAEAAAABAAAAAQAAAAEAAAABAAAAAQAAAAEAAAABAAAAAQAAAAEAAAABAAAAAQAAAAEAAAABAAAAAQAAAAEAAAABAAAAAQAAAAEAAAABAAAAAQAAAAEAAAABAAAAAQAAAAEAAAABAAAAAQAAAAEAAAABAAAAAQAAAAEAAAABAAAAAQAAAAEAAAABAAAAAQAAAAEAAAABAAAAAQAAAAEAAAABAAAAAQAAAAEAAAABAAAAAUAAAAFAAAABQAAAAUAAAAFAAAABQAAAAUAAAAFAAAABQAAAAUAAAAFAAAABQAAAAUAAAAFAAAABQAAAAUAAAAFAAAABQAAAAUAAAAFAAAABQAAAAUAAAAFAAAABQAAAAUAAAAFAAAABQAAAAUAAAAFAAAABQAAAAUAAAAFAAAABQAAAAUAAAAFAAAABQAAAAUAAAAFAAAABQAAAAUAAAAFAAAABQAAAAUAAAAFAAAABQAAAAUAAAAFAAAABQAAAAUAAAAFAAAABQAAAAUAAAAFAAAABQAAAAUAAAAFAAAABQAAAAUAAAAFAAAABQAAAAUAAAAFAAAABQAAAAUAAAAFAAAABQAAAAUAAAAFAAAABQAAAAUAAAAFAAAABQAAAAUAAAAFAAAABQAAAAUAAAAFAAAABQAAAAUAAAAFAAAABQAAAAUAAAAFAAAABQAAAAUAAAAFAAAABQAAAAUAAAAFAAAABQAAAAUAAAAFAAAABQAAAAUAAAAFAAAABQAAAAUAAAAFAAAABQAAAAUAAAAFAAAABQAAAAUAAAAFAAAABQAAAAUAAAAFAAAABQAAAAUAAAAFAAAABQAAAAUAAAAFAAAABQAAAAUAAAAFAAAABQAAAAUAAAAFAAAABQAAAAUAAAAFAAAABQAAAAUAAAAFAAAABQAAAAYAAAAGAAAABgAAAAYAAAAGAAAABgAAAAYAAAAGAAAABgAAAAYAAAAGAAAABgAAAAYAAAAGAAAABgAAAAYAAAAGAAAABgAAAAYAAAAGAAAABgAAAAYAAAAGAAAABgAAAAYAAAAGAAAABgAAAAYAAAAGAAAABgAAAAYAAAAGAAAABgAAAAYAAAAGAAAABgAAAAYAAAAGAAAABgAAAAYAAAAGAAAABgAAAAYAAAAGAAAABgAAAAYAAAAGAAAABgAAAAYAAAAGAAAABgAAAAYAAAAGAAAABgAAAAYAAAAGAAAABgAAAAYAAAAGAAAABgAAAAYAAAAGAAAABgAAAAYAAAAGAAAABgAAAAYAAAAGAAAABgAAAAYAAAAGAAAABgAAAAYAAAAGAAAABgAAAAYAAAAGAAAABgAAAAYAAAAGAAAABgAAAAYAAAAGAAAABgAAAAYAAAAGAAAABgAAAAYAAAAGAAAABgAAAAYAAAAGAAAABwAAAAcAAAAHAAAABwAAAAcAAAAHAAAABwAAAAcAAAAHAAAABwAAAAcAAAAHAAAABwAAAAcAAAAHAAAABwAAAAcAAAAHAAAABwAAAAcAAAAHAAAABwAAAAcAAAAHAAAABwAAAAcAAAAHAAAABwAAAAcAAAAHAAAABwAAAAcAAAAHAAAABwAAAAcAAAAHAAAABwAAAAcAAAAHAAAABwAAAAcAAAAHAAAABwAAAAcAAAAHAAAABwAAAAcAAAAHAAAABwAAAAcAAAAHAAAABwAAAAcAAAAHAAAABwAAAAcAAAAHAAAABwAAAAcAAAAHAAAABwAAAAcAAAAHAAAABwAAAAgAAAAIAAAACAAAAAgAAAAIAAAACAAAAAgAAAAIAAAACAAAAAgAAAAIAAAACAAAAAgAAAAIAAAACAAAAAgAAAAIAAAACAAAAAgAAAAIAAAACAAAAAgAAAAIAAAACAAAAAgAAAAIAAAACAAAAAgAAAAIAAAACAAAAAgAAAAIAAAACAAAAAgAAAAIAAAACAAAAAgAAAAJAAAACQAAAAkAAAAJAAAACQAAAAkAAAAJAAAACQAAAAkAAAAJAAAACQAAAAkAAAAJAAAACQAAAAkAAAAJAAAACQAAAAkAAAAJAAAACQAAAAkAAAAJAAAACQAAAAkAAAAJAAAACQAAAAkAAAAJAAAACQAAAAkAAAAJAAAACQAAAAkAAAAJAAAACQAAAAkAAAAJAAAACQAAAAkAAAAJAAAACQAAAAkAAAAJAAAACQAAAAkAAAAJAAAACQAAAAkAAAAJAAAACQAAAAkAAAAJAAAACgAAAAoAAAAKAAAACgAAAAoAAAAKAAAACgAAAAoAAAAKAAAACgAAAAoAAAAKAAAACgAAAAoAAAAKAAAACgAAAAoAAAAKAAAACgAAAAoAAAAKAAAACgAAAAoAAAAKAAAACgAAAAoAAAAKAAAACgAAAAoAAAAKAAAACgAAAAoAAAAKAAAACgAAAAoAAAAKAAAACwAAAAsAAAALAAAACwAAAAsAAAALAAAACwAAAAsAAAALAAAACwAAAAsAAAALAAAACwAAAAsAAAALAAAACwAAAAsAAAALAAAACwAAAAsAAAALAAAACwAAAAwAAAAMAAAADAAAAAwAAAAMAAAADAAAAAwAAAAMAAAADAAAAAwAAAANAAAADQAAAA0AAAANAAAADQAAAA0AAAANAAAADQAAAA0AAAANAAAADQAAAA0AAAANAAAADQAAAA0AAAANAAAADQAAAA0AAAANAAAADQAAAA0AAAANAAAADQAAAA4AAAAOAAAADgAAAA4AAAAOAAAADgAAAA4AAAAOAAAADgAAAA4AAAAOAAAADgAAAA4AAAAOAAAADgAAAA4AAAAOAAAADgAAAA4AAAAOAAAADgAAAA4AAAAPAAAADwAAAA8AAAAPAAAADwAAAA8AAAAQAAAAEAAAABAAAAAQAAAAEQAAABEAAAARAAAAEQAAABEAAAARAAAAEQAAABEAAAARAAAAEQAAABIAAAASAAAAEgAAABIAAAASAAAAEwAAABMAAAATAAAAEwAAABQAAAAUAAAAFAAAABQAAAAUAAAAFAAAABQAAAAVAAAAFQAAABUAAAAVAAAAFgAAABYAAAAWAAAAFgAAABYAAAAXAAAAFwAAABcAAAAXAAAAFwAAABgAAAAYAAAAGAAAABkAAAAZAAAAGQAAABkAAAAZAAAAGgAAABoAAAAbAAAAGwAAABwAAAAcAAAAHAAAABwAAAAcAAAAHQAAAB0AAAAeAAAAHwAAAB8AAAAfAAAAHwAAAB8AAAAgAAAAIAAAACEAAAAiAAAAIgAAACIAAAAjAAAAJQAAACYAAAAnAAAAJwAAACcAAAAoAAAAKAAAACgAAAAsAAAALAAAACwAAAAtAAAALQAAADAAAAAxAAAAMgAAADMAAAA4AAAAOQAAAEUAAABGAAAARgAAAEYAAABKAAAATgAAAFQAAABXAAAAZwAAAH4AAAB/AAAAiQAAAIsAAACLAAAAnAAAAA==",
          "dtype": "u4"
         },
         "xaxis": "x",
         "yaxis": "y"
        }
       ],
       "layout": {
        "barmode": "relative",
        "legend": {
         "tracegroupgap": 0
        },
        "template": {
         "data": {
          "bar": [
           {
            "error_x": {
             "color": "#2a3f5f"
            },
            "error_y": {
             "color": "#2a3f5f"
            },
            "marker": {
             "line": {
              "color": "#E5ECF6",
              "width": 0.5
             },
             "pattern": {
              "fillmode": "overlay",
              "size": 10,
              "solidity": 0.2
             }
            },
            "type": "bar"
           }
          ],
          "barpolar": [
           {
            "marker": {
             "line": {
              "color": "#E5ECF6",
              "width": 0.5
             },
             "pattern": {
              "fillmode": "overlay",
              "size": 10,
              "solidity": 0.2
             }
            },
            "type": "barpolar"
           }
          ],
          "carpet": [
           {
            "aaxis": {
             "endlinecolor": "#2a3f5f",
             "gridcolor": "white",
             "linecolor": "white",
             "minorgridcolor": "white",
             "startlinecolor": "#2a3f5f"
            },
            "baxis": {
             "endlinecolor": "#2a3f5f",
             "gridcolor": "white",
             "linecolor": "white",
             "minorgridcolor": "white",
             "startlinecolor": "#2a3f5f"
            },
            "type": "carpet"
           }
          ],
          "choropleth": [
           {
            "colorbar": {
             "outlinewidth": 0,
             "ticks": ""
            },
            "type": "choropleth"
           }
          ],
          "contour": [
           {
            "colorbar": {
             "outlinewidth": 0,
             "ticks": ""
            },
            "colorscale": [
             [
              0,
              "#0d0887"
             ],
             [
              0.1111111111111111,
              "#46039f"
             ],
             [
              0.2222222222222222,
              "#7201a8"
             ],
             [
              0.3333333333333333,
              "#9c179e"
             ],
             [
              0.4444444444444444,
              "#bd3786"
             ],
             [
              0.5555555555555556,
              "#d8576b"
             ],
             [
              0.6666666666666666,
              "#ed7953"
             ],
             [
              0.7777777777777778,
              "#fb9f3a"
             ],
             [
              0.8888888888888888,
              "#fdca26"
             ],
             [
              1,
              "#f0f921"
             ]
            ],
            "type": "contour"
           }
          ],
          "contourcarpet": [
           {
            "colorbar": {
             "outlinewidth": 0,
             "ticks": ""
            },
            "type": "contourcarpet"
           }
          ],
          "heatmap": [
           {
            "colorbar": {
             "outlinewidth": 0,
             "ticks": ""
            },
            "colorscale": [
             [
              0,
              "#0d0887"
             ],
             [
              0.1111111111111111,
              "#46039f"
             ],
             [
              0.2222222222222222,
              "#7201a8"
             ],
             [
              0.3333333333333333,
              "#9c179e"
             ],
             [
              0.4444444444444444,
              "#bd3786"
             ],
             [
              0.5555555555555556,
              "#d8576b"
             ],
             [
              0.6666666666666666,
              "#ed7953"
             ],
             [
              0.7777777777777778,
              "#fb9f3a"
             ],
             [
              0.8888888888888888,
              "#fdca26"
             ],
             [
              1,
              "#f0f921"
             ]
            ],
            "type": "heatmap"
           }
          ],
          "histogram": [
           {
            "marker": {
             "pattern": {
              "fillmode": "overlay",
              "size": 10,
              "solidity": 0.2
             }
            },
            "type": "histogram"
           }
          ],
          "histogram2d": [
           {
            "colorbar": {
             "outlinewidth": 0,
             "ticks": ""
            },
            "colorscale": [
             [
              0,
              "#0d0887"
             ],
             [
              0.1111111111111111,
              "#46039f"
             ],
             [
              0.2222222222222222,
              "#7201a8"
             ],
             [
              0.3333333333333333,
              "#9c179e"
             ],
             [
              0.4444444444444444,
              "#bd3786"
             ],
             [
              0.5555555555555556,
              "#d8576b"
             ],
             [
              0.6666666666666666,
              "#ed7953"
             ],
             [
              0.7777777777777778,
              "#fb9f3a"
             ],
             [
              0.8888888888888888,
              "#fdca26"
             ],
             [
              1,
              "#f0f921"
             ]
            ],
            "type": "histogram2d"
           }
          ],
          "histogram2dcontour": [
           {
            "colorbar": {
             "outlinewidth": 0,
             "ticks": ""
            },
            "colorscale": [
             [
              0,
              "#0d0887"
             ],
             [
              0.1111111111111111,
              "#46039f"
             ],
             [
              0.2222222222222222,
              "#7201a8"
             ],
             [
              0.3333333333333333,
              "#9c179e"
             ],
             [
              0.4444444444444444,
              "#bd3786"
             ],
             [
              0.5555555555555556,
              "#d8576b"
             ],
             [
              0.6666666666666666,
              "#ed7953"
             ],
             [
              0.7777777777777778,
              "#fb9f3a"
             ],
             [
              0.8888888888888888,
              "#fdca26"
             ],
             [
              1,
              "#f0f921"
             ]
            ],
            "type": "histogram2dcontour"
           }
          ],
          "mesh3d": [
           {
            "colorbar": {
             "outlinewidth": 0,
             "ticks": ""
            },
            "type": "mesh3d"
           }
          ],
          "parcoords": [
           {
            "line": {
             "colorbar": {
              "outlinewidth": 0,
              "ticks": ""
             }
            },
            "type": "parcoords"
           }
          ],
          "pie": [
           {
            "automargin": true,
            "type": "pie"
           }
          ],
          "scatter": [
           {
            "fillpattern": {
             "fillmode": "overlay",
             "size": 10,
             "solidity": 0.2
            },
            "type": "scatter"
           }
          ],
          "scatter3d": [
           {
            "line": {
             "colorbar": {
              "outlinewidth": 0,
              "ticks": ""
             }
            },
            "marker": {
             "colorbar": {
              "outlinewidth": 0,
              "ticks": ""
             }
            },
            "type": "scatter3d"
           }
          ],
          "scattercarpet": [
           {
            "marker": {
             "colorbar": {
              "outlinewidth": 0,
              "ticks": ""
             }
            },
            "type": "scattercarpet"
           }
          ],
          "scattergeo": [
           {
            "marker": {
             "colorbar": {
              "outlinewidth": 0,
              "ticks": ""
             }
            },
            "type": "scattergeo"
           }
          ],
          "scattergl": [
           {
            "marker": {
             "colorbar": {
              "outlinewidth": 0,
              "ticks": ""
             }
            },
            "type": "scattergl"
           }
          ],
          "scattermap": [
           {
            "marker": {
             "colorbar": {
              "outlinewidth": 0,
              "ticks": ""
             }
            },
            "type": "scattermap"
           }
          ],
          "scattermapbox": [
           {
            "marker": {
             "colorbar": {
              "outlinewidth": 0,
              "ticks": ""
             }
            },
            "type": "scattermapbox"
           }
          ],
          "scatterpolar": [
           {
            "marker": {
             "colorbar": {
              "outlinewidth": 0,
              "ticks": ""
             }
            },
            "type": "scatterpolar"
           }
          ],
          "scatterpolargl": [
           {
            "marker": {
             "colorbar": {
              "outlinewidth": 0,
              "ticks": ""
             }
            },
            "type": "scatterpolargl"
           }
          ],
          "scatterternary": [
           {
            "marker": {
             "colorbar": {
              "outlinewidth": 0,
              "ticks": ""
             }
            },
            "type": "scatterternary"
           }
          ],
          "surface": [
           {
            "colorbar": {
             "outlinewidth": 0,
             "ticks": ""
            },
            "colorscale": [
             [
              0,
              "#0d0887"
             ],
             [
              0.1111111111111111,
              "#46039f"
             ],
             [
              0.2222222222222222,
              "#7201a8"
             ],
             [
              0.3333333333333333,
              "#9c179e"
             ],
             [
              0.4444444444444444,
              "#bd3786"
             ],
             [
              0.5555555555555556,
              "#d8576b"
             ],
             [
              0.6666666666666666,
              "#ed7953"
             ],
             [
              0.7777777777777778,
              "#fb9f3a"
             ],
             [
              0.8888888888888888,
              "#fdca26"
             ],
             [
              1,
              "#f0f921"
             ]
            ],
            "type": "surface"
           }
          ],
          "table": [
           {
            "cells": {
             "fill": {
              "color": "#EBF0F8"
             },
             "line": {
              "color": "white"
             }
            },
            "header": {
             "fill": {
              "color": "#C8D4E3"
             },
             "line": {
              "color": "white"
             }
            },
            "type": "table"
           }
          ]
         },
         "layout": {
          "annotationdefaults": {
           "arrowcolor": "#2a3f5f",
           "arrowhead": 0,
           "arrowwidth": 1
          },
          "autotypenumbers": "strict",
          "coloraxis": {
           "colorbar": {
            "outlinewidth": 0,
            "ticks": ""
           }
          },
          "colorscale": {
           "diverging": [
            [
             0,
             "#8e0152"
            ],
            [
             0.1,
             "#c51b7d"
            ],
            [
             0.2,
             "#de77ae"
            ],
            [
             0.3,
             "#f1b6da"
            ],
            [
             0.4,
             "#fde0ef"
            ],
            [
             0.5,
             "#f7f7f7"
            ],
            [
             0.6,
             "#e6f5d0"
            ],
            [
             0.7,
             "#b8e186"
            ],
            [
             0.8,
             "#7fbc41"
            ],
            [
             0.9,
             "#4d9221"
            ],
            [
             1,
             "#276419"
            ]
           ],
           "sequential": [
            [
             0,
             "#0d0887"
            ],
            [
             0.1111111111111111,
             "#46039f"
            ],
            [
             0.2222222222222222,
             "#7201a8"
            ],
            [
             0.3333333333333333,
             "#9c179e"
            ],
            [
             0.4444444444444444,
             "#bd3786"
            ],
            [
             0.5555555555555556,
             "#d8576b"
            ],
            [
             0.6666666666666666,
             "#ed7953"
            ],
            [
             0.7777777777777778,
             "#fb9f3a"
            ],
            [
             0.8888888888888888,
             "#fdca26"
            ],
            [
             1,
             "#f0f921"
            ]
           ],
           "sequentialminus": [
            [
             0,
             "#0d0887"
            ],
            [
             0.1111111111111111,
             "#46039f"
            ],
            [
             0.2222222222222222,
             "#7201a8"
            ],
            [
             0.3333333333333333,
             "#9c179e"
            ],
            [
             0.4444444444444444,
             "#bd3786"
            ],
            [
             0.5555555555555556,
             "#d8576b"
            ],
            [
             0.6666666666666666,
             "#ed7953"
            ],
            [
             0.7777777777777778,
             "#fb9f3a"
            ],
            [
             0.8888888888888888,
             "#fdca26"
            ],
            [
             1,
             "#f0f921"
            ]
           ]
          },
          "colorway": [
           "#636efa",
           "#EF553B",
           "#00cc96",
           "#ab63fa",
           "#FFA15A",
           "#19d3f3",
           "#FF6692",
           "#B6E880",
           "#FF97FF",
           "#FECB52"
          ],
          "font": {
           "color": "#2a3f5f"
          },
          "geo": {
           "bgcolor": "white",
           "lakecolor": "white",
           "landcolor": "#E5ECF6",
           "showlakes": true,
           "showland": true,
           "subunitcolor": "white"
          },
          "hoverlabel": {
           "align": "left"
          },
          "hovermode": "closest",
          "mapbox": {
           "style": "light"
          },
          "paper_bgcolor": "white",
          "plot_bgcolor": "#E5ECF6",
          "polar": {
           "angularaxis": {
            "gridcolor": "white",
            "linecolor": "white",
            "ticks": ""
           },
           "bgcolor": "#E5ECF6",
           "radialaxis": {
            "gridcolor": "white",
            "linecolor": "white",
            "ticks": ""
           }
          },
          "scene": {
           "xaxis": {
            "backgroundcolor": "#E5ECF6",
            "gridcolor": "white",
            "gridwidth": 2,
            "linecolor": "white",
            "showbackground": true,
            "ticks": "",
            "zerolinecolor": "white"
           },
           "yaxis": {
            "backgroundcolor": "#E5ECF6",
            "gridcolor": "white",
            "gridwidth": 2,
            "linecolor": "white",
            "showbackground": true,
            "ticks": "",
            "zerolinecolor": "white"
           },
           "zaxis": {
            "backgroundcolor": "#E5ECF6",
            "gridcolor": "white",
            "gridwidth": 2,
            "linecolor": "white",
            "showbackground": true,
            "ticks": "",
            "zerolinecolor": "white"
           }
          },
          "shapedefaults": {
           "line": {
            "color": "#2a3f5f"
           }
          },
          "ternary": {
           "aaxis": {
            "gridcolor": "white",
            "linecolor": "white",
            "ticks": ""
           },
           "baxis": {
            "gridcolor": "white",
            "linecolor": "white",
            "ticks": ""
           },
           "bgcolor": "#E5ECF6",
           "caxis": {
            "gridcolor": "white",
            "linecolor": "white",
            "ticks": ""
           }
          },
          "title": {
           "x": 0.05
          },
          "xaxis": {
           "automargin": true,
           "gridcolor": "white",
           "linecolor": "white",
           "ticks": "",
           "title": {
            "standoff": 15
           },
           "zerolinecolor": "white",
           "zerolinewidth": 2
          },
          "yaxis": {
           "automargin": true,
           "gridcolor": "white",
           "linecolor": "white",
           "ticks": "",
           "title": {
            "standoff": 15
           },
           "zerolinecolor": "white",
           "zerolinewidth": 2
          }
         }
        },
        "title": {
         "text": "Artist Frequency"
        },
        "xaxis": {
         "anchor": "y",
         "domain": [
          0,
          1
         ],
         "title": {
          "text": "frequency"
         }
        },
        "yaxis": {
         "anchor": "x",
         "domain": [
          0,
          1
         ],
         "title": {
          "text": "count"
         }
        }
       }
      }
     },
     "metadata": {},
     "output_type": "display_data"
    }
   ],
   "source": [
    "artist_frequency = data[\"artist\"].value_counts().sort(\"count\").rename({\"count\": \"frequency\"})\n",
    "print(f\"Number of artists: {len(set(data['artist'].to_list()))}\")\n",
    "\n",
    "fig = px.histogram(\n",
    "    artist_frequency, x=\"frequency\", title=\"Artist Frequency\", color_discrete_sequence=COLORS[2:3]\n",
    ")\n",
    "fig.show()"
   ]
  },
  {
   "cell_type": "code",
   "execution_count": 5,
   "metadata": {},
   "outputs": [
    {
     "data": {
      "text/html": [
       "<div><style>\n",
       ".dataframe > thead > tr,\n",
       ".dataframe > tbody > tr {\n",
       "  text-align: right;\n",
       "  white-space: pre-wrap;\n",
       "}\n",
       "</style>\n",
       "<small>shape: (3_112, 2)</small><table border=\"1\" class=\"dataframe\"><thead><tr><th>artist</th><th>count</th></tr><tr><td>str</td><td>u32</td></tr></thead><tbody><tr><td>&quot;CIPPER, Giacomo Francesco&quot;</td><td>1</td></tr><tr><td>&quot;BLONDEEL, Lanceloot&quot;</td><td>1</td></tr><tr><td>&quot;NALDINI, Giovan Battista&quot;</td><td>1</td></tr><tr><td>&quot;LEEMPUT, Remigius van&quot;</td><td>1</td></tr><tr><td>&quot;LAEMEN, Christoffel Jacobsz va…</td><td>1</td></tr><tr><td>&hellip;</td><td>&hellip;</td></tr><tr><td>&quot;TINTORETTO&quot;</td><td>127</td></tr><tr><td>&quot;GRECO, El&quot;</td><td>137</td></tr><tr><td>&quot;REMBRANDT Harmenszoon van Rijn&quot;</td><td>139</td></tr><tr><td>&quot;GOGH, Vincent van&quot;</td><td>139</td></tr><tr><td>&quot;TIZIANO Vecellio&quot;</td><td>156</td></tr></tbody></table></div>"
      ],
      "text/plain": [
       "shape: (3_112, 2)\n",
       "┌─────────────────────────────────┬───────┐\n",
       "│ artist                          ┆ count │\n",
       "│ ---                             ┆ ---   │\n",
       "│ str                             ┆ u32   │\n",
       "╞═════════════════════════════════╪═══════╡\n",
       "│ CIPPER, Giacomo Francesco       ┆ 1     │\n",
       "│ BLONDEEL, Lanceloot             ┆ 1     │\n",
       "│ NALDINI, Giovan Battista        ┆ 1     │\n",
       "│ LEEMPUT, Remigius van           ┆ 1     │\n",
       "│ LAEMEN, Christoffel Jacobsz va… ┆ 1     │\n",
       "│ …                               ┆ …     │\n",
       "│ TINTORETTO                      ┆ 127   │\n",
       "│ GRECO, El                       ┆ 137   │\n",
       "│ REMBRANDT Harmenszoon van Rijn  ┆ 139   │\n",
       "│ GOGH, Vincent van               ┆ 139   │\n",
       "│ TIZIANO Vecellio                ┆ 156   │\n",
       "└─────────────────────────────────┴───────┘"
      ]
     },
     "execution_count": 5,
     "metadata": {},
     "output_type": "execute_result"
    }
   ],
   "source": [
    "data[\"artist\"].value_counts().sort(\"count\")"
   ]
  },
  {
   "cell_type": "code",
   "execution_count": 6,
   "metadata": {},
   "outputs": [
    {
     "name": "stdout",
     "output_type": "stream",
     "text": [
      "Artists that have paintings with associated style or type: 2696\n"
     ]
    }
   ],
   "source": [
    "paintings_with_type_or_style = data.filter(\n",
    "    pl.col(\"coarse_type\").is_not_null()\n",
    "    | pl.col(\"first_fine_grained_type\").is_not_null()\n",
    "    | pl.col(\"second_fine_grained_type\").is_not_null()\n",
    "    | pl.col(\"first_style\").is_not_null()\n",
    "    | pl.col(\"second_style\").is_not_null()\n",
    ")\n",
    "\n",
    "artists_with_type_or_style = len(set(paintings_with_type_or_style[\"artist\"].to_list()))\n",
    "print(f\"Artists that have paintings with associated style or type: {artists_with_type_or_style}\")"
   ]
  },
  {
   "cell_type": "markdown",
   "metadata": {},
   "source": [
    "### 2. Year of creation"
   ]
  },
  {
   "cell_type": "code",
   "execution_count": 7,
   "metadata": {},
   "outputs": [
    {
     "name": "stdout",
     "output_type": "stream",
     "text": [
      "Covered period: 1305 - 2022\n"
     ]
    },
    {
     "data": {
      "application/vnd.plotly.v1+json": {
       "config": {
        "plotlyServerURL": "https://plot.ly"
       },
       "data": [
        {
         "hovertemplate": "source=met<br>century=%{x}<br>percentage=%{y}<extra></extra>",
         "legendgroup": "met",
         "marker": {
          "color": "#cd968e",
          "pattern": {
           "shape": ""
          }
         },
         "name": "met",
         "orientation": "v",
         "showlegend": true,
         "textposition": "auto",
         "type": "bar",
         "x": {
          "bdata": "Dg8QERITFA==",
          "dtype": "i1"
         },
         "xaxis": "x",
         "y": {
          "bdata": "D2XQFDNt0D+ZzSLtyrvuP0rx3PxFe/w/1CZ0lH4aCUA8wvY1ESYCQF5BFgW4rRJAmc0i7cq7zj8=",
          "dtype": "f8"
         },
         "yaxis": "y"
        },
        {
         "hovertemplate": "source=wga<br>century=%{x}<br>percentage=%{y}<extra></extra>",
         "legendgroup": "wga",
         "marker": {
          "color": "#acb0e0",
          "pattern": {
           "shape": ""
          }
         },
         "name": "wga",
         "orientation": "v",
         "showlegend": true,
         "textposition": "auto",
         "type": "bar",
         "x": {
          "bdata": "Dg8QERITFA==",
          "dtype": "i1"
         },
         "xaxis": "x",
         "y": {
          "bdata": "0NJlEuKNuz/ILXgbSN0UQGhvpA/JbzFA72RFnc56O0BPv3l4Cl8mQKdPv3l4CitAPvjggw8++D8=",
          "dtype": "f8"
         },
         "yaxis": "y"
        },
        {
         "hovertemplate": "source=wikiart<br>century=%{x}<br>percentage=%{y}<extra></extra>",
         "legendgroup": "wikiart",
         "marker": {
          "color": "#aecbdc",
          "pattern": {
           "shape": ""
          }
         },
         "name": "wikiart",
         "orientation": "v",
         "showlegend": true,
         "textposition": "auto",
         "type": "bar",
         "x": {
          "bdata": "Dg8QERITFBU=",
          "dtype": "i1"
         },
         "xaxis": "x",
         "y": {
          "bdata": "Pd3rXBAypT9Wz+NOfazNP9DSZRLijes/EZu6YjGF5j+A2yr7XUHmP4H2HyJdTQlA1lxe4nwyD0D63qy+wiLkPw==",
          "dtype": "f8"
         },
         "yaxis": "y"
        }
       ],
       "layout": {
        "barmode": "relative",
        "legend": {
         "title": {
          "text": "source"
         },
         "tracegroupgap": 0
        },
        "template": {
         "data": {
          "bar": [
           {
            "error_x": {
             "color": "#2a3f5f"
            },
            "error_y": {
             "color": "#2a3f5f"
            },
            "marker": {
             "line": {
              "color": "#E5ECF6",
              "width": 0.5
             },
             "pattern": {
              "fillmode": "overlay",
              "size": 10,
              "solidity": 0.2
             }
            },
            "type": "bar"
           }
          ],
          "barpolar": [
           {
            "marker": {
             "line": {
              "color": "#E5ECF6",
              "width": 0.5
             },
             "pattern": {
              "fillmode": "overlay",
              "size": 10,
              "solidity": 0.2
             }
            },
            "type": "barpolar"
           }
          ],
          "carpet": [
           {
            "aaxis": {
             "endlinecolor": "#2a3f5f",
             "gridcolor": "white",
             "linecolor": "white",
             "minorgridcolor": "white",
             "startlinecolor": "#2a3f5f"
            },
            "baxis": {
             "endlinecolor": "#2a3f5f",
             "gridcolor": "white",
             "linecolor": "white",
             "minorgridcolor": "white",
             "startlinecolor": "#2a3f5f"
            },
            "type": "carpet"
           }
          ],
          "choropleth": [
           {
            "colorbar": {
             "outlinewidth": 0,
             "ticks": ""
            },
            "type": "choropleth"
           }
          ],
          "contour": [
           {
            "colorbar": {
             "outlinewidth": 0,
             "ticks": ""
            },
            "colorscale": [
             [
              0,
              "#0d0887"
             ],
             [
              0.1111111111111111,
              "#46039f"
             ],
             [
              0.2222222222222222,
              "#7201a8"
             ],
             [
              0.3333333333333333,
              "#9c179e"
             ],
             [
              0.4444444444444444,
              "#bd3786"
             ],
             [
              0.5555555555555556,
              "#d8576b"
             ],
             [
              0.6666666666666666,
              "#ed7953"
             ],
             [
              0.7777777777777778,
              "#fb9f3a"
             ],
             [
              0.8888888888888888,
              "#fdca26"
             ],
             [
              1,
              "#f0f921"
             ]
            ],
            "type": "contour"
           }
          ],
          "contourcarpet": [
           {
            "colorbar": {
             "outlinewidth": 0,
             "ticks": ""
            },
            "type": "contourcarpet"
           }
          ],
          "heatmap": [
           {
            "colorbar": {
             "outlinewidth": 0,
             "ticks": ""
            },
            "colorscale": [
             [
              0,
              "#0d0887"
             ],
             [
              0.1111111111111111,
              "#46039f"
             ],
             [
              0.2222222222222222,
              "#7201a8"
             ],
             [
              0.3333333333333333,
              "#9c179e"
             ],
             [
              0.4444444444444444,
              "#bd3786"
             ],
             [
              0.5555555555555556,
              "#d8576b"
             ],
             [
              0.6666666666666666,
              "#ed7953"
             ],
             [
              0.7777777777777778,
              "#fb9f3a"
             ],
             [
              0.8888888888888888,
              "#fdca26"
             ],
             [
              1,
              "#f0f921"
             ]
            ],
            "type": "heatmap"
           }
          ],
          "histogram": [
           {
            "marker": {
             "pattern": {
              "fillmode": "overlay",
              "size": 10,
              "solidity": 0.2
             }
            },
            "type": "histogram"
           }
          ],
          "histogram2d": [
           {
            "colorbar": {
             "outlinewidth": 0,
             "ticks": ""
            },
            "colorscale": [
             [
              0,
              "#0d0887"
             ],
             [
              0.1111111111111111,
              "#46039f"
             ],
             [
              0.2222222222222222,
              "#7201a8"
             ],
             [
              0.3333333333333333,
              "#9c179e"
             ],
             [
              0.4444444444444444,
              "#bd3786"
             ],
             [
              0.5555555555555556,
              "#d8576b"
             ],
             [
              0.6666666666666666,
              "#ed7953"
             ],
             [
              0.7777777777777778,
              "#fb9f3a"
             ],
             [
              0.8888888888888888,
              "#fdca26"
             ],
             [
              1,
              "#f0f921"
             ]
            ],
            "type": "histogram2d"
           }
          ],
          "histogram2dcontour": [
           {
            "colorbar": {
             "outlinewidth": 0,
             "ticks": ""
            },
            "colorscale": [
             [
              0,
              "#0d0887"
             ],
             [
              0.1111111111111111,
              "#46039f"
             ],
             [
              0.2222222222222222,
              "#7201a8"
             ],
             [
              0.3333333333333333,
              "#9c179e"
             ],
             [
              0.4444444444444444,
              "#bd3786"
             ],
             [
              0.5555555555555556,
              "#d8576b"
             ],
             [
              0.6666666666666666,
              "#ed7953"
             ],
             [
              0.7777777777777778,
              "#fb9f3a"
             ],
             [
              0.8888888888888888,
              "#fdca26"
             ],
             [
              1,
              "#f0f921"
             ]
            ],
            "type": "histogram2dcontour"
           }
          ],
          "mesh3d": [
           {
            "colorbar": {
             "outlinewidth": 0,
             "ticks": ""
            },
            "type": "mesh3d"
           }
          ],
          "parcoords": [
           {
            "line": {
             "colorbar": {
              "outlinewidth": 0,
              "ticks": ""
             }
            },
            "type": "parcoords"
           }
          ],
          "pie": [
           {
            "automargin": true,
            "type": "pie"
           }
          ],
          "scatter": [
           {
            "fillpattern": {
             "fillmode": "overlay",
             "size": 10,
             "solidity": 0.2
            },
            "type": "scatter"
           }
          ],
          "scatter3d": [
           {
            "line": {
             "colorbar": {
              "outlinewidth": 0,
              "ticks": ""
             }
            },
            "marker": {
             "colorbar": {
              "outlinewidth": 0,
              "ticks": ""
             }
            },
            "type": "scatter3d"
           }
          ],
          "scattercarpet": [
           {
            "marker": {
             "colorbar": {
              "outlinewidth": 0,
              "ticks": ""
             }
            },
            "type": "scattercarpet"
           }
          ],
          "scattergeo": [
           {
            "marker": {
             "colorbar": {
              "outlinewidth": 0,
              "ticks": ""
             }
            },
            "type": "scattergeo"
           }
          ],
          "scattergl": [
           {
            "marker": {
             "colorbar": {
              "outlinewidth": 0,
              "ticks": ""
             }
            },
            "type": "scattergl"
           }
          ],
          "scattermap": [
           {
            "marker": {
             "colorbar": {
              "outlinewidth": 0,
              "ticks": ""
             }
            },
            "type": "scattermap"
           }
          ],
          "scattermapbox": [
           {
            "marker": {
             "colorbar": {
              "outlinewidth": 0,
              "ticks": ""
             }
            },
            "type": "scattermapbox"
           }
          ],
          "scatterpolar": [
           {
            "marker": {
             "colorbar": {
              "outlinewidth": 0,
              "ticks": ""
             }
            },
            "type": "scatterpolar"
           }
          ],
          "scatterpolargl": [
           {
            "marker": {
             "colorbar": {
              "outlinewidth": 0,
              "ticks": ""
             }
            },
            "type": "scatterpolargl"
           }
          ],
          "scatterternary": [
           {
            "marker": {
             "colorbar": {
              "outlinewidth": 0,
              "ticks": ""
             }
            },
            "type": "scatterternary"
           }
          ],
          "surface": [
           {
            "colorbar": {
             "outlinewidth": 0,
             "ticks": ""
            },
            "colorscale": [
             [
              0,
              "#0d0887"
             ],
             [
              0.1111111111111111,
              "#46039f"
             ],
             [
              0.2222222222222222,
              "#7201a8"
             ],
             [
              0.3333333333333333,
              "#9c179e"
             ],
             [
              0.4444444444444444,
              "#bd3786"
             ],
             [
              0.5555555555555556,
              "#d8576b"
             ],
             [
              0.6666666666666666,
              "#ed7953"
             ],
             [
              0.7777777777777778,
              "#fb9f3a"
             ],
             [
              0.8888888888888888,
              "#fdca26"
             ],
             [
              1,
              "#f0f921"
             ]
            ],
            "type": "surface"
           }
          ],
          "table": [
           {
            "cells": {
             "fill": {
              "color": "#EBF0F8"
             },
             "line": {
              "color": "white"
             }
            },
            "header": {
             "fill": {
              "color": "#C8D4E3"
             },
             "line": {
              "color": "white"
             }
            },
            "type": "table"
           }
          ]
         },
         "layout": {
          "annotationdefaults": {
           "arrowcolor": "#2a3f5f",
           "arrowhead": 0,
           "arrowwidth": 1
          },
          "autotypenumbers": "strict",
          "coloraxis": {
           "colorbar": {
            "outlinewidth": 0,
            "ticks": ""
           }
          },
          "colorscale": {
           "diverging": [
            [
             0,
             "#8e0152"
            ],
            [
             0.1,
             "#c51b7d"
            ],
            [
             0.2,
             "#de77ae"
            ],
            [
             0.3,
             "#f1b6da"
            ],
            [
             0.4,
             "#fde0ef"
            ],
            [
             0.5,
             "#f7f7f7"
            ],
            [
             0.6,
             "#e6f5d0"
            ],
            [
             0.7,
             "#b8e186"
            ],
            [
             0.8,
             "#7fbc41"
            ],
            [
             0.9,
             "#4d9221"
            ],
            [
             1,
             "#276419"
            ]
           ],
           "sequential": [
            [
             0,
             "#0d0887"
            ],
            [
             0.1111111111111111,
             "#46039f"
            ],
            [
             0.2222222222222222,
             "#7201a8"
            ],
            [
             0.3333333333333333,
             "#9c179e"
            ],
            [
             0.4444444444444444,
             "#bd3786"
            ],
            [
             0.5555555555555556,
             "#d8576b"
            ],
            [
             0.6666666666666666,
             "#ed7953"
            ],
            [
             0.7777777777777778,
             "#fb9f3a"
            ],
            [
             0.8888888888888888,
             "#fdca26"
            ],
            [
             1,
             "#f0f921"
            ]
           ],
           "sequentialminus": [
            [
             0,
             "#0d0887"
            ],
            [
             0.1111111111111111,
             "#46039f"
            ],
            [
             0.2222222222222222,
             "#7201a8"
            ],
            [
             0.3333333333333333,
             "#9c179e"
            ],
            [
             0.4444444444444444,
             "#bd3786"
            ],
            [
             0.5555555555555556,
             "#d8576b"
            ],
            [
             0.6666666666666666,
             "#ed7953"
            ],
            [
             0.7777777777777778,
             "#fb9f3a"
            ],
            [
             0.8888888888888888,
             "#fdca26"
            ],
            [
             1,
             "#f0f921"
            ]
           ]
          },
          "colorway": [
           "#636efa",
           "#EF553B",
           "#00cc96",
           "#ab63fa",
           "#FFA15A",
           "#19d3f3",
           "#FF6692",
           "#B6E880",
           "#FF97FF",
           "#FECB52"
          ],
          "font": {
           "color": "#2a3f5f"
          },
          "geo": {
           "bgcolor": "white",
           "lakecolor": "white",
           "landcolor": "#E5ECF6",
           "showlakes": true,
           "showland": true,
           "subunitcolor": "white"
          },
          "hoverlabel": {
           "align": "left"
          },
          "hovermode": "closest",
          "mapbox": {
           "style": "light"
          },
          "paper_bgcolor": "white",
          "plot_bgcolor": "#E5ECF6",
          "polar": {
           "angularaxis": {
            "gridcolor": "white",
            "linecolor": "white",
            "ticks": ""
           },
           "bgcolor": "#E5ECF6",
           "radialaxis": {
            "gridcolor": "white",
            "linecolor": "white",
            "ticks": ""
           }
          },
          "scene": {
           "xaxis": {
            "backgroundcolor": "#E5ECF6",
            "gridcolor": "white",
            "gridwidth": 2,
            "linecolor": "white",
            "showbackground": true,
            "ticks": "",
            "zerolinecolor": "white"
           },
           "yaxis": {
            "backgroundcolor": "#E5ECF6",
            "gridcolor": "white",
            "gridwidth": 2,
            "linecolor": "white",
            "showbackground": true,
            "ticks": "",
            "zerolinecolor": "white"
           },
           "zaxis": {
            "backgroundcolor": "#E5ECF6",
            "gridcolor": "white",
            "gridwidth": 2,
            "linecolor": "white",
            "showbackground": true,
            "ticks": "",
            "zerolinecolor": "white"
           }
          },
          "shapedefaults": {
           "line": {
            "color": "#2a3f5f"
           }
          },
          "ternary": {
           "aaxis": {
            "gridcolor": "white",
            "linecolor": "white",
            "ticks": ""
           },
           "baxis": {
            "gridcolor": "white",
            "linecolor": "white",
            "ticks": ""
           },
           "bgcolor": "#E5ECF6",
           "caxis": {
            "gridcolor": "white",
            "linecolor": "white",
            "ticks": ""
           }
          },
          "title": {
           "x": 0.05
          },
          "xaxis": {
           "automargin": true,
           "gridcolor": "white",
           "linecolor": "white",
           "ticks": "",
           "title": {
            "standoff": 15
           },
           "zerolinecolor": "white",
           "zerolinewidth": 2
          },
          "yaxis": {
           "automargin": true,
           "gridcolor": "white",
           "linecolor": "white",
           "ticks": "",
           "title": {
            "standoff": 15
           },
           "zerolinecolor": "white",
           "zerolinewidth": 2
          }
         }
        },
        "title": {
         "text": "Distribution of Paintings Across Centuries"
        },
        "xaxis": {
         "anchor": "y",
         "domain": [
          0,
          1
         ],
         "dtick": 1,
         "title": {
          "text": "century"
         }
        },
        "yaxis": {
         "anchor": "x",
         "domain": [
          0,
          1
         ],
         "title": {
          "text": "percentage"
         }
        }
       }
      }
     },
     "metadata": {},
     "output_type": "display_data"
    }
   ],
   "source": [
    "paintings_per_century = (\n",
    "    data.with_columns((pl.col(\"year\") // 100 + 1).alias(\"century\"))\n",
    "    .group_by(\"century\", \"source\")\n",
    "    .len()\n",
    "    .sort(\"century\")\n",
    "    .with_columns(pl.col(\"len\") / data.shape[0] * 100)\n",
    "    .rename({\"len\": \"percentage\"})\n",
    ")\n",
    "print(f\"Covered period: {data['year'].min()} - {data['year'].max()}\")\n",
    "\n",
    "fig = px.bar(\n",
    "    paintings_per_century.sort(\"source\"),\n",
    "    x=\"century\",\n",
    "    y=\"percentage\",\n",
    "    color=\"source\",\n",
    "    title=\"Distribution of Paintings Across Centuries\",\n",
    "    color_discrete_sequence=COLORS[:4],\n",
    ")\n",
    "fig.update_layout(xaxis={\"dtick\": 1})\n",
    "fig.show()"
   ]
  },
  {
   "cell_type": "code",
   "execution_count": 8,
   "metadata": {},
   "outputs": [
    {
     "data": {
      "text/html": [
       "<div><style>\n",
       ".dataframe > thead > tr,\n",
       ".dataframe > tbody > tr {\n",
       "  text-align: right;\n",
       "  white-space: pre-wrap;\n",
       "}\n",
       "</style>\n",
       "<small>shape: (22, 3)</small><table border=\"1\" class=\"dataframe\"><thead><tr><th>century</th><th>source</th><th>paintings number</th></tr><tr><td>i64</td><td>str</td><td>u32</td></tr></thead><tbody><tr><td>14</td><td>&quot;met&quot;</td><td>31</td></tr><tr><td>14</td><td>&quot;wga&quot;</td><td>13</td></tr><tr><td>14</td><td>&quot;wikiart&quot;</td><td>5</td></tr><tr><td>15</td><td>&quot;met&quot;</td><td>116</td></tr><tr><td>15</td><td>&quot;wikiart&quot;</td><td>28</td></tr><tr><td>15</td><td>&quot;wga&quot;</td><td>630</td></tr><tr><td>16</td><td>&quot;met&quot;</td><td>215</td></tr><tr><td>16</td><td>&quot;wikiart&quot;</td><td>104</td></tr><tr><td>16</td><td>&quot;wga&quot;</td><td>2106</td></tr><tr><td>17</td><td>&quot;met&quot;</td><td>379</td></tr><tr><td>17</td><td>&quot;wikiart&quot;</td><td>85</td></tr><tr><td>17</td><td>&quot;wga&quot;</td><td>3319</td></tr><tr><td>18</td><td>&quot;met&quot;</td><td>274</td></tr><tr><td>18</td><td>&quot;wikiart&quot;</td><td>84</td></tr><tr><td>18</td><td>&quot;wga&quot;</td><td>1351</td></tr><tr><td>19</td><td>&quot;wikiart&quot;</td><td>382</td></tr><tr><td>19</td><td>&quot;wga&quot;</td><td>1633</td></tr><tr><td>19</td><td>&quot;met&quot;</td><td>564</td></tr><tr><td>20</td><td>&quot;wikiart&quot;</td><td>471</td></tr><tr><td>20</td><td>&quot;wga&quot;</td><td>183</td></tr><tr><td>20</td><td>&quot;met&quot;</td><td>29</td></tr><tr><td>21</td><td>&quot;wikiart&quot;</td><td>76</td></tr></tbody></table></div>"
      ],
      "text/plain": [
       "shape: (22, 3)\n",
       "┌─────────┬─────────┬──────────────────┐\n",
       "│ century ┆ source  ┆ paintings number │\n",
       "│ ---     ┆ ---     ┆ ---              │\n",
       "│ i64     ┆ str     ┆ u32              │\n",
       "╞═════════╪═════════╪══════════════════╡\n",
       "│ 14      ┆ met     ┆ 31               │\n",
       "│ 14      ┆ wga     ┆ 13               │\n",
       "│ 14      ┆ wikiart ┆ 5                │\n",
       "│ 15      ┆ met     ┆ 116              │\n",
       "│ 15      ┆ wikiart ┆ 28               │\n",
       "│ 15      ┆ wga     ┆ 630              │\n",
       "│ 16      ┆ met     ┆ 215              │\n",
       "│ 16      ┆ wikiart ┆ 104              │\n",
       "│ 16      ┆ wga     ┆ 2106             │\n",
       "│ 17      ┆ met     ┆ 379              │\n",
       "│ 17      ┆ wikiart ┆ 85               │\n",
       "│ 17      ┆ wga     ┆ 3319             │\n",
       "│ 18      ┆ met     ┆ 274              │\n",
       "│ 18      ┆ wikiart ┆ 84               │\n",
       "│ 18      ┆ wga     ┆ 1351             │\n",
       "│ 19      ┆ wikiart ┆ 382              │\n",
       "│ 19      ┆ wga     ┆ 1633             │\n",
       "│ 19      ┆ met     ┆ 564              │\n",
       "│ 20      ┆ wikiart ┆ 471              │\n",
       "│ 20      ┆ wga     ┆ 183              │\n",
       "│ 20      ┆ met     ┆ 29               │\n",
       "│ 21      ┆ wikiart ┆ 76               │\n",
       "└─────────┴─────────┴──────────────────┘"
      ]
     },
     "metadata": {},
     "output_type": "display_data"
    }
   ],
   "source": [
    "paintings_per_century_no = (\n",
    "    data.with_columns((pl.col(\"year\") // 100 + 1).alias(\"century\"))\n",
    "    .group_by(\"century\", \"source\")\n",
    "    .len()\n",
    "    .sort(\"century\")\n",
    "    .rename({\"len\": \"paintings number\"})\n",
    ")\n",
    "\n",
    "with pl.Config(tbl_rows=30):\n",
    "    display(paintings_per_century_no)"
   ]
  },
  {
   "cell_type": "markdown",
   "metadata": {},
   "source": [
    "### 3. Type and style"
   ]
  },
  {
   "cell_type": "code",
   "execution_count": 9,
   "metadata": {},
   "outputs": [
    {
     "name": "stdout",
     "output_type": "stream",
     "text": [
      "Paintings with style and type: 4730\n",
      "Paintings with style or type: 11191\n"
     ]
    }
   ],
   "source": [
    "paintings_with_type_and_style = data.filter(\n",
    "    (\n",
    "        pl.col(\"coarse_type\").is_not_null()\n",
    "        | pl.col(\"first_fine_grained_type\").is_not_null()\n",
    "        | pl.col(\"second_fine_grained_type\").is_not_null()\n",
    "    )\n",
    "    & (pl.col(\"first_style\").is_not_null() | pl.col(\"second_style\").is_not_null())\n",
    ")\n",
    "print(f\"Paintings with style and type: {paintings_with_type_and_style.shape[0]}\")\n",
    "print(f\"Paintings with style or type: {paintings_with_type_or_style.shape[0]}\")"
   ]
  },
  {
   "cell_type": "code",
   "execution_count": 10,
   "metadata": {},
   "outputs": [
    {
     "name": "stdout",
     "output_type": "stream",
     "text": [
      "Number of paintings with coarse type: 9873\n",
      "The 7 coarse types are:\n"
     ]
    },
    {
     "data": {
      "text/plain": [
       "Counter({'religious': 2877,\n",
       "         'portrait': 2316,\n",
       "         'landscape': 1575,\n",
       "         'genre': 1136,\n",
       "         'mythological': 1103,\n",
       "         'still life': 482,\n",
       "         'history': 384})"
      ]
     },
     "metadata": {},
     "output_type": "display_data"
    }
   ],
   "source": [
    "paintings_with_coarse_type_no = data.filter(pl.col(\"coarse_type\").is_not_null()).shape[0]\n",
    "\n",
    "coarse_grained_types = Counter(\n",
    "    [type_ for type_ in data[\"coarse_type\"].to_list() if type_ is not None]\n",
    ")\n",
    "\n",
    "print(f\"Number of paintings with coarse type: {paintings_with_coarse_type_no}\")\n",
    "\n",
    "print(f\"The {len(coarse_grained_types)} coarse types are:\")\n",
    "display(coarse_grained_types)"
   ]
  },
  {
   "cell_type": "code",
   "execution_count": 11,
   "metadata": {},
   "outputs": [
    {
     "name": "stdout",
     "output_type": "stream",
     "text": [
      "Number of paintings with fine-grained type: 4813\n",
      "The 25 fine-grained types are:\n"
     ]
    },
    {
     "data": {
      "text/plain": [
       "Counter({'religious': 1243,\n",
       "         'portrait': 948,\n",
       "         'genre': 798,\n",
       "         'landscape': 474,\n",
       "         'mythological': 262,\n",
       "         'cityscape': 173,\n",
       "         'allegorical': 161,\n",
       "         'self-portrait': 118,\n",
       "         'history': 104,\n",
       "         'still life': 98,\n",
       "         'nude': 76,\n",
       "         'sketch and study': 72,\n",
       "         'symbolic': 71,\n",
       "         'veduta': 64,\n",
       "         'marina': 58,\n",
       "         'animal': 46,\n",
       "         'flower': 46,\n",
       "         'literary': 43,\n",
       "         'battle': 33,\n",
       "         'tronie': 32,\n",
       "         'interior': 25,\n",
       "         'capriccio': 16,\n",
       "         'pastorale': 14,\n",
       "         'cloudscape': 14,\n",
       "         'figurative': 11})"
      ]
     },
     "metadata": {},
     "output_type": "display_data"
    }
   ],
   "source": [
    "paintings_with_fine_grained_type_no = data.filter(\n",
    "    pl.col(\"first_fine_grained_type\").is_not_null()\n",
    "    | pl.col(\"second_fine_grained_type\").is_not_null()\n",
    ").shape[0]\n",
    "\n",
    "fine_grained_types = Counter(\n",
    "    type_\n",
    "    for type_ in data[\"first_fine_grained_type\"].to_list()\n",
    "    + data[\"second_fine_grained_type\"].to_list()\n",
    "    if type_ is not None\n",
    ")\n",
    "\n",
    "print(f\"Number of paintings with fine-grained type: {paintings_with_fine_grained_type_no}\")\n",
    "\n",
    "print(f\"The {len(fine_grained_types)} fine-grained types are:\")\n",
    "display(fine_grained_types)"
   ]
  },
  {
   "cell_type": "code",
   "execution_count": 12,
   "metadata": {},
   "outputs": [
    {
     "name": "stdout",
     "output_type": "stream",
     "text": [
      "Number of paintings with style: 4734\n",
      "The 32 styles are:\n"
     ]
    },
    {
     "data": {
      "text/plain": [
       "Counter({'baroque': 1153,\n",
       "         'mannerism (late renaissance)': 533,\n",
       "         'romanticism': 362,\n",
       "         'impressionism': 351,\n",
       "         'northern renaissance': 348,\n",
       "         'realism': 321,\n",
       "         'rococo': 288,\n",
       "         'high renaissance': 258,\n",
       "         'post-impressionism': 198,\n",
       "         'tenebrism': 148,\n",
       "         'expressionism': 139,\n",
       "         'neoclassicism': 136,\n",
       "         'early renaissance': 131,\n",
       "         'classicism': 105,\n",
       "         'surrealism': 54,\n",
       "         'symbolism': 53,\n",
       "         'naïve art (primitivism)': 50,\n",
       "         'art nouveau': 40,\n",
       "         'magic realism': 38,\n",
       "         'academicism': 37,\n",
       "         'neo-impressionism': 35,\n",
       "         'orientalism': 24,\n",
       "         'cloisonnism': 24,\n",
       "         'pop art': 22,\n",
       "         'neo-figurative art': 20,\n",
       "         'pointillism': 19,\n",
       "         'figurative expressionism': 18,\n",
       "         'regionalism': 17,\n",
       "         'fauvism': 13,\n",
       "         'divisionism': 12,\n",
       "         'neo-romanticism': 12,\n",
       "         'renaissance': 12})"
      ]
     },
     "metadata": {},
     "output_type": "display_data"
    }
   ],
   "source": [
    "paintings_with_style_no = data.filter(\n",
    "    pl.col(\"first_style\").is_not_null() | pl.col(\"second_style\").is_not_null()\n",
    ").shape[0]\n",
    "\n",
    "styles = Counter(\n",
    "    style_\n",
    "    for style_ in data[\"first_style\"].to_list() + data[\"second_style\"].to_list()\n",
    "    if style_ is not None\n",
    ")\n",
    "\n",
    "print(f\"Number of paintings with style: {paintings_with_style_no}\")\n",
    "print(f\"The {len(styles)} styles are:\")\n",
    "display(styles)"
   ]
  },
  {
   "cell_type": "markdown",
   "metadata": {},
   "source": [
    "### 4. Description length"
   ]
  },
  {
   "cell_type": "code",
   "execution_count": 13,
   "metadata": {},
   "outputs": [
    {
     "data": {
      "application/vnd.plotly.v1+json": {
       "config": {
        "plotlyServerURL": "https://plot.ly"
       },
       "data": [
        {
         "alignmentgroup": "True",
         "hovertemplate": "source=met<br>description word count=%{x}<extra></extra>",
         "legendgroup": "met",
         "marker": {
          "color": "#cd968e"
         },
         "name": "met",
         "notched": false,
         "offsetgroup": "met",
         "orientation": "h",
         "showlegend": true,
         "type": "box",
         "x": {
          "bdata": "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",
          "dtype": "i2"
         },
         "x0": " ",
         "xaxis": "x",
         "y0": " ",
         "yaxis": "y"
        },
        {
         "alignmentgroup": "True",
         "hovertemplate": "source=wikiart<br>description word count=%{x}<extra></extra>",
         "legendgroup": "wikiart",
         "marker": {
          "color": "#acb0e0"
         },
         "name": "wikiart",
         "notched": false,
         "offsetgroup": "wikiart",
         "orientation": "h",
         "showlegend": true,
         "type": "box",
         "x": {
          "bdata": "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",
          "dtype": "i2"
         },
         "x0": " ",
         "xaxis": "x",
         "y0": " ",
         "yaxis": "y"
        },
        {
         "alignmentgroup": "True",
         "hovertemplate": "source=wga<br>description word count=%{x}<extra></extra>",
         "legendgroup": "wga",
         "marker": {
          "color": "#aecbdc"
         },
         "name": "wga",
         "notched": false,
         "offsetgroup": "wga",
         "orientation": "h",
         "showlegend": true,
         "type": "box",
         "x": {
          "bdata": "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",
          "dtype": "i2"
         },
         "x0": " ",
         "xaxis": "x",
         "y0": " ",
         "yaxis": "y"
        }
       ],
       "layout": {
        "boxmode": "group",
        "legend": {
         "title": {
          "text": "source"
         },
         "tracegroupgap": 0
        },
        "template": {
         "data": {
          "bar": [
           {
            "error_x": {
             "color": "#2a3f5f"
            },
            "error_y": {
             "color": "#2a3f5f"
            },
            "marker": {
             "line": {
              "color": "#E5ECF6",
              "width": 0.5
             },
             "pattern": {
              "fillmode": "overlay",
              "size": 10,
              "solidity": 0.2
             }
            },
            "type": "bar"
           }
          ],
          "barpolar": [
           {
            "marker": {
             "line": {
              "color": "#E5ECF6",
              "width": 0.5
             },
             "pattern": {
              "fillmode": "overlay",
              "size": 10,
              "solidity": 0.2
             }
            },
            "type": "barpolar"
           }
          ],
          "carpet": [
           {
            "aaxis": {
             "endlinecolor": "#2a3f5f",
             "gridcolor": "white",
             "linecolor": "white",
             "minorgridcolor": "white",
             "startlinecolor": "#2a3f5f"
            },
            "baxis": {
             "endlinecolor": "#2a3f5f",
             "gridcolor": "white",
             "linecolor": "white",
             "minorgridcolor": "white",
             "startlinecolor": "#2a3f5f"
            },
            "type": "carpet"
           }
          ],
          "choropleth": [
           {
            "colorbar": {
             "outlinewidth": 0,
             "ticks": ""
            },
            "type": "choropleth"
           }
          ],
          "contour": [
           {
            "colorbar": {
             "outlinewidth": 0,
             "ticks": ""
            },
            "colorscale": [
             [
              0,
              "#0d0887"
             ],
             [
              0.1111111111111111,
              "#46039f"
             ],
             [
              0.2222222222222222,
              "#7201a8"
             ],
             [
              0.3333333333333333,
              "#9c179e"
             ],
             [
              0.4444444444444444,
              "#bd3786"
             ],
             [
              0.5555555555555556,
              "#d8576b"
             ],
             [
              0.6666666666666666,
              "#ed7953"
             ],
             [
              0.7777777777777778,
              "#fb9f3a"
             ],
             [
              0.8888888888888888,
              "#fdca26"
             ],
             [
              1,
              "#f0f921"
             ]
            ],
            "type": "contour"
           }
          ],
          "contourcarpet": [
           {
            "colorbar": {
             "outlinewidth": 0,
             "ticks": ""
            },
            "type": "contourcarpet"
           }
          ],
          "heatmap": [
           {
            "colorbar": {
             "outlinewidth": 0,
             "ticks": ""
            },
            "colorscale": [
             [
              0,
              "#0d0887"
             ],
             [
              0.1111111111111111,
              "#46039f"
             ],
             [
              0.2222222222222222,
              "#7201a8"
             ],
             [
              0.3333333333333333,
              "#9c179e"
             ],
             [
              0.4444444444444444,
              "#bd3786"
             ],
             [
              0.5555555555555556,
              "#d8576b"
             ],
             [
              0.6666666666666666,
              "#ed7953"
             ],
             [
              0.7777777777777778,
              "#fb9f3a"
             ],
             [
              0.8888888888888888,
              "#fdca26"
             ],
             [
              1,
              "#f0f921"
             ]
            ],
            "type": "heatmap"
           }
          ],
          "histogram": [
           {
            "marker": {
             "pattern": {
              "fillmode": "overlay",
              "size": 10,
              "solidity": 0.2
             }
            },
            "type": "histogram"
           }
          ],
          "histogram2d": [
           {
            "colorbar": {
             "outlinewidth": 0,
             "ticks": ""
            },
            "colorscale": [
             [
              0,
              "#0d0887"
             ],
             [
              0.1111111111111111,
              "#46039f"
             ],
             [
              0.2222222222222222,
              "#7201a8"
             ],
             [
              0.3333333333333333,
              "#9c179e"
             ],
             [
              0.4444444444444444,
              "#bd3786"
             ],
             [
              0.5555555555555556,
              "#d8576b"
             ],
             [
              0.6666666666666666,
              "#ed7953"
             ],
             [
              0.7777777777777778,
              "#fb9f3a"
             ],
             [
              0.8888888888888888,
              "#fdca26"
             ],
             [
              1,
              "#f0f921"
             ]
            ],
            "type": "histogram2d"
           }
          ],
          "histogram2dcontour": [
           {
            "colorbar": {
             "outlinewidth": 0,
             "ticks": ""
            },
            "colorscale": [
             [
              0,
              "#0d0887"
             ],
             [
              0.1111111111111111,
              "#46039f"
             ],
             [
              0.2222222222222222,
              "#7201a8"
             ],
             [
              0.3333333333333333,
              "#9c179e"
             ],
             [
              0.4444444444444444,
              "#bd3786"
             ],
             [
              0.5555555555555556,
              "#d8576b"
             ],
             [
              0.6666666666666666,
              "#ed7953"
             ],
             [
              0.7777777777777778,
              "#fb9f3a"
             ],
             [
              0.8888888888888888,
              "#fdca26"
             ],
             [
              1,
              "#f0f921"
             ]
            ],
            "type": "histogram2dcontour"
           }
          ],
          "mesh3d": [
           {
            "colorbar": {
             "outlinewidth": 0,
             "ticks": ""
            },
            "type": "mesh3d"
           }
          ],
          "parcoords": [
           {
            "line": {
             "colorbar": {
              "outlinewidth": 0,
              "ticks": ""
             }
            },
            "type": "parcoords"
           }
          ],
          "pie": [
           {
            "automargin": true,
            "type": "pie"
           }
          ],
          "scatter": [
           {
            "fillpattern": {
             "fillmode": "overlay",
             "size": 10,
             "solidity": 0.2
            },
            "type": "scatter"
           }
          ],
          "scatter3d": [
           {
            "line": {
             "colorbar": {
              "outlinewidth": 0,
              "ticks": ""
             }
            },
            "marker": {
             "colorbar": {
              "outlinewidth": 0,
              "ticks": ""
             }
            },
            "type": "scatter3d"
           }
          ],
          "scattercarpet": [
           {
            "marker": {
             "colorbar": {
              "outlinewidth": 0,
              "ticks": ""
             }
            },
            "type": "scattercarpet"
           }
          ],
          "scattergeo": [
           {
            "marker": {
             "colorbar": {
              "outlinewidth": 0,
              "ticks": ""
             }
            },
            "type": "scattergeo"
           }
          ],
          "scattergl": [
           {
            "marker": {
             "colorbar": {
              "outlinewidth": 0,
              "ticks": ""
             }
            },
            "type": "scattergl"
           }
          ],
          "scattermap": [
           {
            "marker": {
             "colorbar": {
              "outlinewidth": 0,
              "ticks": ""
             }
            },
            "type": "scattermap"
           }
          ],
          "scattermapbox": [
           {
            "marker": {
             "colorbar": {
              "outlinewidth": 0,
              "ticks": ""
             }
            },
            "type": "scattermapbox"
           }
          ],
          "scatterpolar": [
           {
            "marker": {
             "colorbar": {
              "outlinewidth": 0,
              "ticks": ""
             }
            },
            "type": "scatterpolar"
           }
          ],
          "scatterpolargl": [
           {
            "marker": {
             "colorbar": {
              "outlinewidth": 0,
              "ticks": ""
             }
            },
            "type": "scatterpolargl"
           }
          ],
          "scatterternary": [
           {
            "marker": {
             "colorbar": {
              "outlinewidth": 0,
              "ticks": ""
             }
            },
            "type": "scatterternary"
           }
          ],
          "surface": [
           {
            "colorbar": {
             "outlinewidth": 0,
             "ticks": ""
            },
            "colorscale": [
             [
              0,
              "#0d0887"
             ],
             [
              0.1111111111111111,
              "#46039f"
             ],
             [
              0.2222222222222222,
              "#7201a8"
             ],
             [
              0.3333333333333333,
              "#9c179e"
             ],
             [
              0.4444444444444444,
              "#bd3786"
             ],
             [
              0.5555555555555556,
              "#d8576b"
             ],
             [
              0.6666666666666666,
              "#ed7953"
             ],
             [
              0.7777777777777778,
              "#fb9f3a"
             ],
             [
              0.8888888888888888,
              "#fdca26"
             ],
             [
              1,
              "#f0f921"
             ]
            ],
            "type": "surface"
           }
          ],
          "table": [
           {
            "cells": {
             "fill": {
              "color": "#EBF0F8"
             },
             "line": {
              "color": "white"
             }
            },
            "header": {
             "fill": {
              "color": "#C8D4E3"
             },
             "line": {
              "color": "white"
             }
            },
            "type": "table"
           }
          ]
         },
         "layout": {
          "annotationdefaults": {
           "arrowcolor": "#2a3f5f",
           "arrowhead": 0,
           "arrowwidth": 1
          },
          "autotypenumbers": "strict",
          "coloraxis": {
           "colorbar": {
            "outlinewidth": 0,
            "ticks": ""
           }
          },
          "colorscale": {
           "diverging": [
            [
             0,
             "#8e0152"
            ],
            [
             0.1,
             "#c51b7d"
            ],
            [
             0.2,
             "#de77ae"
            ],
            [
             0.3,
             "#f1b6da"
            ],
            [
             0.4,
             "#fde0ef"
            ],
            [
             0.5,
             "#f7f7f7"
            ],
            [
             0.6,
             "#e6f5d0"
            ],
            [
             0.7,
             "#b8e186"
            ],
            [
             0.8,
             "#7fbc41"
            ],
            [
             0.9,
             "#4d9221"
            ],
            [
             1,
             "#276419"
            ]
           ],
           "sequential": [
            [
             0,
             "#0d0887"
            ],
            [
             0.1111111111111111,
             "#46039f"
            ],
            [
             0.2222222222222222,
             "#7201a8"
            ],
            [
             0.3333333333333333,
             "#9c179e"
            ],
            [
             0.4444444444444444,
             "#bd3786"
            ],
            [
             0.5555555555555556,
             "#d8576b"
            ],
            [
             0.6666666666666666,
             "#ed7953"
            ],
            [
             0.7777777777777778,
             "#fb9f3a"
            ],
            [
             0.8888888888888888,
             "#fdca26"
            ],
            [
             1,
             "#f0f921"
            ]
           ],
           "sequentialminus": [
            [
             0,
             "#0d0887"
            ],
            [
             0.1111111111111111,
             "#46039f"
            ],
            [
             0.2222222222222222,
             "#7201a8"
            ],
            [
             0.3333333333333333,
             "#9c179e"
            ],
            [
             0.4444444444444444,
             "#bd3786"
            ],
            [
             0.5555555555555556,
             "#d8576b"
            ],
            [
             0.6666666666666666,
             "#ed7953"
            ],
            [
             0.7777777777777778,
             "#fb9f3a"
            ],
            [
             0.8888888888888888,
             "#fdca26"
            ],
            [
             1,
             "#f0f921"
            ]
           ]
          },
          "colorway": [
           "#636efa",
           "#EF553B",
           "#00cc96",
           "#ab63fa",
           "#FFA15A",
           "#19d3f3",
           "#FF6692",
           "#B6E880",
           "#FF97FF",
           "#FECB52"
          ],
          "font": {
           "color": "#2a3f5f"
          },
          "geo": {
           "bgcolor": "white",
           "lakecolor": "white",
           "landcolor": "#E5ECF6",
           "showlakes": true,
           "showland": true,
           "subunitcolor": "white"
          },
          "hoverlabel": {
           "align": "left"
          },
          "hovermode": "closest",
          "mapbox": {
           "style": "light"
          },
          "paper_bgcolor": "white",
          "plot_bgcolor": "#E5ECF6",
          "polar": {
           "angularaxis": {
            "gridcolor": "white",
            "linecolor": "white",
            "ticks": ""
           },
           "bgcolor": "#E5ECF6",
           "radialaxis": {
            "gridcolor": "white",
            "linecolor": "white",
            "ticks": ""
           }
          },
          "scene": {
           "xaxis": {
            "backgroundcolor": "#E5ECF6",
            "gridcolor": "white",
            "gridwidth": 2,
            "linecolor": "white",
            "showbackground": true,
            "ticks": "",
            "zerolinecolor": "white"
           },
           "yaxis": {
            "backgroundcolor": "#E5ECF6",
            "gridcolor": "white",
            "gridwidth": 2,
            "linecolor": "white",
            "showbackground": true,
            "ticks": "",
            "zerolinecolor": "white"
           },
           "zaxis": {
            "backgroundcolor": "#E5ECF6",
            "gridcolor": "white",
            "gridwidth": 2,
            "linecolor": "white",
            "showbackground": true,
            "ticks": "",
            "zerolinecolor": "white"
           }
          },
          "shapedefaults": {
           "line": {
            "color": "#2a3f5f"
           }
          },
          "ternary": {
           "aaxis": {
            "gridcolor": "white",
            "linecolor": "white",
            "ticks": ""
           },
           "baxis": {
            "gridcolor": "white",
            "linecolor": "white",
            "ticks": ""
           },
           "bgcolor": "#E5ECF6",
           "caxis": {
            "gridcolor": "white",
            "linecolor": "white",
            "ticks": ""
           }
          },
          "title": {
           "x": 0.05
          },
          "xaxis": {
           "automargin": true,
           "gridcolor": "white",
           "linecolor": "white",
           "ticks": "",
           "title": {
            "standoff": 15
           },
           "zerolinecolor": "white",
           "zerolinewidth": 2
          },
          "yaxis": {
           "automargin": true,
           "gridcolor": "white",
           "linecolor": "white",
           "ticks": "",
           "title": {
            "standoff": 15
           },
           "zerolinecolor": "white",
           "zerolinewidth": 2
          }
         }
        },
        "title": {
         "text": "Description Word Count"
        },
        "xaxis": {
         "anchor": "y",
         "domain": [
          0,
          1
         ],
         "title": {
          "text": "number of words"
         }
        },
        "yaxis": {
         "anchor": "x",
         "domain": [
          0,
          1
         ]
        }
       }
      }
     },
     "metadata": {},
     "output_type": "display_data"
    }
   ],
   "source": [
    "data_description_word_count = data.with_columns(\n",
    "    pl.col(\"description\")\n",
    "    .map_elements(lambda x: len(x.split(\" \")), return_dtype=pl.Int64)\n",
    "    .alias(\"description word count\")\n",
    ")\n",
    "\n",
    "fig = px.box(\n",
    "    data_description_word_count,\n",
    "    x=\"description word count\",\n",
    "    title=\"Description Word Count\",\n",
    "    color_discrete_sequence=COLORS[0:3],\n",
    "    color=\"source\"\n",
    ")\n",
    "fig.update_xaxes(title_text=\"number of words\")\n",
    "fig.show()"
   ]
  },
  {
   "cell_type": "code",
   "execution_count": 14,
   "metadata": {},
   "outputs": [
    {
     "name": "stdout",
     "output_type": "stream",
     "text": [
      "shortest:\n",
      "Mastelletta's grand, open-air fêtes champêtres, combining landscape and slender, silhouette-like figures, depicted through a simplified, expressionistic design, lie at the root of his fame and originality.\n",
      "\n",
      "medium:\n",
      "In the 17th century the painting was attributed to Giorgione, and later for a long time to Palma Vecchio. However, recently it was given to Tiziano.\n",
      "The Bravo, so called because of the mysterious armed man with his back to us, falls into Titian's Giorgionesque phase and demonstrates an undercurrent of cruelty. The subject has been convincingly identified as the arrest of Bacchus by Pentheus, King of Thebes, who opposed the Bacchic cult. Bacchus' revenge was dire, and Pentheus was torn to pieces by his mother and sisters.\n",
      "\n",
      "long:\n",
      "Considered a rare oddity by contemporaries, this painting by \"three hands\" (Morazzone, Giovan Battista Crespi and Giulio Cesare Procaccini) recalls the competitions that were common in the fourteenth and fifteenth centuries, in which painters vied to outdo one another in rendering the same subject. Here, however, the three artists collaborated on a single picture. Similar outlooks and experiences created a common bond, a sort of \"family resemblance\" among the three, so that stylistically the painting has unity, despite variations and differences.\n",
      "The compositional structure of the work, probably conceived by Morazzone, pivots the central figure of the executioner. On the left there is Cerano's flashingly lighted horse and rider, the horse sumptuously dappled in black and white, vaguely recalling Van Dyck. Cerano's typical spiraling forms are seen in the cupid with the dog and the decapitated saint. In his broken line and repeating contours, as well as in the \"marbled\" effect not only of the drapery but also of the flesh, he shows unmistakably greater maturity and feeling than is to be found in Morazzone's warm theatricality or in Procaccini's softly pleasing effects.\n",
      "In the centre, Morazzone's executioner, with his tensely elongated trunk and arms, recalls similar figures by the artist in the seventh chapel at the Sacro Monte, Varese. Also attributable to Morazzone is the angel bearing the palm of martyrdom, disposed along a diagonal paralleling the executioner's arm, and the luminous freely rendered heads in the background. Procaccini was responsible for the figure of the saint, languidly waiting for the blow to fall, and the attendant angel who comforts her and points to heaven.\n"
     ]
    }
   ],
   "source": [
    "description_lengths = [\"shortest:\\n\", \"\\nmedium:\\n\", \"\\nlong:\\n\"]\n",
    "\n",
    "for index, description_index in enumerate([0, 5000, 10000]):\n",
    "    description = data_description_word_count.sort(\"description word count\")[\"description\"][\n",
    "        description_index\n",
    "    ]\n",
    "\n",
    "    print(f\"{description_lengths[index]}{description}\")"
   ]
  }
 ],
 "metadata": {
  "kernelspec": {
   "display_name": "enhance_vg",
   "language": "python",
   "name": "python3"
  },
  "language_info": {
   "codemirror_mode": {
    "name": "ipython",
    "version": 3
   },
   "file_extension": ".py",
   "mimetype": "text/x-python",
   "name": "python",
   "nbconvert_exporter": "python",
   "pygments_lexer": "ipython3",
   "version": "3.12.3"
  }
 },
 "nbformat": 4,
 "nbformat_minor": 2
}
