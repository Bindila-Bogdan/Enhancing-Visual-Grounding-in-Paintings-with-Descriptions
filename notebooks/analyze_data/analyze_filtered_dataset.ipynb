{
 "cells": [
  {
   "cell_type": "markdown",
   "metadata": {},
   "source": [
    "# Analyze the filtered dataset\n",
    "This notebook analyzes each feature of the dataset and is leveraged to understand which type of paintings are under-represented."
   ]
  },
  {
   "cell_type": "markdown",
   "metadata": {},
   "source": [
    "### 0. Import libraries and load data"
   ]
  },
  {
   "cell_type": "code",
   "execution_count": 1,
   "metadata": {},
   "outputs": [],
   "source": [
    "import polars as pl\n",
    "import plotly.express as px\n",
    "from collections import Counter\n",
    "\n",
    "INTERMEDIATE_DATA_PATH = \"../../data/intermediate/\"\n",
    "COLORS = [\"#cd968e\", \"#acb0e0\", \"#aecbdc\", \"#bcd5c3\", \"#bfbfbf\"]"
   ]
  },
  {
   "cell_type": "code",
   "execution_count": null,
   "metadata": {},
   "outputs": [
    {
     "data": {
      "text/html": [
       "<div><style>\n",
       ".dataframe > thead > tr,\n",
       ".dataframe > tbody > tr {\n",
       "  text-align: right;\n",
       "  white-space: pre-wrap;\n",
       "}\n",
       "</style>\n",
       "<small>shape: (12_078, 11)</small><table border=\"1\" class=\"dataframe\"><thead><tr><th>id</th><th>title</th><th>artist</th><th>year</th><th>coarse_type</th><th>first_fine_grained_type</th><th>second_fine_grained_type</th><th>first_style</th><th>second_style</th><th>description</th><th>source</th></tr><tr><td>i64</td><td>str</td><td>str</td><td>i64</td><td>str</td><td>str</td><td>str</td><td>str</td><td>str</td><td>str</td><td>str</td></tr></thead><tbody><tr><td>0</td><td>&quot;Flora and Zephyr&quot;</td><td>&quot;Jacopo Amigoni&quot;</td><td>1739</td><td>&quot;mythological&quot;</td><td>null</td><td>null</td><td>null</td><td>null</td><td>&quot;The composition celebrates the…</td><td>&quot;met&quot;</td></tr><tr><td>1</td><td>&quot;Saint Alexander&quot;</td><td>&quot;Fra Angelico (Guido di Pietro)&quot;</td><td>1430</td><td>null</td><td>null</td><td>null</td><td>null</td><td>null</td><td>&quot;This early work by Fra Angelic…</td><td>&quot;met&quot;</td></tr><tr><td>2</td><td>&quot;The Crucifixion&quot;</td><td>&quot;Fra Angelico (Guido di Pietro)&quot;</td><td>1445</td><td>&quot;religious&quot;</td><td>&quot;religious&quot;</td><td>null</td><td>&quot;early renaissance&quot;</td><td>null</td><td>&quot;To the left of the Crucifixion…</td><td>&quot;met&quot;</td></tr><tr><td>3</td><td>&quot;The Nativity&quot;</td><td>&quot;Zanobi Strozzi&quot;</td><td>1434</td><td>null</td><td>null</td><td>null</td><td>null</td><td>null</td><td>&quot;Although long ascribed to Fra …</td><td>&quot;met&quot;</td></tr><tr><td>4</td><td>&quot;Christ Crowned with Thorns&quot;</td><td>&quot;Antonello da Messina (Antonell…</td><td>1479</td><td>null</td><td>&quot;religious&quot;</td><td>null</td><td>&quot;early renaissance&quot;</td><td>null</td><td>&quot;An artist of astonishing origi…</td><td>&quot;met&quot;</td></tr><tr><td>&hellip;</td><td>&hellip;</td><td>&hellip;</td><td>&hellip;</td><td>&hellip;</td><td>&hellip;</td><td>&hellip;</td><td>&hellip;</td><td>&hellip;</td><td>&hellip;</td><td>&hellip;</td></tr><tr><td>12073</td><td>&quot;The Giudecca, Venice&quot;</td><td>&quot;ROBERTS, David&quot;</td><td>1854</td><td>&quot;landscape&quot;</td><td>null</td><td>null</td><td>null</td><td>null</td><td>&quot;David Roberts was a great trav…</td><td>&quot;wga&quot;</td></tr><tr><td>12074</td><td>&quot;Herdsmen and Herds at a Waterf…</td><td>&quot;BERCHEM, Nicolaes&quot;</td><td>1665</td><td>&quot;landscape&quot;</td><td>null</td><td>null</td><td>null</td><td>null</td><td>&quot;The landscape Herdsmen and Her…</td><td>&quot;wga&quot;</td></tr><tr><td>12075</td><td>&quot;The Madonna of Foligno&quot;</td><td>&quot;RAFFAELLO Sanzio&quot;</td><td>1511</td><td>&quot;religious&quot;</td><td>null</td><td>null</td><td>null</td><td>null</td><td>&quot;The painting was executed for …</td><td>&quot;wga&quot;</td></tr><tr><td>12076</td><td>&quot;The Second of May, 1808: The C…</td><td>&quot;GOYA Y LUCIENTES, Francisco de&quot;</td><td>1814</td><td>&quot;history&quot;</td><td>&quot;battle&quot;</td><td>null</td><td>&quot;romanticism&quot;</td><td>null</td><td>&quot;After the expulsion of the Nap…</td><td>&quot;wga&quot;</td></tr><tr><td>12077</td><td>&quot;Blossoming Almond Branch in a …</td><td>&quot;GOGH, Vincent van&quot;</td><td>1888</td><td>&quot;still life&quot;</td><td>&quot;flower&quot;</td><td>null</td><td>&quot;post-impressionism&quot;</td><td>null</td><td>&quot;Catalogue numbers: F 392, JH 1…</td><td>&quot;wga&quot;</td></tr></tbody></table></div>"
      ],
      "text/plain": [
       "shape: (12_078, 11)\n",
       "┌───────┬──────────────┬─────────────┬──────┬───┬─────────────┬─────────────┬─────────────┬────────┐\n",
       "│ id    ┆ title        ┆ artist      ┆ year ┆ … ┆ first_style ┆ second_styl ┆ description ┆ source │\n",
       "│ ---   ┆ ---          ┆ ---         ┆ ---  ┆   ┆ ---         ┆ e           ┆ ---         ┆ ---    │\n",
       "│ i64   ┆ str          ┆ str         ┆ i64  ┆   ┆ str         ┆ ---         ┆ str         ┆ str    │\n",
       "│       ┆              ┆             ┆      ┆   ┆             ┆ str         ┆             ┆        │\n",
       "╞═══════╪══════════════╪═════════════╪══════╪═══╪═════════════╪═════════════╪═════════════╪════════╡\n",
       "│ 0     ┆ Flora and    ┆ Jacopo      ┆ 1739 ┆ … ┆ null        ┆ null        ┆ The         ┆ met    │\n",
       "│       ┆ Zephyr       ┆ Amigoni     ┆      ┆   ┆             ┆             ┆ composition ┆        │\n",
       "│       ┆              ┆             ┆      ┆   ┆             ┆             ┆ celebrates  ┆        │\n",
       "│       ┆              ┆             ┆      ┆   ┆             ┆             ┆ the…        ┆        │\n",
       "│ 1     ┆ Saint        ┆ Fra         ┆ 1430 ┆ … ┆ null        ┆ null        ┆ This early  ┆ met    │\n",
       "│       ┆ Alexander    ┆ Angelico    ┆      ┆   ┆             ┆             ┆ work by Fra ┆        │\n",
       "│       ┆              ┆ (Guido di   ┆      ┆   ┆             ┆             ┆ Angelic…    ┆        │\n",
       "│       ┆              ┆ Pietro)     ┆      ┆   ┆             ┆             ┆             ┆        │\n",
       "│ 2     ┆ The          ┆ Fra         ┆ 1445 ┆ … ┆ early       ┆ null        ┆ To the left ┆ met    │\n",
       "│       ┆ Crucifixion  ┆ Angelico    ┆      ┆   ┆ renaissance ┆             ┆ of the Cruc ┆        │\n",
       "│       ┆              ┆ (Guido di   ┆      ┆   ┆             ┆             ┆ ifixion…    ┆        │\n",
       "│       ┆              ┆ Pietro)     ┆      ┆   ┆             ┆             ┆             ┆        │\n",
       "│ 3     ┆ The Nativity ┆ Zanobi      ┆ 1434 ┆ … ┆ null        ┆ null        ┆ Although    ┆ met    │\n",
       "│       ┆              ┆ Strozzi     ┆      ┆   ┆             ┆             ┆ long        ┆        │\n",
       "│       ┆              ┆             ┆      ┆   ┆             ┆             ┆ ascribed to ┆        │\n",
       "│       ┆              ┆             ┆      ┆   ┆             ┆             ┆ Fra …       ┆        │\n",
       "│ 4     ┆ Christ       ┆ Antonello   ┆ 1479 ┆ … ┆ early       ┆ null        ┆ An artist   ┆ met    │\n",
       "│       ┆ Crowned with ┆ da Messina  ┆      ┆   ┆ renaissance ┆             ┆ of          ┆        │\n",
       "│       ┆ Thorns       ┆ (Antonell…  ┆      ┆   ┆             ┆             ┆ astonishing ┆        │\n",
       "│       ┆              ┆             ┆      ┆   ┆             ┆             ┆ origi…      ┆        │\n",
       "│ …     ┆ …            ┆ …           ┆ …    ┆ … ┆ …           ┆ …           ┆ …           ┆ …      │\n",
       "│ 12073 ┆ The          ┆ ROBERTS,    ┆ 1854 ┆ … ┆ null        ┆ null        ┆ David       ┆ wga    │\n",
       "│       ┆ Giudecca,    ┆ David       ┆      ┆   ┆             ┆             ┆ Roberts was ┆        │\n",
       "│       ┆ Venice       ┆             ┆      ┆   ┆             ┆             ┆ a great     ┆        │\n",
       "│       ┆              ┆             ┆      ┆   ┆             ┆             ┆ trav…       ┆        │\n",
       "│ 12074 ┆ Herdsmen and ┆ BERCHEM,    ┆ 1665 ┆ … ┆ null        ┆ null        ┆ The         ┆ wga    │\n",
       "│       ┆ Herds at a   ┆ Nicolaes    ┆      ┆   ┆             ┆             ┆ landscape   ┆        │\n",
       "│       ┆ Waterf…      ┆             ┆      ┆   ┆             ┆             ┆ Herdsmen    ┆        │\n",
       "│       ┆              ┆             ┆      ┆   ┆             ┆             ┆ and Her…    ┆        │\n",
       "│ 12075 ┆ The Madonna  ┆ RAFFAELLO   ┆ 1511 ┆ … ┆ null        ┆ null        ┆ The         ┆ wga    │\n",
       "│       ┆ of Foligno   ┆ Sanzio      ┆      ┆   ┆             ┆             ┆ painting    ┆        │\n",
       "│       ┆              ┆             ┆      ┆   ┆             ┆             ┆ was         ┆        │\n",
       "│       ┆              ┆             ┆      ┆   ┆             ┆             ┆ executed    ┆        │\n",
       "│       ┆              ┆             ┆      ┆   ┆             ┆             ┆ for …       ┆        │\n",
       "│ 12076 ┆ The Second   ┆ GOYA Y      ┆ 1814 ┆ … ┆ romanticism ┆ null        ┆ After the   ┆ wga    │\n",
       "│       ┆ of May,      ┆ LUCIENTES,  ┆      ┆   ┆             ┆             ┆ expulsion   ┆        │\n",
       "│       ┆ 1808: The C… ┆ Francisco   ┆      ┆   ┆             ┆             ┆ of the Nap… ┆        │\n",
       "│       ┆              ┆ de          ┆      ┆   ┆             ┆             ┆             ┆        │\n",
       "│ 12077 ┆ Blossoming   ┆ GOGH,       ┆ 1888 ┆ … ┆ post-impres ┆ null        ┆ Catalogue   ┆ wga    │\n",
       "│       ┆ Almond       ┆ Vincent van ┆      ┆   ┆ sionism     ┆             ┆ numbers: F  ┆        │\n",
       "│       ┆ Branch in a  ┆             ┆      ┆   ┆             ┆             ┆ 392, JH 1…  ┆        │\n",
       "│       ┆ …            ┆             ┆      ┆   ┆             ┆             ┆             ┆        │\n",
       "└───────┴──────────────┴─────────────┴──────┴───┴─────────────┴─────────────┴─────────────┴────────┘"
      ]
     },
     "execution_count": 2,
     "metadata": {},
     "output_type": "execute_result"
    }
   ],
   "source": [
    "data = pl.read_json(\n",
    "    f\"{INTERMEDIATE_DATA_PATH}filtered_paintings/filtered_paintings_enhanced_data.json\"\n",
    ")\n",
    "\n",
    "data"
   ]
  },
  {
   "cell_type": "markdown",
   "metadata": {},
   "source": [
    "### 1. Artists"
   ]
  },
  {
   "cell_type": "code",
   "execution_count": 3,
   "metadata": {},
   "outputs": [
    {
     "name": "stdout",
     "output_type": "stream",
     "text": [
      "Number of artists: 3112\n"
     ]
    },
    {
     "data": {
      "application/vnd.plotly.v1+json": {
       "config": {
        "plotlyServerURL": "https://plot.ly"
       },
       "data": [
        {
         "bingroup": "x",
         "hovertemplate": "frequency=%{x}<br>count=%{y}<extra></extra>",
         "legendgroup": "",
         "marker": {
          "color": "#aecbdc",
          "pattern": {
           "shape": ""
          }
         },
         "name": "",
         "orientation": "v",
         "showlegend": false,
         "type": "histogram",
         "x": {
          "bdata": "AQAAAAEAAAABAAAAAQAAAAEAAAABAAAAAQAAAAEAAAABAAAAAQAAAAEAAAABAAAAAQAAAAEAAAABAAAAAQAAAAEAAAABAAAAAQAAAAEAAAABAAAAAQAAAAEAAAABAAAAAQAAAAEAAAABAAAAAQAAAAEAAAABAAAAAQAAAAEAAAABAAAAAQAAAAEAAAABAAAAAQAAAAEAAAABAAAAAQAAAAEAAAABAAAAAQAAAAEAAAABAAAAAQAAAAEAAAABAAAAAQAAAAEAAAABAAAAAQAAAAEAAAABAAAAAQAAAAEAAAABAAAAAQAAAAEAAAABAAAAAQAAAAEAAAABAAAAAQAAAAEAAAABAAAAAQAAAAEAAAABAAAAAQAAAAEAAAABAAAAAQAAAAEAAAABAAAAAQAAAAEAAAABAAAAAQAAAAEAAAABAAAAAQAAAAEAAAABAAAAAQAAAAEAAAABAAAAAQAAAAEAAAABAAAAAQAAAAEAAAABAAAAAQAAAAEAAAABAAAAAQAAAAEAAAABAAAAAQAAAAEAAAABAAAAAQAAAAEAAAABAAAAAQAAAAEAAAABAAAAAQAAAAEAAAABAAAAAQAAAAEAAAABAAAAAQAAAAEAAAABAAAAAQAAAAEAAAABAAAAAQAAAAEAAAABAAAAAQAAAAEAAAABAAAAAQAAAAEAAAABAAAAAQAAAAEAAAABAAAAAQAAAAEAAAABAAAAAQAAAAEAAAABAAAAAQAAAAEAAAABAAAAAQAAAAEAAAABAAAAAQAAAAEAAAABAAAAAQAAAAEAAAABAAAAAQAAAAEAAAABAAAAAQAAAAEAAAABAAAAAQAAAAEAAAABAAAAAQAAAAEAAAABAAAAAQAAAAEAAAABAAAAAQAAAAEAAAABAAAAAQAAAAEAAAABAAAAAQAAAAEAAAABAAAAAQAAAAEAAAABAAAAAQAAAAEAAAABAAAAAQAAAAEAAAABAAAAAQAAAAEAAAABAAAAAQAAAAEAAAABAAAAAQAAAAEAAAABAAAAAQAAAAEAAAABAAAAAQAAAAEAAAABAAAAAQAAAAEAAAABAAAAAQAAAAEAAAABAAAAAQAAAAEAAAABAAAAAQAAAAEAAAABAAAAAQAAAAEAAAABAAAAAQAAAAEAAAABAAAAAQAAAAEAAAABAAAAAQAAAAEAAAABAAAAAQAAAAEAAAABAAAAAQAAAAEAAAABAAAAAQAAAAEAAAABAAAAAQAAAAEAAAABAAAAAQAAAAEAAAABAAAAAQAAAAEAAAABAAAAAQAAAAEAAAABAAAAAQAAAAEAAAABAAAAAQAAAAEAAAABAAAAAQAAAAEAAAABAAAAAQAAAAEAAAABAAAAAQAAAAEAAAABAAAAAQAAAAEAAAABAAAAAQAAAAEAAAABAAAAAQAAAAEAAAABAAAAAQAAAAEAAAABAAAAAQAAAAEAAAABAAAAAQAAAAEAAAABAAAAAQAAAAEAAAABAAAAAQAAAAEAAAABAAAAAQAAAAEAAAABAAAAAQAAAAEAAAABAAAAAQAAAAEAAAABAAAAAQAAAAEAAAABAAAAAQAAAAEAAAABAAAAAQAAAAEAAAABAAAAAQAAAAEAAAABAAAAAQAAAAEAAAABAAAAAQAAAAEAAAABAAAAAQAAAAEAAAABAAAAAQAAAAEAAAABAAAAAQAAAAEAAAABAAAAAQAAAAEAAAABAAAAAQAAAAEAAAABAAAAAQAAAAEAAAABAAAAAQAAAAEAAAABAAAAAQAAAAEAAAABAAAAAQAAAAEAAAABAAAAAQAAAAEAAAABAAAAAQAAAAEAAAABAAAAAQAAAAEAAAABAAAAAQAAAAEAAAABAAAAAQAAAAEAAAABAAAAAQAAAAEAAAABAAAAAQAAAAEAAAABAAAAAQAAAAEAAAABAAAAAQAAAAEAAAABAAAAAQAAAAEAAAABAAAAAQAAAAEAAAABAAAAAQAAAAEAAAABAAAAAQAAAAEAAAABAAAAAQAAAAEAAAABAAAAAQAAAAEAAAABAAAAAQAAAAEAAAABAAAAAQAAAAEAAAABAAAAAQAAAAEAAAABAAAAAQAAAAEAAAABAAAAAQAAAAEAAAABAAAAAQAAAAEAAAABAAAAAQAAAAEAAAABAAAAAQAAAAEAAAABAAAAAQAAAAEAAAABAAAAAQAAAAEAAAABAAAAAQAAAAEAAAABAAAAAQAAAAEAAAABAAAAAQAAAAEAAAABAAAAAQAAAAEAAAABAAAAAQAAAAEAAAABAAAAAQAAAAEAAAABAAAAAQAAAAEAAAABAAAAAQAAAAEAAAABAAAAAQAAAAEAAAABAAAAAQAAAAEAAAABAAAAAQAAAAEAAAABAAAAAQAAAAEAAAABAAAAAQAAAAEAAAABAAAAAQAAAAEAAAABAAAAAQAAAAEAAAABAAAAAQAAAAEAAAABAAAAAQAAAAEAAAABAAAAAQAAAAEAAAABAAAAAQAAAAEAAAABAAAAAQAAAAEAAAABAAAAAQAAAAEAAAABAAAAAQAAAAEAAAABAAAAAQAAAAEAAAABAAAAAQAAAAEAAAABAAAAAQAAAAEAAAABAAAAAQAAAAEAAAABAAAAAQAAAAEAAAABAAAAAQAAAAEAAAABAAAAAQAAAAEAAAABAAAAAQAAAAEAAAABAAAAAQAAAAEAAAABAAAAAQAAAAEAAAABAAAAAQAAAAEAAAABAAAAAQAAAAEAAAABAAAAAQAAAAEAAAABAAAAAQAAAAEAAAABAAAAAQAAAAEAAAABAAAAAQAAAAEAAAABAAAAAQAAAAEAAAABAAAAAQAAAAEAAAABAAAAAQAAAAEAAAABAAAAAQAAAAEAAAABAAAAAQAAAAEAAAABAAAAAQAAAAEAAAABAAAAAQAAAAEAAAABAAAAAQAAAAEAAAABAAAAAQAAAAEAAAABAAAAAQAAAAEAAAABAAAAAQAAAAEAAAABAAAAAQAAAAEAAAABAAAAAQAAAAEAAAABAAAAAQAAAAEAAAABAAAAAQAAAAEAAAABAAAAAQAAAAEAAAABAAAAAQAAAAEAAAABAAAAAQAAAAEAAAABAAAAAQAAAAEAAAABAAAAAQAAAAEAAAABAAAAAQAAAAEAAAABAAAAAQAAAAEAAAABAAAAAQAAAAEAAAABAAAAAQAAAAEAAAABAAAAAQAAAAEAAAABAAAAAQAAAAEAAAABAAAAAQAAAAEAAAABAAAAAQAAAAEAAAABAAAAAQAAAAEAAAABAAAAAQAAAAEAAAABAAAAAQAAAAEAAAABAAAAAQAAAAEAAAABAAAAAQAAAAEAAAABAAAAAQAAAAEAAAABAAAAAQAAAAEAAAABAAAAAQAAAAEAAAABAAAAAQAAAAEAAAABAAAAAQAAAAEAAAABAAAAAQAAAAEAAAABAAAAAQAAAAEAAAABAAAAAQAAAAEAAAABAAAAAQAAAAEAAAABAAAAAQAAAAEAAAABAAAAAQAAAAEAAAABAAAAAQAAAAEAAAABAAAAAQAAAAEAAAABAAAAAQAAAAEAAAABAAAAAQAAAAEAAAABAAAAAQAAAAEAAAABAAAAAQAAAAEAAAABAAAAAQAAAAEAAAABAAAAAQAAAAEAAAABAAAAAQAAAAEAAAABAAAAAQAAAAEAAAABAAAAAQAAAAEAAAABAAAAAQAAAAEAAAABAAAAAQAAAAEAAAABAAAAAQAAAAEAAAABAAAAAQAAAAEAAAABAAAAAQAAAAEAAAABAAAAAQAAAAEAAAABAAAAAQAAAAEAAAABAAAAAQAAAAEAAAABAAAAAQAAAAEAAAABAAAAAQAAAAEAAAABAAAAAQAAAAEAAAABAAAAAQAAAAEAAAABAAAAAQAAAAEAAAABAAAAAQAAAAEAAAABAAAAAQAAAAEAAAABAAAAAQAAAAEAAAABAAAAAQAAAAEAAAABAAAAAQAAAAEAAAABAAAAAQAAAAEAAAABAAAAAQAAAAEAAAABAAAAAQAAAAEAAAABAAAAAQAAAAEAAAABAAAAAQAAAAEAAAABAAAAAQAAAAEAAAABAAAAAQAAAAEAAAABAAAAAQAAAAEAAAABAAAAAQAAAAEAAAABAAAAAQAAAAEAAAABAAAAAQAAAAEAAAABAAAAAQAAAAEAAAABAAAAAQAAAAEAAAABAAAAAQAAAAEAAAABAAAAAQAAAAEAAAABAAAAAQAAAAEAAAABAAAAAQAAAAEAAAABAAAAAQAAAAEAAAABAAAAAQAAAAEAAAABAAAAAQAAAAEAAAABAAAAAQAAAAEAAAABAAAAAQAAAAEAAAABAAAAAQAAAAEAAAABAAAAAQAAAAEAAAABAAAAAQAAAAEAAAABAAAAAQAAAAEAAAABAAAAAQAAAAEAAAABAAAAAQAAAAEAAAABAAAAAQAAAAEAAAABAAAAAQAAAAEAAAABAAAAAQAAAAEAAAABAAAAAQAAAAEAAAABAAAAAQAAAAEAAAABAAAAAQAAAAEAAAABAAAAAQAAAAEAAAABAAAAAQAAAAEAAAABAAAAAQAAAAEAAAABAAAAAQAAAAEAAAABAAAAAQAAAAEAAAABAAAAAQAAAAEAAAABAAAAAQAAAAEAAAABAAAAAQAAAAEAAAABAAAAAQAAAAEAAAABAAAAAQAAAAEAAAABAAAAAQAAAAEAAAABAAAAAQAAAAEAAAABAAAAAQAAAAEAAAABAAAAAQAAAAEAAAABAAAAAQAAAAEAAAABAAAAAQAAAAEAAAABAAAAAQAAAAEAAAABAAAAAQAAAAEAAAABAAAAAQAAAAEAAAABAAAAAQAAAAEAAAABAAAAAQAAAAEAAAABAAAAAQAAAAEAAAABAAAAAQAAAAEAAAABAAAAAQAAAAEAAAABAAAAAQAAAAEAAAABAAAAAQAAAAEAAAABAAAAAQAAAAEAAAABAAAAAQAAAAEAAAABAAAAAQAAAAEAAAABAAAAAQAAAAEAAAABAAAAAQAAAAEAAAABAAAAAQAAAAEAAAABAAAAAQAAAAEAAAABAAAAAQAAAAEAAAABAAAAAQAAAAEAAAABAAAAAQAAAAEAAAABAAAAAQAAAAEAAAABAAAAAQAAAAEAAAABAAAAAQAAAAEAAAABAAAAAQAAAAEAAAABAAAAAQAAAAEAAAABAAAAAQAAAAEAAAABAAAAAQAAAAEAAAABAAAAAQAAAAEAAAABAAAAAQAAAAEAAAABAAAAAQAAAAEAAAABAAAAAQAAAAEAAAABAAAAAQAAAAEAAAABAAAAAQAAAAEAAAABAAAAAQAAAAEAAAABAAAAAQAAAAEAAAABAAAAAQAAAAEAAAABAAAAAQAAAAEAAAABAAAAAQAAAAEAAAABAAAAAQAAAAEAAAABAAAAAQAAAAEAAAABAAAAAQAAAAEAAAABAAAAAQAAAAEAAAABAAAAAQAAAAEAAAABAAAAAQAAAAEAAAABAAAAAQAAAAEAAAABAAAAAQAAAAEAAAABAAAAAQAAAAEAAAABAAAAAQAAAAEAAAABAAAAAQAAAAEAAAABAAAAAQAAAAEAAAABAAAAAQAAAAEAAAABAAAAAQAAAAEAAAABAAAAAQAAAAEAAAABAAAAAQAAAAEAAAABAAAAAQAAAAEAAAABAAAAAQAAAAEAAAABAAAAAQAAAAEAAAABAAAAAQAAAAEAAAABAAAAAQAAAAEAAAABAAAAAQAAAAEAAAABAAAAAQAAAAEAAAABAAAAAQAAAAEAAAABAAAAAQAAAAEAAAABAAAAAQAAAAEAAAABAAAAAQAAAAEAAAABAAAAAQAAAAEAAAABAAAAAQAAAAEAAAABAAAAAQAAAAEAAAABAAAAAQAAAAEAAAABAAAAAQAAAAEAAAABAAAAAQAAAAEAAAABAAAAAQAAAAEAAAABAAAAAQAAAAEAAAABAAAAAQAAAAEAAAABAAAAAQAAAAEAAAABAAAAAQAAAAEAAAABAAAAAQAAAAEAAAABAAAAAQAAAAEAAAABAAAAAQAAAAEAAAABAAAAAQAAAAEAAAABAAAAAQAAAAEAAAABAAAAAQAAAAEAAAABAAAAAQAAAAEAAAABAAAAAQAAAAEAAAABAAAAAQAAAAEAAAABAAAAAQAAAAEAAAABAAAAAQAAAAEAAAABAAAAAQAAAAEAAAABAAAAAQAAAAEAAAABAAAAAQAAAAEAAAABAAAAAQAAAAEAAAABAAAAAQAAAAEAAAABAAAAAQAAAAEAAAABAAAAAQAAAAEAAAABAAAAAQAAAAEAAAABAAAAAQAAAAEAAAABAAAAAQAAAAEAAAABAAAAAQAAAAEAAAABAAAAAQAAAAEAAAABAAAAAQAAAAEAAAABAAAAAQAAAAEAAAABAAAAAQAAAAEAAAABAAAAAQAAAAEAAAABAAAAAQAAAAEAAAABAAAAAQAAAAEAAAABAAAAAQAAAAEAAAABAAAAAQAAAAEAAAABAAAAAQAAAAEAAAABAAAAAQAAAAEAAAABAAAAAQAAAAEAAAABAAAAAQAAAAEAAAABAAAAAQAAAAEAAAABAAAAAQAAAAEAAAABAAAAAQAAAAEAAAABAAAAAQAAAAEAAAABAAAAAQAAAAEAAAABAAAAAQAAAAEAAAABAAAAAQAAAAEAAAABAAAAAQAAAAEAAAABAAAAAQAAAAEAAAABAAAAAQAAAAEAAAABAAAAAQAAAAEAAAABAAAAAQAAAAEAAAABAAAAAQAAAAEAAAABAAAAAQAAAAEAAAABAAAAAQAAAAEAAAABAAAAAQAAAAEAAAABAAAAAQAAAAEAAAABAAAAAQAAAAEAAAABAAAAAQAAAAEAAAABAAAAAQAAAAEAAAABAAAAAQAAAAEAAAABAAAAAQAAAAEAAAABAAAAAQAAAAEAAAABAAAAAQAAAAEAAAABAAAAAQAAAAEAAAABAAAAAQAAAAEAAAABAAAAAQAAAAEAAAABAAAAAQAAAAEAAAABAAAAAQAAAAEAAAABAAAAAQAAAAEAAAABAAAAAQAAAAEAAAABAAAAAQAAAAEAAAABAAAAAQAAAAEAAAABAAAAAQAAAAEAAAABAAAAAQAAAAEAAAABAAAAAQAAAAEAAAABAAAAAQAAAAEAAAABAAAAAQAAAAEAAAABAAAAAQAAAAEAAAABAAAAAQAAAAEAAAABAAAAAQAAAAEAAAABAAAAAQAAAAEAAAABAAAAAQAAAAEAAAABAAAAAQAAAAEAAAABAAAAAQAAAAEAAAABAAAAAQAAAAEAAAABAAAAAQAAAAEAAAABAAAAAQAAAAEAAAABAAAAAQAAAAEAAAABAAAAAQAAAAEAAAABAAAAAQAAAAEAAAABAAAAAQAAAAEAAAABAAAAAQAAAAEAAAABAAAAAQAAAAEAAAABAAAAAQAAAAEAAAABAAAAAQAAAAEAAAABAAAAAQAAAAEAAAABAAAAAQAAAAEAAAABAAAAAQAAAAEAAAABAAAAAQAAAAEAAAABAAAAAQAAAAEAAAABAAAAAQAAAAEAAAABAAAAAQAAAAEAAAABAAAAAQAAAAEAAAABAAAAAQAAAAEAAAABAAAAAQAAAAEAAAABAAAAAQAAAAEAAAABAAAAAQAAAAEAAAABAAAAAQAAAAEAAAABAAAAAQAAAAEAAAABAAAAAQAAAAEAAAABAAAAAQAAAAEAAAABAAAAAQAAAAEAAAABAAAAAQAAAAEAAAABAAAAAQAAAAEAAAABAAAAAQAAAAEAAAABAAAAAQAAAAEAAAABAAAAAQAAAAEAAAABAAAAAQAAAAEAAAABAAAAAQAAAAEAAAABAAAAAQAAAAEAAAABAAAAAQAAAAEAAAABAAAAAQAAAAEAAAABAAAAAQAAAAEAAAABAAAAAQAAAAEAAAABAAAAAQAAAAEAAAABAAAAAQAAAAEAAAABAAAAAQAAAAEAAAABAAAAAQAAAAEAAAABAAAAAQAAAAEAAAABAAAAAQAAAAEAAAABAAAAAQAAAAEAAAABAAAAAQAAAAEAAAABAAAAAQAAAAEAAAABAAAAAQAAAAEAAAABAAAAAgAAAAIAAAACAAAAAgAAAAIAAAACAAAAAgAAAAIAAAACAAAAAgAAAAIAAAACAAAAAgAAAAIAAAACAAAAAgAAAAIAAAACAAAAAgAAAAIAAAACAAAAAgAAAAIAAAACAAAAAgAAAAIAAAACAAAAAgAAAAIAAAACAAAAAgAAAAIAAAACAAAAAgAAAAIAAAACAAAAAgAAAAIAAAACAAAAAgAAAAIAAAACAAAAAgAAAAIAAAACAAAAAgAAAAIAAAACAAAAAgAAAAIAAAACAAAAAgAAAAIAAAACAAAAAgAAAAIAAAACAAAAAgAAAAIAAAACAAAAAgAAAAIAAAACAAAAAgAAAAIAAAACAAAAAgAAAAIAAAACAAAAAgAAAAIAAAACAAAAAgAAAAIAAAACAAAAAgAAAAIAAAACAAAAAgAAAAIAAAACAAAAAgAAAAIAAAACAAAAAgAAAAIAAAACAAAAAgAAAAIAAAACAAAAAgAAAAIAAAACAAAAAgAAAAIAAAACAAAAAgAAAAIAAAACAAAAAgAAAAIAAAACAAAAAgAAAAIAAAACAAAAAgAAAAIAAAACAAAAAgAAAAIAAAACAAAAAgAAAAIAAAACAAAAAgAAAAIAAAACAAAAAgAAAAIAAAACAAAAAgAAAAIAAAACAAAAAgAAAAIAAAACAAAAAgAAAAIAAAACAAAAAgAAAAIAAAACAAAAAgAAAAIAAAACAAAAAgAAAAIAAAACAAAAAgAAAAIAAAACAAAAAgAAAAIAAAACAAAAAgAAAAIAAAACAAAAAgAAAAIAAAACAAAAAgAAAAIAAAACAAAAAgAAAAIAAAACAAAAAgAAAAIAAAACAAAAAgAAAAIAAAACAAAAAgAAAAIAAAACAAAAAgAAAAIAAAACAAAAAgAAAAIAAAACAAAAAgAAAAIAAAACAAAAAgAAAAIAAAACAAAAAgAAAAIAAAACAAAAAgAAAAIAAAACAAAAAgAAAAIAAAACAAAAAgAAAAIAAAACAAAAAgAAAAIAAAACAAAAAgAAAAIAAAACAAAAAgAAAAIAAAACAAAAAgAAAAIAAAACAAAAAgAAAAIAAAACAAAAAgAAAAIAAAACAAAAAgAAAAIAAAACAAAAAgAAAAIAAAACAAAAAgAAAAIAAAACAAAAAgAAAAIAAAACAAAAAgAAAAIAAAACAAAAAgAAAAIAAAACAAAAAgAAAAIAAAACAAAAAgAAAAIAAAACAAAAAgAAAAIAAAACAAAAAgAAAAIAAAACAAAAAgAAAAIAAAACAAAAAgAAAAIAAAACAAAAAgAAAAIAAAACAAAAAgAAAAIAAAACAAAAAgAAAAIAAAACAAAAAgAAAAIAAAACAAAAAgAAAAIAAAACAAAAAgAAAAIAAAACAAAAAgAAAAIAAAACAAAAAgAAAAIAAAACAAAAAgAAAAIAAAACAAAAAgAAAAIAAAACAAAAAgAAAAIAAAACAAAAAgAAAAIAAAACAAAAAgAAAAIAAAACAAAAAgAAAAIAAAACAAAAAgAAAAIAAAACAAAAAgAAAAIAAAACAAAAAgAAAAIAAAACAAAAAgAAAAIAAAACAAAAAgAAAAIAAAACAAAAAgAAAAIAAAACAAAAAgAAAAIAAAACAAAAAgAAAAIAAAACAAAAAgAAAAIAAAACAAAAAgAAAAIAAAACAAAAAgAAAAIAAAACAAAAAgAAAAIAAAACAAAAAgAAAAIAAAACAAAAAgAAAAIAAAACAAAAAgAAAAIAAAACAAAAAgAAAAIAAAACAAAAAgAAAAIAAAACAAAAAgAAAAIAAAACAAAAAgAAAAIAAAACAAAAAgAAAAIAAAACAAAAAgAAAAIAAAACAAAAAgAAAAIAAAACAAAAAgAAAAIAAAACAAAAAgAAAAIAAAACAAAAAgAAAAIAAAACAAAAAgAAAAIAAAACAAAAAgAAAAIAAAACAAAAAgAAAAIAAAACAAAAAgAAAAIAAAACAAAAAgAAAAIAAAACAAAAAgAAAAIAAAACAAAAAgAAAAIAAAACAAAAAgAAAAIAAAACAAAAAgAAAAIAAAACAAAAAgAAAAIAAAACAAAAAgAAAAIAAAACAAAAAgAAAAIAAAACAAAAAgAAAAIAAAACAAAAAgAAAAIAAAACAAAAAgAAAAIAAAACAAAAAgAAAAIAAAACAAAAAgAAAAIAAAACAAAAAgAAAAIAAAACAAAAAgAAAAIAAAACAAAAAgAAAAIAAAACAAAAAgAAAAIAAAACAAAAAgAAAAIAAAACAAAAAgAAAAIAAAACAAAAAgAAAAIAAAACAAAAAgAAAAIAAAACAAAAAgAAAAIAAAACAAAAAgAAAAIAAAACAAAAAgAAAAIAAAACAAAAAgAAAAIAAAACAAAAAgAAAAIAAAACAAAAAgAAAAIAAAACAAAAAgAAAAIAAAACAAAAAgAAAAIAAAACAAAAAgAAAAIAAAACAAAAAgAAAAIAAAACAAAAAgAAAAIAAAACAAAAAgAAAAIAAAACAAAAAgAAAAIAAAACAAAAAgAAAAIAAAACAAAAAgAAAAIAAAACAAAAAgAAAAIAAAACAAAAAgAAAAIAAAACAAAAAgAAAAIAAAACAAAAAgAAAAIAAAACAAAAAgAAAAIAAAACAAAAAgAAAAIAAAACAAAAAgAAAAIAAAACAAAAAgAAAAIAAAACAAAAAgAAAAIAAAACAAAAAgAAAAIAAAACAAAAAgAAAAIAAAACAAAAAgAAAAIAAAACAAAAAgAAAAIAAAACAAAAAgAAAAIAAAACAAAAAgAAAAIAAAACAAAAAgAAAAIAAAACAAAAAgAAAAIAAAACAAAAAgAAAAIAAAACAAAAAgAAAAIAAAACAAAAAgAAAAIAAAACAAAAAgAAAAIAAAACAAAAAgAAAAIAAAACAAAAAgAAAAIAAAACAAAAAgAAAAMAAAADAAAAAwAAAAMAAAADAAAAAwAAAAMAAAADAAAAAwAAAAMAAAADAAAAAwAAAAMAAAADAAAAAwAAAAMAAAADAAAAAwAAAAMAAAADAAAAAwAAAAMAAAADAAAAAwAAAAMAAAADAAAAAwAAAAMAAAADAAAAAwAAAAMAAAADAAAAAwAAAAMAAAADAAAAAwAAAAMAAAADAAAAAwAAAAMAAAADAAAAAwAAAAMAAAADAAAAAwAAAAMAAAADAAAAAwAAAAMAAAADAAAAAwAAAAMAAAADAAAAAwAAAAMAAAADAAAAAwAAAAMAAAADAAAAAwAAAAMAAAADAAAAAwAAAAMAAAADAAAAAwAAAAMAAAADAAAAAwAAAAMAAAADAAAAAwAAAAMAAAADAAAAAwAAAAMAAAADAAAAAwAAAAMAAAADAAAAAwAAAAMAAAADAAAAAwAAAAMAAAADAAAAAwAAAAMAAAADAAAAAwAAAAMAAAADAAAAAwAAAAMAAAADAAAAAwAAAAMAAAADAAAAAwAAAAMAAAADAAAAAwAAAAMAAAADAAAAAwAAAAMAAAADAAAAAwAAAAMAAAADAAAAAwAAAAMAAAADAAAAAwAAAAMAAAADAAAAAwAAAAMAAAADAAAAAwAAAAMAAAADAAAAAwAAAAMAAAADAAAAAwAAAAMAAAADAAAAAwAAAAMAAAADAAAAAwAAAAMAAAADAAAAAwAAAAMAAAADAAAAAwAAAAMAAAADAAAAAwAAAAMAAAADAAAAAwAAAAMAAAADAAAAAwAAAAMAAAADAAAAAwAAAAMAAAADAAAAAwAAAAMAAAADAAAAAwAAAAMAAAADAAAAAwAAAAMAAAADAAAAAwAAAAMAAAADAAAAAwAAAAMAAAADAAAAAwAAAAMAAAADAAAAAwAAAAMAAAADAAAAAwAAAAMAAAADAAAAAwAAAAMAAAADAAAAAwAAAAMAAAADAAAAAwAAAAMAAAADAAAAAwAAAAMAAAADAAAAAwAAAAMAAAADAAAAAwAAAAMAAAADAAAAAwAAAAMAAAADAAAAAwAAAAMAAAADAAAAAwAAAAMAAAADAAAAAwAAAAMAAAADAAAAAwAAAAMAAAADAAAAAwAAAAMAAAADAAAAAwAAAAMAAAADAAAAAwAAAAMAAAADAAAAAwAAAAMAAAADAAAAAwAAAAMAAAADAAAAAwAAAAMAAAADAAAAAwAAAAMAAAADAAAAAwAAAAMAAAADAAAAAwAAAAMAAAADAAAAAwAAAAMAAAADAAAAAwAAAAMAAAADAAAAAwAAAAMAAAADAAAAAwAAAAMAAAADAAAAAwAAAAMAAAADAAAAAwAAAAMAAAADAAAAAwAAAAMAAAADAAAAAwAAAAMAAAADAAAAAwAAAAMAAAADAAAAAwAAAAMAAAADAAAAAwAAAAMAAAADAAAAAwAAAAMAAAADAAAAAwAAAAMAAAADAAAAAwAAAAMAAAADAAAAAwAAAAMAAAADAAAAAwAAAAMAAAADAAAAAwAAAAMAAAADAAAAAwAAAAMAAAADAAAABAAAAAQAAAAEAAAABAAAAAQAAAAEAAAABAAAAAQAAAAEAAAABAAAAAQAAAAEAAAABAAAAAQAAAAEAAAABAAAAAQAAAAEAAAABAAAAAQAAAAEAAAABAAAAAQAAAAEAAAABAAAAAQAAAAEAAAABAAAAAQAAAAEAAAABAAAAAQAAAAEAAAABAAAAAQAAAAEAAAABAAAAAQAAAAEAAAABAAAAAQAAAAEAAAABAAAAAQAAAAEAAAABAAAAAQAAAAEAAAABAAAAAQAAAAEAAAABAAAAAQAAAAEAAAABAAAAAQAAAAEAAAABAAAAAQAAAAEAAAABAAAAAQAAAAEAAAABAAAAAQAAAAEAAAABAAAAAQAAAAEAAAABAAAAAQAAAAEAAAABAAAAAQAAAAEAAAABAAAAAQAAAAEAAAABAAAAAQAAAAEAAAABAAAAAQAAAAEAAAABAAAAAQAAAAEAAAABAAAAAQAAAAEAAAABAAAAAQAAAAEAAAABAAAAAQAAAAEAAAABAAAAAQAAAAEAAAABAAAAAQAAAAEAAAABAAAAAQAAAAEAAAABAAAAAQAAAAEAAAABAAAAAQAAAAEAAAABAAAAAQAAAAEAAAABAAAAAQAAAAEAAAABAAAAAQAAAAEAAAABAAAAAQAAAAEAAAABAAAAAQAAAAEAAAABAAAAAQAAAAEAAAABAAAAAQAAAAEAAAABAAAAAQAAAAEAAAABAAAAAQAAAAEAAAABAAAAAQAAAAEAAAABAAAAAQAAAAEAAAABAAAAAQAAAAEAAAABAAAAAQAAAAEAAAABAAAAAQAAAAEAAAABAAAAAQAAAAEAAAABAAAAAQAAAAEAAAABAAAAAUAAAAFAAAABQAAAAUAAAAFAAAABQAAAAUAAAAFAAAABQAAAAUAAAAFAAAABQAAAAUAAAAFAAAABQAAAAUAAAAFAAAABQAAAAUAAAAFAAAABQAAAAUAAAAFAAAABQAAAAUAAAAFAAAABQAAAAUAAAAFAAAABQAAAAUAAAAFAAAABQAAAAUAAAAFAAAABQAAAAUAAAAFAAAABQAAAAUAAAAFAAAABQAAAAUAAAAFAAAABQAAAAUAAAAFAAAABQAAAAUAAAAFAAAABQAAAAUAAAAFAAAABQAAAAUAAAAFAAAABQAAAAUAAAAFAAAABQAAAAUAAAAFAAAABQAAAAUAAAAFAAAABQAAAAUAAAAFAAAABQAAAAUAAAAFAAAABQAAAAUAAAAFAAAABQAAAAUAAAAFAAAABQAAAAUAAAAFAAAABQAAAAUAAAAFAAAABQAAAAUAAAAFAAAABQAAAAUAAAAFAAAABQAAAAUAAAAFAAAABQAAAAUAAAAFAAAABQAAAAUAAAAFAAAABQAAAAUAAAAFAAAABQAAAAUAAAAFAAAABQAAAAUAAAAFAAAABQAAAAUAAAAFAAAABQAAAAUAAAAFAAAABQAAAAUAAAAFAAAABQAAAAUAAAAFAAAABQAAAAUAAAAFAAAABQAAAAUAAAAFAAAABQAAAAYAAAAGAAAABgAAAAYAAAAGAAAABgAAAAYAAAAGAAAABgAAAAYAAAAGAAAABgAAAAYAAAAGAAAABgAAAAYAAAAGAAAABgAAAAYAAAAGAAAABgAAAAYAAAAGAAAABgAAAAYAAAAGAAAABgAAAAYAAAAGAAAABgAAAAYAAAAGAAAABgAAAAYAAAAGAAAABgAAAAYAAAAGAAAABgAAAAYAAAAGAAAABgAAAAYAAAAGAAAABgAAAAYAAAAGAAAABgAAAAYAAAAGAAAABgAAAAYAAAAGAAAABgAAAAYAAAAGAAAABgAAAAYAAAAGAAAABgAAAAYAAAAGAAAABgAAAAYAAAAGAAAABgAAAAYAAAAGAAAABgAAAAYAAAAGAAAABgAAAAYAAAAGAAAABgAAAAYAAAAGAAAABgAAAAYAAAAGAAAABgAAAAYAAAAGAAAABgAAAAYAAAAGAAAABgAAAAYAAAAGAAAABgAAAAYAAAAGAAAABwAAAAcAAAAHAAAABwAAAAcAAAAHAAAABwAAAAcAAAAHAAAABwAAAAcAAAAHAAAABwAAAAcAAAAHAAAABwAAAAcAAAAHAAAABwAAAAcAAAAHAAAABwAAAAcAAAAHAAAABwAAAAcAAAAHAAAABwAAAAcAAAAHAAAABwAAAAcAAAAHAAAABwAAAAcAAAAHAAAABwAAAAcAAAAHAAAABwAAAAcAAAAHAAAABwAAAAcAAAAHAAAABwAAAAcAAAAHAAAABwAAAAcAAAAHAAAABwAAAAcAAAAHAAAABwAAAAcAAAAHAAAABwAAAAcAAAAHAAAABwAAAAcAAAAHAAAABwAAAAgAAAAIAAAACAAAAAgAAAAIAAAACAAAAAgAAAAIAAAACAAAAAgAAAAIAAAACAAAAAgAAAAIAAAACAAAAAgAAAAIAAAACAAAAAgAAAAIAAAACAAAAAgAAAAIAAAACAAAAAgAAAAIAAAACAAAAAgAAAAIAAAACAAAAAgAAAAIAAAACAAAAAgAAAAIAAAACAAAAAgAAAAJAAAACQAAAAkAAAAJAAAACQAAAAkAAAAJAAAACQAAAAkAAAAJAAAACQAAAAkAAAAJAAAACQAAAAkAAAAJAAAACQAAAAkAAAAJAAAACQAAAAkAAAAJAAAACQAAAAkAAAAJAAAACQAAAAkAAAAJAAAACQAAAAkAAAAJAAAACQAAAAkAAAAJAAAACQAAAAkAAAAJAAAACQAAAAkAAAAJAAAACQAAAAkAAAAJAAAACQAAAAkAAAAJAAAACQAAAAkAAAAJAAAACQAAAAkAAAAJAAAACgAAAAoAAAAKAAAACgAAAAoAAAAKAAAACgAAAAoAAAAKAAAACgAAAAoAAAAKAAAACgAAAAoAAAAKAAAACgAAAAoAAAAKAAAACgAAAAoAAAAKAAAACgAAAAoAAAAKAAAACgAAAAoAAAAKAAAACgAAAAoAAAAKAAAACgAAAAoAAAAKAAAACgAAAAoAAAAKAAAACwAAAAsAAAALAAAACwAAAAsAAAALAAAACwAAAAsAAAALAAAACwAAAAsAAAALAAAACwAAAAsAAAALAAAACwAAAAsAAAALAAAACwAAAAsAAAALAAAACwAAAAwAAAAMAAAADAAAAAwAAAAMAAAADAAAAAwAAAAMAAAADAAAAAwAAAANAAAADQAAAA0AAAANAAAADQAAAA0AAAANAAAADQAAAA0AAAANAAAADQAAAA0AAAANAAAADQAAAA0AAAANAAAADQAAAA0AAAANAAAADQAAAA0AAAANAAAADQAAAA4AAAAOAAAADgAAAA4AAAAOAAAADgAAAA4AAAAOAAAADgAAAA4AAAAOAAAADgAAAA4AAAAOAAAADgAAAA4AAAAOAAAADgAAAA4AAAAOAAAADgAAAA4AAAAPAAAADwAAAA8AAAAPAAAADwAAAA8AAAAQAAAAEAAAABAAAAAQAAAAEQAAABEAAAARAAAAEQAAABEAAAARAAAAEQAAABEAAAARAAAAEQAAABIAAAASAAAAEgAAABIAAAASAAAAEwAAABMAAAATAAAAEwAAABQAAAAUAAAAFAAAABQAAAAUAAAAFAAAABQAAAAVAAAAFQAAABUAAAAVAAAAFgAAABYAAAAWAAAAFgAAABYAAAAXAAAAFwAAABcAAAAXAAAAFwAAABgAAAAYAAAAGAAAABkAAAAZAAAAGQAAABkAAAAZAAAAGgAAABoAAAAbAAAAGwAAABwAAAAcAAAAHAAAABwAAAAcAAAAHQAAAB0AAAAeAAAAHwAAAB8AAAAfAAAAHwAAAB8AAAAgAAAAIAAAACEAAAAiAAAAIgAAACIAAAAjAAAAJQAAACYAAAAnAAAAJwAAACcAAAAoAAAAKAAAACgAAAAsAAAALAAAACwAAAAtAAAALQAAADAAAAAxAAAAMgAAADMAAAA4AAAAOQAAAEUAAABGAAAARgAAAEYAAABKAAAATgAAAFQAAABXAAAAZwAAAH4AAAB/AAAAiQAAAIsAAACLAAAAnAAAAA==",
          "dtype": "u4"
         },
         "xaxis": "x",
         "yaxis": "y"
        }
       ],
       "layout": {
        "barmode": "relative",
        "legend": {
         "tracegroupgap": 0
        },
        "template": {
         "data": {
          "bar": [
           {
            "error_x": {
             "color": "#2a3f5f"
            },
            "error_y": {
             "color": "#2a3f5f"
            },
            "marker": {
             "line": {
              "color": "#E5ECF6",
              "width": 0.5
             },
             "pattern": {
              "fillmode": "overlay",
              "size": 10,
              "solidity": 0.2
             }
            },
            "type": "bar"
           }
          ],
          "barpolar": [
           {
            "marker": {
             "line": {
              "color": "#E5ECF6",
              "width": 0.5
             },
             "pattern": {
              "fillmode": "overlay",
              "size": 10,
              "solidity": 0.2
             }
            },
            "type": "barpolar"
           }
          ],
          "carpet": [
           {
            "aaxis": {
             "endlinecolor": "#2a3f5f",
             "gridcolor": "white",
             "linecolor": "white",
             "minorgridcolor": "white",
             "startlinecolor": "#2a3f5f"
            },
            "baxis": {
             "endlinecolor": "#2a3f5f",
             "gridcolor": "white",
             "linecolor": "white",
             "minorgridcolor": "white",
             "startlinecolor": "#2a3f5f"
            },
            "type": "carpet"
           }
          ],
          "choropleth": [
           {
            "colorbar": {
             "outlinewidth": 0,
             "ticks": ""
            },
            "type": "choropleth"
           }
          ],
          "contour": [
           {
            "colorbar": {
             "outlinewidth": 0,
             "ticks": ""
            },
            "colorscale": [
             [
              0,
              "#0d0887"
             ],
             [
              0.1111111111111111,
              "#46039f"
             ],
             [
              0.2222222222222222,
              "#7201a8"
             ],
             [
              0.3333333333333333,
              "#9c179e"
             ],
             [
              0.4444444444444444,
              "#bd3786"
             ],
             [
              0.5555555555555556,
              "#d8576b"
             ],
             [
              0.6666666666666666,
              "#ed7953"
             ],
             [
              0.7777777777777778,
              "#fb9f3a"
             ],
             [
              0.8888888888888888,
              "#fdca26"
             ],
             [
              1,
              "#f0f921"
             ]
            ],
            "type": "contour"
           }
          ],
          "contourcarpet": [
           {
            "colorbar": {
             "outlinewidth": 0,
             "ticks": ""
            },
            "type": "contourcarpet"
           }
          ],
          "heatmap": [
           {
            "colorbar": {
             "outlinewidth": 0,
             "ticks": ""
            },
            "colorscale": [
             [
              0,
              "#0d0887"
             ],
             [
              0.1111111111111111,
              "#46039f"
             ],
             [
              0.2222222222222222,
              "#7201a8"
             ],
             [
              0.3333333333333333,
              "#9c179e"
             ],
             [
              0.4444444444444444,
              "#bd3786"
             ],
             [
              0.5555555555555556,
              "#d8576b"
             ],
             [
              0.6666666666666666,
              "#ed7953"
             ],
             [
              0.7777777777777778,
              "#fb9f3a"
             ],
             [
              0.8888888888888888,
              "#fdca26"
             ],
             [
              1,
              "#f0f921"
             ]
            ],
            "type": "heatmap"
           }
          ],
          "histogram": [
           {
            "marker": {
             "pattern": {
              "fillmode": "overlay",
              "size": 10,
              "solidity": 0.2
             }
            },
            "type": "histogram"
           }
          ],
          "histogram2d": [
           {
            "colorbar": {
             "outlinewidth": 0,
             "ticks": ""
            },
            "colorscale": [
             [
              0,
              "#0d0887"
             ],
             [
              0.1111111111111111,
              "#46039f"
             ],
             [
              0.2222222222222222,
              "#7201a8"
             ],
             [
              0.3333333333333333,
              "#9c179e"
             ],
             [
              0.4444444444444444,
              "#bd3786"
             ],
             [
              0.5555555555555556,
              "#d8576b"
             ],
             [
              0.6666666666666666,
              "#ed7953"
             ],
             [
              0.7777777777777778,
              "#fb9f3a"
             ],
             [
              0.8888888888888888,
              "#fdca26"
             ],
             [
              1,
              "#f0f921"
             ]
            ],
            "type": "histogram2d"
           }
          ],
          "histogram2dcontour": [
           {
            "colorbar": {
             "outlinewidth": 0,
             "ticks": ""
            },
            "colorscale": [
             [
              0,
              "#0d0887"
             ],
             [
              0.1111111111111111,
              "#46039f"
             ],
             [
              0.2222222222222222,
              "#7201a8"
             ],
             [
              0.3333333333333333,
              "#9c179e"
             ],
             [
              0.4444444444444444,
              "#bd3786"
             ],
             [
              0.5555555555555556,
              "#d8576b"
             ],
             [
              0.6666666666666666,
              "#ed7953"
             ],
             [
              0.7777777777777778,
              "#fb9f3a"
             ],
             [
              0.8888888888888888,
              "#fdca26"
             ],
             [
              1,
              "#f0f921"
             ]
            ],
            "type": "histogram2dcontour"
           }
          ],
          "mesh3d": [
           {
            "colorbar": {
             "outlinewidth": 0,
             "ticks": ""
            },
            "type": "mesh3d"
           }
          ],
          "parcoords": [
           {
            "line": {
             "colorbar": {
              "outlinewidth": 0,
              "ticks": ""
             }
            },
            "type": "parcoords"
           }
          ],
          "pie": [
           {
            "automargin": true,
            "type": "pie"
           }
          ],
          "scatter": [
           {
            "fillpattern": {
             "fillmode": "overlay",
             "size": 10,
             "solidity": 0.2
            },
            "type": "scatter"
           }
          ],
          "scatter3d": [
           {
            "line": {
             "colorbar": {
              "outlinewidth": 0,
              "ticks": ""
             }
            },
            "marker": {
             "colorbar": {
              "outlinewidth": 0,
              "ticks": ""
             }
            },
            "type": "scatter3d"
           }
          ],
          "scattercarpet": [
           {
            "marker": {
             "colorbar": {
              "outlinewidth": 0,
              "ticks": ""
             }
            },
            "type": "scattercarpet"
           }
          ],
          "scattergeo": [
           {
            "marker": {
             "colorbar": {
              "outlinewidth": 0,
              "ticks": ""
             }
            },
            "type": "scattergeo"
           }
          ],
          "scattergl": [
           {
            "marker": {
             "colorbar": {
              "outlinewidth": 0,
              "ticks": ""
             }
            },
            "type": "scattergl"
           }
          ],
          "scattermap": [
           {
            "marker": {
             "colorbar": {
              "outlinewidth": 0,
              "ticks": ""
             }
            },
            "type": "scattermap"
           }
          ],
          "scattermapbox": [
           {
            "marker": {
             "colorbar": {
              "outlinewidth": 0,
              "ticks": ""
             }
            },
            "type": "scattermapbox"
           }
          ],
          "scatterpolar": [
           {
            "marker": {
             "colorbar": {
              "outlinewidth": 0,
              "ticks": ""
             }
            },
            "type": "scatterpolar"
           }
          ],
          "scatterpolargl": [
           {
            "marker": {
             "colorbar": {
              "outlinewidth": 0,
              "ticks": ""
             }
            },
            "type": "scatterpolargl"
           }
          ],
          "scatterternary": [
           {
            "marker": {
             "colorbar": {
              "outlinewidth": 0,
              "ticks": ""
             }
            },
            "type": "scatterternary"
           }
          ],
          "surface": [
           {
            "colorbar": {
             "outlinewidth": 0,
             "ticks": ""
            },
            "colorscale": [
             [
              0,
              "#0d0887"
             ],
             [
              0.1111111111111111,
              "#46039f"
             ],
             [
              0.2222222222222222,
              "#7201a8"
             ],
             [
              0.3333333333333333,
              "#9c179e"
             ],
             [
              0.4444444444444444,
              "#bd3786"
             ],
             [
              0.5555555555555556,
              "#d8576b"
             ],
             [
              0.6666666666666666,
              "#ed7953"
             ],
             [
              0.7777777777777778,
              "#fb9f3a"
             ],
             [
              0.8888888888888888,
              "#fdca26"
             ],
             [
              1,
              "#f0f921"
             ]
            ],
            "type": "surface"
           }
          ],
          "table": [
           {
            "cells": {
             "fill": {
              "color": "#EBF0F8"
             },
             "line": {
              "color": "white"
             }
            },
            "header": {
             "fill": {
              "color": "#C8D4E3"
             },
             "line": {
              "color": "white"
             }
            },
            "type": "table"
           }
          ]
         },
         "layout": {
          "annotationdefaults": {
           "arrowcolor": "#2a3f5f",
           "arrowhead": 0,
           "arrowwidth": 1
          },
          "autotypenumbers": "strict",
          "coloraxis": {
           "colorbar": {
            "outlinewidth": 0,
            "ticks": ""
           }
          },
          "colorscale": {
           "diverging": [
            [
             0,
             "#8e0152"
            ],
            [
             0.1,
             "#c51b7d"
            ],
            [
             0.2,
             "#de77ae"
            ],
            [
             0.3,
             "#f1b6da"
            ],
            [
             0.4,
             "#fde0ef"
            ],
            [
             0.5,
             "#f7f7f7"
            ],
            [
             0.6,
             "#e6f5d0"
            ],
            [
             0.7,
             "#b8e186"
            ],
            [
             0.8,
             "#7fbc41"
            ],
            [
             0.9,
             "#4d9221"
            ],
            [
             1,
             "#276419"
            ]
           ],
           "sequential": [
            [
             0,
             "#0d0887"
            ],
            [
             0.1111111111111111,
             "#46039f"
            ],
            [
             0.2222222222222222,
             "#7201a8"
            ],
            [
             0.3333333333333333,
             "#9c179e"
            ],
            [
             0.4444444444444444,
             "#bd3786"
            ],
            [
             0.5555555555555556,
             "#d8576b"
            ],
            [
             0.6666666666666666,
             "#ed7953"
            ],
            [
             0.7777777777777778,
             "#fb9f3a"
            ],
            [
             0.8888888888888888,
             "#fdca26"
            ],
            [
             1,
             "#f0f921"
            ]
           ],
           "sequentialminus": [
            [
             0,
             "#0d0887"
            ],
            [
             0.1111111111111111,
             "#46039f"
            ],
            [
             0.2222222222222222,
             "#7201a8"
            ],
            [
             0.3333333333333333,
             "#9c179e"
            ],
            [
             0.4444444444444444,
             "#bd3786"
            ],
            [
             0.5555555555555556,
             "#d8576b"
            ],
            [
             0.6666666666666666,
             "#ed7953"
            ],
            [
             0.7777777777777778,
             "#fb9f3a"
            ],
            [
             0.8888888888888888,
             "#fdca26"
            ],
            [
             1,
             "#f0f921"
            ]
           ]
          },
          "colorway": [
           "#636efa",
           "#EF553B",
           "#00cc96",
           "#ab63fa",
           "#FFA15A",
           "#19d3f3",
           "#FF6692",
           "#B6E880",
           "#FF97FF",
           "#FECB52"
          ],
          "font": {
           "color": "#2a3f5f"
          },
          "geo": {
           "bgcolor": "white",
           "lakecolor": "white",
           "landcolor": "#E5ECF6",
           "showlakes": true,
           "showland": true,
           "subunitcolor": "white"
          },
          "hoverlabel": {
           "align": "left"
          },
          "hovermode": "closest",
          "mapbox": {
           "style": "light"
          },
          "paper_bgcolor": "white",
          "plot_bgcolor": "#E5ECF6",
          "polar": {
           "angularaxis": {
            "gridcolor": "white",
            "linecolor": "white",
            "ticks": ""
           },
           "bgcolor": "#E5ECF6",
           "radialaxis": {
            "gridcolor": "white",
            "linecolor": "white",
            "ticks": ""
           }
          },
          "scene": {
           "xaxis": {
            "backgroundcolor": "#E5ECF6",
            "gridcolor": "white",
            "gridwidth": 2,
            "linecolor": "white",
            "showbackground": true,
            "ticks": "",
            "zerolinecolor": "white"
           },
           "yaxis": {
            "backgroundcolor": "#E5ECF6",
            "gridcolor": "white",
            "gridwidth": 2,
            "linecolor": "white",
            "showbackground": true,
            "ticks": "",
            "zerolinecolor": "white"
           },
           "zaxis": {
            "backgroundcolor": "#E5ECF6",
            "gridcolor": "white",
            "gridwidth": 2,
            "linecolor": "white",
            "showbackground": true,
            "ticks": "",
            "zerolinecolor": "white"
           }
          },
          "shapedefaults": {
           "line": {
            "color": "#2a3f5f"
           }
          },
          "ternary": {
           "aaxis": {
            "gridcolor": "white",
            "linecolor": "white",
            "ticks": ""
           },
           "baxis": {
            "gridcolor": "white",
            "linecolor": "white",
            "ticks": ""
           },
           "bgcolor": "#E5ECF6",
           "caxis": {
            "gridcolor": "white",
            "linecolor": "white",
            "ticks": ""
           }
          },
          "title": {
           "x": 0.05
          },
          "xaxis": {
           "automargin": true,
           "gridcolor": "white",
           "linecolor": "white",
           "ticks": "",
           "title": {
            "standoff": 15
           },
           "zerolinecolor": "white",
           "zerolinewidth": 2
          },
          "yaxis": {
           "automargin": true,
           "gridcolor": "white",
           "linecolor": "white",
           "ticks": "",
           "title": {
            "standoff": 15
           },
           "zerolinecolor": "white",
           "zerolinewidth": 2
          }
         }
        },
        "title": {
         "text": "Artist Frequency"
        },
        "xaxis": {
         "anchor": "y",
         "domain": [
          0,
          1
         ],
         "title": {
          "text": "frequency"
         }
        },
        "yaxis": {
         "anchor": "x",
         "domain": [
          0,
          1
         ],
         "title": {
          "text": "count"
         }
        }
       }
      }
     },
     "metadata": {},
     "output_type": "display_data"
    }
   ],
   "source": [
    "artist_frequency = data[\"artist\"].value_counts().sort(\"count\").rename({\"count\": \"frequency\"})\n",
    "print(f\"Number of artists: {len(set(data['artist'].to_list()))}\")\n",
    "\n",
    "fig = px.histogram(\n",
    "    artist_frequency, x=\"frequency\", title=\"Artist Frequency\", color_discrete_sequence=COLORS[2:3]\n",
    ")\n",
    "fig.show()"
   ]
  },
  {
   "cell_type": "code",
   "execution_count": 4,
   "metadata": {},
   "outputs": [
    {
     "data": {
      "text/html": [
       "<div><style>\n",
       ".dataframe > thead > tr,\n",
       ".dataframe > tbody > tr {\n",
       "  text-align: right;\n",
       "  white-space: pre-wrap;\n",
       "}\n",
       "</style>\n",
       "<small>shape: (3_112, 2)</small><table border=\"1\" class=\"dataframe\"><thead><tr><th>artist</th><th>count</th></tr><tr><td>str</td><td>u32</td></tr></thead><tbody><tr><td>&quot;KYHN, Vilhelm&quot;</td><td>1</td></tr><tr><td>&quot;Cornelis de Vos&quot;</td><td>1</td></tr><tr><td>&quot;MÉNAGEOT, François-Guillaume&quot;</td><td>1</td></tr><tr><td>&quot;POTTER, Pieter Symonsz.&quot;</td><td>1</td></tr><tr><td>&quot;LOCATELLI, Andrea&quot;</td><td>1</td></tr><tr><td>&hellip;</td><td>&hellip;</td></tr><tr><td>&quot;TINTORETTO&quot;</td><td>127</td></tr><tr><td>&quot;GRECO, El&quot;</td><td>137</td></tr><tr><td>&quot;GOGH, Vincent van&quot;</td><td>139</td></tr><tr><td>&quot;REMBRANDT Harmenszoon van Rijn&quot;</td><td>139</td></tr><tr><td>&quot;TIZIANO Vecellio&quot;</td><td>156</td></tr></tbody></table></div>"
      ],
      "text/plain": [
       "shape: (3_112, 2)\n",
       "┌────────────────────────────────┬───────┐\n",
       "│ artist                         ┆ count │\n",
       "│ ---                            ┆ ---   │\n",
       "│ str                            ┆ u32   │\n",
       "╞════════════════════════════════╪═══════╡\n",
       "│ KYHN, Vilhelm                  ┆ 1     │\n",
       "│ Cornelis de Vos                ┆ 1     │\n",
       "│ MÉNAGEOT, François-Guillaume   ┆ 1     │\n",
       "│ POTTER, Pieter Symonsz.        ┆ 1     │\n",
       "│ LOCATELLI, Andrea              ┆ 1     │\n",
       "│ …                              ┆ …     │\n",
       "│ TINTORETTO                     ┆ 127   │\n",
       "│ GRECO, El                      ┆ 137   │\n",
       "│ GOGH, Vincent van              ┆ 139   │\n",
       "│ REMBRANDT Harmenszoon van Rijn ┆ 139   │\n",
       "│ TIZIANO Vecellio               ┆ 156   │\n",
       "└────────────────────────────────┴───────┘"
      ]
     },
     "execution_count": 4,
     "metadata": {},
     "output_type": "execute_result"
    }
   ],
   "source": [
    "data[\"artist\"].value_counts().sort(\"count\")"
   ]
  },
  {
   "cell_type": "code",
   "execution_count": 5,
   "metadata": {},
   "outputs": [
    {
     "name": "stdout",
     "output_type": "stream",
     "text": [
      "Artists that have paintings with associated style or type: 2696\n"
     ]
    }
   ],
   "source": [
    "paintings_with_type_or_style = data.filter(\n",
    "    pl.col(\"coarse_type\").is_not_null()\n",
    "    | pl.col(\"first_fine_grained_type\").is_not_null()\n",
    "    | pl.col(\"second_fine_grained_type\").is_not_null()\n",
    "    | pl.col(\"first_style\").is_not_null()\n",
    "    | pl.col(\"second_style\").is_not_null()\n",
    ")\n",
    "\n",
    "artists_with_type_or_style = len(set(paintings_with_type_or_style[\"artist\"].to_list()))\n",
    "print(f\"Artists that have paintings with associated style or type: {artists_with_type_or_style}\")"
   ]
  },
  {
   "cell_type": "markdown",
   "metadata": {},
   "source": [
    "### 2. Year of creation"
   ]
  },
  {
   "cell_type": "code",
   "execution_count": 6,
   "metadata": {},
   "outputs": [
    {
     "name": "stdout",
     "output_type": "stream",
     "text": [
      "Covered period: 1305 - 2022\n"
     ]
    },
    {
     "data": {
      "application/vnd.plotly.v1+json": {
       "config": {
        "plotlyServerURL": "https://plot.ly"
       },
       "data": [
        {
         "hovertemplate": "source=met<br>century=%{x}<br>percentage=%{y}<extra></extra>",
         "legendgroup": "met",
         "marker": {
          "color": "#cd968e",
          "pattern": {
           "shape": ""
          }
         },
         "name": "met",
         "orientation": "v",
         "showlegend": true,
         "textposition": "auto",
         "type": "bar",
         "x": {
          "bdata": "Dg8QERITFA==",
          "dtype": "i1"
         },
         "xaxis": "x",
         "y": {
          "bdata": "D2XQFDNt0D+ZzSLtyrvuP0rx3PxFe/w/1CZ0lH4aCUA8wvY1ESYCQF5BFgW4rRJAmc0i7cq7zj8=",
          "dtype": "f8"
         },
         "yaxis": "y"
        },
        {
         "hovertemplate": "source=wga<br>century=%{x}<br>percentage=%{y}<extra></extra>",
         "legendgroup": "wga",
         "marker": {
          "color": "#acb0e0",
          "pattern": {
           "shape": ""
          }
         },
         "name": "wga",
         "orientation": "v",
         "showlegend": true,
         "textposition": "auto",
         "type": "bar",
         "x": {
          "bdata": "Dg8QERITFA==",
          "dtype": "i1"
         },
         "xaxis": "x",
         "y": {
          "bdata": "0NJlEuKNuz/ILXgbSN0UQGhvpA/JbzFA72RFnc56O0BPv3l4Cl8mQKdPv3l4CitAPvjggw8++D8=",
          "dtype": "f8"
         },
         "yaxis": "y"
        },
        {
         "hovertemplate": "source=wikiart<br>century=%{x}<br>percentage=%{y}<extra></extra>",
         "legendgroup": "wikiart",
         "marker": {
          "color": "#aecbdc",
          "pattern": {
           "shape": ""
          }
         },
         "name": "wikiart",
         "orientation": "v",
         "showlegend": true,
         "textposition": "auto",
         "type": "bar",
         "x": {
          "bdata": "Dg8QERITFBU=",
          "dtype": "i1"
         },
         "xaxis": "x",
         "y": {
          "bdata": "Pd3rXBAypT9Wz+NOfazNP9DSZRLijes/EZu6YjGF5j+A2yr7XUHmP4H2HyJdTQlA1lxe4nwyD0D63qy+wiLkPw==",
          "dtype": "f8"
         },
         "yaxis": "y"
        }
       ],
       "layout": {
        "barmode": "relative",
        "legend": {
         "title": {
          "text": "source"
         },
         "tracegroupgap": 0
        },
        "template": {
         "data": {
          "bar": [
           {
            "error_x": {
             "color": "#2a3f5f"
            },
            "error_y": {
             "color": "#2a3f5f"
            },
            "marker": {
             "line": {
              "color": "#E5ECF6",
              "width": 0.5
             },
             "pattern": {
              "fillmode": "overlay",
              "size": 10,
              "solidity": 0.2
             }
            },
            "type": "bar"
           }
          ],
          "barpolar": [
           {
            "marker": {
             "line": {
              "color": "#E5ECF6",
              "width": 0.5
             },
             "pattern": {
              "fillmode": "overlay",
              "size": 10,
              "solidity": 0.2
             }
            },
            "type": "barpolar"
           }
          ],
          "carpet": [
           {
            "aaxis": {
             "endlinecolor": "#2a3f5f",
             "gridcolor": "white",
             "linecolor": "white",
             "minorgridcolor": "white",
             "startlinecolor": "#2a3f5f"
            },
            "baxis": {
             "endlinecolor": "#2a3f5f",
             "gridcolor": "white",
             "linecolor": "white",
             "minorgridcolor": "white",
             "startlinecolor": "#2a3f5f"
            },
            "type": "carpet"
           }
          ],
          "choropleth": [
           {
            "colorbar": {
             "outlinewidth": 0,
             "ticks": ""
            },
            "type": "choropleth"
           }
          ],
          "contour": [
           {
            "colorbar": {
             "outlinewidth": 0,
             "ticks": ""
            },
            "colorscale": [
             [
              0,
              "#0d0887"
             ],
             [
              0.1111111111111111,
              "#46039f"
             ],
             [
              0.2222222222222222,
              "#7201a8"
             ],
             [
              0.3333333333333333,
              "#9c179e"
             ],
             [
              0.4444444444444444,
              "#bd3786"
             ],
             [
              0.5555555555555556,
              "#d8576b"
             ],
             [
              0.6666666666666666,
              "#ed7953"
             ],
             [
              0.7777777777777778,
              "#fb9f3a"
             ],
             [
              0.8888888888888888,
              "#fdca26"
             ],
             [
              1,
              "#f0f921"
             ]
            ],
            "type": "contour"
           }
          ],
          "contourcarpet": [
           {
            "colorbar": {
             "outlinewidth": 0,
             "ticks": ""
            },
            "type": "contourcarpet"
           }
          ],
          "heatmap": [
           {
            "colorbar": {
             "outlinewidth": 0,
             "ticks": ""
            },
            "colorscale": [
             [
              0,
              "#0d0887"
             ],
             [
              0.1111111111111111,
              "#46039f"
             ],
             [
              0.2222222222222222,
              "#7201a8"
             ],
             [
              0.3333333333333333,
              "#9c179e"
             ],
             [
              0.4444444444444444,
              "#bd3786"
             ],
             [
              0.5555555555555556,
              "#d8576b"
             ],
             [
              0.6666666666666666,
              "#ed7953"
             ],
             [
              0.7777777777777778,
              "#fb9f3a"
             ],
             [
              0.8888888888888888,
              "#fdca26"
             ],
             [
              1,
              "#f0f921"
             ]
            ],
            "type": "heatmap"
           }
          ],
          "histogram": [
           {
            "marker": {
             "pattern": {
              "fillmode": "overlay",
              "size": 10,
              "solidity": 0.2
             }
            },
            "type": "histogram"
           }
          ],
          "histogram2d": [
           {
            "colorbar": {
             "outlinewidth": 0,
             "ticks": ""
            },
            "colorscale": [
             [
              0,
              "#0d0887"
             ],
             [
              0.1111111111111111,
              "#46039f"
             ],
             [
              0.2222222222222222,
              "#7201a8"
             ],
             [
              0.3333333333333333,
              "#9c179e"
             ],
             [
              0.4444444444444444,
              "#bd3786"
             ],
             [
              0.5555555555555556,
              "#d8576b"
             ],
             [
              0.6666666666666666,
              "#ed7953"
             ],
             [
              0.7777777777777778,
              "#fb9f3a"
             ],
             [
              0.8888888888888888,
              "#fdca26"
             ],
             [
              1,
              "#f0f921"
             ]
            ],
            "type": "histogram2d"
           }
          ],
          "histogram2dcontour": [
           {
            "colorbar": {
             "outlinewidth": 0,
             "ticks": ""
            },
            "colorscale": [
             [
              0,
              "#0d0887"
             ],
             [
              0.1111111111111111,
              "#46039f"
             ],
             [
              0.2222222222222222,
              "#7201a8"
             ],
             [
              0.3333333333333333,
              "#9c179e"
             ],
             [
              0.4444444444444444,
              "#bd3786"
             ],
             [
              0.5555555555555556,
              "#d8576b"
             ],
             [
              0.6666666666666666,
              "#ed7953"
             ],
             [
              0.7777777777777778,
              "#fb9f3a"
             ],
             [
              0.8888888888888888,
              "#fdca26"
             ],
             [
              1,
              "#f0f921"
             ]
            ],
            "type": "histogram2dcontour"
           }
          ],
          "mesh3d": [
           {
            "colorbar": {
             "outlinewidth": 0,
             "ticks": ""
            },
            "type": "mesh3d"
           }
          ],
          "parcoords": [
           {
            "line": {
             "colorbar": {
              "outlinewidth": 0,
              "ticks": ""
             }
            },
            "type": "parcoords"
           }
          ],
          "pie": [
           {
            "automargin": true,
            "type": "pie"
           }
          ],
          "scatter": [
           {
            "fillpattern": {
             "fillmode": "overlay",
             "size": 10,
             "solidity": 0.2
            },
            "type": "scatter"
           }
          ],
          "scatter3d": [
           {
            "line": {
             "colorbar": {
              "outlinewidth": 0,
              "ticks": ""
             }
            },
            "marker": {
             "colorbar": {
              "outlinewidth": 0,
              "ticks": ""
             }
            },
            "type": "scatter3d"
           }
          ],
          "scattercarpet": [
           {
            "marker": {
             "colorbar": {
              "outlinewidth": 0,
              "ticks": ""
             }
            },
            "type": "scattercarpet"
           }
          ],
          "scattergeo": [
           {
            "marker": {
             "colorbar": {
              "outlinewidth": 0,
              "ticks": ""
             }
            },
            "type": "scattergeo"
           }
          ],
          "scattergl": [
           {
            "marker": {
             "colorbar": {
              "outlinewidth": 0,
              "ticks": ""
             }
            },
            "type": "scattergl"
           }
          ],
          "scattermap": [
           {
            "marker": {
             "colorbar": {
              "outlinewidth": 0,
              "ticks": ""
             }
            },
            "type": "scattermap"
           }
          ],
          "scattermapbox": [
           {
            "marker": {
             "colorbar": {
              "outlinewidth": 0,
              "ticks": ""
             }
            },
            "type": "scattermapbox"
           }
          ],
          "scatterpolar": [
           {
            "marker": {
             "colorbar": {
              "outlinewidth": 0,
              "ticks": ""
             }
            },
            "type": "scatterpolar"
           }
          ],
          "scatterpolargl": [
           {
            "marker": {
             "colorbar": {
              "outlinewidth": 0,
              "ticks": ""
             }
            },
            "type": "scatterpolargl"
           }
          ],
          "scatterternary": [
           {
            "marker": {
             "colorbar": {
              "outlinewidth": 0,
              "ticks": ""
             }
            },
            "type": "scatterternary"
           }
          ],
          "surface": [
           {
            "colorbar": {
             "outlinewidth": 0,
             "ticks": ""
            },
            "colorscale": [
             [
              0,
              "#0d0887"
             ],
             [
              0.1111111111111111,
              "#46039f"
             ],
             [
              0.2222222222222222,
              "#7201a8"
             ],
             [
              0.3333333333333333,
              "#9c179e"
             ],
             [
              0.4444444444444444,
              "#bd3786"
             ],
             [
              0.5555555555555556,
              "#d8576b"
             ],
             [
              0.6666666666666666,
              "#ed7953"
             ],
             [
              0.7777777777777778,
              "#fb9f3a"
             ],
             [
              0.8888888888888888,
              "#fdca26"
             ],
             [
              1,
              "#f0f921"
             ]
            ],
            "type": "surface"
           }
          ],
          "table": [
           {
            "cells": {
             "fill": {
              "color": "#EBF0F8"
             },
             "line": {
              "color": "white"
             }
            },
            "header": {
             "fill": {
              "color": "#C8D4E3"
             },
             "line": {
              "color": "white"
             }
            },
            "type": "table"
           }
          ]
         },
         "layout": {
          "annotationdefaults": {
           "arrowcolor": "#2a3f5f",
           "arrowhead": 0,
           "arrowwidth": 1
          },
          "autotypenumbers": "strict",
          "coloraxis": {
           "colorbar": {
            "outlinewidth": 0,
            "ticks": ""
           }
          },
          "colorscale": {
           "diverging": [
            [
             0,
             "#8e0152"
            ],
            [
             0.1,
             "#c51b7d"
            ],
            [
             0.2,
             "#de77ae"
            ],
            [
             0.3,
             "#f1b6da"
            ],
            [
             0.4,
             "#fde0ef"
            ],
            [
             0.5,
             "#f7f7f7"
            ],
            [
             0.6,
             "#e6f5d0"
            ],
            [
             0.7,
             "#b8e186"
            ],
            [
             0.8,
             "#7fbc41"
            ],
            [
             0.9,
             "#4d9221"
            ],
            [
             1,
             "#276419"
            ]
           ],
           "sequential": [
            [
             0,
             "#0d0887"
            ],
            [
             0.1111111111111111,
             "#46039f"
            ],
            [
             0.2222222222222222,
             "#7201a8"
            ],
            [
             0.3333333333333333,
             "#9c179e"
            ],
            [
             0.4444444444444444,
             "#bd3786"
            ],
            [
             0.5555555555555556,
             "#d8576b"
            ],
            [
             0.6666666666666666,
             "#ed7953"
            ],
            [
             0.7777777777777778,
             "#fb9f3a"
            ],
            [
             0.8888888888888888,
             "#fdca26"
            ],
            [
             1,
             "#f0f921"
            ]
           ],
           "sequentialminus": [
            [
             0,
             "#0d0887"
            ],
            [
             0.1111111111111111,
             "#46039f"
            ],
            [
             0.2222222222222222,
             "#7201a8"
            ],
            [
             0.3333333333333333,
             "#9c179e"
            ],
            [
             0.4444444444444444,
             "#bd3786"
            ],
            [
             0.5555555555555556,
             "#d8576b"
            ],
            [
             0.6666666666666666,
             "#ed7953"
            ],
            [
             0.7777777777777778,
             "#fb9f3a"
            ],
            [
             0.8888888888888888,
             "#fdca26"
            ],
            [
             1,
             "#f0f921"
            ]
           ]
          },
          "colorway": [
           "#636efa",
           "#EF553B",
           "#00cc96",
           "#ab63fa",
           "#FFA15A",
           "#19d3f3",
           "#FF6692",
           "#B6E880",
           "#FF97FF",
           "#FECB52"
          ],
          "font": {
           "color": "#2a3f5f"
          },
          "geo": {
           "bgcolor": "white",
           "lakecolor": "white",
           "landcolor": "#E5ECF6",
           "showlakes": true,
           "showland": true,
           "subunitcolor": "white"
          },
          "hoverlabel": {
           "align": "left"
          },
          "hovermode": "closest",
          "mapbox": {
           "style": "light"
          },
          "paper_bgcolor": "white",
          "plot_bgcolor": "#E5ECF6",
          "polar": {
           "angularaxis": {
            "gridcolor": "white",
            "linecolor": "white",
            "ticks": ""
           },
           "bgcolor": "#E5ECF6",
           "radialaxis": {
            "gridcolor": "white",
            "linecolor": "white",
            "ticks": ""
           }
          },
          "scene": {
           "xaxis": {
            "backgroundcolor": "#E5ECF6",
            "gridcolor": "white",
            "gridwidth": 2,
            "linecolor": "white",
            "showbackground": true,
            "ticks": "",
            "zerolinecolor": "white"
           },
           "yaxis": {
            "backgroundcolor": "#E5ECF6",
            "gridcolor": "white",
            "gridwidth": 2,
            "linecolor": "white",
            "showbackground": true,
            "ticks": "",
            "zerolinecolor": "white"
           },
           "zaxis": {
            "backgroundcolor": "#E5ECF6",
            "gridcolor": "white",
            "gridwidth": 2,
            "linecolor": "white",
            "showbackground": true,
            "ticks": "",
            "zerolinecolor": "white"
           }
          },
          "shapedefaults": {
           "line": {
            "color": "#2a3f5f"
           }
          },
          "ternary": {
           "aaxis": {
            "gridcolor": "white",
            "linecolor": "white",
            "ticks": ""
           },
           "baxis": {
            "gridcolor": "white",
            "linecolor": "white",
            "ticks": ""
           },
           "bgcolor": "#E5ECF6",
           "caxis": {
            "gridcolor": "white",
            "linecolor": "white",
            "ticks": ""
           }
          },
          "title": {
           "x": 0.05
          },
          "xaxis": {
           "automargin": true,
           "gridcolor": "white",
           "linecolor": "white",
           "ticks": "",
           "title": {
            "standoff": 15
           },
           "zerolinecolor": "white",
           "zerolinewidth": 2
          },
          "yaxis": {
           "automargin": true,
           "gridcolor": "white",
           "linecolor": "white",
           "ticks": "",
           "title": {
            "standoff": 15
           },
           "zerolinecolor": "white",
           "zerolinewidth": 2
          }
         }
        },
        "title": {
         "text": "Distribution of Paintings Across Centuries"
        },
        "xaxis": {
         "anchor": "y",
         "domain": [
          0,
          1
         ],
         "dtick": 1,
         "title": {
          "text": "century"
         }
        },
        "yaxis": {
         "anchor": "x",
         "domain": [
          0,
          1
         ],
         "title": {
          "text": "percentage"
         }
        }
       }
      }
     },
     "metadata": {},
     "output_type": "display_data"
    }
   ],
   "source": [
    "paintings_per_century = (\n",
    "    data.with_columns((pl.col(\"year\") // 100 + 1).alias(\"century\"))\n",
    "    .group_by(\"century\", \"source\")\n",
    "    .len()\n",
    "    .sort(\"century\")\n",
    "    .with_columns(pl.col(\"len\") / data.shape[0] * 100)\n",
    "    .rename({\"len\": \"percentage\"})\n",
    ")\n",
    "print(f\"Covered period: {data['year'].min()} - {data['year'].max()}\")\n",
    "\n",
    "fig = px.bar(\n",
    "    paintings_per_century.sort(\"source\"),\n",
    "    x=\"century\",\n",
    "    y=\"percentage\",\n",
    "    color=\"source\",\n",
    "    title=\"Distribution of Paintings Across Centuries\",\n",
    "    color_discrete_sequence=COLORS[:4],\n",
    ")\n",
    "fig.update_layout(xaxis={\"dtick\": 1})\n",
    "fig.show()"
   ]
  },
  {
   "cell_type": "code",
   "execution_count": 7,
   "metadata": {},
   "outputs": [
    {
     "data": {
      "text/html": [
       "<div><style>\n",
       ".dataframe > thead > tr,\n",
       ".dataframe > tbody > tr {\n",
       "  text-align: right;\n",
       "  white-space: pre-wrap;\n",
       "}\n",
       "</style>\n",
       "<small>shape: (22, 3)</small><table border=\"1\" class=\"dataframe\"><thead><tr><th>century</th><th>source</th><th>paintings number</th></tr><tr><td>i64</td><td>str</td><td>u32</td></tr></thead><tbody><tr><td>14</td><td>&quot;wga&quot;</td><td>13</td></tr><tr><td>14</td><td>&quot;met&quot;</td><td>31</td></tr><tr><td>14</td><td>&quot;wikiart&quot;</td><td>5</td></tr><tr><td>15</td><td>&quot;wikiart&quot;</td><td>28</td></tr><tr><td>15</td><td>&quot;wga&quot;</td><td>630</td></tr><tr><td>15</td><td>&quot;met&quot;</td><td>116</td></tr><tr><td>16</td><td>&quot;wikiart&quot;</td><td>104</td></tr><tr><td>16</td><td>&quot;met&quot;</td><td>215</td></tr><tr><td>16</td><td>&quot;wga&quot;</td><td>2106</td></tr><tr><td>17</td><td>&quot;wikiart&quot;</td><td>85</td></tr><tr><td>17</td><td>&quot;met&quot;</td><td>379</td></tr><tr><td>17</td><td>&quot;wga&quot;</td><td>3319</td></tr><tr><td>18</td><td>&quot;wga&quot;</td><td>1351</td></tr><tr><td>18</td><td>&quot;met&quot;</td><td>274</td></tr><tr><td>18</td><td>&quot;wikiart&quot;</td><td>84</td></tr><tr><td>19</td><td>&quot;wga&quot;</td><td>1633</td></tr><tr><td>19</td><td>&quot;wikiart&quot;</td><td>382</td></tr><tr><td>19</td><td>&quot;met&quot;</td><td>564</td></tr><tr><td>20</td><td>&quot;wikiart&quot;</td><td>471</td></tr><tr><td>20</td><td>&quot;met&quot;</td><td>29</td></tr><tr><td>20</td><td>&quot;wga&quot;</td><td>183</td></tr><tr><td>21</td><td>&quot;wikiart&quot;</td><td>76</td></tr></tbody></table></div>"
      ],
      "text/plain": [
       "shape: (22, 3)\n",
       "┌─────────┬─────────┬──────────────────┐\n",
       "│ century ┆ source  ┆ paintings number │\n",
       "│ ---     ┆ ---     ┆ ---              │\n",
       "│ i64     ┆ str     ┆ u32              │\n",
       "╞═════════╪═════════╪══════════════════╡\n",
       "│ 14      ┆ wga     ┆ 13               │\n",
       "│ 14      ┆ met     ┆ 31               │\n",
       "│ 14      ┆ wikiart ┆ 5                │\n",
       "│ 15      ┆ wikiart ┆ 28               │\n",
       "│ 15      ┆ wga     ┆ 630              │\n",
       "│ 15      ┆ met     ┆ 116              │\n",
       "│ 16      ┆ wikiart ┆ 104              │\n",
       "│ 16      ┆ met     ┆ 215              │\n",
       "│ 16      ┆ wga     ┆ 2106             │\n",
       "│ 17      ┆ wikiart ┆ 85               │\n",
       "│ 17      ┆ met     ┆ 379              │\n",
       "│ 17      ┆ wga     ┆ 3319             │\n",
       "│ 18      ┆ wga     ┆ 1351             │\n",
       "│ 18      ┆ met     ┆ 274              │\n",
       "│ 18      ┆ wikiart ┆ 84               │\n",
       "│ 19      ┆ wga     ┆ 1633             │\n",
       "│ 19      ┆ wikiart ┆ 382              │\n",
       "│ 19      ┆ met     ┆ 564              │\n",
       "│ 20      ┆ wikiart ┆ 471              │\n",
       "│ 20      ┆ met     ┆ 29               │\n",
       "│ 20      ┆ wga     ┆ 183              │\n",
       "│ 21      ┆ wikiart ┆ 76               │\n",
       "└─────────┴─────────┴──────────────────┘"
      ]
     },
     "metadata": {},
     "output_type": "display_data"
    }
   ],
   "source": [
    "paintings_per_century_no = (\n",
    "    data.with_columns((pl.col(\"year\") // 100 + 1).alias(\"century\"))\n",
    "    .group_by(\"century\", \"source\")\n",
    "    .len()\n",
    "    .sort(\"century\")\n",
    "    .rename({\"len\": \"paintings number\"})\n",
    ")\n",
    "\n",
    "with pl.Config(tbl_rows=30):\n",
    "    display(paintings_per_century_no)"
   ]
  },
  {
   "cell_type": "markdown",
   "metadata": {},
   "source": [
    "### 3. Type and style"
   ]
  },
  {
   "cell_type": "code",
   "execution_count": 8,
   "metadata": {},
   "outputs": [
    {
     "name": "stdout",
     "output_type": "stream",
     "text": [
      "Paintings with style and type: 4730\n",
      "Paintings with style or type: 11191\n"
     ]
    }
   ],
   "source": [
    "paintings_with_type_and_style = data.filter(\n",
    "    (\n",
    "        pl.col(\"coarse_type\").is_not_null()\n",
    "        | pl.col(\"first_fine_grained_type\").is_not_null()\n",
    "        | pl.col(\"second_fine_grained_type\").is_not_null()\n",
    "    )\n",
    "    & (pl.col(\"first_style\").is_not_null() | pl.col(\"second_style\").is_not_null())\n",
    ")\n",
    "print(f\"Paintings with style and type: {paintings_with_type_and_style.shape[0]}\")\n",
    "print(f\"Paintings with style or type: {paintings_with_type_or_style.shape[0]}\")"
   ]
  },
  {
   "cell_type": "code",
   "execution_count": null,
   "metadata": {},
   "outputs": [
    {
     "name": "stdout",
     "output_type": "stream",
     "text": [
      "Number of paintings with coarse type: 9873\n",
      "The 7 coarse types are:\n"
     ]
    },
    {
     "data": {
      "text/plain": [
       "Counter({'religious': 2877,\n",
       "         'portrait': 2316,\n",
       "         'landscape': 1575,\n",
       "         'genre': 1136,\n",
       "         'mythological': 1103,\n",
       "         'still life': 482,\n",
       "         'history': 384})"
      ]
     },
     "metadata": {},
     "output_type": "display_data"
    }
   ],
   "source": [
    "paintings_with_coarse_type_no = data.filter(pl.col(\"coarse_type\").is_not_null()).shape[0]\n",
    "\n",
    "coarse_grained_types = Counter(\n",
    "    [type_ for type_ in data[\"coarse_type\"].to_list() if type_ is not None]\n",
    ")\n",
    "\n",
    "print(f\"Number of paintings with coarse type: {paintings_with_coarse_type_no}\")\n",
    "\n",
    "print(f\"The {len(coarse_grained_types)} coarse types are:\")\n",
    "display(coarse_grained_types)"
   ]
  },
  {
   "cell_type": "code",
   "execution_count": null,
   "metadata": {},
   "outputs": [
    {
     "name": "stdout",
     "output_type": "stream",
     "text": [
      "Number of paintings with fine-grained type: 4813\n",
      "The 25 fine-grained types are:\n"
     ]
    },
    {
     "data": {
      "text/plain": [
       "Counter({'religious': 1243,\n",
       "         'portrait': 948,\n",
       "         'genre': 798,\n",
       "         'landscape': 474,\n",
       "         'mythological': 262,\n",
       "         'cityscape': 173,\n",
       "         'allegorical': 161,\n",
       "         'self-portrait': 118,\n",
       "         'history': 104,\n",
       "         'still life': 98,\n",
       "         'nude': 76,\n",
       "         'sketch and study': 72,\n",
       "         'symbolic': 71,\n",
       "         'veduta': 64,\n",
       "         'marina': 58,\n",
       "         'animal': 46,\n",
       "         'flower': 46,\n",
       "         'literary': 43,\n",
       "         'battle': 33,\n",
       "         'tronie': 32,\n",
       "         'interior': 25,\n",
       "         'capriccio': 16,\n",
       "         'pastorale': 14,\n",
       "         'cloudscape': 14,\n",
       "         'figurative': 11})"
      ]
     },
     "metadata": {},
     "output_type": "display_data"
    }
   ],
   "source": [
    "paintings_with_fine_grained_type_no = data.filter(\n",
    "    pl.col(\"first_fine_grained_type\").is_not_null()\n",
    "    | pl.col(\"second_fine_grained_type\").is_not_null()\n",
    ").shape[0]\n",
    "\n",
    "fine_grained_types = Counter(\n",
    "    type_\n",
    "    for type_ in data[\"first_fine_grained_type\"].to_list()\n",
    "    + data[\"second_fine_grained_type\"].to_list()\n",
    "    if type_ is not None\n",
    ")\n",
    "\n",
    "print(f\"Number of paintings with fine-grained type: {paintings_with_fine_grained_type_no}\")\n",
    "\n",
    "print(f\"The {len(fine_grained_types)} fine-grained types are:\")\n",
    "display(fine_grained_types)"
   ]
  },
  {
   "cell_type": "code",
   "execution_count": null,
   "metadata": {},
   "outputs": [
    {
     "name": "stdout",
     "output_type": "stream",
     "text": [
      "Number of paintings with style: 4734\n",
      "The 32 styles are:\n"
     ]
    },
    {
     "data": {
      "text/plain": [
       "Counter({'baroque': 1153,\n",
       "         'mannerism (late renaissance)': 533,\n",
       "         'romanticism': 362,\n",
       "         'impressionism': 351,\n",
       "         'northern renaissance': 348,\n",
       "         'realism': 321,\n",
       "         'rococo': 288,\n",
       "         'high renaissance': 258,\n",
       "         'post-impressionism': 198,\n",
       "         'tenebrism': 148,\n",
       "         'expressionism': 139,\n",
       "         'neoclassicism': 136,\n",
       "         'early renaissance': 131,\n",
       "         'classicism': 105,\n",
       "         'surrealism': 54,\n",
       "         'symbolism': 53,\n",
       "         'naïve art (primitivism)': 50,\n",
       "         'art nouveau': 40,\n",
       "         'magic realism': 38,\n",
       "         'academicism': 37,\n",
       "         'neo-impressionism': 35,\n",
       "         'orientalism': 24,\n",
       "         'cloisonnism': 24,\n",
       "         'pop art': 22,\n",
       "         'neo-figurative art': 20,\n",
       "         'pointillism': 19,\n",
       "         'figurative expressionism': 18,\n",
       "         'regionalism': 17,\n",
       "         'fauvism': 13,\n",
       "         'divisionism': 12,\n",
       "         'neo-romanticism': 12,\n",
       "         'renaissance': 12})"
      ]
     },
     "metadata": {},
     "output_type": "display_data"
    }
   ],
   "source": [
    "paintings_with_style_no = data.filter(\n",
    "    pl.col(\"first_style\").is_not_null() | pl.col(\"second_style\").is_not_null()\n",
    ").shape[0]\n",
    "\n",
    "styles = Counter(\n",
    "    style_\n",
    "    for style_ in data[\"first_style\"].to_list() + data[\"second_style\"].to_list()\n",
    "    if style_ is not None\n",
    ")\n",
    "\n",
    "print(f\"Number of paintings with style: {paintings_with_style_no}\")\n",
    "print(f\"The {len(styles)} styles are:\")\n",
    "display(styles)"
   ]
  },
  {
   "cell_type": "markdown",
   "metadata": {},
   "source": [
    "### 4. Description length"
   ]
  },
  {
   "cell_type": "code",
   "execution_count": 12,
   "metadata": {},
   "outputs": [
    {
     "data": {
      "application/vnd.plotly.v1+json": {
       "config": {
        "plotlyServerURL": "https://plot.ly"
       },
       "data": [
        {
         "alignmentgroup": "True",
         "hovertemplate": "x=%{x}<extra></extra>",
         "legendgroup": "",
         "marker": {
          "color": "#cd968e"
         },
         "name": "",
         "notched": false,
         "offsetgroup": "",
         "orientation": "h",
         "showlegend": false,
         "type": "box",
         "x": {
          "bdata": "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",
          "dtype": "i2"
         },
         "x0": " ",
         "xaxis": "x",
         "y0": " ",
         "yaxis": "y"
        }
       ],
       "layout": {
        "boxmode": "group",
        "legend": {
         "tracegroupgap": 0
        },
        "template": {
         "data": {
          "bar": [
           {
            "error_x": {
             "color": "#2a3f5f"
            },
            "error_y": {
             "color": "#2a3f5f"
            },
            "marker": {
             "line": {
              "color": "#E5ECF6",
              "width": 0.5
             },
             "pattern": {
              "fillmode": "overlay",
              "size": 10,
              "solidity": 0.2
             }
            },
            "type": "bar"
           }
          ],
          "barpolar": [
           {
            "marker": {
             "line": {
              "color": "#E5ECF6",
              "width": 0.5
             },
             "pattern": {
              "fillmode": "overlay",
              "size": 10,
              "solidity": 0.2
             }
            },
            "type": "barpolar"
           }
          ],
          "carpet": [
           {
            "aaxis": {
             "endlinecolor": "#2a3f5f",
             "gridcolor": "white",
             "linecolor": "white",
             "minorgridcolor": "white",
             "startlinecolor": "#2a3f5f"
            },
            "baxis": {
             "endlinecolor": "#2a3f5f",
             "gridcolor": "white",
             "linecolor": "white",
             "minorgridcolor": "white",
             "startlinecolor": "#2a3f5f"
            },
            "type": "carpet"
           }
          ],
          "choropleth": [
           {
            "colorbar": {
             "outlinewidth": 0,
             "ticks": ""
            },
            "type": "choropleth"
           }
          ],
          "contour": [
           {
            "colorbar": {
             "outlinewidth": 0,
             "ticks": ""
            },
            "colorscale": [
             [
              0,
              "#0d0887"
             ],
             [
              0.1111111111111111,
              "#46039f"
             ],
             [
              0.2222222222222222,
              "#7201a8"
             ],
             [
              0.3333333333333333,
              "#9c179e"
             ],
             [
              0.4444444444444444,
              "#bd3786"
             ],
             [
              0.5555555555555556,
              "#d8576b"
             ],
             [
              0.6666666666666666,
              "#ed7953"
             ],
             [
              0.7777777777777778,
              "#fb9f3a"
             ],
             [
              0.8888888888888888,
              "#fdca26"
             ],
             [
              1,
              "#f0f921"
             ]
            ],
            "type": "contour"
           }
          ],
          "contourcarpet": [
           {
            "colorbar": {
             "outlinewidth": 0,
             "ticks": ""
            },
            "type": "contourcarpet"
           }
          ],
          "heatmap": [
           {
            "colorbar": {
             "outlinewidth": 0,
             "ticks": ""
            },
            "colorscale": [
             [
              0,
              "#0d0887"
             ],
             [
              0.1111111111111111,
              "#46039f"
             ],
             [
              0.2222222222222222,
              "#7201a8"
             ],
             [
              0.3333333333333333,
              "#9c179e"
             ],
             [
              0.4444444444444444,
              "#bd3786"
             ],
             [
              0.5555555555555556,
              "#d8576b"
             ],
             [
              0.6666666666666666,
              "#ed7953"
             ],
             [
              0.7777777777777778,
              "#fb9f3a"
             ],
             [
              0.8888888888888888,
              "#fdca26"
             ],
             [
              1,
              "#f0f921"
             ]
            ],
            "type": "heatmap"
           }
          ],
          "histogram": [
           {
            "marker": {
             "pattern": {
              "fillmode": "overlay",
              "size": 10,
              "solidity": 0.2
             }
            },
            "type": "histogram"
           }
          ],
          "histogram2d": [
           {
            "colorbar": {
             "outlinewidth": 0,
             "ticks": ""
            },
            "colorscale": [
             [
              0,
              "#0d0887"
             ],
             [
              0.1111111111111111,
              "#46039f"
             ],
             [
              0.2222222222222222,
              "#7201a8"
             ],
             [
              0.3333333333333333,
              "#9c179e"
             ],
             [
              0.4444444444444444,
              "#bd3786"
             ],
             [
              0.5555555555555556,
              "#d8576b"
             ],
             [
              0.6666666666666666,
              "#ed7953"
             ],
             [
              0.7777777777777778,
              "#fb9f3a"
             ],
             [
              0.8888888888888888,
              "#fdca26"
             ],
             [
              1,
              "#f0f921"
             ]
            ],
            "type": "histogram2d"
           }
          ],
          "histogram2dcontour": [
           {
            "colorbar": {
             "outlinewidth": 0,
             "ticks": ""
            },
            "colorscale": [
             [
              0,
              "#0d0887"
             ],
             [
              0.1111111111111111,
              "#46039f"
             ],
             [
              0.2222222222222222,
              "#7201a8"
             ],
             [
              0.3333333333333333,
              "#9c179e"
             ],
             [
              0.4444444444444444,
              "#bd3786"
             ],
             [
              0.5555555555555556,
              "#d8576b"
             ],
             [
              0.6666666666666666,
              "#ed7953"
             ],
             [
              0.7777777777777778,
              "#fb9f3a"
             ],
             [
              0.8888888888888888,
              "#fdca26"
             ],
             [
              1,
              "#f0f921"
             ]
            ],
            "type": "histogram2dcontour"
           }
          ],
          "mesh3d": [
           {
            "colorbar": {
             "outlinewidth": 0,
             "ticks": ""
            },
            "type": "mesh3d"
           }
          ],
          "parcoords": [
           {
            "line": {
             "colorbar": {
              "outlinewidth": 0,
              "ticks": ""
             }
            },
            "type": "parcoords"
           }
          ],
          "pie": [
           {
            "automargin": true,
            "type": "pie"
           }
          ],
          "scatter": [
           {
            "fillpattern": {
             "fillmode": "overlay",
             "size": 10,
             "solidity": 0.2
            },
            "type": "scatter"
           }
          ],
          "scatter3d": [
           {
            "line": {
             "colorbar": {
              "outlinewidth": 0,
              "ticks": ""
             }
            },
            "marker": {
             "colorbar": {
              "outlinewidth": 0,
              "ticks": ""
             }
            },
            "type": "scatter3d"
           }
          ],
          "scattercarpet": [
           {
            "marker": {
             "colorbar": {
              "outlinewidth": 0,
              "ticks": ""
             }
            },
            "type": "scattercarpet"
           }
          ],
          "scattergeo": [
           {
            "marker": {
             "colorbar": {
              "outlinewidth": 0,
              "ticks": ""
             }
            },
            "type": "scattergeo"
           }
          ],
          "scattergl": [
           {
            "marker": {
             "colorbar": {
              "outlinewidth": 0,
              "ticks": ""
             }
            },
            "type": "scattergl"
           }
          ],
          "scattermap": [
           {
            "marker": {
             "colorbar": {
              "outlinewidth": 0,
              "ticks": ""
             }
            },
            "type": "scattermap"
           }
          ],
          "scattermapbox": [
           {
            "marker": {
             "colorbar": {
              "outlinewidth": 0,
              "ticks": ""
             }
            },
            "type": "scattermapbox"
           }
          ],
          "scatterpolar": [
           {
            "marker": {
             "colorbar": {
              "outlinewidth": 0,
              "ticks": ""
             }
            },
            "type": "scatterpolar"
           }
          ],
          "scatterpolargl": [
           {
            "marker": {
             "colorbar": {
              "outlinewidth": 0,
              "ticks": ""
             }
            },
            "type": "scatterpolargl"
           }
          ],
          "scatterternary": [
           {
            "marker": {
             "colorbar": {
              "outlinewidth": 0,
              "ticks": ""
             }
            },
            "type": "scatterternary"
           }
          ],
          "surface": [
           {
            "colorbar": {
             "outlinewidth": 0,
             "ticks": ""
            },
            "colorscale": [
             [
              0,
              "#0d0887"
             ],
             [
              0.1111111111111111,
              "#46039f"
             ],
             [
              0.2222222222222222,
              "#7201a8"
             ],
             [
              0.3333333333333333,
              "#9c179e"
             ],
             [
              0.4444444444444444,
              "#bd3786"
             ],
             [
              0.5555555555555556,
              "#d8576b"
             ],
             [
              0.6666666666666666,
              "#ed7953"
             ],
             [
              0.7777777777777778,
              "#fb9f3a"
             ],
             [
              0.8888888888888888,
              "#fdca26"
             ],
             [
              1,
              "#f0f921"
             ]
            ],
            "type": "surface"
           }
          ],
          "table": [
           {
            "cells": {
             "fill": {
              "color": "#EBF0F8"
             },
             "line": {
              "color": "white"
             }
            },
            "header": {
             "fill": {
              "color": "#C8D4E3"
             },
             "line": {
              "color": "white"
             }
            },
            "type": "table"
           }
          ]
         },
         "layout": {
          "annotationdefaults": {
           "arrowcolor": "#2a3f5f",
           "arrowhead": 0,
           "arrowwidth": 1
          },
          "autotypenumbers": "strict",
          "coloraxis": {
           "colorbar": {
            "outlinewidth": 0,
            "ticks": ""
           }
          },
          "colorscale": {
           "diverging": [
            [
             0,
             "#8e0152"
            ],
            [
             0.1,
             "#c51b7d"
            ],
            [
             0.2,
             "#de77ae"
            ],
            [
             0.3,
             "#f1b6da"
            ],
            [
             0.4,
             "#fde0ef"
            ],
            [
             0.5,
             "#f7f7f7"
            ],
            [
             0.6,
             "#e6f5d0"
            ],
            [
             0.7,
             "#b8e186"
            ],
            [
             0.8,
             "#7fbc41"
            ],
            [
             0.9,
             "#4d9221"
            ],
            [
             1,
             "#276419"
            ]
           ],
           "sequential": [
            [
             0,
             "#0d0887"
            ],
            [
             0.1111111111111111,
             "#46039f"
            ],
            [
             0.2222222222222222,
             "#7201a8"
            ],
            [
             0.3333333333333333,
             "#9c179e"
            ],
            [
             0.4444444444444444,
             "#bd3786"
            ],
            [
             0.5555555555555556,
             "#d8576b"
            ],
            [
             0.6666666666666666,
             "#ed7953"
            ],
            [
             0.7777777777777778,
             "#fb9f3a"
            ],
            [
             0.8888888888888888,
             "#fdca26"
            ],
            [
             1,
             "#f0f921"
            ]
           ],
           "sequentialminus": [
            [
             0,
             "#0d0887"
            ],
            [
             0.1111111111111111,
             "#46039f"
            ],
            [
             0.2222222222222222,
             "#7201a8"
            ],
            [
             0.3333333333333333,
             "#9c179e"
            ],
            [
             0.4444444444444444,
             "#bd3786"
            ],
            [
             0.5555555555555556,
             "#d8576b"
            ],
            [
             0.6666666666666666,
             "#ed7953"
            ],
            [
             0.7777777777777778,
             "#fb9f3a"
            ],
            [
             0.8888888888888888,
             "#fdca26"
            ],
            [
             1,
             "#f0f921"
            ]
           ]
          },
          "colorway": [
           "#636efa",
           "#EF553B",
           "#00cc96",
           "#ab63fa",
           "#FFA15A",
           "#19d3f3",
           "#FF6692",
           "#B6E880",
           "#FF97FF",
           "#FECB52"
          ],
          "font": {
           "color": "#2a3f5f"
          },
          "geo": {
           "bgcolor": "white",
           "lakecolor": "white",
           "landcolor": "#E5ECF6",
           "showlakes": true,
           "showland": true,
           "subunitcolor": "white"
          },
          "hoverlabel": {
           "align": "left"
          },
          "hovermode": "closest",
          "mapbox": {
           "style": "light"
          },
          "paper_bgcolor": "white",
          "plot_bgcolor": "#E5ECF6",
          "polar": {
           "angularaxis": {
            "gridcolor": "white",
            "linecolor": "white",
            "ticks": ""
           },
           "bgcolor": "#E5ECF6",
           "radialaxis": {
            "gridcolor": "white",
            "linecolor": "white",
            "ticks": ""
           }
          },
          "scene": {
           "xaxis": {
            "backgroundcolor": "#E5ECF6",
            "gridcolor": "white",
            "gridwidth": 2,
            "linecolor": "white",
            "showbackground": true,
            "ticks": "",
            "zerolinecolor": "white"
           },
           "yaxis": {
            "backgroundcolor": "#E5ECF6",
            "gridcolor": "white",
            "gridwidth": 2,
            "linecolor": "white",
            "showbackground": true,
            "ticks": "",
            "zerolinecolor": "white"
           },
           "zaxis": {
            "backgroundcolor": "#E5ECF6",
            "gridcolor": "white",
            "gridwidth": 2,
            "linecolor": "white",
            "showbackground": true,
            "ticks": "",
            "zerolinecolor": "white"
           }
          },
          "shapedefaults": {
           "line": {
            "color": "#2a3f5f"
           }
          },
          "ternary": {
           "aaxis": {
            "gridcolor": "white",
            "linecolor": "white",
            "ticks": ""
           },
           "baxis": {
            "gridcolor": "white",
            "linecolor": "white",
            "ticks": ""
           },
           "bgcolor": "#E5ECF6",
           "caxis": {
            "gridcolor": "white",
            "linecolor": "white",
            "ticks": ""
           }
          },
          "title": {
           "x": 0.05
          },
          "xaxis": {
           "automargin": true,
           "gridcolor": "white",
           "linecolor": "white",
           "ticks": "",
           "title": {
            "standoff": 15
           },
           "zerolinecolor": "white",
           "zerolinewidth": 2
          },
          "yaxis": {
           "automargin": true,
           "gridcolor": "white",
           "linecolor": "white",
           "ticks": "",
           "title": {
            "standoff": 15
           },
           "zerolinecolor": "white",
           "zerolinewidth": 2
          }
         }
        },
        "title": {
         "text": "Description Word Count"
        },
        "xaxis": {
         "anchor": "y",
         "domain": [
          0,
          1
         ],
         "title": {
          "text": "number of words"
         }
        },
        "yaxis": {
         "anchor": "x",
         "domain": [
          0,
          1
         ]
        }
       }
      }
     },
     "metadata": {},
     "output_type": "display_data"
    }
   ],
   "source": [
    "data_description_word_count = data.with_columns(\n",
    "    pl.col(\"description\")\n",
    "    .map_elements(lambda x: len(x.split(\" \")), return_dtype=pl.Int64)\n",
    "    .alias(\"description word count\")\n",
    ")\n",
    "\n",
    "fig = px.box(\n",
    "    x=data_description_word_count[\"description word count\"],\n",
    "    title=\"Description Word Count\",\n",
    "    color_discrete_sequence=COLORS[0:1],\n",
    ")\n",
    "fig.update_xaxes(title_text=\"number of words\")\n",
    "fig.show()"
   ]
  },
  {
   "cell_type": "code",
   "execution_count": 13,
   "metadata": {},
   "outputs": [
    {
     "name": "stdout",
     "output_type": "stream",
     "text": [
      "shortest:\n",
      "Mastelletta's grand, open-air fêtes champêtres, combining landscape and slender, silhouette-like figures, depicted through a simplified, expressionistic design, lie at the root of his fame and originality.\n",
      "\n",
      "medium:\n",
      "In the 17th century the painting was attributed to Giorgione, and later for a long time to Palma Vecchio. However, recently it was given to Tiziano.\n",
      "The Bravo, so called because of the mysterious armed man with his back to us, falls into Titian's Giorgionesque phase and demonstrates an undercurrent of cruelty. The subject has been convincingly identified as the arrest of Bacchus by Pentheus, King of Thebes, who opposed the Bacchic cult. Bacchus' revenge was dire, and Pentheus was torn to pieces by his mother and sisters.\n",
      "\n",
      "long:\n",
      "Considered a rare oddity by contemporaries, this painting by \"three hands\" (Morazzone, Giovan Battista Crespi and Giulio Cesare Procaccini) recalls the competitions that were common in the fourteenth and fifteenth centuries, in which painters vied to outdo one another in rendering the same subject. Here, however, the three artists collaborated on a single picture. Similar outlooks and experiences created a common bond, a sort of \"family resemblance\" among the three, so that stylistically the painting has unity, despite variations and differences.\n",
      "The compositional structure of the work, probably conceived by Morazzone, pivots the central figure of the executioner. On the left there is Cerano's flashingly lighted horse and rider, the horse sumptuously dappled in black and white, vaguely recalling Van Dyck. Cerano's typical spiraling forms are seen in the cupid with the dog and the decapitated saint. In his broken line and repeating contours, as well as in the \"marbled\" effect not only of the drapery but also of the flesh, he shows unmistakably greater maturity and feeling than is to be found in Morazzone's warm theatricality or in Procaccini's softly pleasing effects.\n",
      "In the centre, Morazzone's executioner, with his tensely elongated trunk and arms, recalls similar figures by the artist in the seventh chapel at the Sacro Monte, Varese. Also attributable to Morazzone is the angel bearing the palm of martyrdom, disposed along a diagonal paralleling the executioner's arm, and the luminous freely rendered heads in the background. Procaccini was responsible for the figure of the saint, languidly waiting for the blow to fall, and the attendant angel who comforts her and points to heaven.\n"
     ]
    }
   ],
   "source": [
    "description_lengths = [\"shortest:\\n\", \"\\nmedium:\\n\", \"\\nlong:\\n\"]\n",
    "\n",
    "for index, description_index in enumerate([0, 5000, 10000]):\n",
    "    description = data_description_word_count.sort(\"description word count\")[\"description\"][\n",
    "        description_index\n",
    "    ]\n",
    "\n",
    "    print(f\"{description_lengths[index]}{description}\")"
   ]
  }
 ],
 "metadata": {
  "kernelspec": {
   "display_name": "enhance_vg",
   "language": "python",
   "name": "python3"
  },
  "language_info": {
   "codemirror_mode": {
    "name": "ipython",
    "version": 3
   },
   "file_extension": ".py",
   "mimetype": "text/x-python",
   "name": "python",
   "nbconvert_exporter": "python",
   "pygments_lexer": "ipython3",
   "version": "3.12.3"
  }
 },
 "nbformat": 4,
 "nbformat_minor": 2
}
