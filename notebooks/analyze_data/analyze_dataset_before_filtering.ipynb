{
 "cells": [
  {
   "cell_type": "markdown",
   "metadata": {},
   "source": [
    "# Analyze the created dataset before pre-processing\n",
    "This notebook analyzes each feature of the dataset and is leveraged to understand which type of paintings are under-represented."
   ]
  },
  {
   "cell_type": "markdown",
   "metadata": {},
   "source": [
    "### 0. Import libraries and load data"
   ]
  },
  {
   "cell_type": "code",
   "execution_count": null,
   "metadata": {},
   "outputs": [],
   "source": [
    "import polars as pl\n",
    "import plotly.express as px\n",
    "\n",
    "INTERMEDIATE_DATA_PATH = \"../../data/intermediate/\"\n",
    "COLORS = [\"#cd968e\", \"#acb0e0\", \"#aecbdc\", \"#bcd5c3\", \"#bfbfbf\"]"
   ]
  },
  {
   "cell_type": "code",
   "execution_count": null,
   "metadata": {},
   "outputs": [],
   "source": [
    "datasets_names = [\"met\", \"wikiart\", \"wga\"]\n",
    "datasets = []\n",
    "\n",
    "for dataset_name in datasets_names:\n",
    "    datasets.append(\n",
    "        pl.read_json(\n",
    "            f\"{INTERMEDIATE_DATA_PATH}{dataset_name}_paintings/{dataset_name}_paintings_enhanced_data.json\"\n",
    "        ).with_columns(pl.lit(dataset_name).alias(\"source\"))\n",
    "    )\n",
    "\n",
    "data = pl.concat(datasets)\n",
    "data"
   ]
  },
  {
   "cell_type": "code",
   "execution_count": null,
   "metadata": {},
   "outputs": [],
   "source": [
    "data[\"source\"].value_counts().sort(\"count\")"
   ]
  },
  {
   "cell_type": "markdown",
   "metadata": {},
   "source": [
    "### 1. Artists"
   ]
  },
  {
   "cell_type": "code",
   "execution_count": null,
   "metadata": {},
   "outputs": [],
   "source": [
    "artist_frequency = data[\"artist\"].value_counts().sort(\"count\").rename({\"count\": \"frequency\"})\n",
    "print(f\"Number of artists: {len(set(data['artist'].to_list()))}\")\n",
    "\n",
    "fig = px.histogram(\n",
    "    artist_frequency, x=\"frequency\", title=\"Artist Frequency\", color_discrete_sequence=COLORS[2:3]\n",
    ")\n",
    "fig.show()"
   ]
  },
  {
   "cell_type": "code",
   "execution_count": null,
   "metadata": {},
   "outputs": [],
   "source": [
    "data[\"artist\"].value_counts().sort(\"count\")"
   ]
  },
  {
   "cell_type": "code",
   "execution_count": null,
   "metadata": {},
   "outputs": [],
   "source": [
    "paintings_with_type_or_style = data.filter(\n",
    "    pl.col(\"coarse_type\").is_not_null()\n",
    "    | pl.col(\"fine_grained_type\").is_not_null()\n",
    "    | pl.col(\"style\").is_not_null()\n",
    ")\n",
    "\n",
    "artists_with_type_or_style = len(set(paintings_with_type_or_style[\"artist\"].to_list()))\n",
    "print(f\"Artists that have paintings with associated style or type: {artists_with_type_or_style}\")"
   ]
  },
  {
   "cell_type": "markdown",
   "metadata": {},
   "source": [
    "### 2. Year of creation"
   ]
  },
  {
   "cell_type": "code",
   "execution_count": null,
   "metadata": {},
   "outputs": [],
   "source": [
    "paintings_per_century = (\n",
    "    data.with_columns((pl.col(\"year\") // 100 + 1).alias(\"century\"))\n",
    "    .group_by(\"century\", \"source\")\n",
    "    .len()\n",
    "    .sort(\"century\")\n",
    "    .with_columns(pl.col(\"len\") / data.shape[0] * 100)\n",
    "    .rename({\"len\": \"percentage\"})\n",
    ")\n",
    "print(f\"Covered period: {data['year'].min()} - {data['year'].max()}\")\n",
    "\n",
    "fig = px.bar(\n",
    "    paintings_per_century,\n",
    "    x=\"century\",\n",
    "    y=\"percentage\",\n",
    "    color=\"source\",\n",
    "    title=\"Distribution of Paintings Across Centuries\",\n",
    "    color_discrete_sequence=COLORS[:4],\n",
    ")\n",
    "fig.update_layout(xaxis={\"dtick\": 1})\n",
    "fig.show()"
   ]
  },
  {
   "cell_type": "code",
   "execution_count": null,
   "metadata": {},
   "outputs": [],
   "source": [
    "paintings_per_century_no = (\n",
    "    data.with_columns((pl.col(\"year\") // 100 + 1).alias(\"century\"))\n",
    "    .group_by(\"century\", \"source\")\n",
    "    .len()\n",
    "    .sort(\"century\")\n",
    "    .rename({\"len\": \"paintings number\"})\n",
    ")\n",
    "\n",
    "with pl.Config(tbl_rows=30):\n",
    "    display(paintings_per_century_no)"
   ]
  },
  {
   "cell_type": "markdown",
   "metadata": {},
   "source": [
    "### 3. Type and style"
   ]
  },
  {
   "cell_type": "code",
   "execution_count": null,
   "metadata": {},
   "outputs": [],
   "source": [
    "paintings_with_type_and_style = data.filter(\n",
    "    pl.col(\"coarse_type\").is_not_null()\n",
    "    & pl.col(\"fine_grained_type\").is_not_null()\n",
    "    & pl.col(\"style\").is_not_null()\n",
    ")\n",
    "print(f\"Paintings with style and type: {paintings_with_type_and_style.shape[0]}\")\n",
    "print(f\"Paintings with style or type: {paintings_with_type_or_style.shape[0]}\")"
   ]
  },
  {
   "cell_type": "code",
   "execution_count": null,
   "metadata": {},
   "outputs": [],
   "source": [
    "print(\n",
    "    f\"Number of painintgs with coarse type: {data.filter(pl.col('coarse_type').is_not_null()).shape[0]}\"\n",
    ")\n",
    "coarse_grained_types = data[\"coarse_type\"].value_counts().sort(\"count\").to_numpy()\n",
    "print(f\"The {len(coarse_grained_types)} coarse types are:\\n{coarse_grained_types}\")"
   ]
  },
  {
   "cell_type": "code",
   "execution_count": null,
   "metadata": {},
   "outputs": [],
   "source": [
    "print(\n",
    "    f\"Number of paintings with fine-grained type: {data.filter(pl.col('fine_grained_type').is_not_null()).shape[0]}\"\n",
    ")\n",
    "fine_grained_types = data[\"fine_grained_type\"].value_counts().sort(\"count\").to_numpy()\n",
    "print(f\"The {len(fine_grained_types)} fine-grained types are:\\n{fine_grained_types}\")"
   ]
  },
  {
   "cell_type": "code",
   "execution_count": null,
   "metadata": {},
   "outputs": [],
   "source": [
    "print(f\"Number of painintgs with style: {data.filter(pl.col('style').is_not_null()).shape[0]}\")\n",
    "styles = data[\"style\"].value_counts().sort(\"count\").to_numpy()\n",
    "print(f\"The {len(styles)} styles are:\\n{styles}\")"
   ]
  },
  {
   "cell_type": "markdown",
   "metadata": {},
   "source": [
    "### 4. Description length"
   ]
  },
  {
   "cell_type": "code",
   "execution_count": null,
   "metadata": {},
   "outputs": [],
   "source": [
    "data_description_word_count = data.with_columns(\n",
    "    pl.col(\"description\")\n",
    "    .map_elements(lambda x: len(x.split(\" \")), return_dtype=pl.Int64)\n",
    "    .alias(\"description word count\")\n",
    ")\n",
    "\n",
    "fig = px.box(\n",
    "    data_description_word_count,\n",
    "    x=\"description word count\",\n",
    "    title=\"Description Word Count\",\n",
    "    color_discrete_sequence=COLORS[0:3],\n",
    "    color=\"source\"\n",
    ")\n",
    "fig.update_xaxes(title_text=\"number of words\")\n",
    "fig.show()"
   ]
  },
  {
   "cell_type": "code",
   "execution_count": null,
   "metadata": {},
   "outputs": [],
   "source": [
    "description_lengths = [\"shortest:\\n\", \"\\nmedium:\\n\", \"\\nlong:\\n\"]\n",
    "\n",
    "for index, description_index in enumerate([0, 5000, 10000]):\n",
    "    description = data_description_word_count.sort(\"description word count\")[\"description\"][\n",
    "        description_index\n",
    "    ]\n",
    "\n",
    "    print(f\"{description_lengths[index]}{description}\")"
   ]
  }
 ],
 "metadata": {
  "kernelspec": {
   "display_name": "enhance_vg",
   "language": "python",
   "name": "python3"
  },
  "language_info": {
   "codemirror_mode": {
    "name": "ipython",
    "version": 3
   },
   "file_extension": ".py",
   "mimetype": "text/x-python",
   "name": "python",
   "nbconvert_exporter": "python",
   "pygments_lexer": "ipython3",
   "version": "3.12.3"
  }
 },
 "nbformat": 4,
 "nbformat_minor": 2
}
