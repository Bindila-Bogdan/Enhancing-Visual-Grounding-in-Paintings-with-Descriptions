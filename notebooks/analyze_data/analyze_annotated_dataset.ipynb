{
 "cells": [
  {
   "cell_type": "markdown",
   "id": "4e6a77d0",
   "metadata": {},
   "source": [
    "# Analyze annotated dataset"
   ]
  },
  {
   "cell_type": "markdown",
   "id": "86553712",
   "metadata": {},
   "source": [
    "### 0. Import libraries and data"
   ]
  },
  {
   "cell_type": "code",
   "execution_count": null,
   "id": "7f71b354",
   "metadata": {},
   "outputs": [],
   "source": [
    "import sys\n",
    "import copy\n",
    "import json\n",
    "import random\n",
    "import polars as pl\n",
    "from tqdm import tqdm\n",
    "import plotly.express as px\n",
    "import matplotlib.pyplot as plt\n",
    "from wordcloud import WordCloud\n",
    "\n",
    "sys.path.append(\"../annotate_dataset/\")\n",
    "\n",
    "ANNOTATIONS_PATH = \"../../data/annotations/\"\n",
    "INTERMEDIATE_DATA_PATH = \"../../data/intermediate/filtered_paintings/\"\n",
    "PROCESSED_DATA_PATH = \"../../data/processed/\"\n",
    "\n",
    "random.seed(42)\n",
    "COLORS = [\"#cd968e\", \"#acb0e0\", \"#aecbdc\", \"#bcd5c3\", \"#bfbfbf\"]\n",
    "\n",
    "from ground_objects import *\n",
    "from annotate_paintings_utils import *"
   ]
  },
  {
   "cell_type": "code",
   "execution_count": null,
   "id": "337c1601",
   "metadata": {},
   "outputs": [],
   "source": [
    "with open(f\"{ANNOTATIONS_PATH}unfiltered_annotations.json\") as f:\n",
    "    unfiltered_annotations = json.load(f)\n",
    "\n",
    "for annotation_index in range(len(unfiltered_annotations)):\n",
    "    for obj, desc in unfiltered_annotations[annotation_index][\"objects\"].items():\n",
    "        unfiltered_annotations[annotation_index][\"objects\"][obj] = {\"description\": desc[-1], \"bounding_boxes\": []}\n",
    "\n",
    "    for bbox in unfiltered_annotations[annotation_index][\"bounding_boxes\"]:\n",
    "        unfiltered_annotations[annotation_index][\"objects\"][bbox[0]][\"bounding_boxes\"].append([bbox[1], bbox[2]])\n",
    "\n",
    "    del unfiltered_annotations[annotation_index][\"bounding_boxes\"]\n",
    "    del unfiltered_annotations[annotation_index][\"extraction_judgement\"]\n",
    "    del unfiltered_annotations[annotation_index][\"description_judgement\"]\n",
    "\n",
    "with open(f\"{PROCESSED_DATA_PATH}paintings_with_all_objects.json\") as f:\n",
    "    filtered_annotation_all_objects = json.load(f)\n",
    "\n",
    "with open(f\"{PROCESSED_DATA_PATH}paintings_with_filtered_objects.json\") as f:\n",
    "    filtered_annotation_filtered_objects = json.load(f)"
   ]
  },
  {
   "cell_type": "markdown",
   "id": "52f84b43",
   "metadata": {},
   "source": [
    "### 1. Statistics of the initial dataset"
   ]
  },
  {
   "cell_type": "markdown",
   "id": "ccd2be25",
   "metadata": {},
   "source": [
    "The initial dataset has 12078 paintings. \\\n",
    "More info can be found in the analyze_filtered_dataset.ipynb notebook."
   ]
  },
  {
   "cell_type": "code",
   "execution_count": null,
   "id": "f89e1167",
   "metadata": {},
   "outputs": [],
   "source": [
    "def compute_statistics(annotations):\n",
    "    obj_no = 0\n",
    "    obj_with_bbox = 0\n",
    "    obj_with_desc = 0\n",
    "    obj_with_bbox_desc = 0\n",
    "\n",
    "    bbox_no_per_object = []\n",
    "    obj_no_per_painting = []\n",
    "    bbox_no_per_painting = []\n",
    "    non_empty_description_words_no = []\n",
    "\n",
    "    for annotation in annotations:\n",
    "        obj_no_per_painting.append(len(annotation[\"objects\"]))\n",
    "\n",
    "        painting_bbox_no = 0\n",
    "\n",
    "        if len(annotation[\"objects\"]) == 0:\n",
    "            continue\n",
    "\n",
    "        for _, desc in annotation[\"objects\"].items():\n",
    "            obj_no += 1\n",
    "\n",
    "            if len(desc[\"description\"].split(\" \")) != 0 and len(desc[\"description\"]) != 0:\n",
    "                non_empty_description_words_no.append(len(desc[\"description\"].split(\" \")))\n",
    "            \n",
    "            if len(desc[\"description\"]) != 0 and len(desc[\"bounding_boxes\"]) != 0:\n",
    "                obj_with_bbox_desc += 1\n",
    "\n",
    "            if len(desc[\"description\"]) != 0:\n",
    "                obj_with_desc += 1\n",
    "            \n",
    "            if len(desc[\"bounding_boxes\"]) != 0:\n",
    "                obj_with_bbox += 1\n",
    "                bbox_no_per_object.append(len(desc[\"bounding_boxes\"]))\n",
    "                painting_bbox_no += len(desc[\"bounding_boxes\"])\n",
    "\n",
    "        bbox_no_per_painting.append(painting_bbox_no)\n",
    "\n",
    "    print(f\"Number of paintings: {len(annotations)}\")\n",
    "    print(f\"Number of objects: {obj_no}\")\n",
    "    print(f\"Number of objects with descriptions: {obj_with_desc} ({obj_with_desc / obj_no * 100}%)\")\n",
    "    print(f\"Number of objects with bounding boxes: {obj_with_bbox} ({obj_with_bbox / obj_no * 100}%)\")\n",
    "    print(f\"Number of objects with bounding boxes and descriptions: {obj_with_bbox_desc} ({obj_with_bbox_desc / obj_no * 100}%)\")\n",
    "    print(f\"Number of bounding boxes: {sum(bbox_no_per_object)}\")\n",
    "\n",
    "    all_statistics = []\n",
    "\n",
    "    for measurement_name, measurement in [[\"bbox_no_per_object\", bbox_no_per_object], [\"obj_no_per_painting\", obj_no_per_painting], [\"bbox_no_per_painting\", bbox_no_per_painting], [\"non_empty_description_words_no\", non_empty_description_words_no]]:\n",
    "        statistics = pl.DataFrame(measurement).describe().transpose()\n",
    "        statistics = statistics.rename({old_col: new_col for old_col, new_col in zip(statistics.columns, statistics.row(0))})\n",
    "        all_statistics.append(statistics.slice(1, statistics.height - 1).with_columns(pl.all().cast(pl.Float32)).with_columns(pl.Series([measurement_name]).alias(\"name\")))\n",
    "\n",
    "    all_statistics = pl.concat(all_statistics).drop(\"count\", \"null_count\")\n",
    "    display(all_statistics)\n",
    "\n",
    "    fig = px.box(\n",
    "    x=non_empty_description_words_no,\n",
    "    color_discrete_sequence=COLORS[1:2],\n",
    "    title=\"Number of words per non-empty description\"\n",
    "    )\n",
    "\n",
    "    fig.show()"
   ]
  },
  {
   "cell_type": "markdown",
   "id": "cf4ae4a4",
   "metadata": {},
   "source": [
    "### 2. Statistics after running the annotation pipeline"
   ]
  },
  {
   "cell_type": "markdown",
   "id": "dc39a2cc",
   "metadata": {
    "vscode": {
     "languageId": "plaintext"
    }
   },
   "source": [
    "- The final number of paintings for which the annotator did not work correctly: 405 (3.35%)\n",
    "- The final number of paintings for which the judge did not work correctly: 68 (0.56%)\n",
    "- The final number of paintings without objects: 484 (4.00%)\n",
    "- The final number of of annotated paintings: 11121 (92.07%)"
   ]
  },
  {
   "cell_type": "code",
   "execution_count": null,
   "id": "220ea1c9",
   "metadata": {},
   "outputs": [],
   "source": [
    "compute_statistics(unfiltered_annotations)"
   ]
  },
  {
   "cell_type": "markdown",
   "id": "d133d030",
   "metadata": {},
   "source": [
    "### 2. Statistics after filtering based on judge scores, after refining bounding boxes"
   ]
  },
  {
   "cell_type": "code",
   "execution_count": null,
   "id": "c8801b7a",
   "metadata": {},
   "outputs": [],
   "source": [
    "compute_statistics(filtered_annotation_all_objects)"
   ]
  },
  {
   "cell_type": "markdown",
   "id": "bb24c02f",
   "metadata": {},
   "source": [
    "### 3. Statistics of the final dataset where each object has a description and at least a bounding box"
   ]
  },
  {
   "cell_type": "code",
   "execution_count": null,
   "id": "807781a9",
   "metadata": {},
   "outputs": [],
   "source": [
    "compute_statistics(filtered_annotation_filtered_objects)"
   ]
  },
  {
   "cell_type": "markdown",
   "id": "5a6a1355",
   "metadata": {},
   "source": [
    "The paintings that were kept have the same distribution for style, genre, source etc.\\\n",
    "Even the distributions of the number of words per description from each source remained the same. \\\n",
    "Last but not least, the paintings with the longest descriptions were kept. "
   ]
  },
  {
   "cell_type": "markdown",
   "id": "a8b36b03",
   "metadata": {},
   "source": [
    "#### 3.1. Analyze the distribution of final object labels"
   ]
  },
  {
   "cell_type": "code",
   "execution_count": null,
   "id": "4b9d3f7d",
   "metadata": {},
   "outputs": [],
   "source": [
    "object_labels = []\n",
    "\n",
    "for annotation in filtered_annotation_filtered_objects:\n",
    "    object_labels.append(list(annotation[\"objects\"].keys()))\n",
    "    \n",
    "paintings_objects = copy.deepcopy(filtered_annotation_filtered_objects)\n",
    "\n",
    "for index, painting_objects in enumerate(paintings_objects):\n",
    "    paintings_objects[index][\"objects\"] = object_labels[index]\n",
    "\n",
    "paintings_objects = pl.from_dicts(paintings_objects).explode(\"objects\")\n",
    "paintings_objects"
   ]
  },
  {
   "cell_type": "code",
   "execution_count": null,
   "id": "a54fa8fd",
   "metadata": {},
   "outputs": [],
   "source": [
    "# most frequent object names\n",
    "unique_labels = paintings_objects.group_by(\"objects\").len().sort(\"len\", descending=True)\n",
    "print(f\"The number of unique labels: {unique_labels.shape[0]}\")\n",
    "\n",
    "with pl.Config(tbl_rows=100):\n",
    "    display(unique_labels[:100])"
   ]
  },
  {
   "cell_type": "code",
   "execution_count": null,
   "id": "ad7e48b1",
   "metadata": {},
   "outputs": [],
   "source": [
    "# number of object names that appear at least n times (in n paintings)\n",
    "for min_appearances in range(1, 11):\n",
    "    print(f\"Object names with minimum {min_appearances * 10} appearances: {unique_labels.filter((pl.col(\"len\") > min_appearances * 10)).shape[0]}\")"
   ]
  },
  {
   "cell_type": "code",
   "execution_count": null,
   "id": "3f3e36f4",
   "metadata": {},
   "outputs": [],
   "source": [
    "# frequency of object names by their number of appearances\n",
    "fig = px.histogram(\n",
    "x=unique_labels[\"len\"],\n",
    "color_discrete_sequence=COLORS[1:2],\n",
    "title=\"Distribution of labels by their number of appearances\"\n",
    ")\n",
    "fig.update_layout(xaxis_title=\"number of appearances\")\n",
    "\n",
    "fig.show()"
   ]
  },
  {
   "cell_type": "code",
   "execution_count": null,
   "id": "2c5dd1b9",
   "metadata": {},
   "outputs": [],
   "source": [
    "def analyze_object_distribution(paintings_objects, object_name):\n",
    "    for col in [\"artist\", \"coarse_type\", \"first_style\", \"second_style\", \"source\"]:\n",
    "        display(paintings_objects.filter(pl.col(\"objects\") == object_name)[col].value_counts().sort(\"count\", descending=True))"
   ]
  },
  {
   "cell_type": "code",
   "execution_count": null,
   "id": "9475b01a",
   "metadata": {},
   "outputs": [],
   "source": [
    "# it seems that an object name can be found in paintings of all types\n",
    "# there isn't a tendancy for an object name to appear only in one kind of paintings\n",
    "analyze_object_distribution(paintings_objects, \"diana\")"
   ]
  },
  {
   "cell_type": "code",
   "execution_count": null,
   "id": "78349337",
   "metadata": {},
   "outputs": [],
   "source": [
    "def random_color_func(word, font_size, position, orientation, random_state, **kwargs):\n",
    "    return random.choice(COLORS)\n",
    "\n",
    "text = \" \".join([obj.replace(\" \", \"_\") for obj in paintings_objects[\"objects\"].to_list()])\n",
    "\n",
    "wordcloud = WordCloud(\n",
    "    width=1980,          \n",
    "    height=1080,       \n",
    "    background_color=\"white\", \n",
    "    min_font_size=20,    \n",
    "    max_words=158,      \n",
    "    collocations=False,\n",
    "    color_func=random_color_func \n",
    ").generate(text)\n",
    "\n",
    "plt.figure(figsize=(19, 8))\n",
    "plt.imshow(wordcloud, interpolation=\"bilinear\")\n",
    "plt.axis(\"off\") \n",
    "plt.show() "
   ]
  },
  {
   "cell_type": "markdown",
   "id": "83302d5f",
   "metadata": {},
   "source": [
    "### 4. Visual analysis of the annotated paintings"
   ]
  },
  {
   "cell_type": "code",
   "execution_count": null,
   "id": "6b86d1c4",
   "metadata": {},
   "outputs": [],
   "source": [
    "def print_description(description, words_per_line=15):   \n",
    "    description_words = description.replace(\"\\n\", \" \").split(\" \")\n",
    "\n",
    "    for i in range(0, len(description_words), words_per_line):\n",
    "        line = \" \".join(description_words[i:i + words_per_line])\n",
    "        print(line)"
   ]
  },
  {
   "cell_type": "code",
   "execution_count": null,
   "id": "c340ca4a",
   "metadata": {},
   "outputs": [],
   "source": [
    "random.shuffle(filtered_annotation_filtered_objects)\n",
    "\n",
    "for annotation in filtered_annotation_filtered_objects[:100]:\n",
    "    bboxes = []\n",
    "    print(annotation[\"id\"])\n",
    "\n",
    "    for obj, obj_data in annotation[\"objects\"].items():\n",
    "        print_description(f\"{obj} -> {obj_data[\"description\"]}\")\n",
    "        bboxes.extend([[obj, bbox[0], bbox[1]] for bbox in obj_data[\"bounding_boxes\"]])\n",
    "\n",
    "    _, image = load_image(annotation[\"id\"])\n",
    "    display_annotated_image(copy.deepcopy(image), bboxes, True)\n"
   ]
  }
 ],
 "metadata": {
  "kernelspec": {
   "display_name": "enhance_vg",
   "language": "python",
   "name": "python3"
  },
  "language_info": {
   "codemirror_mode": {
    "name": "ipython",
    "version": 3
   },
   "file_extension": ".py",
   "mimetype": "text/x-python",
   "name": "python",
   "nbconvert_exporter": "python",
   "pygments_lexer": "ipython3",
   "version": "3.12.3"
  }
 },
 "nbformat": 4,
 "nbformat_minor": 5
}
