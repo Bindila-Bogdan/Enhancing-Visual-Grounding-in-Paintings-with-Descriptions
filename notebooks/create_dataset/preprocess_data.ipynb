{
 "cells": [
  {
   "cell_type": "markdown",
   "metadata": {},
   "source": [
    "# Preprocess data\n",
    "This notebook normalizes the names of types and styles of paintings, removes the hard-to-comprehend artworks (based on style and type), filteres out artworks that are duplicated or are not paintings and places the filtered dataset in one directory. "
   ]
  },
  {
   "cell_type": "markdown",
   "metadata": {},
   "source": [
    "### 0. Import libraries and load data"
   ]
  },
  {
   "cell_type": "code",
   "execution_count": null,
   "metadata": {},
   "outputs": [],
   "source": [
    "import os\n",
    "import json\n",
    "import shutil\n",
    "\n",
    "import polars as pl\n",
    "from tqdm import tqdm\n",
    "\n",
    "from preprocess_data_utils import *\n",
    "\n",
    "COLORS = [\"#cd968e\", \"#acb0e0\", \"#aecbdc\", \"#bcd5c3\", \"#bfbfbf\"]"
   ]
  },
  {
   "cell_type": "code",
   "execution_count": null,
   "metadata": {},
   "outputs": [],
   "source": [
    "RAW_DATA_PATH = \"../../data/raw/\"\n",
    "INTERMEDIATE_DATA_PATH = \"../../data/intermediate/\""
   ]
  },
  {
   "cell_type": "code",
   "execution_count": null,
   "metadata": {},
   "outputs": [],
   "source": [
    "try:\n",
    "    os.mkdir(INTERMEDIATE_DATA_PATH + \"filtered_paintings/\")\n",
    "except FileExistsError:\n",
    "    pass\n",
    "\n",
    "try:\n",
    "    os.mkdir(RAW_DATA_PATH + \"filtered_paintings/\")\n",
    "except FileExistsError:\n",
    "    pass"
   ]
  },
  {
   "cell_type": "code",
   "execution_count": null,
   "metadata": {},
   "outputs": [],
   "source": [
    "datasets_names = [\"met\", \"wikiart\", \"wga\"]\n",
    "datasets = []\n",
    "\n",
    "for dataset_name in datasets_names:\n",
    "    datasets.append(\n",
    "        pl.read_json(\n",
    "            f\"{INTERMEDIATE_DATA_PATH}{dataset_name}_paintings/{dataset_name}_paintings_enhanced_data.json\"\n",
    "        ).with_columns(pl.lit(dataset_name).alias(\"source\"))\n",
    "    )\n",
    "\n",
    "data = pl.concat(datasets)\n",
    "data"
   ]
  },
  {
   "cell_type": "markdown",
   "metadata": {},
   "source": [
    "### 1. Normalize styles and types of paintings"
   ]
  },
  {
   "cell_type": "code",
   "execution_count": null,
   "metadata": {},
   "outputs": [],
   "source": [
    "data = data.filter(\n",
    "    ~pl.col(\"fine_grained_type\").str.contains_any(FILTERED_OUT_TYPES)\n",
    "    | pl.col(\"fine_grained_type\").is_null()\n",
    ")\n",
    "\n",
    "data = (\n",
    "    data.with_columns(\n",
    "        pl.col(\"fine_grained_type\")\n",
    "        .str.split_exact(\", \", 1)\n",
    "        .struct.rename_fields([\"first_type\", \"second_type\"])\n",
    "        .map_elements(lambda x: sort_elements(x, \"first_type\", \"second_type\"))\n",
    "    )\n",
    "    .with_columns(pl.col(\"fine_grained_type\").list.get(0).alias(\"first_fine_grained_type\"))\n",
    "    .with_columns(pl.col(\"fine_grained_type\").list.get(1).alias(\"second_fine_grained_type\"))\n",
    ").drop(\"fine_grained_type\")\n",
    "\n",
    "data = (\n",
    "    data.with_columns(\n",
    "        pl.col(\"first_fine_grained_type\")\n",
    "        .replace(FINE_GRAINED_TYPES_MAPPING)\n",
    "        .alias(\"first_fine_grained_type\")\n",
    "    )\n",
    "    .with_columns(\n",
    "        pl.col(\"second_fine_grained_type\")\n",
    "        .replace(FINE_GRAINED_TYPES_MAPPING)\n",
    "        .alias(\"second_fine_grained_type\")\n",
    "    )\n",
    "    .with_columns(\n",
    "        pl.when(pl.col(\"first_fine_grained_type\") == pl.col(\"second_fine_grained_type\"))\n",
    "        .then(pl.lit(None))\n",
    "        .otherwise(pl.col(\"second_fine_grained_type\"))\n",
    "        .alias(\"second_fine_grained_type\")\n",
    "    )\n",
    ")"
   ]
  },
  {
   "cell_type": "code",
   "execution_count": null,
   "metadata": {},
   "outputs": [],
   "source": [
    "data = data.filter(\n",
    "    ~pl.col(\"coarse_type\").str.contains_any(FILTERED_OUT_COARSE_TYPES)\n",
    "    | pl.col(\"coarse_type\").is_null()\n",
    ")\n",
    "data"
   ]
  },
  {
   "cell_type": "code",
   "execution_count": null,
   "metadata": {},
   "outputs": [],
   "source": [
    "data = data.filter(\n",
    "    ~pl.col(\"style\").str.contains_any(FILTERED_OUT_STYLES) | pl.col(\"style\").is_null()\n",
    ")\n",
    "\n",
    "data = (\n",
    "    data.with_columns(\n",
    "        pl.col(\"style\")\n",
    "        .str.split_exact(\", \", 1)\n",
    "        .struct.rename_fields([\"first_style\", \"second_style\"])\n",
    "        .map_elements(lambda x: sort_elements(x, \"first_style\", \"second_style\"))\n",
    "    )\n",
    "    .with_columns(pl.col(\"style\").list.get(0).alias(\"first_style\"))\n",
    "    .with_columns(pl.col(\"style\").list.get(1).alias(\"second_style\"))\n",
    ").drop(\"style\")\n",
    "\n",
    "data = (\n",
    "    data.with_columns(pl.col(\"first_style\").replace(STYLES_MAPPING).alias(\"first_style\"))\n",
    "    .with_columns(pl.col(\"second_style\").replace(STYLES_MAPPING).alias(\"second_style\"))\n",
    "    .with_columns(\n",
    "        pl.when(pl.col(\"first_style\") == pl.col(\"second_style\"))\n",
    "        .then(pl.lit(None))\n",
    "        .otherwise(pl.col(\"second_style\"))\n",
    "        .alias(\"second_style\")\n",
    "    )\n",
    ")"
   ]
  },
  {
   "cell_type": "markdown",
   "metadata": {},
   "source": [
    "### 2. Filter MET painting based on their medium type\n",
    "For example, avoid including miniature paintings"
   ]
  },
  {
   "cell_type": "code",
   "execution_count": null,
   "metadata": {},
   "outputs": [],
   "source": [
    "met_paintings = data.filter(pl.col(\"source\") == \"met\")\n",
    "non_met_paintings = data.filter(pl.col(\"source\") != \"met\")"
   ]
  },
  {
   "cell_type": "code",
   "execution_count": null,
   "metadata": {},
   "outputs": [],
   "source": [
    "met_object_types = (\n",
    "    pl.read_csv(RAW_DATA_PATH + \"met_paintings/met_data.csv\", ignore_errors=True)\n",
    "    .select(\"Title\", \"Artist Display Name\", \"Object Name\")\n",
    "    .with_columns(\n",
    "        (pl.col(\"Title\") + \" \" + pl.col(\"Artist Display Name\")).alias(\"Painting Identifier\")\n",
    "    )\n",
    "    .select(\"Painting Identifier\", \"Object Name\")\n",
    "    .unique()\n",
    ")\n",
    "met_object_types"
   ]
  },
  {
   "cell_type": "code",
   "execution_count": null,
   "metadata": {},
   "outputs": [],
   "source": [
    "filtered_met_paintings = (\n",
    "    met_paintings.filter(pl.col(\"source\") == \"met\")\n",
    "    .with_columns((pl.col(\"title\") + \" \" + pl.col(\"artist\")).alias(\"Painting Identifier\"))\n",
    "    .join(met_object_types, on=\"Painting Identifier\")\n",
    "    .unique()\n",
    "    .filter(pl.col(\"Object Name\").is_in(MET_KEPT_OBJECT_TYPES))\n",
    "    .drop(\"Object Name\")\n",
    "    .drop(\"Painting Identifier\")\n",
    "    .unique()\n",
    ")\n",
    "\n",
    "data = pl.concat([non_met_paintings, filtered_met_paintings]).sort(\"id\")\n",
    "data"
   ]
  },
  {
   "cell_type": "markdown",
   "metadata": {},
   "source": [
    "### 3. Filter WGA painting based on their medium type\n",
    "For example, avoid including fresco, murals, etc."
   ]
  },
  {
   "cell_type": "code",
   "execution_count": null,
   "metadata": {},
   "outputs": [],
   "source": [
    "wga_paintings = data.filter(pl.col(\"source\") == \"wga\")\n",
    "non_wga_paintings = data.filter(pl.col(\"source\") != \"wga\")"
   ]
  },
  {
   "cell_type": "code",
   "execution_count": null,
   "metadata": {},
   "outputs": [],
   "source": [
    "wgq_techniques = (\n",
    "    pl.read_csv(INTERMEDIATE_DATA_PATH + \"wga_paintings/wga_processed.csv\")\n",
    "    .with_columns(\n",
    "        (pl.col(\"raw_title\") + \" \" + pl.col(\"raw_artist\") + \" \" + str(pl.col(\"year\"))).alias(\n",
    "            \"Painting Identifier\"\n",
    "        )\n",
    "    )\n",
    "    .select(\"Painting Identifier\", \"technique\")\n",
    "    .unique()\n",
    ")\n",
    "wgq_techniques"
   ]
  },
  {
   "cell_type": "code",
   "execution_count": null,
   "metadata": {},
   "outputs": [],
   "source": [
    "wga_with_techniques = wga_paintings.with_columns(\n",
    "    (pl.col(\"title\") + \" \" + pl.col(\"artist\") + \" \" + str(pl.col(\"year\"))).alias(\n",
    "        \"Painting Identifier\"\n",
    "    )\n",
    ").join(wgq_techniques, on=\"Painting Identifier\")\n",
    "\n",
    "WGA_ALL_KEPT_TECHNIQUES = set(\n",
    "    [\n",
    "        x[0]\n",
    "        for x in wga_with_techniques[\"technique\"]\n",
    "        .value_counts()\n",
    "        .sort(\"count\", descending=True)\n",
    "        .to_numpy()\n",
    "        if (\"canvas\" in x[0] or \"paper\" in x[0] or \"pastel\" in x[0] or \"pencil\" in x[0])\n",
    "        and \"fresco\" not in x[0]\n",
    "        and \"mural\" not in x[0]\n",
    "        and \"panel\" not in x[0]\n",
    "    ]\n",
    "    + WGA_KEPT_TECHNIQUES\n",
    ")\n",
    "\n",
    "wga_filtered_paintings = (\n",
    "    wga_with_techniques.filter(pl.col(\"technique\").is_in(list(WGA_ALL_KEPT_TECHNIQUES)))\n",
    "    .drop(\"technique\", \"Painting Identifier\")\n",
    "    .unique()\n",
    ")\n",
    "wga_filtered_paintings\n",
    "\n",
    "data = pl.concat([non_wga_paintings, wga_filtered_paintings]).sort(\"id\")\n",
    "data"
   ]
  },
  {
   "cell_type": "markdown",
   "metadata": {},
   "source": [
    "### 4. Remove WGA duplicate paintings and detailed views of paintings"
   ]
  },
  {
   "cell_type": "code",
   "execution_count": null,
   "metadata": {},
   "outputs": [],
   "source": [
    "data = data.with_columns(\n",
    "    (\n",
    "        pl.col(\"title\") + pl.col(\"artist\") + pl.col(\"year\").cast(pl.String) + pl.col(\"description\")\n",
    "    ).alias(\"Painting Identifier\")\n",
    ")\n",
    "data"
   ]
  },
  {
   "cell_type": "code",
   "execution_count": null,
   "metadata": {},
   "outputs": [],
   "source": [
    "data_wo_detailed_view = data.filter(\n",
    "    ~((pl.col(\"title\").str.contains(\"(detail)\")) & (pl.col(\"source\") == \"wga\"))\n",
    ")\n",
    "data_wo_detailed_view"
   ]
  },
  {
   "cell_type": "code",
   "execution_count": null,
   "metadata": {},
   "outputs": [],
   "source": [
    "paintings_identifiers = (\n",
    "    data_wo_detailed_view[\"Painting Identifier\"]\n",
    "    .value_counts()\n",
    "    .sort(\"count\")\n",
    "    .filter(pl.col(\"count\") > 1)[\"Painting Identifier\"]\n",
    "    .to_list()\n",
    ")\n",
    "data_wo_duplicates_one = (\n",
    "    data_wo_detailed_view.filter(\n",
    "        pl.col(\"Painting Identifier\").is_in(paintings_identifiers)\n",
    "    )\n",
    "    .group_by(\"Painting Identifier\")\n",
    "    .first()\n",
    ")\n",
    "data_wo_detailed_view_two = data_wo_detailed_view.filter(\n",
    "    ~pl.col(\"Painting Identifier\").is_in(paintings_identifiers)\n",
    ")\n",
    "\n",
    "data = pl.concat(\n",
    "    [data_wo_duplicates_one, data_wo_detailed_view_two.select(*data_wo_duplicates_one.columns)]\n",
    ").drop(\"Painting Identifier\")\n",
    "data"
   ]
  },
  {
   "cell_type": "markdown",
   "metadata": {},
   "source": [
    "### 5. Remove paintings earlier than 14th century\n",
    "This is done to avoid having paintings from under-represented centuries."
   ]
  },
  {
   "cell_type": "code",
   "execution_count": null,
   "metadata": {},
   "outputs": [],
   "source": [
    "data = data.filter(pl.col(\"year\") > MIN_YEAR_FILTERING)"
   ]
  },
  {
   "cell_type": "markdown",
   "metadata": {},
   "source": [
    "### 6. Store the pre-processed dataset in a new directory"
   ]
  },
  {
   "cell_type": "code",
   "execution_count": null,
   "metadata": {},
   "outputs": [],
   "source": [
    "data = data.select(\n",
    "    \"id\",\n",
    "    \"title\",\n",
    "    \"artist\",\n",
    "    \"year\",\n",
    "    \"coarse_type\",\n",
    "    \"first_fine_grained_type\",\n",
    "    \"second_fine_grained_type\",\n",
    "    \"first_style\",\n",
    "    \"second_style\",\n",
    "    \"description\",\n",
    "    \"source\",\n",
    ")\n",
    "\n",
    "data_updated_id = (\n",
    "    data.sort(\"id\")\n",
    "    .with_columns(pl.col(\"id\").alias(\"old_id\"))\n",
    "    .with_columns(pl.arange(0, len(data)).alias(\"id\"))\n",
    ")\n",
    "id_mapping = dict(zip(data_updated_id[\"old_id\"].to_list(), data_updated_id[\"id\"].to_list()))"
   ]
  },
  {
   "cell_type": "code",
   "execution_count": null,
   "metadata": {},
   "outputs": [],
   "source": [
    "source_paths = [\n",
    "    f\"{painting_id[0]}_paintings/{painting_id[1]}.png\"\n",
    "    for painting_id in data_updated_id.select(\"source\", \"old_id\").to_numpy()\n",
    "]\n",
    "destination_paths = [\n",
    "    f\"{painting_id[0]}_paintings/{id_mapping[int(painting_id[1])]}.png\"\n",
    "    for painting_id in data_updated_id.select(\"source\", \"old_id\").to_numpy()\n",
    "]\n",
    "\n",
    "\n",
    "for index in tqdm(range(len(source_paths))):\n",
    "    source_path = RAW_DATA_PATH + source_paths[index]\n",
    "    destination_path = (\n",
    "        RAW_DATA_PATH + \"filtered_paintings/\" + destination_paths[index].split(\"/\")[-1]\n",
    "    )\n",
    "\n",
    "    shutil.copy2(source_path, destination_path)\n",
    "\n",
    "data_to_store = data_updated_id.drop(\"old_id\")"
   ]
  },
  {
   "cell_type": "code",
   "execution_count": null,
   "metadata": {},
   "outputs": [],
   "source": [
    "with open(\n",
    "    INTERMEDIATE_DATA_PATH + \"filtered_paintings/filtered_paintings_enhanced_data_raw.json\", \"w\"\n",
    ") as json_file:\n",
    "    json.dump(data_to_store.to_dicts(), json_file, indent=4)"
   ]
  },
  {
   "cell_type": "code",
   "execution_count": null,
   "metadata": {},
   "outputs": [],
   "source": [
    "def clean_description(text):\n",
    "    # remove [url href=...]...[/url], keep inner text\n",
    "    text = re.sub(r'\\[url href=.*?\\](.*?)\\[/url\\]', r'\\1', text)\n",
    "    \n",
    "    # remove [i], [/i], [b], [/b], [u], [/u]\n",
    "    text = re.sub(r'\\[/?[ibu]\\]', '', text)\n",
    "    \n",
    "    # remove raw URLs\n",
    "    text = re.sub(r'http[s]?://\\S+|www\\.\\S+', '', text)\n",
    "\n",
    "    # remove remaining url tags\n",
    "    text = re.sub(r'\\[/url\\]', '', text)\n",
    "    text = re.sub(r'\\[url=?', '', text)\n",
    "\n",
    "    # collapse multiple spaces and strip whitespace\n",
    "    text = re.sub(r'\\s+', ' ', text).strip()\n",
    "    \n",
    "    return text"
   ]
  },
  {
   "cell_type": "code",
   "execution_count": null,
   "metadata": {},
   "outputs": [],
   "source": [
    "with open(f\"{INTERMEDIATE_DATA_PATH}filtered_paintings_enhanced_data_raw.json\") as f:\n",
    "    entire_dataset = json.load(f)\n",
    "\n",
    "entire_dataset[2000][\"description\"]"
   ]
  },
  {
   "cell_type": "code",
   "execution_count": null,
   "metadata": {},
   "outputs": [],
   "source": [
    "for painting in tqdm(entire_dataset):\n",
    "    painting[\"description\"] = clean_description(painting[\"description\"])"
   ]
  },
  {
   "cell_type": "code",
   "execution_count": null,
   "metadata": {},
   "outputs": [],
   "source": [
    "entire_dataset[2000][\"description\"]"
   ]
  },
  {
   "cell_type": "code",
   "execution_count": null,
   "metadata": {},
   "outputs": [],
   "source": [
    "with open(f\"{INTERMEDIATE_DATA_PATH}filtered_paintings_enhanced_data.json\", \"w\") as f:\n",
    "    json.dump(entire_dataset, f, indent=4)"
   ]
  }
 ],
 "metadata": {
  "kernelspec": {
   "display_name": "enhance_vg",
   "language": "python",
   "name": "python3"
  },
  "language_info": {
   "codemirror_mode": {
    "name": "ipython",
    "version": 3
   },
   "file_extension": ".py",
   "mimetype": "text/x-python",
   "name": "python",
   "nbconvert_exporter": "python",
   "pygments_lexer": "ipython3",
   "version": "3.12.3"
  }
 },
 "nbformat": 4,
 "nbformat_minor": 2
}
