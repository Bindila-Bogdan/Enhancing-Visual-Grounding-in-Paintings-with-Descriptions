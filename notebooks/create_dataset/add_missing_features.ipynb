{
 "cells": [
  {
   "cell_type": "markdown",
   "metadata": {},
   "source": [
    "# Add style and type features to the retrieved paintings\n",
    "This notebook adds to the retrieved paintings the type and style if they were not available initially. These characteristics are retrieved from Wikiart."
   ]
  },
  {
   "cell_type": "markdown",
   "metadata": {
    "vscode": {
     "languageId": "plaintext"
    }
   },
   "source": [
    "### 0. Import libraries"
   ]
  },
  {
   "cell_type": "code",
   "execution_count": null,
   "metadata": {},
   "outputs": [],
   "source": [
    "import re\n",
    "import os\n",
    "\n",
    "\n",
    "import json\n",
    "\n",
    "\n",
    "import nltk\n",
    "import polars as pl\n",
    "\n",
    "\n",
    "\n",
    "from tqdm import tqdm\n",
    "\n",
    "\n",
    "from nltk.corpus import stopwords\n",
    "\n",
    "\n",
    "\n",
    "nltk.download(\"stopwords\")\n",
    "\n",
    "\n",
    "STOP_WORDS = stopwords.words(\"english\")\n",
    "\n",
    "\n",
    "RAW_DATA_PATH = \"../../data/raw/\"\n",
    "INTERMEDIATE_DATA_PATH = \"../../data/intermediate/\""
   ]
  },
  {
   "cell_type": "markdown",
   "metadata": {},
   "source": [
    "### 1. Load data"
   ]
  },
  {
   "cell_type": "markdown",
   "metadata": {},
   "source": [
    "#### 1.1. Load Wikiart data about the style and type of paintings"
   ]
  },
  {
   "cell_type": "code",
   "execution_count": null,
   "metadata": {},
   "outputs": [],
   "source": [
    "def clean_artist_name(artist):\n",
    "    first_artist_name = re.sub(r\"\\([^)]*\\)\", \"\", artist.lower()).split(\"|\")[0]\n",
    "    artist_wo_punctuation = re.sub(r\"[.,\\-!?;:()\\[\\]{}]\", \" \", first_artist_name).strip()\n",
    "    artist_wo_multiple_spaces = re.sub(r\"\\s+\", \" \", artist_wo_punctuation).strip()\n",
    "\n",
    "    return artist_wo_multiple_spaces"
   ]
  },
  {
   "cell_type": "code",
   "execution_count": null,
   "metadata": {},
   "outputs": [],
   "source": [
    "def clean_title_name(title):\n",
    "    title_wo_punctuation = re.sub(\n",
    "        r\"[.,\\-!?;:()\\[\\]{}]\", \" \", title.lower().replace(\"\\xa0\", \" \")\n",
    "    ).strip()\n",
    "    title_wo_multiple_spaces = re.sub(r\"\\s+\", \" \", title_wo_punctuation).strip().split(\" \")\n",
    "    title_wo_stop_words = \" \".join(\n",
    "        [word for word in title_wo_multiple_spaces if word not in STOP_WORDS]\n",
    "    )\n",
    "\n",
    "    return title_wo_stop_words"
   ]
  },
  {
   "cell_type": "code",
   "execution_count": null,
   "metadata": {},
   "outputs": [],
   "source": [
    "def clean_genre(genre):\n",
    "    cleaned_genre = genre.replace(\" painting\", \"\").replace(\" (nu)\", \"\").strip().lower()\n",
    "\n",
    "    if cleaned_genre == \"none\":\n",
    "        return None\n",
    "    else:\n",
    "        return cleaned_genre"
   ]
  },
  {
   "cell_type": "code",
   "execution_count": null,
   "metadata": {},
   "outputs": [],
   "source": [
    "def clean_style(style):\n",
    "    cleaned_style = style.replace(\" painting\", \"\").replace(\"\\xa0\", \" \").strip().lower()\n",
    "\n",
    "    if clean_style == \"none\":\n",
    "        return None\n",
    "    else:\n",
    "        return cleaned_style"
   ]
  },
  {
   "cell_type": "code",
   "execution_count": null,
   "metadata": {},
   "outputs": [],
   "source": [
    "def clean_date(year):\n",
    "    cleaned_year = re.findall(r\"\\b\\d{4}\\b\", year.lower())\n",
    "\n",
    "    if len(cleaned_year) == 0:\n",
    "        return None\n",
    "    else:\n",
    "        return int(cleaned_year[0])"
   ]
  },
  {
   "cell_type": "code",
   "execution_count": null,
   "metadata": {},
   "outputs": [],
   "source": [
    "wikiart_features_df = (\n",
    "    (\n",
    "        pl.read_parquet(RAW_DATA_PATH + \"attributes/*.parquet\")\n",
    "        .drop(\"description\", \"filename\", \"image\", \"embeddings_pca512\")\n",
    "        .with_columns(\n",
    "            pl.col(\"genre\")\n",
    "            .map_elements(lambda x: clean_genre(x), return_dtype=pl.String)\n",
    "            .alias(\"type\")\n",
    "        )\n",
    "        .with_columns(\n",
    "            pl.col(\"style\")\n",
    "            .map_elements(lambda x: clean_style(x), return_dtype=pl.String)\n",
    "            .replace({\"none\": None})\n",
    "            .alias(\"style\")\n",
    "        )\n",
    "        .with_columns(\n",
    "            pl.col(\"title\")\n",
    "            .map_elements(lambda x: clean_title_name(x), return_dtype=pl.String)\n",
    "            .alias(\"title\")\n",
    "        )\n",
    "        .with_columns(\n",
    "            pl.col(\"artist\")\n",
    "            .map_elements(lambda x: clean_artist_name(x), return_dtype=pl.String)\n",
    "            .alias(\"artist\")\n",
    "        )\n",
    "        .with_columns(\n",
    "            pl.col(\"date\")\n",
    "            .map_elements(lambda x: clean_date(x), return_dtype=pl.Int64)\n",
    "            .alias(\"date\")\n",
    "        )\n",
    "    )\n",
    "    .filter(~((pl.col(\"artist\").str.len_bytes() <= 4) | (pl.col(\"title\").str.len_bytes() <= 2)))\n",
    "    .filter(~(pl.col(\"style\").is_null() & pl.col(\"type\").is_null()))\n",
    "    .unique()\n",
    ").select(\"title\", \"artist\", \"style\", \"type\")\n",
    "\n",
    "wikiart_features = wikiart_features_df.to_numpy()\n",
    "wikiart_features_df"
   ]
  },
  {
   "cell_type": "code",
   "execution_count": null,
   "metadata": {},
   "outputs": [],
   "source": [
    "wikiart_paintings_files = os.listdir(RAW_DATA_PATH + \"wikiart/\")\n",
    "\n",
    "wikiart_features = []\n",
    "\n",
    "for file in wikiart_paintings_files:\n",
    "    artist_paintings = pl.read_json(RAW_DATA_PATH + \"wikiart/\" + file, infer_schema_length=1000)\n",
    "\n",
    "    if artist_paintings.shape[0] != 0:\n",
    "        artist_paintings = artist_paintings.select(\n",
    "            \"title\", \"artistName\", \"description\", \"style\", \"genre\", \"url\", \"artistUrl\"\n",
    "        )\n",
    "\n",
    "        for col in artist_paintings.columns:\n",
    "            artist_paintings = artist_paintings.with_columns(pl.col(col).cast(pl.String).alias(col))\n",
    "\n",
    "        wikiart_features.append(artist_paintings)\n",
    "\n",
    "wikiart_features_df = (\n",
    "    pl.concat(wikiart_features)\n",
    "    .with_columns(pl.col(\"title\").alias(\"raw_title\"))\n",
    "    .with_columns(pl.col(\"artistName\").alias(\"raw_artist\"))\n",
    "    .with_columns(\n",
    "        pl.col(\"title\")\n",
    "        .map_elements(lambda x: clean_title_name(x), return_dtype=pl.String)\n",
    "        .alias(\"title\")\n",
    "    )\n",
    "    .with_columns(\n",
    "        pl.col(\"artistName\")\n",
    "        .map_elements(lambda x: clean_artist_name(x), return_dtype=pl.String)\n",
    "        .alias(\"artist\")\n",
    "    )\n",
    "    .with_columns(\n",
    "        pl.col(\"style\")\n",
    "        .map_elements(lambda x: x.lower(), return_dtype=pl.String)\n",
    "        .alias(\"style\")\n",
    "    )\n",
    "    .with_columns(\n",
    "        pl.col(\"genre\")\n",
    "        .map_elements(lambda x: x.lower(), return_dtype=pl.String)\n",
    "        .alias(\"genre\")\n",
    "    )\n",
    "    .with_columns((pl.col(\"artistUrl\") + \"/\" + pl.col(\"url\")).alias(\"url\"))\n",
    "    .filter(~((pl.col(\"artist\").str.len_bytes() <= 4) | (pl.col(\"title\").str.len_bytes() <= 2)))\n",
    "    .filter(~(pl.col(\"style\").is_null() & pl.col(\"genre\").is_null()))\n",
    "    .rename({\"genre\": \"type\"})\n",
    "    .unique()\n",
    "    .select(\n",
    "        \"title\",\n",
    "        \"artist\",\n",
    "        \"style\",\n",
    "        \"type\",\n",
    "        \"description\",\n",
    "        \"url\",\n",
    "        \"raw_title\",\n",
    "        \"raw_artist\",\n",
    "    )\n",
    ")\n",
    "wikiart_features = wikiart_features_df.to_numpy()\n",
    "wikiart_features_df"
   ]
  },
  {
   "cell_type": "markdown",
   "metadata": {},
   "source": [
    "#### 1.2. Load Web Gallery of Art data about the style and type of paintings"
   ]
  },
  {
   "cell_type": "code",
   "execution_count": null,
   "metadata": {},
   "outputs": [],
   "source": [
    "def rearrange_artist_name(name):\n",
    "    divided_name = name.split(\", \")\n",
    "\n",
    "    if len(divided_name) == 1:\n",
    "        return divided_name[0]\n",
    "\n",
    "    elif len(divided_name) == 2:\n",
    "        return divided_name[1] + \" \" + divided_name[0]\n",
    "\n",
    "    else:\n",
    "        return divided_name[1] + \" \" + divided_name[0] + \" \" + \" \".join(divided_name[2:])"
   ]
  },
  {
   "cell_type": "code",
   "execution_count": null,
   "metadata": {},
   "outputs": [],
   "source": [
    "wga_features_df = (\n",
    "    (\n",
    "        pl.read_excel(RAW_DATA_PATH + \"artists_wga.xlsx\")\n",
    "        .with_columns(\n",
    "            pl.col(\"AUTHOR\")\n",
    "            .map_elements(\n",
    "                lambda x: clean_artist_name(rearrange_artist_name(x)), return_dtype=pl.String\n",
    "            )\n",
    "            .alias(\"artist\")\n",
    "        )\n",
    "        .with_columns(\n",
    "            pl.col(\"TITLE\")\n",
    "            .map_elements(lambda x: clean_title_name(x), return_dtype=pl.String)\n",
    "            .alias(\"title\")\n",
    "        )\n",
    "        .with_columns(\n",
    "            pl.col(\"TYPE\")\n",
    "            .replace(\n",
    "                {\n",
    "                    \"historical\": \"history\",\n",
    "                    \"other\": None,\n",
    "                    \"still-life\": \"still life\",\n",
    "                    \"study\": \"sketch and study\",\n",
    "                }\n",
    "            )\n",
    "            .alias(\"type\")\n",
    "        )\n",
    "        .select(\"title\", \"artist\", \"type\")\n",
    "    )\n",
    "    .filter(pl.col(\"type\").is_not_null())\n",
    "    .unique()\n",
    ")\n",
    "\n",
    "wga_features = wga_features_df.to_numpy()\n",
    "wga_features_df"
   ]
  },
  {
   "cell_type": "markdown",
   "metadata": {},
   "source": [
    "#### 1.3. Load MET data"
   ]
  },
  {
   "cell_type": "code",
   "execution_count": null,
   "metadata": {},
   "outputs": [],
   "source": [
    "met_paintings_df = (\n",
    "    pl.read_json(RAW_DATA_PATH + \"met_paintings/met_paintings_data.json\")\n",
    "    .unique()\n",
    "    .sort(\"id\")\n",
    "    .with_columns(pl.col(\"title\").alias(\"raw_title\"))\n",
    "    .with_columns(pl.col(\"artist\").alias(\"raw_artist\"))\n",
    "    .with_columns(\n",
    "        pl.col(\"artist\")\n",
    "        .map_elements(lambda x: clean_artist_name(x), return_dtype=pl.String)\n",
    "        .alias(\"artist\")\n",
    "    )\n",
    "\n",
    "    .with_columns(\n",
    "        pl.col(\"title\")\n",
    "        .map_elements(lambda x: clean_title_name(x), return_dtype=pl.String)\n",
    "        .alias(\"title\")\n",
    "    )\n",
    "    .sort(\"id\")\n",
    ")\n",
    "\n",
    "\n",
    "met_paintings = met_paintings_df.to_numpy()\n",
    "met_paintings_df"
   ]
  },
  {
   "cell_type": "markdown",
   "metadata": {},
   "source": [
    "### 2. Get style and type for MET paintings available in the Wikiart dataset"
   ]
  },
  {
   "cell_type": "code",
   "execution_count": null,
   "metadata": {},
   "outputs": [],
   "source": [
    "def match_painting(painting, raw_painting, painting_features, found_paintings):\n",
    "    searched_title = painting[1]\n",
    "    searched_artist = painting[2]\n",
    "\n",
    "    title = painting_features[0]\n",
    "    artist = painting_features[1]\n",
    "\n",
    "    found_artist = searched_artist in artist or artist in searched_artist\n",
    "    found_title = searched_title in title or title in searched_title\n",
    "\n",
    "    if found_artist and found_title:\n",
    "        found_paintings.append(\n",
    "            {\n",
    "                \"id\": raw_painting[0],\n",
    "                \"title\": raw_painting[5],\n",
    "                \"artist\": raw_painting[6],\n",
    "                \"year\": raw_painting[3],\n",
    "                \"type\": painting_features[2],\n",
    "                \"style\": painting_features[3] if len(painting_features) == 4 else None,\n",
    "                \"description\": raw_painting[4],\n",
    "            }\n",
    "        )\n",
    "\n",
    "        return True\n",
    "\n",
    "    return False"
   ]
  },
  {
   "cell_type": "code",
   "execution_count": null,
   "metadata": {},
   "outputs": [],
   "source": [
    "found_paintings = []\n",
    "\n",
    "for index, painting in enumerate(tqdm(met_paintings)):\n",
    "    found = False\n",
    "\n",
    "    for painting_features in wikiart_features:\n",
    "        found = match_painting(painting, painting_features, found_paintings)\n",
    "        if found:\n",
    "            break\n",
    "\n",
    "    if found:\n",
    "        continue\n",
    "\n",
    "    for painting_features in wga_features:\n",
    "        if match_painting(painting, painting_features, found_paintings):\n",
    "            break\n",
    "\n",
    "print(f\"Enhanced with additional features {len(found_paintings)}/{len(met_paintings)} paintings.\")"
   ]
  },
  {
   "cell_type": "code",
   "execution_count": null,
   "metadata": {},
   "outputs": [],
   "source": [
    "with open(INTERMEDIATE_DATA_PATH + \"met_paintings/met_paintings_enhanced_data.json\", \"w\") as f:\n",
    "    json.dump(found_paintings, f, indent=4)"
   ]
  }
 ],
 "metadata": {
  "kernelspec": {
   "display_name": "enhance_vg",
   "language": "python",
   "name": "python3"
  },
  "language_info": {
   "codemirror_mode": {
    "name": "ipython",
    "version": 3
   },
   "file_extension": ".py",
   "mimetype": "text/x-python",
   "name": "python",
   "nbconvert_exporter": "python",
   "pygments_lexer": "ipython3",
   "version": "3.12.3"
  }
 },
 "nbformat": 4,
 "nbformat_minor": 2
}
