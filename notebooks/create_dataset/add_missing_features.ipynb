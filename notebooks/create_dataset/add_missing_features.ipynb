{
 "cells": [
  {
   "cell_type": "markdown",
   "metadata": {},
   "source": [
    "# Add style and type features to the retrieved paintings\n",
    "This notebook adds to the retrieved paintings the type and style if they were not available initially. These characteristics are retrieved from Wikiart and Web Gallery of Art."
   ]
  },
  {
   "cell_type": "markdown",
   "metadata": {
    "vscode": {
     "languageId": "plaintext"
    }
   },
   "source": [
    "### 0. Import libraries"
   ]
  },
  {
   "cell_type": "code",
   "execution_count": null,
   "metadata": {},
   "outputs": [],
   "source": [
    "import json\n",
    "\n",
    "import polars as pl\n",
    "from tqdm import tqdm\n",
    "\n",
    "from preprocess_data_utils import *\n",
    "\n",
    "RAW_DATA_PATH = \"../../data/raw/\"\n",
    "INTERMEDIATE_DATA_PATH = \"../../data/intermediate/\""
   ]
  },
  {
   "cell_type": "markdown",
   "metadata": {},
   "source": [
    "### 1. Load and preprocess data"
   ]
  },
  {
   "cell_type": "markdown",
   "metadata": {},
   "source": [
    "#### 1.1. Wikiart data about the style and type of paintings"
   ]
  },
  {
   "cell_type": "code",
   "execution_count": null,
   "metadata": {},
   "outputs": [],
   "source": [
    "wikiart_features_df = pl.read_csv(INTERMEDIATE_DATA_PATH + \"wikiart_paintings/wikiart_processed.csv\")\n",
    "wikiart_features = wikiart_features_df.to_numpy()\n",
    "wikiart_features_df"
   ]
  },
  {
   "cell_type": "markdown",
   "metadata": {},
   "source": [
    "#### 1.2. Web Gallery of Art data about the style and type of paintings"
   ]
  },
  {
   "cell_type": "code",
   "execution_count": null,
   "metadata": {},
   "outputs": [],
   "source": [
    "wga_features_df = pl.read_csv(INTERMEDIATE_DATA_PATH + \"wga_paintings/wga_processed.csv\")\n",
    "wga_features = wga_features_df.to_numpy()\n",
    "wga_features_df"
   ]
  },
  {
   "cell_type": "markdown",
   "metadata": {},
   "source": [
    "#### 1.3. MET data"
   ]
  },
  {
   "cell_type": "code",
   "execution_count": null,
   "metadata": {},
   "outputs": [],
   "source": [
    "met_paintings_df = pl.read_csv(INTERMEDIATE_DATA_PATH + \"met_paintings/met_processed.csv\")\n",
    "met_paintings = met_paintings_df.to_numpy()\n",
    "met_paintings_df"
   ]
  },
  {
   "cell_type": "markdown",
   "metadata": {},
   "source": [
    "### 2. Get style and type for MET paintings available in the Wikiart dataset"
   ]
  },
  {
   "cell_type": "code",
   "execution_count": null,
   "metadata": {},
   "outputs": [],
   "source": [
    "def match_painting(painting, painting_features, found_paintings):\n",
    "    same_painting = is_same_painting(painting[1], painting[2], painting_features[0], painting_features[1])\n",
    "\n",
    "    if same_painting:\n",
    "        found_paintings.append(\n",
    "            {\n",
    "                \"id\": painting[0],\n",
    "                \"title\": painting[5],\n",
    "                \"artist\": painting[6],\n",
    "                \"year\": painting[3],\n",
    "                \"type\": painting_features[2],\n",
    "                \"style\": painting_features[3] if len(painting_features) >= 4 else None,\n",
    "                \"description\": painting[4],\n",
    "            }\n",
    "        )\n",
    "\n",
    "    return same_painting"
   ]
  },
  {
   "cell_type": "code",
   "execution_count": null,
   "metadata": {},
   "outputs": [],
   "source": [
    "found_paintings = []\n",
    "\n",
    "for index, painting in enumerate(tqdm(met_paintings)):\n",
    "    found = False\n",
    "\n",
    "    for painting_features in wikiart_features:\n",
    "        found = match_painting(painting, painting_features, found_paintings)\n",
    "        if found:\n",
    "            break\n",
    "\n",
    "    if found:\n",
    "        continue\n",
    "\n",
    "    for painting_features in wga_features:\n",
    "        found = match_painting(painting, painting_features, found_paintings)\n",
    "        if found:\n",
    "            break\n",
    "\n",
    "    if not found:\n",
    "        found_paintings.append(\n",
    "            {\n",
    "                \"id\": painting[0],\n",
    "                \"title\": painting[5],\n",
    "                \"artist\": painting[6],\n",
    "                \"year\": painting[3],\n",
    "                \"type\": None,\n",
    "                \"style\": None,\n",
    "                \"description\": painting[4],\n",
    "            }\n",
    "        )"
   ]
  },
  {
   "cell_type": "code",
   "execution_count": null,
   "metadata": {},
   "outputs": [],
   "source": [
    "with open(INTERMEDIATE_DATA_PATH + \"met_paintings/met_paintings_enhanced_data.json\", \"w\") as f:\n",
    "    json.dump(found_paintings, f, indent=4)"
   ]
  }
 ],
 "metadata": {
  "kernelspec": {
   "display_name": "enhance_vg",
   "language": "python",
   "name": "python3"
  },
  "language_info": {
   "codemirror_mode": {
    "name": "ipython",
    "version": 3
   },
   "file_extension": ".py",
   "mimetype": "text/x-python",
   "name": "python",
   "nbconvert_exporter": "python",
   "pygments_lexer": "ipython3",
   "version": "3.12.3"
  }
 },
 "nbformat": 4,
 "nbformat_minor": 2
}
