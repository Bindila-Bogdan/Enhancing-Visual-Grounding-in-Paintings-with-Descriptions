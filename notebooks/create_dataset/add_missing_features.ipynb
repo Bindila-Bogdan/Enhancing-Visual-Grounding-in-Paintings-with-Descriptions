{
 "cells": [
  {
   "cell_type": "markdown",
   "metadata": {},
   "source": [
    "# Add style and type features to the retrieved paintings\n",
    "This notebook adds to the retrieved paintings the type and style if they were not available initially. These characteristics are retrieved from Wikiart."
   ]
  },
  {
   "cell_type": "markdown",
   "metadata": {
    "vscode": {
     "languageId": "plaintext"
    }
   },
   "source": [
    "### 0. Import libraries"
   ]
  },
  {
   "cell_type": "code",
   "execution_count": 1,
   "metadata": {},
   "outputs": [
    {
     "name": "stderr",
     "output_type": "stream",
     "text": [
      "[nltk_data] Downloading package stopwords to\n",
      "[nltk_data]     C:\\Users\\Bogdan\\AppData\\Roaming\\nltk_data...\n",
      "[nltk_data]   Package stopwords is already up-to-date!\n"
     ]
    }
   ],
   "source": [
    "import re\n",
    "import os\n",
    "import json\n",
    "\n",
    "import nltk\n",
    "import polars as pl\n",
    "from tqdm import tqdm\n",
    "from nltk.corpus import stopwords\n",
    "\n",
    "nltk.download(\"stopwords\")\n",
    "STOP_WORDS = stopwords.words(\"english\")\n",
    "RAW_DATA_PATH = \"../../data/raw/\"\n",
    "INTERMEDIATE_DATA_PATH = \"../../data/intermediate/\""
   ]
  },
  {
   "cell_type": "markdown",
   "metadata": {},
   "source": [
    "### 1. Load and preprocess data"
   ]
  },
  {
   "cell_type": "markdown",
   "metadata": {},
   "source": [
    "#### 1.1. Wikiart data about the style and type of paintings"
   ]
  },
  {
   "cell_type": "code",
   "execution_count": 2,
   "metadata": {},
   "outputs": [],
   "source": [
    "def clean_artist_name(artist):\n",
    "    first_artist_name = re.sub(r\"\\([^)]*\\)\", \"\", artist.lower()).split(\"|\")[0]\n",
    "    artist_wo_punctuation = re.sub(r\"[.,\\-!?;:()\\[\\]{}]\", \" \", first_artist_name).strip()\n",
    "    artist_wo_multiple_spaces = re.sub(r\"\\s+\", \" \", artist_wo_punctuation).strip()\n",
    "\n",
    "    return artist_wo_multiple_spaces"
   ]
  },
  {
   "cell_type": "code",
   "execution_count": 3,
   "metadata": {},
   "outputs": [],
   "source": [
    "def clean_title_name(title):\n",
    "    title_wo_punctuation = re.sub(\n",
    "        r\"[.,\\-!?;:()\\[\\]{}]\", \" \", title.lower().replace(\"\\xa0\", \" \")\n",
    "    ).strip()\n",
    "    title_wo_multiple_spaces = re.sub(r\"\\s+\", \" \", title_wo_punctuation).strip().split(\" \")\n",
    "    title_wo_stop_words = \" \".join(\n",
    "        [word for word in title_wo_multiple_spaces if word not in STOP_WORDS]\n",
    "    )\n",
    "\n",
    "    return title_wo_stop_words"
   ]
  },
  {
   "cell_type": "code",
   "execution_count": 4,
   "metadata": {},
   "outputs": [],
   "source": [
    "def clean_genre(genre):\n",
    "    cleaned_genre = genre.replace(\" painting\", \"\").replace(\" (nu)\", \"\").strip().lower()\n",
    "\n",
    "    if cleaned_genre == \"none\":\n",
    "        return None\n",
    "    else:\n",
    "        return cleaned_genre"
   ]
  },
  {
   "cell_type": "code",
   "execution_count": 5,
   "metadata": {},
   "outputs": [],
   "source": [
    "def clean_style(style):\n",
    "    cleaned_style = style.replace(\" painting\", \"\").replace(\"\\xa0\", \" \").strip().lower()\n",
    "\n",
    "    if clean_style == \"none\":\n",
    "        return None\n",
    "    else:\n",
    "        return cleaned_style"
   ]
  },
  {
   "cell_type": "code",
   "execution_count": 6,
   "metadata": {},
   "outputs": [],
   "source": [
    "def clean_date(year):\n",
    "    cleaned_year = re.findall(r\"\\b\\d{4}\\b\", year.lower())\n",
    "\n",
    "    if len(cleaned_year) == 0:\n",
    "        return None\n",
    "    else:\n",
    "        return int(cleaned_year[0])"
   ]
  },
  {
   "cell_type": "code",
   "execution_count": 7,
   "metadata": {},
   "outputs": [
    {
     "data": {
      "text/html": [
       "<div><style>\n",
       ".dataframe > thead > tr,\n",
       ".dataframe > tbody > tr {\n",
       "  text-align: right;\n",
       "  white-space: pre-wrap;\n",
       "}\n",
       "</style>\n",
       "<small>shape: (95_991, 4)</small><table border=\"1\" class=\"dataframe\"><thead><tr><th>title</th><th>artist</th><th>type</th><th>style</th></tr><tr><td>str</td><td>str</td><td>str</td><td>str</td></tr></thead><tbody><tr><td>&quot;peacocks looks&quot;</td><td>&quot;ion tuculescu&quot;</td><td>&quot;figurative&quot;</td><td>&quot;expressionism&quot;</td></tr><tr><td>&quot;aragats mount ara&quot;</td><td>&quot;martiros saryan&quot;</td><td>&quot;landscape&quot;</td><td>&quot;post-impressionism&quot;</td></tr><tr><td>&quot;chopin performing guest hall a…</td><td>&quot;henryk siemiradzki&quot;</td><td>&quot;history&quot;</td><td>&quot;romanticism&quot;</td></tr><tr><td>&quot;la lutte&quot;</td><td>&quot;jacques villon&quot;</td><td>&quot;abstract&quot;</td><td>&quot;cubism&quot;</td></tr><tr><td>&quot;lilacs glass apple lemon&quot;</td><td>&quot;meijer de haan&quot;</td><td>&quot;still life&quot;</td><td>&quot;post-impressionism&quot;</td></tr><tr><td>&hellip;</td><td>&hellip;</td><td>&hellip;</td><td>&hellip;</td></tr><tr><td>&quot;les musiciens&quot;</td><td>&quot;nicolas de staël&quot;</td><td>&quot;figurative&quot;</td><td>&quot;lyrical abstraction&quot;</td></tr><tr><td>&quot;flute passage&quot;</td><td>&quot;jack bush&quot;</td><td>&quot;abstract&quot;</td><td>&quot;color field painting&quot;</td></tr><tr><td>&quot;john plampin&quot;</td><td>&quot;thomas gainsborough&quot;</td><td>&quot;portrait&quot;</td><td>&quot;rococo&quot;</td></tr><tr><td>&quot;reverie&quot;</td><td>&quot;ipolit strambu&quot;</td><td>&quot;nude&quot;</td><td>&quot;impressionism&quot;</td></tr><tr><td>&quot;congratulation betrothed landl…</td><td>&quot;grigoriy myasoyedov&quot;</td><td>&quot;genre&quot;</td><td>&quot;realism&quot;</td></tr></tbody></table></div>"
      ],
      "text/plain": [
       "shape: (95_991, 4)\n",
       "┌─────────────────────────────────┬─────────────────────┬────────────┬──────────────────────┐\n",
       "│ title                           ┆ artist              ┆ type       ┆ style                │\n",
       "│ ---                             ┆ ---                 ┆ ---        ┆ ---                  │\n",
       "│ str                             ┆ str                 ┆ str        ┆ str                  │\n",
       "╞═════════════════════════════════╪═════════════════════╪════════════╪══════════════════════╡\n",
       "│ peacocks looks                  ┆ ion tuculescu       ┆ figurative ┆ expressionism        │\n",
       "│ aragats mount ara               ┆ martiros saryan     ┆ landscape  ┆ post-impressionism   │\n",
       "│ chopin performing guest hall a… ┆ henryk siemiradzki  ┆ history    ┆ romanticism          │\n",
       "│ la lutte                        ┆ jacques villon      ┆ abstract   ┆ cubism               │\n",
       "│ lilacs glass apple lemon        ┆ meijer de haan      ┆ still life ┆ post-impressionism   │\n",
       "│ …                               ┆ …                   ┆ …          ┆ …                    │\n",
       "│ les musiciens                   ┆ nicolas de staël    ┆ figurative ┆ lyrical abstraction  │\n",
       "│ flute passage                   ┆ jack bush           ┆ abstract   ┆ color field painting │\n",
       "│ john plampin                    ┆ thomas gainsborough ┆ portrait   ┆ rococo               │\n",
       "│ reverie                         ┆ ipolit strambu      ┆ nude       ┆ impressionism        │\n",
       "│ congratulation betrothed landl… ┆ grigoriy myasoyedov ┆ genre      ┆ realism              │\n",
       "└─────────────────────────────────┴─────────────────────┴────────────┴──────────────────────┘"
      ]
     },
     "execution_count": 7,
     "metadata": {},
     "output_type": "execute_result"
    }
   ],
   "source": [
    "wikiart_features_df = (\n",
    "    (\n",
    "        pl.read_parquet(RAW_DATA_PATH + \"attributes/*.parquet\")\n",
    "        .drop(\"description\", \"filename\", \"image\", \"embeddings_pca512\")\n",
    "        .with_columns(\n",
    "            pl.col(\"genre\")\n",
    "            .map_elements(lambda x: clean_genre(x), return_dtype=pl.String)\n",
    "            .alias(\"type\")\n",
    "        )\n",
    "        .with_columns(\n",
    "            pl.col(\"style\")\n",
    "            .map_elements(lambda x: clean_style(x), return_dtype=pl.String)\n",
    "            .replace({\"none\": None})\n",
    "            .alias(\"style\")\n",
    "        )\n",
    "        .with_columns(\n",
    "            pl.col(\"title\")\n",
    "            .map_elements(lambda x: clean_title_name(x), return_dtype=pl.String)\n",
    "            .alias(\"title\")\n",
    "        )\n",
    "        .with_columns(\n",
    "            pl.col(\"artist\")\n",
    "            .map_elements(lambda x: clean_artist_name(x), return_dtype=pl.String)\n",
    "            .alias(\"artist\")\n",
    "        )\n",
    "        .with_columns(\n",
    "            pl.col(\"date\")\n",
    "            .map_elements(lambda x: clean_date(x), return_dtype=pl.Int64)\n",
    "            .alias(\"date\")\n",
    "        )\n",
    "    )\n",
    "    .filter(~((pl.col(\"artist\").str.len_bytes() <= 4) | (pl.col(\"title\").str.len_bytes() <= 2)))\n",
    "    .filter(~(pl.col(\"style\").is_null() & pl.col(\"type\").is_null()))\n",
    "    .unique()\n",
    ").select(\"title\", \"artist\", \"type\", \"style\")\n",
    "\n",
    "wikiart_features = wikiart_features_df.to_numpy()\n",
    "wikiart_features_df"
   ]
  },
  {
   "cell_type": "code",
   "execution_count": 16,
   "metadata": {},
   "outputs": [
    {
     "data": {
      "text/html": [
       "<div><style>\n",
       ".dataframe > thead > tr,\n",
       ".dataframe > tbody > tr {\n",
       "  text-align: right;\n",
       "  white-space: pre-wrap;\n",
       "}\n",
       "</style>\n",
       "<small>shape: (28_985, 8)</small><table border=\"1\" class=\"dataframe\"><thead><tr><th>title</th><th>artist</th><th>style</th><th>type</th><th>description</th><th>url</th><th>raw_title</th><th>raw_artist</th></tr><tr><td>str</td><td>str</td><td>str</td><td>str</td><td>str</td><td>str</td><td>str</td><td>str</td></tr></thead><tbody><tr><td>&quot;still life self portrait&quot;</td><td>&quot;carlsen emil&quot;</td><td>&quot;realism&quot;</td><td>&quot;still life&quot;</td><td>null</td><td>&quot;emil-carlsen/still-life-with-s…</td><td>&quot;Still Life with Self Portrait&quot;</td><td>&quot;Carlsen Emil&quot;</td></tr><tr><td>&quot;field marshal radetzky staff b…</td><td>&quot;adam albrecht&quot;</td><td>&quot;romanticism&quot;</td><td>&quot;battle painting&quot;</td><td>null</td><td>&quot;albrecht-adam/field-marshal-ra…</td><td>&quot;Field Marshal Radetzky and his…</td><td>&quot;Adam Albrecht&quot;</td></tr><tr><td>&quot;children country road first st…</td><td>&quot;brendekilde hans andersen&quot;</td><td>&quot;realism&quot;</td><td>&quot;genre painting&quot;</td><td>null</td><td>&quot;hans-andersen-brendekilde/chil…</td><td>&quot;Children on a Country Road (Th…</td><td>&quot;Brendekilde Hans Andersen&quot;</td></tr><tr><td>&quot;temptation st anthony detail&quot;</td><td>&quot;bosch hieronymus&quot;</td><td>&quot;northern renaissance&quot;</td><td>&quot;religious painting&quot;</td><td>null</td><td>&quot;hieronymus-bosch/the-temptatio…</td><td>&quot;The Temptation of St Anthony (…</td><td>&quot;Bosch Hieronymus&quot;</td></tr><tr><td>&quot;madame philippe panon desbassa…</td><td>&quot;benoist marie guillemine&quot;</td><td>&quot;neoclassicism&quot;</td><td>&quot;portrait&quot;</td><td>null</td><td>&quot;marie-guillemine-benoist/madam…</td><td>&quot;Madame Philippe Panon Desbassa…</td><td>&quot;Benoist Marie-Guillemine&quot;</td></tr><tr><td>&hellip;</td><td>&hellip;</td><td>&hellip;</td><td>&hellip;</td><td>&hellip;</td><td>&hellip;</td><td>&hellip;</td><td>&hellip;</td></tr><tr><td>&quot;temptation st anthony detail&quot;</td><td>&quot;bosch hieronymus&quot;</td><td>&quot;northern renaissance&quot;</td><td>&quot;religious painting&quot;</td><td>null</td><td>&quot;hieronymus-bosch/the-temptatio…</td><td>&quot;The Temptation of St. Anthony …</td><td>&quot;Bosch Hieronymus&quot;</td></tr><tr><td>&quot;green stripe&quot;</td><td>&quot;calder alexander&quot;</td><td>&quot;abstract art&quot;</td><td>&quot;abstract&quot;</td><td>null</td><td>&quot;alexander-calder/the-green-str…</td><td>&quot;The Green Stripe&quot;</td><td>&quot;Calder Alexander&quot;</td></tr><tr><td>&quot;abbe fanfreluche&quot;</td><td>&quot;beardsley aubrey&quot;</td><td>&quot;art nouveau (modern)&quot;</td><td>&quot;portrait&quot;</td><td>null</td><td>&quot;aubrey-beardsley/the-abbe-fanf…</td><td>&quot;The Abbe Fanfreluche&quot;</td><td>&quot;Beardsley Aubrey&quot;</td></tr><tr><td>&quot;untitled&quot;</td><td>&quot;beksinski zdislav&quot;</td><td>&quot;surrealism&quot;</td><td>&quot;symbolic painting&quot;</td><td>null</td><td>&quot;zdzislaw-beksinski/untitled-46…</td><td>&quot;Untitled&quot;</td><td>&quot;Beksinski Zdislav&quot;</td></tr><tr><td>&quot;human&quot;</td><td>&quot;baznani achraf&quot;</td><td>&quot;surrealism&quot;</td><td>&quot;photo&quot;</td><td>null</td><td>&quot;achraf-baznani/human-being&quot;</td><td>&quot;Human Being&quot;</td><td>&quot;Baznani Achraf&quot;</td></tr></tbody></table></div>"
      ],
      "text/plain": [
       "shape: (28_985, 8)\n",
       "┌────────────┬────────────┬────────────┬───────────┬───────────┬───────────┬───────────┬───────────┐\n",
       "│ title      ┆ artist     ┆ style      ┆ type      ┆ descripti ┆ url       ┆ raw_title ┆ raw_artis │\n",
       "│ ---        ┆ ---        ┆ ---        ┆ ---       ┆ on        ┆ ---       ┆ ---       ┆ t         │\n",
       "│ str        ┆ str        ┆ str        ┆ str       ┆ ---       ┆ str       ┆ str       ┆ ---       │\n",
       "│            ┆            ┆            ┆           ┆ str       ┆           ┆           ┆ str       │\n",
       "╞════════════╪════════════╪════════════╪═══════════╪═══════════╪═══════════╪═══════════╪═══════════╡\n",
       "│ still life ┆ carlsen    ┆ realism    ┆ still     ┆ null      ┆ emil-carl ┆ Still     ┆ Carlsen   │\n",
       "│ self       ┆ emil       ┆            ┆ life      ┆           ┆ sen/still ┆ Life with ┆ Emil      │\n",
       "│ portrait   ┆            ┆            ┆           ┆           ┆ -life-wit ┆ Self      ┆           │\n",
       "│            ┆            ┆            ┆           ┆           ┆ h-s…      ┆ Portrait  ┆           │\n",
       "│ field      ┆ adam       ┆ romanticis ┆ battle    ┆ null      ┆ albrecht- ┆ Field     ┆ Adam      │\n",
       "│ marshal    ┆ albrecht   ┆ m          ┆ painting  ┆           ┆ adam/fiel ┆ Marshal   ┆ Albrecht  │\n",
       "│ radetzky   ┆            ┆            ┆           ┆           ┆ d-marshal ┆ Radetzky  ┆           │\n",
       "│ staff b…   ┆            ┆            ┆           ┆           ┆ -ra…      ┆ and his…  ┆           │\n",
       "│ children   ┆ brendekild ┆ realism    ┆ genre     ┆ null      ┆ hans-ande ┆ Children  ┆ Brendekil │\n",
       "│ country    ┆ e hans     ┆            ┆ painting  ┆           ┆ rsen-bren ┆ on a      ┆ de Hans   │\n",
       "│ road first ┆ andersen   ┆            ┆           ┆           ┆ dekilde/c ┆ Country   ┆ Andersen  │\n",
       "│ st…        ┆            ┆            ┆           ┆           ┆ hil…      ┆ Road (Th… ┆           │\n",
       "│ temptation ┆ bosch      ┆ northern   ┆ religious ┆ null      ┆ hieronymu ┆ The Tempt ┆ Bosch Hie │\n",
       "│ st anthony ┆ hieronymus ┆ renaissanc ┆ painting  ┆           ┆ s-bosch/t ┆ ation of  ┆ ronymus   │\n",
       "│ detail     ┆            ┆ e          ┆           ┆           ┆ he-tempta ┆ St        ┆           │\n",
       "│            ┆            ┆            ┆           ┆           ┆ tio…      ┆ Anthony   ┆           │\n",
       "│            ┆            ┆            ┆           ┆           ┆           ┆ (…        ┆           │\n",
       "│ madame     ┆ benoist    ┆ neoclassic ┆ portrait  ┆ null      ┆ marie-gui ┆ Madame    ┆ Benoist   │\n",
       "│ philippe   ┆ marie      ┆ ism        ┆           ┆           ┆ llemine-b ┆ Philippe  ┆ Marie-Gui │\n",
       "│ panon      ┆ guillemine ┆            ┆           ┆           ┆ enoist/ma ┆ Panon     ┆ llemine   │\n",
       "│ desbassa…  ┆            ┆            ┆           ┆           ┆ dam…      ┆ Desbassa… ┆           │\n",
       "│ …          ┆ …          ┆ …          ┆ …         ┆ …         ┆ …         ┆ …         ┆ …         │\n",
       "│ temptation ┆ bosch      ┆ northern   ┆ religious ┆ null      ┆ hieronymu ┆ The Tempt ┆ Bosch Hie │\n",
       "│ st anthony ┆ hieronymus ┆ renaissanc ┆ painting  ┆           ┆ s-bosch/t ┆ ation of  ┆ ronymus   │\n",
       "│ detail     ┆            ┆ e          ┆           ┆           ┆ he-tempta ┆ St. Antho ┆           │\n",
       "│            ┆            ┆            ┆           ┆           ┆ tio…      ┆ ny …      ┆           │\n",
       "│ green      ┆ calder     ┆ abstract   ┆ abstract  ┆ null      ┆ alexander ┆ The Green ┆ Calder    │\n",
       "│ stripe     ┆ alexander  ┆ art        ┆           ┆           ┆ -calder/t ┆ Stripe    ┆ Alexander │\n",
       "│            ┆            ┆            ┆           ┆           ┆ he-green- ┆           ┆           │\n",
       "│            ┆            ┆            ┆           ┆           ┆ str…      ┆           ┆           │\n",
       "│ abbe fanfr ┆ beardsley  ┆ art        ┆ portrait  ┆ null      ┆ aubrey-be ┆ The Abbe  ┆ Beardsley │\n",
       "│ eluche     ┆ aubrey     ┆ nouveau    ┆           ┆           ┆ ardsley/t ┆ Fanfreluc ┆ Aubrey    │\n",
       "│            ┆            ┆ (modern)   ┆           ┆           ┆ he-abbe-f ┆ he        ┆           │\n",
       "│            ┆            ┆            ┆           ┆           ┆ anf…      ┆           ┆           │\n",
       "│ untitled   ┆ beksinski  ┆ surrealism ┆ symbolic  ┆ null      ┆ zdzislaw- ┆ Untitled  ┆ Beksinski │\n",
       "│            ┆ zdislav    ┆            ┆ painting  ┆           ┆ beksinski ┆           ┆ Zdislav   │\n",
       "│            ┆            ┆            ┆           ┆           ┆ /untitled ┆           ┆           │\n",
       "│            ┆            ┆            ┆           ┆           ┆ -46…      ┆           ┆           │\n",
       "│ human      ┆ baznani    ┆ surrealism ┆ photo     ┆ null      ┆ achraf-ba ┆ Human     ┆ Baznani   │\n",
       "│            ┆ achraf     ┆            ┆           ┆           ┆ znani/hum ┆ Being     ┆ Achraf    │\n",
       "│            ┆            ┆            ┆           ┆           ┆ an-being  ┆           ┆           │\n",
       "└────────────┴────────────┴────────────┴───────────┴───────────┴───────────┴───────────┴───────────┘"
      ]
     },
     "execution_count": 16,
     "metadata": {},
     "output_type": "execute_result"
    }
   ],
   "source": [
    "wikiart_paintings_files = os.listdir(RAW_DATA_PATH + \"wikiart/\")\n",
    "\n",
    "wikiart_features = []\n",
    "\n",
    "for file in wikiart_paintings_files:\n",
    "    artist_paintings = pl.read_json(RAW_DATA_PATH + \"wikiart/\" + file, infer_schema_length=1000)\n",
    "\n",
    "    if artist_paintings.shape[0] != 0:\n",
    "        artist_paintings = artist_paintings.select(\n",
    "            \"title\", \"artistName\", \"description\", \"style\", \"genre\", \"url\", \"artistUrl\"\n",
    "        )\n",
    "\n",
    "        for col in artist_paintings.columns:\n",
    "            artist_paintings = artist_paintings.with_columns(pl.col(col).cast(pl.String).alias(col))\n",
    "\n",
    "        wikiart_features.append(artist_paintings)\n",
    "\n",
    "wikiart_features_df = (\n",
    "    pl.concat(wikiart_features)\n",
    "    .with_columns(pl.col(\"title\").alias(\"raw_title\"))\n",
    "    .with_columns(pl.col(\"artistName\").alias(\"raw_artist\"))\n",
    "    .with_columns(\n",
    "        pl.col(\"title\")\n",
    "        .map_elements(lambda x: clean_title_name(x), return_dtype=pl.String)\n",
    "        .alias(\"title\")\n",
    "    )\n",
    "    .with_columns(\n",
    "        pl.col(\"artistName\")\n",
    "        .map_elements(lambda x: clean_artist_name(x), return_dtype=pl.String)\n",
    "        .alias(\"artist\")\n",
    "    )\n",
    "    .with_columns(\n",
    "        pl.col(\"style\").map_elements(lambda x: x.lower(), return_dtype=pl.String).alias(\"style\")\n",
    "    )\n",
    "    .with_columns(\n",
    "        pl.col(\"genre\").map_elements(lambda x: x.lower(), return_dtype=pl.String).alias(\"genre\")\n",
    "    )\n",
    "    .with_columns((pl.col(\"artistUrl\") + \"/\" + pl.col(\"url\")).alias(\"url\"))\n",
    "    .filter(~((pl.col(\"artist\").str.len_bytes() <= 4) | (pl.col(\"title\").str.len_bytes() <= 2)))\n",
    "    .filter(~(pl.col(\"style\").is_null() & pl.col(\"genre\").is_null()))\n",
    "    .rename({\"genre\": \"type\"})\n",
    "    .unique()\n",
    "    .select(\n",
    "        \"title\",\n",
    "        \"artist\",\n",
    "        \"style\",\n",
    "        \"type\",\n",
    "        \"description\",\n",
    "        \"url\",\n",
    "        \"raw_title\",\n",
    "        \"raw_artist\",\n",
    "    )\n",
    ")\n",
    "wikiart_features = wikiart_features_df.to_numpy()\n",
    "wikiart_features_df"
   ]
  },
  {
   "cell_type": "markdown",
   "metadata": {},
   "source": [
    "#### 1.2. Web Gallery of Art data about the style and type of paintings"
   ]
  },
  {
   "cell_type": "code",
   "execution_count": 9,
   "metadata": {},
   "outputs": [],
   "source": [
    "def rearrange_artist_name(name):\n",
    "    divided_name = name.split(\", \")\n",
    "\n",
    "    if len(divided_name) == 1:\n",
    "        return divided_name[0]\n",
    "\n",
    "    elif len(divided_name) == 2:\n",
    "        return divided_name[1] + \" \" + divided_name[0]\n",
    "\n",
    "    else:\n",
    "        return divided_name[1] + \" \" + divided_name[0] + \" \" + \" \".join(divided_name[2:])"
   ]
  },
  {
   "cell_type": "code",
   "execution_count": 10,
   "metadata": {},
   "outputs": [
    {
     "data": {
      "text/html": [
       "<div><style>\n",
       ".dataframe > thead > tr,\n",
       ".dataframe > tbody > tr {\n",
       "  text-align: right;\n",
       "  white-space: pre-wrap;\n",
       "}\n",
       "</style>\n",
       "<small>shape: (37_007, 3)</small><table border=\"1\" class=\"dataframe\"><thead><tr><th>title</th><th>artist</th><th>type</th></tr><tr><td>str</td><td>str</td><td>str</td></tr></thead><tbody><tr><td>&quot;virgin child&quot;</td><td>&quot;giovanni di lorenzo larciani&quot;</td><td>&quot;religious&quot;</td></tr><tr><td>&quot;interior view&quot;</td><td>&quot;georg moller&quot;</td><td>&quot;interior&quot;</td></tr><tr><td>&quot;christ handing keys st peter&quot;</td><td>&quot;pietro perugino&quot;</td><td>&quot;religious&quot;</td></tr><tr><td>&quot;marauders&quot;</td><td>&quot;willem cornelisz duyster&quot;</td><td>&quot;genre&quot;</td></tr><tr><td>&quot;polyptych resurrection&quot;</td><td>&quot;tiziano vecellio&quot;</td><td>&quot;religious&quot;</td></tr><tr><td>&hellip;</td><td>&hellip;</td><td>&hellip;</td></tr><tr><td>&quot;virgin appears st bernard&quot;</td><td>&quot;fra filippo lippi&quot;</td><td>&quot;religious&quot;</td></tr><tr><td>&quot;palazzo ducale venice&quot;</td><td>&quot;pierre auguste renoir&quot;</td><td>&quot;landscape&quot;</td></tr><tr><td>&quot;view apse calotte&quot;</td><td>&quot;jacopo torriti&quot;</td><td>&quot;religious&quot;</td></tr><tr><td>&quot;peasant sitting table&quot;</td><td>&quot;vincent van gogh&quot;</td><td>&quot;genre&quot;</td></tr><tr><td>&quot;dwarf gregorio&quot;</td><td>&quot;ignacio zuloaga y zabaleta&quot;</td><td>&quot;portrait&quot;</td></tr></tbody></table></div>"
      ],
      "text/plain": [
       "shape: (37_007, 3)\n",
       "┌──────────────────────────────┬──────────────────────────────┬───────────┐\n",
       "│ title                        ┆ artist                       ┆ type      │\n",
       "│ ---                          ┆ ---                          ┆ ---       │\n",
       "│ str                          ┆ str                          ┆ str       │\n",
       "╞══════════════════════════════╪══════════════════════════════╪═══════════╡\n",
       "│ virgin child                 ┆ giovanni di lorenzo larciani ┆ religious │\n",
       "│ interior view                ┆ georg moller                 ┆ interior  │\n",
       "│ christ handing keys st peter ┆ pietro perugino              ┆ religious │\n",
       "│ marauders                    ┆ willem cornelisz duyster     ┆ genre     │\n",
       "│ polyptych resurrection       ┆ tiziano vecellio             ┆ religious │\n",
       "│ …                            ┆ …                            ┆ …         │\n",
       "│ virgin appears st bernard    ┆ fra filippo lippi            ┆ religious │\n",
       "│ palazzo ducale venice        ┆ pierre auguste renoir        ┆ landscape │\n",
       "│ view apse calotte            ┆ jacopo torriti               ┆ religious │\n",
       "│ peasant sitting table        ┆ vincent van gogh             ┆ genre     │\n",
       "│ dwarf gregorio               ┆ ignacio zuloaga y zabaleta   ┆ portrait  │\n",
       "└──────────────────────────────┴──────────────────────────────┴───────────┘"
      ]
     },
     "execution_count": 10,
     "metadata": {},
     "output_type": "execute_result"
    }
   ],
   "source": [
    "wga_features_df = (\n",
    "    (\n",
    "        pl.read_excel(RAW_DATA_PATH + \"artists_wga.xlsx\")\n",
    "        .with_columns(\n",
    "            pl.col(\"AUTHOR\")\n",
    "            .map_elements(\n",
    "                lambda x: clean_artist_name(rearrange_artist_name(x)), return_dtype=pl.String\n",
    "            )\n",
    "            .alias(\"artist\")\n",
    "        )\n",
    "        .with_columns(\n",
    "            pl.col(\"TITLE\")\n",
    "            .map_elements(lambda x: clean_title_name(x), return_dtype=pl.String)\n",
    "            .alias(\"title\")\n",
    "        )\n",
    "        .with_columns(\n",
    "            pl.col(\"TYPE\")\n",
    "            .replace(\n",
    "                {\n",
    "                    \"historical\": \"history\",\n",
    "                    \"other\": None,\n",
    "                    \"still-life\": \"still life\",\n",
    "                    \"study\": \"sketch and study\",\n",
    "                }\n",
    "            )\n",
    "            .alias(\"type\")\n",
    "        )\n",
    "        .select(\"title\", \"artist\", \"type\")\n",
    "    )\n",
    "    .filter(pl.col(\"type\").is_not_null())\n",
    "    .unique()\n",
    ")\n",
    "\n",
    "wga_features = wga_features_df.to_numpy()\n",
    "wga_features_df"
   ]
  },
  {
   "cell_type": "markdown",
   "metadata": {},
   "source": [
    "#### 1.3. MET data"
   ]
  },
  {
   "cell_type": "code",
   "execution_count": 11,
   "metadata": {},
   "outputs": [
    {
     "data": {
      "text/html": [
       "<div><style>\n",
       ".dataframe > thead > tr,\n",
       ".dataframe > tbody > tr {\n",
       "  text-align: right;\n",
       "  white-space: pre-wrap;\n",
       "}\n",
       "</style>\n",
       "<small>shape: (2_053, 7)</small><table border=\"1\" class=\"dataframe\"><thead><tr><th>id</th><th>title</th><th>artist</th><th>year</th><th>description</th><th>raw_title</th><th>raw_artist</th></tr><tr><td>i64</td><td>str</td><td>str</td><td>i64</td><td>str</td><td>str</td><td>str</td></tr></thead><tbody><tr><td>0</td><td>&quot;ship stormy sea&quot;</td><td>&quot;ivan konstantinovich aivazovsk…</td><td>1900</td><td>&quot;Aivazovsky was a celebrated pa…</td><td>&quot;A Ship in a Stormy Sea&quot;</td><td>&quot;Ivan Konstantinovich Aivazovsk…</td></tr><tr><td>1</td><td>&quot;saint giles christ triumphant …</td><td>&quot;miguel alcañiz&quot;</td><td>1413</td><td>&quot;These panels, from an altarpie…</td><td>&quot;Saint Giles with Christ Triump…</td><td>&quot;Miguel Alcañiz (or Miquel Alca…</td></tr><tr><td>2</td><td>&quot;flora zephyr&quot;</td><td>&quot;jacopo amigoni&quot;</td><td>1739</td><td>&quot;The composition celebrates the…</td><td>&quot;Flora and Zephyr&quot;</td><td>&quot;Jacopo Amigoni&quot;</td></tr><tr><td>4</td><td>&quot;jérôme bonaparte 1784–1860 kin…</td><td>&quot;giacomo andreoli&quot;</td><td>1813</td><td>&quot;The following miniature is cle…</td><td>&quot;Jérôme Bonaparte (1784–1860), …</td><td>&quot;Giacomo Andreoli&quot;</td></tr><tr><td>5</td><td>&quot;saint alexander&quot;</td><td>&quot;fra angelico&quot;</td><td>1430</td><td>&quot;This early work by Fra Angelic…</td><td>&quot;Saint Alexander&quot;</td><td>&quot;Fra Angelico (Guido di Pietro)&quot;</td></tr><tr><td>&hellip;</td><td>&hellip;</td><td>&hellip;</td><td>&hellip;</td><td>&hellip;</td><td>&hellip;</td><td>&hellip;</td></tr><tr><td>2137</td><td>&quot;picquigny&quot;</td><td>&quot;frits thaulow&quot;</td><td>1899</td><td>&quot;Thaulow earned great success w…</td><td>&quot;Picquigny&quot;</td><td>&quot;Frits Thaulow&quot;</td></tr><tr><td>2138</td><td>&quot;bust length study man&quot;</td><td>&quot;françois auguste biard&quot;</td><td>1848</td><td>&quot;Despite the nuanced depiction …</td><td>&quot;Bust-Length Study of a Man&quot;</td><td>&quot;François-Auguste Biard&quot;</td></tr><tr><td>2139</td><td>&quot;man seated asleep&quot;</td><td>&quot;giuseppe abbati&quot;</td><td>1870</td><td>&quot;This picture’s lack of pretens…</td><td>&quot;A Man Seated and Asleep&quot;</td><td>&quot;Giuseppe Abbati&quot;</td></tr><tr><td>2140</td><td>&quot;rachel ruysch 1664–1750&quot;</td><td>&quot;michiel van musscher&quot;</td><td>1692</td><td>&quot;Over a career that spanned mor…</td><td>&quot;Rachel Ruysch (1664–1750)&quot;</td><td>&quot;Michiel van Musscher|Rachel Ru…</td></tr><tr><td>2141</td><td>&quot;still life vase flowers melon …</td><td>&quot;charlotte eustache sophie de f…</td><td>1780</td><td>&quot;The marquise de Grollier was a…</td><td>&quot;Still Life with a Vase of Flow…</td><td>&quot;Charlotte Eustache Sophie de F…</td></tr></tbody></table></div>"
      ],
      "text/plain": [
       "shape: (2_053, 7)\n",
       "┌──────┬────────────────┬────────────────┬──────┬────────────────┬────────────────┬────────────────┐\n",
       "│ id   ┆ title          ┆ artist         ┆ year ┆ description    ┆ raw_title      ┆ raw_artist     │\n",
       "│ ---  ┆ ---            ┆ ---            ┆ ---  ┆ ---            ┆ ---            ┆ ---            │\n",
       "│ i64  ┆ str            ┆ str            ┆ i64  ┆ str            ┆ str            ┆ str            │\n",
       "╞══════╪════════════════╪════════════════╪══════╪════════════════╪════════════════╪════════════════╡\n",
       "│ 0    ┆ ship stormy    ┆ ivan konstanti ┆ 1900 ┆ Aivazovsky was ┆ A Ship in a    ┆ Ivan Konstanti │\n",
       "│      ┆ sea            ┆ novich         ┆      ┆ a celebrated   ┆ Stormy Sea     ┆ novich         │\n",
       "│      ┆                ┆ aivazovsk…     ┆      ┆ pa…            ┆                ┆ Aivazovsk…     │\n",
       "│ 1    ┆ saint giles    ┆ miguel alcañiz ┆ 1413 ┆ These panels,  ┆ Saint Giles    ┆ Miguel Alcañiz │\n",
       "│      ┆ christ         ┆                ┆      ┆ from an        ┆ with Christ    ┆ (or Miquel     │\n",
       "│      ┆ triumphant …   ┆                ┆      ┆ altarpie…      ┆ Triump…        ┆ Alca…          │\n",
       "│ 2    ┆ flora zephyr   ┆ jacopo amigoni ┆ 1739 ┆ The            ┆ Flora and      ┆ Jacopo Amigoni │\n",
       "│      ┆                ┆                ┆      ┆ composition    ┆ Zephyr         ┆                │\n",
       "│      ┆                ┆                ┆      ┆ celebrates     ┆                ┆                │\n",
       "│      ┆                ┆                ┆      ┆ the…           ┆                ┆                │\n",
       "│ 4    ┆ jérôme         ┆ giacomo        ┆ 1813 ┆ The following  ┆ Jérôme         ┆ Giacomo        │\n",
       "│      ┆ bonaparte      ┆ andreoli       ┆      ┆ miniature is   ┆ Bonaparte      ┆ Andreoli       │\n",
       "│      ┆ 1784–1860 kin… ┆                ┆      ┆ cle…           ┆ (1784–1860), … ┆                │\n",
       "│ 5    ┆ saint          ┆ fra angelico   ┆ 1430 ┆ This early     ┆ Saint          ┆ Fra Angelico   │\n",
       "│      ┆ alexander      ┆                ┆      ┆ work by Fra    ┆ Alexander      ┆ (Guido di      │\n",
       "│      ┆                ┆                ┆      ┆ Angelic…       ┆                ┆ Pietro)        │\n",
       "│ …    ┆ …              ┆ …              ┆ …    ┆ …              ┆ …              ┆ …              │\n",
       "│ 2137 ┆ picquigny      ┆ frits thaulow  ┆ 1899 ┆ Thaulow earned ┆ Picquigny      ┆ Frits Thaulow  │\n",
       "│      ┆                ┆                ┆      ┆ great success  ┆                ┆                │\n",
       "│      ┆                ┆                ┆      ┆ w…             ┆                ┆                │\n",
       "│ 2138 ┆ bust length    ┆ françois       ┆ 1848 ┆ Despite the    ┆ Bust-Length    ┆ François-Augus │\n",
       "│      ┆ study man      ┆ auguste biard  ┆      ┆ nuanced        ┆ Study of a Man ┆ te Biard       │\n",
       "│      ┆                ┆                ┆      ┆ depiction …    ┆                ┆                │\n",
       "│ 2139 ┆ man seated     ┆ giuseppe       ┆ 1870 ┆ This picture’s ┆ A Man Seated   ┆ Giuseppe       │\n",
       "│      ┆ asleep         ┆ abbati         ┆      ┆ lack of        ┆ and Asleep     ┆ Abbati         │\n",
       "│      ┆                ┆                ┆      ┆ pretens…       ┆                ┆                │\n",
       "│ 2140 ┆ rachel ruysch  ┆ michiel van    ┆ 1692 ┆ Over a career  ┆ Rachel Ruysch  ┆ Michiel van    │\n",
       "│      ┆ 1664–1750      ┆ musscher       ┆      ┆ that spanned   ┆ (1664–1750)    ┆ Musscher|Rache │\n",
       "│      ┆                ┆                ┆      ┆ mor…           ┆                ┆ l Ru…          │\n",
       "│ 2141 ┆ still life     ┆ charlotte      ┆ 1780 ┆ The marquise   ┆ Still Life     ┆ Charlotte      │\n",
       "│      ┆ vase flowers   ┆ eustache       ┆      ┆ de Grollier    ┆ with a Vase of ┆ Eustache       │\n",
       "│      ┆ melon …        ┆ sophie de f…   ┆      ┆ was a…         ┆ Flow…          ┆ Sophie de F…   │\n",
       "└──────┴────────────────┴────────────────┴──────┴────────────────┴────────────────┴────────────────┘"
      ]
     },
     "execution_count": 11,
     "metadata": {},
     "output_type": "execute_result"
    }
   ],
   "source": [
    "met_paintings_df = (\n",
    "    pl.read_json(RAW_DATA_PATH + \"met_paintings/met_paintings_data.json\")\n",
    "    .unique()\n",
    "    .sort(\"id\")\n",
    "    .with_columns(pl.col(\"title\").alias(\"raw_title\"))\n",
    "    .with_columns(pl.col(\"artist\").alias(\"raw_artist\"))\n",
    "    .with_columns(\n",
    "        pl.col(\"artist\")\n",
    "        .map_elements(lambda x: clean_artist_name(x), return_dtype=pl.String)\n",
    "        .alias(\"artist\")\n",
    "    )\n",
    "\n",
    "    .with_columns(\n",
    "        pl.col(\"title\")\n",
    "        .map_elements(lambda x: clean_title_name(x), return_dtype=pl.String)\n",
    "        .alias(\"title\")\n",
    "    )\n",
    "    .sort(\"id\")\n",
    ")\n",
    "\n",
    "met_paintings = met_paintings_df.to_numpy()\n",
    "met_paintings_df"
   ]
  },
  {
   "cell_type": "markdown",
   "metadata": {},
   "source": [
    "### 2. Get style and type for MET paintings available in the Wikiart dataset"
   ]
  },
  {
   "cell_type": "code",
   "execution_count": 12,
   "metadata": {},
   "outputs": [],
   "source": [
    "def match_painting(painting, painting_features, found_paintings):\n",
    "    searched_title = painting[1]\n",
    "    searched_artist = painting[2]\n",
    "\n",
    "    title = painting_features[0]\n",
    "    artist = painting_features[1]\n",
    "\n",
    "    found_artist = searched_artist in artist or artist in searched_artist\n",
    "    found_title = searched_title in title or title in searched_title\n",
    "\n",
    "    if found_artist and found_title:\n",
    "        found_paintings.append(\n",
    "            {\n",
    "                \"id\": painting[0],\n",
    "                \"title\": painting[5],\n",
    "                \"artist\": painting[6],\n",
    "                \"year\": painting[3],\n",
    "                \"type\": painting_features[2],\n",
    "                \"style\": painting_features[3] if len(painting_features) >= 4 else None,\n",
    "                \"description\": painting[4],\n",
    "            }\n",
    "        )\n",
    "\n",
    "    return found_artist and found_title"
   ]
  },
  {
   "cell_type": "code",
   "execution_count": 13,
   "metadata": {},
   "outputs": [
    {
     "name": "stderr",
     "output_type": "stream",
     "text": [
      "100%|██████████| 2053/2053 [03:17<00:00, 10.38it/s]\n"
     ]
    }
   ],
   "source": [
    "found_paintings = []\n",
    "\n",
    "for index, painting in enumerate(tqdm(met_paintings)):\n",
    "    found = False\n",
    "\n",
    "    for painting_features in wikiart_features:\n",
    "        found = match_painting(painting, painting_features, found_paintings)\n",
    "        if found:\n",
    "            break\n",
    "\n",
    "    if found:\n",
    "        continue\n",
    "\n",
    "    for painting_features in wga_features:\n",
    "        found =  match_painting(painting, painting_features, found_paintings)\n",
    "        if found:\n",
    "            break\n",
    "\n",
    "    if not found:\n",
    "        found_paintings.append(\n",
    "            {\n",
    "                \"id\": painting[0],\n",
    "                \"title\": painting[5],\n",
    "                \"artist\": painting[6],\n",
    "                \"year\": painting[3],\n",
    "                \"type\": None,\n",
    "                \"style\": None,\n",
    "                \"description\": painting[4],\n",
    "            }\n",
    "        )"
   ]
  },
  {
   "cell_type": "code",
   "execution_count": 15,
   "metadata": {},
   "outputs": [],
   "source": [
    "with open(INTERMEDIATE_DATA_PATH + \"met_paintings/met_paintings_enhanced_data.json\", \"w\") as f:\n",
    "    json.dump(found_paintings, f, indent=4)"
   ]
  }
 ],
 "metadata": {
  "kernelspec": {
   "display_name": "mona",
   "language": "python",
   "name": "python3"
  },
  "language_info": {
   "codemirror_mode": {
    "name": "ipython",
    "version": 3
   },
   "file_extension": ".py",
   "mimetype": "text/x-python",
   "name": "python",
   "nbconvert_exporter": "python",
   "pygments_lexer": "ipython3",
   "version": "3.11.10"
  }
 },
 "nbformat": 4,
 "nbformat_minor": 2
}
