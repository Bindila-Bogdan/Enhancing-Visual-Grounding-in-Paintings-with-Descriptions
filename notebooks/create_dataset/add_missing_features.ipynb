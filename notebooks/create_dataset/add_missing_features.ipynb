{
 "cells": [
  {
   "cell_type": "markdown",
   "metadata": {},
   "source": [
    "# Add style and type features to the retrieved paintings\n",
    "This notebook adds to the retrieved paintings the type and style if they were not available initially. These characteristics are retrieved from Wikiart."
   ]
  },
  {
   "cell_type": "markdown",
   "metadata": {
    "vscode": {
     "languageId": "plaintext"
    }
   },
   "source": [
    "### 0. Import libraries"
   ]
  },
  {
   "cell_type": "code",
   "execution_count": null,
   "metadata": {},
   "outputs": [],
   "source": [
    "import re\n",
    "import json\n",
    "import nltk \n",
    "import polars as pl\n",
    "from tqdm import tqdm\n",
    "from nltk.corpus import stopwords\n",
    "\n",
    "nltk.download('stopwords')\n",
    "STOP_WORDS = stopwords.words('english')\n",
    "DATA_PATH = \"../../data/raw/\""
   ]
  },
  {
   "cell_type": "markdown",
   "metadata": {},
   "source": [
    "### 1. Load data"
   ]
  },
  {
   "cell_type": "markdown",
   "metadata": {},
   "source": [
    "#### 1.1. Load Wikiart data about the style and type of paintings"
   ]
  },
  {
   "cell_type": "code",
   "execution_count": null,
   "metadata": {},
   "outputs": [],
   "source": [
    "def clean_artist_name(artist):\n",
    "    first_artist_name = re.sub(r\"\\([^)]*\\)\", \"\", artist.lower()).split(\"|\")[0]\n",
    "    artist_wo_punctuation = re.sub(r\"[.,\\-!?;:()\\[\\]{}]\", \" \", first_artist_name).strip()\n",
    "    artist_wo_multiple_spaces = re.sub(r\"\\s+\", \" \", artist_wo_punctuation).strip()\n",
    "\n",
    "    return artist_wo_multiple_spaces"
   ]
  },
  {
   "cell_type": "code",
   "execution_count": null,
   "metadata": {},
   "outputs": [],
   "source": [
    "def clean_title_name(title):\n",
    "    title_wo_punctuation = re.sub(r\"[.,\\-!?;:()\\[\\]{}]\", \" \", title.lower().replace(\"\\xa0\", \" \")).strip()\n",
    "    title_wo_multiple_spaces = re.sub(r\"\\s+\", \" \", title_wo_punctuation).strip().split(\" \")\n",
    "    title_wo_stop_words = \" \".join([word for word in title_wo_multiple_spaces if word not in STOP_WORDS])\n",
    "\n",
    "    return title_wo_stop_words"
   ]
  },
  {
   "cell_type": "code",
   "execution_count": null,
   "metadata": {},
   "outputs": [],
   "source": [
    "def clean_genre(genre):\n",
    "    cleaned_genre = genre.replace(\" painting\", \"\").replace(\" (nu)\", \"\").strip().lower()\n",
    "\n",
    "    if cleaned_genre == \"none\":\n",
    "        return None\n",
    "    else:\n",
    "        return cleaned_genre"
   ]
  },
  {
   "cell_type": "code",
   "execution_count": null,
   "metadata": {},
   "outputs": [],
   "source": [
    "def clean_style(style):\n",
    "    cleaned_style = style.replace(\" painting\", \"\").replace(\"\\xa0\", \" \").strip().lower()\n",
    "\n",
    "    if clean_style == \"none\":\n",
    "        return None\n",
    "    else:\n",
    "        return cleaned_style"
   ]
  },
  {
   "cell_type": "code",
   "execution_count": null,
   "metadata": {},
   "outputs": [],
   "source": [
    "def clean_date(year):\n",
    "    cleaned_year = re.findall(r\"\\b\\d{4}\\b\", year.lower())\n",
    "\n",
    "    if len(cleaned_year) == 0:\n",
    "        return None\n",
    "    else:\n",
    "        return int(cleaned_year[0])"
   ]
  },
  {
   "cell_type": "code",
   "execution_count": null,
   "metadata": {},
   "outputs": [],
   "source": [
    "paintings_features_df = (\n",
    "    (\n",
    "        pl.read_parquet(DATA_PATH + \"attributes/*.parquet\")\n",
    "        .drop(\"description\", \"filename\", \"image\", \"embeddings_pca512\")\n",
    "        .with_columns(\n",
    "            pl.col(\"genre\")\n",
    "            .map_elements(lambda x: clean_genre(x), return_dtype=pl.String)\n",
    "            .alias(\"genre\")\n",
    "        )\n",
    "        .with_columns(\n",
    "            pl.col(\"style\")\n",
    "            .map_elements(lambda x: clean_style(x), return_dtype=pl.String)\n",
    "            .alias(\"style\")\n",
    "        )\n",
    "        .with_columns(\n",
    "            pl.col(\"title\")\n",
    "            .map_elements(lambda x: clean_title_name(x), return_dtype=pl.String)\n",
    "            .alias(\"title\")\n",
    "        )\n",
    "        .with_columns(\n",
    "            pl.col(\"artist\")\n",
    "            .map_elements(lambda x: clean_artist_name(x), return_dtype=pl.String)\n",
    "            .alias(\"artist\")\n",
    "        )\n",
    "        .with_columns(\n",
    "            pl.col(\"date\")\n",
    "            .map_elements(lambda x: clean_date(x), return_dtype=pl.Int64)\n",
    "            .alias(\"date\")\n",
    "        )\n",
    "    )\n",
    "    .filter(~((pl.col(\"artist\").str.len_bytes() <= 4) | (pl.col(\"title\").str.len_bytes() <= 2)))\n",
    "    .unique()\n",
    ")\n",
    "paintings_features = paintings_features_df.to_numpy()\n",
    "paintings_features_df"
   ]
  },
  {
   "cell_type": "markdown",
   "metadata": {},
   "source": [
    "#### 1.2. Load MET data"
   ]
  },
  {
   "cell_type": "code",
   "execution_count": null,
   "metadata": {},
   "outputs": [],
   "source": [
    "original_met_paintings_df = pl.read_json(DATA_PATH + \"met_paintings/met_paintings_data.json\").unique()\n",
    "original_met_paintings = original_met_paintings_df.to_numpy()\n",
    "\n",
    "met_paintings_df = (\n",
    "    original_met_paintings_df\n",
    "    .with_columns(\n",
    "        pl.col(\"artist\")\n",
    "        .map_elements(lambda x: clean_artist_name(x), return_dtype=pl.String)\n",
    "        .alias(\"artist\")\n",
    "    )\n",
    "    .with_columns(\n",
    "        pl.col(\"title\")\n",
    "        .map_elements(lambda x: clean_title_name(x), return_dtype=pl.String)\n",
    "        .alias(\"title\")\n",
    "    )\n",
    ")\n",
    "met_paintings = met_paintings_df.to_numpy()\n",
    "met_paintings_df"
   ]
  },
  {
   "cell_type": "markdown",
   "metadata": {},
   "source": [
    "### 2. Get style and type for MET paintings available in the Wikiart dataset"
   ]
  },
  {
   "cell_type": "code",
   "execution_count": null,
   "metadata": {},
   "outputs": [],
   "source": [
    "met_paintings_with_features = []\n",
    "\n",
    "for index, met_painting in enumerate(tqdm(met_paintings)):\n",
    "    id = met_painting[0]\n",
    "    title = met_painting[1]\n",
    "    artist = met_painting[2]\n",
    "\n",
    "    for painting_features in paintings_features:\n",
    "        current_title = painting_features[0]\n",
    "        current_artist = painting_features[1]\n",
    "\n",
    "        if (artist in current_artist or current_artist in artist) and (title in current_title or current_title in title):\n",
    "            met_paintings_with_features.append({\n",
    "                    \"id\": id,\n",
    "                    \"title\": original_met_paintings[index][1],\n",
    "                    \"artist\": original_met_paintings[index][2],\n",
    "                    \"year\": original_met_paintings[index][3],\n",
    "                    \"type\": painting_features[3],\n",
    "                    \"style\": painting_features[4],\n",
    "                    \"description\": original_met_paintings[index][4],\n",
    "            })\n",
    "            break\n",
    "\n",
    "print(f\"{len(met_paintings_with_features)} / {len(met_paintings)} paintings have an attached style and type\")"
   ]
  },
  {
   "cell_type": "code",
   "execution_count": null,
   "metadata": {},
   "outputs": [],
   "source": [
    "with open(DATA_PATH + \"met_paintings/met_paintings_enhanced_data.json\", \"w\") as f:\n",
    "    json.dump(met_paintings_with_features, f, indent=4)  "
   ]
  }
 ],
 "metadata": {
  "kernelspec": {
   "display_name": "enhance_vg",
   "language": "python",
   "name": "python3"
  },
  "language_info": {
   "codemirror_mode": {
    "name": "ipython",
    "version": 3
   },
   "file_extension": ".py",
   "mimetype": "text/x-python",
   "name": "python",
   "nbconvert_exporter": "python",
   "pygments_lexer": "ipython3",
   "version": "3.12.3"
  }
 },
 "nbformat": 4,
 "nbformat_minor": 2
}
