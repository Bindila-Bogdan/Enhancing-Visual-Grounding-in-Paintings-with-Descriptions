{
 "cells": [
  {
   "cell_type": "markdown",
   "metadata": {},
   "source": [
    "# Retrieve paintings and their descriptions from Wikiart\n",
    "This notebook retrieves paintings and their descriptions from the Wikiart digital collection. This dataset is also used to get the style and type for artworks from museums that do not provide these pieces of information."
   ]
  },
  {
   "cell_type": "markdown",
   "metadata": {},
   "source": [
    "### 0. Import libraries"
   ]
  },
  {
   "cell_type": "code",
   "execution_count": null,
   "metadata": {},
   "outputs": [],
   "source": [
    "import os\n",
    "import json\n",
    "import time\n",
    "\n",
    "import requests\n",
    "import polars as pl\n",
    "from tqdm import tqdm\n",
    "from PIL import Image\n",
    "from io import BytesIO\n",
    "from bs4 import BeautifulSoup\n",
    "\n",
    "from preprocess_data_utils import *\n",
    "\n",
    "RAW_DATA_PATH = \"../../data/raw/\"\n",
    "INTERMEDIATE_DATA_PATH = \"../../data/intermediate/\""
   ]
  },
  {
   "cell_type": "markdown",
   "metadata": {},
   "source": [
    "### 1. Load and preprocess the data"
   ]
  },
  {
   "cell_type": "code",
   "execution_count": null,
   "metadata": {},
   "outputs": [],
   "source": [
    "try:\n",
    "    os.mkdir(RAW_DATA_PATH + \"wikiart_paintings/\")\n",
    "except FileExistsError:\n",
    "    pass\n",
    "\n",
    "try:\n",
    "    os.mkdir(INTERMEDIATE_DATA_PATH + \"wikiart_paintings/\")\n",
    "except FileExistsError:\n",
    "    pass"
   ]
  },
  {
   "cell_type": "markdown",
   "metadata": {},
   "source": [
    "##### 1.1.1. Subset of 103k paintings\n",
    "In the end this was not used as we leveraged the complete dataset."
   ]
  },
  {
   "cell_type": "code",
   "execution_count": null,
   "metadata": {},
   "outputs": [],
   "source": [
    "wikiart_subset_features_df = (\n",
    "    (\n",
    "        pl.read_parquet(RAW_DATA_PATH + \"attributes/*.parquet\")\n",
    "        .drop(\"description\", \"filename\", \"image\", \"embeddings_pca512\")\n",
    "        .with_columns(\n",
    "            pl.col(\"genre\")\n",
    "            .map_elements(lambda x: clean_genre(x), return_dtype=pl.String)\n",
    "            .alias(\"type\")\n",
    "        )\n",
    "        .with_columns(\n",
    "            pl.col(\"style\")\n",
    "            .map_elements(lambda x: clean_style(x), return_dtype=pl.String)\n",
    "            .replace({\"none\": None})\n",
    "            .alias(\"style\")\n",
    "        )\n",
    "        .with_columns(\n",
    "            pl.col(\"title\")\n",
    "            .map_elements(lambda x: clean_title_name(x), return_dtype=pl.String)\n",
    "            .alias(\"title\")\n",
    "        )\n",
    "        .with_columns(\n",
    "            pl.col(\"artist\")\n",
    "            .map_elements(lambda x: clean_artist_name(x), return_dtype=pl.String)\n",
    "            .alias(\"artist\")\n",
    "        )\n",
    "        .with_columns(\n",
    "            pl.col(\"date\")\n",
    "            .map_elements(lambda x: clean_date(x), return_dtype=pl.Int64)\n",
    "            .alias(\"date\")\n",
    "        )\n",
    "    )\n",
    "    .filter(~((pl.col(\"artist\").str.len_bytes() <= 4) | (pl.col(\"title\").str.len_bytes() <= 2)))\n",
    "    .filter(~(pl.col(\"style\").is_null() & pl.col(\"type\").is_null()))\n",
    "    .unique()\n",
    ").select(\"title\", \"artist\", \"type\", \"style\")\n",
    "\n",
    "wikiart_subset_features_df"
   ]
  },
  {
   "cell_type": "markdown",
   "metadata": {},
   "source": [
    "#### 1.1.2. Entire Wikiart set"
   ]
  },
  {
   "cell_type": "code",
   "execution_count": null,
   "metadata": {},
   "outputs": [],
   "source": [
    "wikiart_paintings_files = os.listdir(RAW_DATA_PATH + \"wikiart/\")\n",
    "\n",
    "wikiart_features = []\n",
    "\n",
    "for file in wikiart_paintings_files:\n",
    "    artist_paintings = pl.read_json(RAW_DATA_PATH + \"wikiart/\" + file, infer_schema_length=10000)\n",
    "\n",
    "    if artist_paintings.shape[0] != 0:\n",
    "        artist_paintings = artist_paintings.select(\n",
    "            \"title\", \"artistName\", \"description\", \"style\", \"genre\", \"url\", \"artistUrl\", \"completitionYear\", \"image\"\n",
    "        )\n",
    "\n",
    "        for col in artist_paintings.columns:\n",
    "            artist_paintings = artist_paintings.with_columns(pl.col(col).cast(pl.String).alias(col))\n",
    "\n",
    "        wikiart_features.append(artist_paintings)\n",
    "\n",
    "raw_wikiart_features_df = pl.concat(wikiart_features)\n",
    "raw_wikiart_features_df.write_csv(RAW_DATA_PATH + \"wikiart.csv\")\n",
    "\n",
    "wikiart_features_df = (\n",
    "    raw_wikiart_features_df\n",
    "    .with_columns(pl.col(\"title\").alias(\"raw_title\"))\n",
    "    .with_columns(pl.col(\"artistName\").alias(\"raw_artist\"))\n",
    "    .with_columns(\n",
    "        pl.col(\"title\")\n",
    "        .map_elements(lambda x: clean_title_name(x), return_dtype=pl.String)\n",
    "        .alias(\"title\")\n",
    "    )\n",
    "    .with_columns(\n",
    "        pl.col(\"completitionYear\")\n",
    "        .map_elements(lambda x: clean_date(x), return_dtype=pl.Int64)\n",
    "        .alias(\"year\")\n",
    "    )\n",
    "    .with_columns(\n",
    "        pl.col(\"artistName\")\n",
    "        .map_elements(lambda x: clean_artist_name(x), return_dtype=pl.String)\n",
    "        .alias(\"artist\")\n",
    "    )\n",
    "    .with_columns(\n",
    "        pl.col(\"image\")\n",
    "        .map_elements(lambda x: \"\".join(x.split(\"!\")[:-1]), return_dtype=pl.String)\n",
    "        .alias(\"image_url\")\n",
    "    )\n",
    "    .with_columns(pl.col(\"style\").str.to_lowercase().alias(\"style\"))\n",
    "    .with_columns(pl.col(\"genre\").str.to_lowercase().alias(\"genre\"))\n",
    "    .with_columns((\"https://www.wikiart.org/en/\" + pl.col(\"artistUrl\") + \"/\" + pl.col(\"url\")).alias(\"url\"))\n",
    "    .filter(~((pl.col(\"artist\").str.len_bytes() <= 4) | (pl.col(\"title\").str.len_bytes() <= 2)))\n",
    "    .filter(~(pl.col(\"style\").is_null() & pl.col(\"genre\").is_null()))\n",
    "    .rename({\"genre\": \"type\"})\n",
    "    .unique()\n",
    "    .select(\n",
    "        \"title\",\n",
    "        \"artist\",\n",
    "        \"type\",\n",
    "        \"style\",\n",
    "        \"year\",\n",
    "        \"description\",\n",
    "        \"url\",\n",
    "        \"raw_title\",\n",
    "        \"raw_artist\",\n",
    "        \"image_url\",\n",
    "    )\n",
    ")\n",
    "wikiart_features = wikiart_features_df.to_numpy()\n",
    "wikiart_features_df.write_csv(INTERMEDIATE_DATA_PATH + \"wikiart_paintings/wikiart_processed.csv\")\n",
    "\n",
    "wikiart_features_df"
   ]
  },
  {
   "cell_type": "markdown",
   "metadata": {},
   "source": [
    "### 2. Get only paintings with descriptions"
   ]
  },
  {
   "cell_type": "code",
   "execution_count": null,
   "metadata": {},
   "outputs": [],
   "source": [
    "# are counted only words without punctuation, numbers or stopwords\n",
    "min_description_word_count = 20\n",
    "\n",
    "artworks_with_description = wikiart_features_df.with_columns(\n",
    "    pl.col(\"description\")\n",
    "    .map_elements(lambda x: len(clean_description(x).split(\" \")), return_dtype=pl.Int64)\n",
    "    .alias(\"description word count\")\n",
    ").filter((pl.col(\"description word count\") >= min_description_word_count) & (pl.col(\"year\") >= 1201) & (pl.col(\"year\") < 2001))"
   ]
  },
  {
   "cell_type": "code",
   "execution_count": null,
   "metadata": {},
   "outputs": [],
   "source": [
    "# types that contain the following words will be kept\n",
    "selected_types = [\n",
    "    \"bijinga\",\n",
    "    \"capriccio\",\n",
    "    \"cityscape\",\n",
    "    \"cloudscape\",\n",
    "    \"design\",\n",
    "    \"icon\",\n",
    "    \"interior\",\n",
    "    \"landscape\",\n",
    "    \"marina\",\n",
    "    \"miniature\",\n",
    "    \"painting\",\n",
    "    \"pastorale\",\n",
    "    \"portrait\",\n",
    "    \"still life\",\n",
    "    \"veduta\",\n",
    "    \"yakusha-e\",\n",
    "]\n",
    "\n",
    "# types that contain the following words will be excluded\n",
    "left_out_types = [\n",
    "    \"abstract\",\n",
    "    \"advertisement\",\n",
    "    \"architecture\",\n",
    "    \"calligraphy\",\n",
    "    \"caricature\",\n",
    "    \"digital\",\n",
    "    \"graffiti\",\n",
    "    \"furniture\",\n",
    "    \"jewelry\",\n",
    "    \"illustration\",\n",
    "    \"installation\",\n",
    "    \"mosaic\",\n",
    "    \"mural\",\n",
    "    \"ornament\",\n",
    "    \"performance\",\n",
    "    \"photo\",\n",
    "    \"poster\",\n",
    "    \"sculpture\",\n",
    "    \"sketch and study\",\n",
    "    \"tapestry\",\n",
    "    \"utensil\",\n",
    "    \"vanitas\",\n",
    "    \"video\",\n",
    "]\n",
    "\n",
    "selected_paintings = []\n",
    "\n",
    "for selected_type in selected_types:\n",
    "    selected_paintings.append(\n",
    "        artworks_with_description.filter(pl.col(\"type\").str.contains(selected_type))\n",
    "    )\n",
    "selected_paintings_df = pl.concat(selected_paintings).unique()\n",
    "\n",
    "for left_out_type in left_out_types:\n",
    "    selected_paintings_df = selected_paintings_df.filter(\n",
    "        ~pl.col(\"type\").str.contains(left_out_type)\n",
    "    )\n",
    "selected_paintings_df"
   ]
  },
  {
   "cell_type": "code",
   "execution_count": null,
   "metadata": {},
   "outputs": [],
   "source": [
    "print(\"Left out types:\")\n",
    "set(artworks_with_description.join(selected_paintings_df, on=\"url\", how=\"anti\")[\"type\"].to_list())"
   ]
  },
  {
   "cell_type": "code",
   "execution_count": null,
   "metadata": {},
   "outputs": [],
   "source": [
    "print(\"Selected descriptions sorted by word count:\")\n",
    "selected_paintings_df.sort(\"description word count\")[\"description\"].to_list()"
   ]
  },
  {
   "cell_type": "code",
   "execution_count": null,
   "metadata": {},
   "outputs": [],
   "source": [
    "def get_media(paintings):\n",
    "    all_media = []\n",
    "    all_media_list = []\n",
    "\n",
    "    for painting in tqdm(paintings):\n",
    "        painting_url = painting[6]\n",
    "        response = requests.get(painting_url)\n",
    "\n",
    "        if str(response.status_code)[0] != \"2\":\n",
    "            continue\n",
    "\n",
    "        soup = BeautifulSoup(response.text, \"html.parser\")\n",
    "        media = [media_tag.get_text() for media_tag in soup.find_all(\"a\", {\"href\": re.compile(r\"/en/paintings-by-media/.*\")})]\n",
    "        all_media.append(media)\n",
    "        all_media_list.extend(media)\n",
    "    \n",
    "    return all_media, all_media_list"
   ]
  },
  {
   "cell_type": "code",
   "execution_count": null,
   "metadata": {},
   "outputs": [],
   "source": [
    "selected_paintings = selected_paintings_df.to_numpy()\n",
    "all_media, all_media_list = get_media(selected_paintings)\n",
    "selected_paintings_df = selected_paintings_df.with_columns(pl.Series(all_media).alias(\"media\"))"
   ]
  },
  {
   "cell_type": "code",
   "execution_count": null,
   "metadata": {},
   "outputs": [],
   "source": [
    "left_out_media = [\"engraving\", \"photography\", \"crayon\", \"lithography\", \"collage\", \"etching\", \"japanese paper\"]\n",
    "left_out_styles = [\"abstract\", \"cubism\", \"cubo-futurism\", \"dada\", \"futurism\", \"orphism\"]\n",
    "\n",
    "\n",
    "for medium in left_out_media:\n",
    "    for style in left_out_styles:\n",
    "        selected_paintings_df = selected_paintings_df.filter(~pl.col(\"media\").list.contains(medium) & ~pl.col(\"style\").str.contains(style))"
   ]
  },
  {
   "cell_type": "markdown",
   "metadata": {},
   "source": [
    "### 3. Keep the paintings that have not been collected so far"
   ]
  },
  {
   "cell_type": "code",
   "execution_count": null,
   "metadata": {},
   "outputs": [],
   "source": [
    "selected_paintings = selected_paintings_df.drop(\"description word count\").to_numpy()\n",
    "met_paintings_df = pl.read_csv(INTERMEDIATE_DATA_PATH + \"met_paintings/met_processed.csv\")\n",
    "met_paintings = met_paintings_df.to_numpy()"
   ]
  },
  {
   "cell_type": "code",
   "execution_count": null,
   "metadata": {},
   "outputs": [],
   "source": [
    "kept_paintings = []\n",
    "painting_id = met_paintings[-1][0]\n",
    "\n",
    "for index, painting in enumerate(tqdm(selected_paintings)):\n",
    "    found = False\n",
    "\n",
    "    for met_painting in met_paintings:\n",
    "        found = is_same_painting(painting[0], painting[1], met_painting[1], met_painting[2])\n",
    "        \n",
    "        if found:\n",
    "            break\n",
    "\n",
    "    if not found:\n",
    "        try:\n",
    "            time.sleep(0.1)\n",
    "            image = requests.get(painting[9]).content\n",
    "\n",
    "            painting_id += 1\n",
    "            kept_paintings.append(\n",
    "                {\n",
    "                    \"id\": painting_id,\n",
    "                    \"title\": painting[7],\n",
    "                    \"artist\": painting[8],\n",
    "                    \"year\": painting[4],\n",
    "                    \"type\": painting[2],\n",
    "                    \"style\": painting[3],\n",
    "                    \"description\": painting[5],\n",
    "                }\n",
    "            )\n",
    "\n",
    "            with open(RAW_DATA_PATH + f\"wikiart_paintings/{painting_id}.png\", \"wb\") as handler:\n",
    "                handler.write(image)\n",
    "\n",
    "            with open(INTERMEDIATE_DATA_PATH + \"wikiart_paintings/wikiart_paintings_enhanced_data.json\", 'w') as json_file:\n",
    "                json.dump(kept_paintings, json_file, indent=4)  \n",
    "        except:\n",
    "            pass"
   ]
  },
  {
   "cell_type": "code",
   "execution_count": null,
   "metadata": {},
   "outputs": [],
   "source": [
    "Image.open(BytesIO(image))"
   ]
  }
 ],
 "metadata": {
  "kernelspec": {
   "display_name": "enhance_vg",
   "language": "python",
   "name": "python3"
  },
  "language_info": {
   "codemirror_mode": {
    "name": "ipython",
    "version": 3
   },
   "file_extension": ".py",
   "mimetype": "text/x-python",
   "name": "python",
   "nbconvert_exporter": "python",
   "pygments_lexer": "ipython3",
   "version": "3.12.3"
  }
 },
 "nbformat": 4,
 "nbformat_minor": 2
}
