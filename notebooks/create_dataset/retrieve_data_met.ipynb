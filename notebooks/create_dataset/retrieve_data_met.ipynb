{
 "cells": [
  {
   "cell_type": "markdown",
   "metadata": {},
   "source": [
    "# Retrieve paintings and their descriptions from MET\n",
    "This notebook retrieves European paintings and their descriptions from the Metropolitan Museum of Art."
   ]
  },
  {
   "cell_type": "markdown",
   "metadata": {},
   "source": [
    "### 0. Import libraries"
   ]
  },
  {
   "cell_type": "code",
   "execution_count": null,
   "metadata": {},
   "outputs": [],
   "source": [
    "import os\n",
    "import json\n",
    "import time\n",
    "import random\n",
    "import requests\n",
    "import polars as pl\n",
    "from tqdm import tqdm\n",
    "from PIL import Image\n",
    "from io import BytesIO\n",
    "from bs4 import BeautifulSoup\n",
    "\n",
    "from preprocess_data_utils import *"
   ]
  },
  {
   "cell_type": "markdown",
   "metadata": {},
   "source": [
    "### 1. Load data"
   ]
  },
  {
   "cell_type": "code",
   "execution_count": null,
   "metadata": {},
   "outputs": [],
   "source": [
    "RAW_DATA_PATH = \"../../data/raw/met_paintings/\"\n",
    "INTERMEDIATE_DATA_PATH = \"../../data/intermediate/\""
   ]
  },
  {
   "cell_type": "code",
   "execution_count": null,
   "metadata": {},
   "outputs": [],
   "source": [
    "try:\n",
    "    os.mkdir(RAW_DATA_PATH)\n",
    "except FileExistsError:\n",
    "    pass\n",
    "\n",
    "try:\n",
    "    os.mkdir(INTERMEDIATE_DATA_PATH + \"met_paintings/\")\n",
    "except FileExistsError:\n",
    "    pass"
   ]
  },
  {
   "cell_type": "code",
   "execution_count": null,
   "metadata": {},
   "outputs": [],
   "source": [
    "data = pl.read_csv(RAW_DATA_PATH + \"met_data.csv\", ignore_errors=True)\n",
    "data"
   ]
  },
  {
   "cell_type": "code",
   "execution_count": null,
   "metadata": {},
   "outputs": [],
   "source": [
    "european_paintings = data.filter(\n",
    "    (pl.col(\"Department\") == \"European Paintings\")\n",
    "    & (pl.col(\"Is Public Domain\") == True)\n",
    "    & (pl.col(\"Object End Date\") > MIN_YEAR)\n",
    "    & (pl.col(\"Object End Date\") < MAX_YEAR)\n",
    ")\n",
    "\n",
    "european_paintings_details_df = european_paintings[\n",
    "    [\"Title\", \"Artist Display Name\", \"Object End Date\", \"Link Resource\"]\n",
    "]\n",
    "european_paintings_details = european_paintings_details_df.to_numpy()\n",
    "european_paintings_details"
   ]
  },
  {
   "cell_type": "code",
   "execution_count": null,
   "metadata": {},
   "outputs": [],
   "source": [
    "european_paintings_details_df"
   ]
  },
  {
   "cell_type": "markdown",
   "metadata": {},
   "source": [
    "### 2. Retrieve paintings"
   ]
  },
  {
   "cell_type": "code",
   "execution_count": null,
   "metadata": {},
   "outputs": [],
   "source": [
    "painting_id = -1\n",
    "paintings_data = []\n",
    "\n",
    "for title, artist, year, painting_url in tqdm(european_paintings_details):\n",
    "    user_agents = [\n",
    "        \"Mozilla/5.0 (Windows NT 10.0; Win64; x64) AppleWebKit/537.36 (KHTML, like Gecko) Chrome/91.0.4472.124 Safari/537.36\",\n",
    "        \"Mozilla/5.0 (X11; Linux x86_64) AppleWebKit/537.36 (KHTML, like Gecko) Chrome/92.0.4515.107 Safari/537.36\",\n",
    "        \"Mozilla/5.0 (Macintosh; Intel Mac OS X 10_15_7) AppleWebKit/605.1.15 (KHTML, like Gecko) Version/14.1.2 Safari/605.1.15\",\n",
    "    ]\n",
    "\n",
    "    headers = {\"User-Agent\": random.choice(user_agents)}\n",
    "    response = requests.get(painting_url, headers=headers)\n",
    "    time.sleep(0.1)\n",
    "\n",
    "    if str(response.status_code)[0] != \"2\":\n",
    "        continue\n",
    "\n",
    "    description = \"\"\n",
    "\n",
    "    soup = BeautifulSoup(response.text, \"html.parser\")\n",
    "    brief_description = (\n",
    "        soup.find(\"div\", {\"class\": \"artwork__intro__desc js-artwork__intro__desc\"})\n",
    "        .get_text()\n",
    "        .strip()\n",
    "    )\n",
    "\n",
    "    if len(brief_description) > 0:\n",
    "        description += brief_description + \"\\n\"\n",
    "\n",
    "    try:\n",
    "        catalog_entry = (\n",
    "            soup.find(\"section\", {\"id\": \"catalogue-entry\"})\n",
    "            .find(\"div\", class_=\"show-more__body js-show-more__body\")\n",
    "            .get_text()\n",
    "            .strip()\n",
    "        )\n",
    "        description += catalog_entry\n",
    "    except AttributeError:\n",
    "        pass\n",
    "\n",
    "    if len(clean_description(description).split(\" \")) >= MIN_DESCRIPTION_WORD_COUNT:\n",
    "        image_url = soup.find(\"meta\", {\"property\": \"og:image\"})[\"content\"]\n",
    "        image = requests.get(image_url).content\n",
    "        painting_id += 1\n",
    "\n",
    "        paintings_data.append(\n",
    "            {\n",
    "                \"id\": painting_id,\n",
    "                \"title\": title,\n",
    "                \"artist\": artist,\n",
    "                \"year\": year,\n",
    "                \"description\": description,\n",
    "            }\n",
    "        )\n",
    "\n",
    "        with open(RAW_DATA_PATH + f\"{painting_id}.png\", \"wb\") as handler:\n",
    "            handler.write(image)"
   ]
  },
  {
   "cell_type": "code",
   "execution_count": null,
   "metadata": {},
   "outputs": [],
   "source": [
    "Image.open(BytesIO(image))"
   ]
  },
  {
   "cell_type": "markdown",
   "metadata": {},
   "source": [
    "### 3. Keep artworks with long-enough descriptions"
   ]
  },
  {
   "cell_type": "code",
   "execution_count": null,
   "metadata": {},
   "outputs": [],
   "source": [
    "met_paintings_df = (\n",
    "    pl.DataFrame(paintings_data)\n",
    "    .unique()\n",
    "    .sort(\"id\")\n",
    "    .with_columns(pl.col(\"title\").alias(\"raw_title\"))\n",
    "    .with_columns(pl.col(\"artist\").alias(\"raw_artist\"))\n",
    "    .with_columns(\n",
    "        pl.col(\"artist\")\n",
    "        .map_elements(lambda x: clean_artist_name(x), return_dtype=pl.String)\n",
    "        .alias(\"artist\")\n",
    "    )\n",
    "    .with_columns(\n",
    "        pl.col(\"title\")\n",
    "        .map_elements(lambda x: clean_title_name(x), return_dtype=pl.String)\n",
    "        .alias(\"title\")\n",
    "    )\n",
    "    .sort(\"id\")\n",
    ")\n",
    "\n",
    "met_paintings_df.write_csv(INTERMEDIATE_DATA_PATH + \"met_paintings/met_processed.csv\")\n",
    "met_paintings = met_paintings_df.to_numpy()\n",
    "met_paintings_df"
   ]
  },
  {
   "cell_type": "markdown",
   "metadata": {},
   "source": [
    "### 4. Get style and type from Wikidata and the Web Gallery of Art\n",
    "For this step, there is needed the processed data from these two sources."
   ]
  },
  {
   "cell_type": "code",
   "execution_count": null,
   "metadata": {},
   "outputs": [],
   "source": [
    "wikiart_features_df = pl.read_csv(\n",
    "    INTERMEDIATE_DATA_PATH + \"wikiart_paintings/wikiart_processed.csv\"\n",
    ")\n",
    "wikiart_features = wikiart_features_df.to_numpy()\n",
    "wikiart_features_df"
   ]
  },
  {
   "cell_type": "code",
   "execution_count": null,
   "metadata": {},
   "outputs": [],
   "source": [
    "wga_features_df = pl.read_csv(INTERMEDIATE_DATA_PATH + \"wga_paintings/wga_processed.csv\")\n",
    "wga_features = wga_features_df.to_numpy()\n",
    "wga_features_df"
   ]
  },
  {
   "cell_type": "code",
   "execution_count": null,
   "metadata": {},
   "outputs": [],
   "source": [
    "def match_painting(painting, painting_features, found_paintings):\n",
    "    same_painting = is_same_painting(\n",
    "        painting[1], painting[2], painting_features[0], painting_features[1]\n",
    "    )\n",
    "\n",
    "    if same_painting:\n",
    "        found_paintings.append(\n",
    "            {\n",
    "                \"id\": painting[0],\n",
    "                \"title\": painting[5],\n",
    "                \"artist\": painting[6],\n",
    "                \"year\": painting[3],\n",
    "                \"type\": painting_features[2],\n",
    "                \"style\": painting_features[3] if len(painting_features) >= 4 else None,\n",
    "                \"description\": painting[4],\n",
    "            }\n",
    "        )\n",
    "\n",
    "    return same_painting"
   ]
  },
  {
   "cell_type": "code",
   "execution_count": null,
   "metadata": {},
   "outputs": [],
   "source": [
    "found_paintings = []\n",
    "\n",
    "for index, painting in enumerate(tqdm(met_paintings)):\n",
    "    painting_style = None\n",
    "    coarse_painting_type = None\n",
    "    fine_grained_painting_type = None\n",
    "\n",
    "    found = False\n",
    "    for painting_features in wikiart_features:\n",
    "        found = is_same_painting(\n",
    "            painting[1], painting[2], painting_features[0], painting_features[1]\n",
    "        )\n",
    "        if found:\n",
    "            painting_style = painting_features[3]\n",
    "            fine_grained_painting_type = painting_features[2]\n",
    "            break\n",
    "\n",
    "    found = False\n",
    "    for painting_features in wga_features:\n",
    "        found = is_same_painting(\n",
    "            painting[1], painting[2], painting_features[0], painting_features[1]\n",
    "        )\n",
    "        if found:\n",
    "            coarse_painting_type = painting_features[2]\n",
    "            break\n",
    "\n",
    "    found_paintings.append(\n",
    "        {\n",
    "            \"id\": painting[0],\n",
    "            \"title\": painting[5],\n",
    "            \"artist\": painting[6],\n",
    "            \"year\": painting[3],\n",
    "            \"coarse_type\": coarse_painting_type,\n",
    "            \"fine_grained_type\": fine_grained_painting_type,\n",
    "            \"style\": painting_style,\n",
    "            \"description\": painting[4],\n",
    "        }\n",
    "    )\n",
    "\n",
    "    with open(INTERMEDIATE_DATA_PATH + \"met_paintings/met_paintings_enhanced_data.json\", \"w\") as f:\n",
    "        json.dump(found_paintings, f, indent=4)"
   ]
  }
 ],
 "metadata": {
  "kernelspec": {
   "display_name": "enhance_vg",
   "language": "python",
   "name": "python3"
  },
  "language_info": {
   "codemirror_mode": {
    "name": "ipython",
    "version": 3
   },
   "file_extension": ".py",
   "mimetype": "text/x-python",
   "name": "python",
   "nbconvert_exporter": "python",
   "pygments_lexer": "ipython3",
   "version": "3.12.3"
  }
 },
 "nbformat": 4,
 "nbformat_minor": 2
}
