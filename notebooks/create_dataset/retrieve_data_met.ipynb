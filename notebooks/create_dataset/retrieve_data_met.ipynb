{
 "cells": [
  {
   "cell_type": "markdown",
   "metadata": {},
   "source": [
    "# Retrieve paintings and their descriptions from MET\n",
    "This notebook retrieves European paintings and their descriptions from the Metropolitan Museum of Art from the 13th-20th centuries."
   ]
  },
  {
   "cell_type": "markdown",
   "metadata": {},
   "source": [
    "### 0. Import libraries"
   ]
  },
  {
   "cell_type": "code",
   "execution_count": null,
   "metadata": {},
   "outputs": [],
   "source": [
    "import os\n",
    "import json\n",
    "import time\n",
    "import random\n",
    "import requests\n",
    "import polars as pl\n",
    "from tqdm import tqdm\n",
    "from PIL import Image\n",
    "from io import BytesIO\n",
    "from bs4 import BeautifulSoup\n",
    "\n",
    "from preprocess_data_utils import *"
   ]
  },
  {
   "cell_type": "markdown",
   "metadata": {},
   "source": [
    "### 1. Load data"
   ]
  },
  {
   "cell_type": "code",
   "execution_count": 7,
   "metadata": {},
   "outputs": [],
   "source": [
    "RAW_DATA_PATH = \"../../data/raw/met_paintings/\"\n",
    "INTERMEDIATE_DATA_PATH = \"../../data/intermediate/met_paintings/\""
   ]
  },
  {
   "cell_type": "code",
   "execution_count": null,
   "metadata": {},
   "outputs": [],
   "source": [
    "try:\n",
    "    os.mkdir(RAW_DATA_PATH)\n",
    "except FileExistsError:\n",
    "    pass"
   ]
  },
  {
   "cell_type": "code",
   "execution_count": null,
   "metadata": {},
   "outputs": [],
   "source": [
    "data = pl.read_csv(RAW_DATA_PATH + \"met_objects.csv\", ignore_errors=True)\n",
    "data.head()"
   ]
  },
  {
   "cell_type": "code",
   "execution_count": null,
   "metadata": {},
   "outputs": [],
   "source": [
    "european_paintings = data.filter(\n",
    "    (pl.col(\"Department\") == \"European Paintings\")\n",
    "    & (pl.col(\"Is Public Domain\") == True)\n",
    "    & (pl.col(\"Object End Date\") >= 1201)\n",
    "    & (pl.col(\"Object End Date\") < 2001)\n",
    ")\n",
    "\n",
    "european_paintings_details_df = european_paintings[\n",
    "    [\"Title\", \"Artist Display Name\", \"Object End Date\", \"Link Resource\"]]\n",
    "european_paintings_details = european_paintings_details_df.to_numpy()\n",
    "european_paintings_details"
   ]
  },
  {
   "cell_type": "code",
   "execution_count": null,
   "metadata": {},
   "outputs": [],
   "source": [
    "european_paintings_details_df"
   ]
  },
  {
   "cell_type": "markdown",
   "metadata": {},
   "source": [
    "### 2. Retrieve paintings"
   ]
  },
  {
   "cell_type": "code",
   "execution_count": null,
   "metadata": {},
   "outputs": [],
   "source": [
    "paintings_data = []\n",
    "\n",
    "for painting_id, (title, artist, year, painting_url) in enumerate(tqdm(european_paintings_details)):\n",
    "    user_agents = [\n",
    "        'Mozilla/5.0 (Windows NT 10.0; Win64; x64) AppleWebKit/537.36 (KHTML, like Gecko) Chrome/91.0.4472.124 Safari/537.36',\n",
    "        'Mozilla/5.0 (X11; Linux x86_64) AppleWebKit/537.36 (KHTML, like Gecko) Chrome/92.0.4515.107 Safari/537.36',\n",
    "        'Mozilla/5.0 (Macintosh; Intel Mac OS X 10_15_7) AppleWebKit/605.1.15 (KHTML, like Gecko) Version/14.1.2 Safari/605.1.15'\n",
    "    ]\n",
    "\n",
    "    headers = {'User-Agent': random.choice(user_agents)}\n",
    "    response = requests.get(painting_url, headers=headers)\n",
    "    time.sleep(1)\n",
    "\n",
    "    if str(response.status_code)[0] != \"2\":\n",
    "        continue\n",
    "\n",
    "    description = \"\"\n",
    "\n",
    "    soup = BeautifulSoup(response.text, \"html.parser\")\n",
    "    brief_description = (\n",
    "        soup.find(\"div\", {\"class\": \"artwork__intro__desc js-artwork__intro__desc\"})\n",
    "        .get_text()\n",
    "        .strip()\n",
    "    )\n",
    "\n",
    "    if len(brief_description) > 0:\n",
    "        description += brief_description + \"\\n\"\n",
    "\n",
    "    try:\n",
    "        catalog_entry = (\n",
    "            soup.find(\"section\", {\"id\": \"catalogue-entry\"})\n",
    "            .find(\"div\", class_=\"show-more__body js-show-more__body\")\n",
    "            .get_text()\n",
    "            .strip()\n",
    "        )\n",
    "        description += catalog_entry\n",
    "    except AttributeError:\n",
    "        pass\n",
    "\n",
    "    if len(description) > 0:\n",
    "        image_url = soup.find(\"meta\", {\"property\": \"og:image\"})[\"content\"]\n",
    "        image = requests.get(image_url).content\n",
    "        painting_id += 1\n",
    "\n",
    "        paintings_data.append(\n",
    "            {\n",
    "                \"id\": painting_id,\n",
    "                \"title\": title,\n",
    "                \"artist\": artist,\n",
    "                \"year\": year,\n",
    "                \"description\": description,\n",
    "            }\n",
    "        )\n",
    "\n",
    "        with open(RAW_DATA_PATH + f\"{painting_id}.png\", \"wb\") as handler:\n",
    "            handler.write(image)\n",
    "\n",
    "        with open(RAW_DATA_PATH + \"met_paintings_data.json\", 'w') as json_file:\n",
    "            json.dump(paintings_data, json_file, indent=4)  "
   ]
  },
  {
   "cell_type": "code",
   "execution_count": null,
   "metadata": {},
   "outputs": [],
   "source": [
    "Image.open(BytesIO(image))"
   ]
  },
  {
   "cell_type": "markdown",
   "metadata": {},
   "source": [
    "### 3. Store processed data as a CSV file"
   ]
  },
  {
   "cell_type": "code",
   "execution_count": 8,
   "metadata": {},
   "outputs": [
    {
     "data": {
      "text/html": [
       "<div><style>\n",
       ".dataframe > thead > tr,\n",
       ".dataframe > tbody > tr {\n",
       "  text-align: right;\n",
       "  white-space: pre-wrap;\n",
       "}\n",
       "</style>\n",
       "<small>shape: (2_053, 7)</small><table border=\"1\" class=\"dataframe\"><thead><tr><th>id</th><th>title</th><th>artist</th><th>year</th><th>description</th><th>raw_title</th><th>raw_artist</th></tr><tr><td>i64</td><td>str</td><td>str</td><td>i64</td><td>str</td><td>str</td><td>str</td></tr></thead><tbody><tr><td>0</td><td>&quot;ship stormy sea&quot;</td><td>&quot;ivan konstantinovich aivazovsk…</td><td>1900</td><td>&quot;Aivazovsky was a celebrated pa…</td><td>&quot;A Ship in a Stormy Sea&quot;</td><td>&quot;Ivan Konstantinovich Aivazovsk…</td></tr><tr><td>1</td><td>&quot;saint giles christ triumphant …</td><td>&quot;miguel alcañiz&quot;</td><td>1413</td><td>&quot;These panels, from an altarpie…</td><td>&quot;Saint Giles with Christ Triump…</td><td>&quot;Miguel Alcañiz (or Miquel Alca…</td></tr><tr><td>2</td><td>&quot;flora zephyr&quot;</td><td>&quot;jacopo amigoni&quot;</td><td>1739</td><td>&quot;The composition celebrates the…</td><td>&quot;Flora and Zephyr&quot;</td><td>&quot;Jacopo Amigoni&quot;</td></tr><tr><td>4</td><td>&quot;jérôme bonaparte 1784–1860 kin…</td><td>&quot;giacomo andreoli&quot;</td><td>1813</td><td>&quot;The following miniature is cle…</td><td>&quot;Jérôme Bonaparte (1784–1860), …</td><td>&quot;Giacomo Andreoli&quot;</td></tr><tr><td>5</td><td>&quot;saint alexander&quot;</td><td>&quot;fra angelico&quot;</td><td>1430</td><td>&quot;This early work by Fra Angelic…</td><td>&quot;Saint Alexander&quot;</td><td>&quot;Fra Angelico (Guido di Pietro)&quot;</td></tr><tr><td>&hellip;</td><td>&hellip;</td><td>&hellip;</td><td>&hellip;</td><td>&hellip;</td><td>&hellip;</td><td>&hellip;</td></tr><tr><td>2137</td><td>&quot;picquigny&quot;</td><td>&quot;frits thaulow&quot;</td><td>1899</td><td>&quot;Thaulow earned great success w…</td><td>&quot;Picquigny&quot;</td><td>&quot;Frits Thaulow&quot;</td></tr><tr><td>2138</td><td>&quot;bust length study man&quot;</td><td>&quot;françois auguste biard&quot;</td><td>1848</td><td>&quot;Despite the nuanced depiction …</td><td>&quot;Bust-Length Study of a Man&quot;</td><td>&quot;François-Auguste Biard&quot;</td></tr><tr><td>2139</td><td>&quot;man seated asleep&quot;</td><td>&quot;giuseppe abbati&quot;</td><td>1870</td><td>&quot;This picture’s lack of pretens…</td><td>&quot;A Man Seated and Asleep&quot;</td><td>&quot;Giuseppe Abbati&quot;</td></tr><tr><td>2140</td><td>&quot;rachel ruysch 1664–1750&quot;</td><td>&quot;michiel van musscher&quot;</td><td>1692</td><td>&quot;Over a career that spanned mor…</td><td>&quot;Rachel Ruysch (1664–1750)&quot;</td><td>&quot;Michiel van Musscher|Rachel Ru…</td></tr><tr><td>2141</td><td>&quot;still life vase flowers melon …</td><td>&quot;charlotte eustache sophie de f…</td><td>1780</td><td>&quot;The marquise de Grollier was a…</td><td>&quot;Still Life with a Vase of Flow…</td><td>&quot;Charlotte Eustache Sophie de F…</td></tr></tbody></table></div>"
      ],
      "text/plain": [
       "shape: (2_053, 7)\n",
       "┌──────┬────────────────┬────────────────┬──────┬────────────────┬────────────────┬────────────────┐\n",
       "│ id   ┆ title          ┆ artist         ┆ year ┆ description    ┆ raw_title      ┆ raw_artist     │\n",
       "│ ---  ┆ ---            ┆ ---            ┆ ---  ┆ ---            ┆ ---            ┆ ---            │\n",
       "│ i64  ┆ str            ┆ str            ┆ i64  ┆ str            ┆ str            ┆ str            │\n",
       "╞══════╪════════════════╪════════════════╪══════╪════════════════╪════════════════╪════════════════╡\n",
       "│ 0    ┆ ship stormy    ┆ ivan konstanti ┆ 1900 ┆ Aivazovsky was ┆ A Ship in a    ┆ Ivan Konstanti │\n",
       "│      ┆ sea            ┆ novich         ┆      ┆ a celebrated   ┆ Stormy Sea     ┆ novich         │\n",
       "│      ┆                ┆ aivazovsk…     ┆      ┆ pa…            ┆                ┆ Aivazovsk…     │\n",
       "│ 1    ┆ saint giles    ┆ miguel alcañiz ┆ 1413 ┆ These panels,  ┆ Saint Giles    ┆ Miguel Alcañiz │\n",
       "│      ┆ christ         ┆                ┆      ┆ from an        ┆ with Christ    ┆ (or Miquel     │\n",
       "│      ┆ triumphant …   ┆                ┆      ┆ altarpie…      ┆ Triump…        ┆ Alca…          │\n",
       "│ 2    ┆ flora zephyr   ┆ jacopo amigoni ┆ 1739 ┆ The            ┆ Flora and      ┆ Jacopo Amigoni │\n",
       "│      ┆                ┆                ┆      ┆ composition    ┆ Zephyr         ┆                │\n",
       "│      ┆                ┆                ┆      ┆ celebrates     ┆                ┆                │\n",
       "│      ┆                ┆                ┆      ┆ the…           ┆                ┆                │\n",
       "│ 4    ┆ jérôme         ┆ giacomo        ┆ 1813 ┆ The following  ┆ Jérôme         ┆ Giacomo        │\n",
       "│      ┆ bonaparte      ┆ andreoli       ┆      ┆ miniature is   ┆ Bonaparte      ┆ Andreoli       │\n",
       "│      ┆ 1784–1860 kin… ┆                ┆      ┆ cle…           ┆ (1784–1860), … ┆                │\n",
       "│ 5    ┆ saint          ┆ fra angelico   ┆ 1430 ┆ This early     ┆ Saint          ┆ Fra Angelico   │\n",
       "│      ┆ alexander      ┆                ┆      ┆ work by Fra    ┆ Alexander      ┆ (Guido di      │\n",
       "│      ┆                ┆                ┆      ┆ Angelic…       ┆                ┆ Pietro)        │\n",
       "│ …    ┆ …              ┆ …              ┆ …    ┆ …              ┆ …              ┆ …              │\n",
       "│ 2137 ┆ picquigny      ┆ frits thaulow  ┆ 1899 ┆ Thaulow earned ┆ Picquigny      ┆ Frits Thaulow  │\n",
       "│      ┆                ┆                ┆      ┆ great success  ┆                ┆                │\n",
       "│      ┆                ┆                ┆      ┆ w…             ┆                ┆                │\n",
       "│ 2138 ┆ bust length    ┆ françois       ┆ 1848 ┆ Despite the    ┆ Bust-Length    ┆ François-Augus │\n",
       "│      ┆ study man      ┆ auguste biard  ┆      ┆ nuanced        ┆ Study of a Man ┆ te Biard       │\n",
       "│      ┆                ┆                ┆      ┆ depiction …    ┆                ┆                │\n",
       "│ 2139 ┆ man seated     ┆ giuseppe       ┆ 1870 ┆ This picture’s ┆ A Man Seated   ┆ Giuseppe       │\n",
       "│      ┆ asleep         ┆ abbati         ┆      ┆ lack of        ┆ and Asleep     ┆ Abbati         │\n",
       "│      ┆                ┆                ┆      ┆ pretens…       ┆                ┆                │\n",
       "│ 2140 ┆ rachel ruysch  ┆ michiel van    ┆ 1692 ┆ Over a career  ┆ Rachel Ruysch  ┆ Michiel van    │\n",
       "│      ┆ 1664–1750      ┆ musscher       ┆      ┆ that spanned   ┆ (1664–1750)    ┆ Musscher|Rache │\n",
       "│      ┆                ┆                ┆      ┆ mor…           ┆                ┆ l Ru…          │\n",
       "│ 2141 ┆ still life     ┆ charlotte      ┆ 1780 ┆ The marquise   ┆ Still Life     ┆ Charlotte      │\n",
       "│      ┆ vase flowers   ┆ eustache       ┆      ┆ de Grollier    ┆ with a Vase of ┆ Eustache       │\n",
       "│      ┆ melon …        ┆ sophie de f…   ┆      ┆ was a…         ┆ Flow…          ┆ Sophie de F…   │\n",
       "└──────┴────────────────┴────────────────┴──────┴────────────────┴────────────────┴────────────────┘"
      ]
     },
     "execution_count": 8,
     "metadata": {},
     "output_type": "execute_result"
    }
   ],
   "source": [
    "met_paintings_df = (\n",
    "    pl.read_json(RAW_DATA_PATH + \"/met_paintings_data.json\")\n",
    "    .unique()\n",
    "    .sort(\"id\")\n",
    "    .with_columns(pl.col(\"title\").alias(\"raw_title\"))\n",
    "    .with_columns(pl.col(\"artist\").alias(\"raw_artist\"))\n",
    "    .with_columns(\n",
    "        pl.col(\"artist\")\n",
    "        .map_elements(lambda x: clean_artist_name(x), return_dtype=pl.String)\n",
    "        .alias(\"artist\")\n",
    "    )\n",
    "    .with_columns(\n",
    "        pl.col(\"title\")\n",
    "        .map_elements(lambda x: clean_title_name(x), return_dtype=pl.String)\n",
    "        .alias(\"title\")\n",
    "    )\n",
    "    .sort(\"id\")\n",
    ")\n",
    "\n",
    "met_paintings_df.write_csv(INTERMEDIATE_DATA_PATH + \"met_processed.csv\")\n",
    "met_paintings_df"
   ]
  }
 ],
 "metadata": {
  "kernelspec": {
   "display_name": "enhance_vg",
   "language": "python",
   "name": "python3"
  },
  "language_info": {
   "codemirror_mode": {
    "name": "ipython",
    "version": 3
   },
   "file_extension": ".py",
   "mimetype": "text/x-python",
   "name": "python",
   "nbconvert_exporter": "python",
   "pygments_lexer": "ipython3",
   "version": "3.12.3"
  }
 },
 "nbformat": 4,
 "nbformat_minor": 2
}
