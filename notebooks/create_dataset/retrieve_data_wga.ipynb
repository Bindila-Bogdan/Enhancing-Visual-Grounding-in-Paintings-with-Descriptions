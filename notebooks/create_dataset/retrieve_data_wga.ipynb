{
 "cells": [
  {
   "cell_type": "markdown",
   "metadata": {},
   "source": [
    "# Retrieve paintings and their descriptions from the Web Gallery of Art\n",
    "This notebook retrieves paintings and their descriptions from the Web Gallery of Art digital collection."
   ]
  },
  {
   "cell_type": "markdown",
   "metadata": {},
   "source": [
    "### 0. Import libraries"
   ]
  },
  {
   "cell_type": "code",
   "execution_count": 1,
   "metadata": {},
   "outputs": [
    {
     "name": "stderr",
     "output_type": "stream",
     "text": [
      "[nltk_data] Downloading package stopwords to\n",
      "[nltk_data]     C:\\Users\\Bogdan\\AppData\\Roaming\\nltk_data...\n",
      "[nltk_data]   Package stopwords is already up-to-date!\n"
     ]
    }
   ],
   "source": [
    "import os\n",
    "import json\n",
    "import time\n",
    "\n",
    "import requests\n",
    "import polars as pl\n",
    "from tqdm import tqdm\n",
    "from PIL import Image\n",
    "from io import BytesIO\n",
    "from bs4 import BeautifulSoup\n",
    "\n",
    "from preprocess_data_utils import *\n",
    "\n",
    "RAW_DATA_PATH = \"../../data/raw/\"\n",
    "INTERMEDIATE_DATA_PATH = \"../../data/intermediate/\""
   ]
  },
  {
   "cell_type": "code",
   "execution_count": 2,
   "metadata": {},
   "outputs": [],
   "source": [
    "try:\n",
    "    os.mkdir(RAW_DATA_PATH + \"wga_paintings/\")\n",
    "except FileExistsError:\n",
    "    pass\n",
    "\n",
    "try:\n",
    "    os.mkdir(INTERMEDIATE_DATA_PATH + \"wga_paintings/\")\n",
    "except FileExistsError:\n",
    "    pass"
   ]
  },
  {
   "cell_type": "markdown",
   "metadata": {},
   "source": [
    "### 1. Load and preprocess the data"
   ]
  },
  {
   "cell_type": "code",
   "execution_count": null,
   "metadata": {},
   "outputs": [],
   "source": [
    "wga_features_df = (\n",
    "    (\n",
    "        pl.read_excel(RAW_DATA_PATH + \"artists_wga.xlsx\")\n",
    "        .filter(pl.col(\"FORM\") == \"painting\")\n",
    "        .with_columns(pl.col(\"AUTHOR\").alias(\"raw_artist\"))\n",
    "        .with_columns(pl.col(\"TITLE\").alias(\"raw_title\"))\n",
    "        .with_columns(\n",
    "            pl.col(\"AUTHOR\")\n",
    "            .map_elements(\n",
    "                lambda x: clean_artist_name(rearrange_artist_name(x)), return_dtype=pl.String\n",
    "            )\n",
    "            .alias(\"artist\")\n",
    "        )\n",
    "        .with_columns(pl.col(\"URL\").alias(\"url\"))\n",
    "        .with_columns(\n",
    "            pl.col(\"TITLE\")\n",
    "            .map_elements(lambda x: clean_title_name(x), return_dtype=pl.String)\n",
    "            .alias(\"title\")\n",
    "        )\n",
    "        .with_columns(\n",
    "            pl.col(\"DATE\")\n",
    "            .map_elements(lambda x: clean_date(x), return_dtype=pl.Int64)\n",
    "            .alias(\"year\")\n",
    "        )\n",
    "        .with_columns(\n",
    "            pl.col(\"TYPE\")\n",
    "            .replace(\n",
    "                {\n",
    "                    \"historical\": \"history\",\n",
    "                    \"other\": None,\n",
    "                    \"still-life\": \"still life\",\n",
    "                    \"study\": \"sketch and study\",\n",
    "                }\n",
    "            )\n",
    "            .alias(\"type\")\n",
    "        )\n",
    "        .select(\"title\", \"artist\", \"type\", \"year\", \"raw_title\", \"raw_artist\", \"url\")\n",
    "    )\n",
    "    .filter(pl.col(\"type\").is_not_null() & (pl.col(\"year\") >= 1201) & (pl.col(\"year\") < 2001))\n",
    "    .unique()\n",
    ")\n",
    "\n",
    "wga_features_df"
   ]
  },
  {
   "cell_type": "markdown",
   "metadata": {},
   "source": [
    "### 2. Scrape painting descriptions and keep only paintings with longer descriptions"
   ]
  },
  {
   "cell_type": "code",
   "execution_count": null,
   "metadata": {},
   "outputs": [],
   "source": [
    "retrieved_descriptions = []\n",
    "\n",
    "for i in tqdm(range(wga_features_df.shape[0])):\n",
    "    painting_url = wga_features_df[\"url\"][i]\n",
    "\n",
    "    response = requests.get(painting_url)\n",
    "\n",
    "    if str(response.status_code)[0] != \"2\":\n",
    "        raise Exception(\"Wrong call\")\n",
    "\n",
    "    soup = BeautifulSoup(response.text, \"html.parser\")\n",
    "\n",
    "    for x in soup.find_all(\"td\"):\n",
    "        if \"<!-- Comment Start -->\" in str(x):\n",
    "            description = x.get_text().strip()\n",
    "\n",
    "    retrieved_descriptions.append(description.split(\"\\r\\n\\n\\n\\r\\n\")[0])\n",
    "\n",
    "wga_features_df = wga_features_df.with_columns(\n",
    "    pl.Series(retrieved_descriptions).alias(\"description\")\n",
    ")\n",
    "\n",
    "wga_features_df"
   ]
  },
  {
   "cell_type": "code",
   "execution_count": null,
   "metadata": {},
   "outputs": [],
   "source": [
    "# are counted only words without punctuation, numbers or stopwords\n",
    "min_description_word_count = 20\n",
    "\n",
    "artworks_with_description = wga_features_df.with_columns(\n",
    "    pl.col(\"description\")\n",
    "    .map_elements(lambda x: len(clean_description(x).split(\" \")), return_dtype=pl.Int64)\n",
    "    .alias(\"description word count\")\n",
    ").filter((pl.col(\"description word count\") >= min_description_word_count))\n",
    "\n",
    "artworks_with_description"
   ]
  },
  {
   "cell_type": "code",
   "execution_count": null,
   "metadata": {},
   "outputs": [],
   "source": [
    "artworks_with_description.write_csv(RAW_DATA_PATH + \"wga_paintings/wga_paintings_data.csv\")"
   ]
  },
  {
   "cell_type": "code",
   "execution_count": null,
   "metadata": {},
   "outputs": [],
   "source": [
    "artworks_with_description.sort(\"description word count\")[\"description\"].to_list()"
   ]
  },
  {
   "cell_type": "markdown",
   "metadata": {},
   "source": [
    "### 3. Keep the paintings that have not been collected so far and get their style and image"
   ]
  },
  {
   "cell_type": "code",
   "execution_count": null,
   "metadata": {},
   "outputs": [],
   "source": [
    "artworks_with_description_df = pl.read_csv(RAW_DATA_PATH + \"wga_paintings/wga_paintings_data.csv\")\n",
    "artworks_with_description = artworks_with_description_df.to_numpy()"
   ]
  },
  {
   "cell_type": "code",
   "execution_count": 4,
   "metadata": {},
   "outputs": [],
   "source": [
    "all_wikiart_features = (\n",
    "    pl.read_csv(INTERMEDIATE_DATA_PATH + \"wikiart_paintings/wikiart_processed.csv\")\n",
    "    .select(\"title\", \"artist\", \"type\", \"style\")\n",
    "    .to_numpy()\n",
    ")"
   ]
  },
  {
   "cell_type": "code",
   "execution_count": 5,
   "metadata": {},
   "outputs": [],
   "source": [
    "met_paintings_df = (\n",
    "    pl.read_json(INTERMEDIATE_DATA_PATH + \"met_paintings/met_paintings_enhanced_data.json\")\n",
    "    .select(\"id\", \"title\", \"artist\", \"type\")\n",
    "    .with_columns(\n",
    "        pl.col(\"artist\")\n",
    "        .map_elements(lambda x: clean_artist_name(rearrange_artist_name(x)), return_dtype=pl.String)\n",
    "        .alias(\"artist\")\n",
    "    )\n",
    "    .with_columns(\n",
    "        pl.col(\"title\")\n",
    "        .map_elements(lambda x: clean_title_name(x), return_dtype=pl.String)\n",
    "        .alias(\"title\")\n",
    "    )\n",
    ")\n",
    "\n",
    "wikiart_paintings_df = (\n",
    "    pl.read_json(INTERMEDIATE_DATA_PATH + \"wikiart_paintings/wikiart_paintings_enhanced_data.json\")\n",
    "    .select(\"id\", \"title\", \"artist\", \"type\")\n",
    "    .with_columns(\n",
    "        pl.col(\"artist\")\n",
    "        .map_elements(lambda x: clean_artist_name(rearrange_artist_name(x)), return_dtype=pl.String)\n",
    "        .alias(\"artist\")\n",
    "    )\n",
    "    .with_columns(\n",
    "        pl.col(\"title\")\n",
    "        .map_elements(lambda x: clean_title_name(x), return_dtype=pl.String)\n",
    "        .alias(\"title\")\n",
    "    )\n",
    ")\n",
    "\n",
    "existing_paintings_df = pl.concat([met_paintings_df, wikiart_paintings_df])\n",
    "existing_paintings = existing_paintings_df.drop(\"id\").to_numpy()"
   ]
  },
  {
   "cell_type": "code",
   "execution_count": 11,
   "metadata": {},
   "outputs": [
    {
     "name": "stderr",
     "output_type": "stream",
     "text": [
      "100%|██████████| 100/100 [01:19<00:00,  1.26it/s]\n"
     ]
    }
   ],
   "source": [
    "types_mapping = []\n",
    "kept_paintings = []\n",
    "painting_id = existing_paintings_df[\"id\"].max()\n",
    "\n",
    "for index, painting in enumerate(tqdm(artworks_with_description)):\n",
    "    found_painting = False\n",
    "\n",
    "    for existing_painting in existing_paintings:\n",
    "        found_painting = is_same_painting(\n",
    "            painting[0], painting[1], existing_painting[0], existing_painting[1]\n",
    "        )\n",
    "\n",
    "        if found_painting:\n",
    "            break\n",
    "\n",
    "    if not found_painting:\n",
    "        painting_type = painting[2]\n",
    "        painting_style = None\n",
    "\n",
    "        for wikiart_features in all_wikiart_features:\n",
    "            found_painting = is_same_painting(\n",
    "                painting[0], painting[1], wikiart_features[0], wikiart_features[1]\n",
    "            )\n",
    "\n",
    "            if found_painting:\n",
    "                painting_style = wikiart_features[3]\n",
    "                types_mapping.append([painting_type, wikiart_features[2]])\n",
    "                break\n",
    "\n",
    "        try:\n",
    "            time.sleep(0.1)\n",
    "            response = requests.get(painting[6])\n",
    "\n",
    "            if str(response.status_code)[0] != \"2\":\n",
    "                raise Exception(\"Wrong call\")\n",
    "\n",
    "            soup = BeautifulSoup(response.text, \"html.parser\")\n",
    "            image_url = (\n",
    "                \"https://www.wga.hu/\"\n",
    "                + soup.find(\"a\", {\"href\": re.compile(r\".*\\.jpg$\")}, {\"onclick\": \".*\"}).attrs[\"href\"]\n",
    "            )\n",
    "            image = requests.get(image_url).content\n",
    "\n",
    "            painting_id += 1\n",
    "            kept_paintings.append(\n",
    "                {\n",
    "                    \"id\": painting_id,\n",
    "                    \"title\": painting[4],\n",
    "                    \"artist\": painting[5],\n",
    "                    \"year\": painting[3],\n",
    "                    \"type\": painting_type,\n",
    "                    \"style\": painting_style,\n",
    "                    \"description\": painting[7],\n",
    "                }\n",
    "            )\n",
    "\n",
    "            with open(RAW_DATA_PATH + f\"wga_paintings/{painting_id}.png\", \"wb\") as handler:\n",
    "                handler.write(image)\n",
    "\n",
    "            with open(\n",
    "                INTERMEDIATE_DATA_PATH + \"wga_paintings/wga_paintings_enhanced_data.json\", \"w\"\n",
    "            ) as json_file:\n",
    "                json.dump(kept_paintings, json_file, indent=4)\n",
    "\n",
    "            types_mapping_df = (\n",
    "                pl.DataFrame(types_mapping)\n",
    "                .transpose()\n",
    "                .unique()\n",
    "                .rename({\"column_0\": \"wga_type\", \"column_1\": \"wikiart_type\"})\n",
    "            )\n",
    "            types_mapping_df.write_csv(INTERMEDIATE_DATA_PATH + \"wga_paintings/types_mapping.csv\")\n",
    "        except:\n",
    "            pass"
   ]
  }
 ],
 "metadata": {
  "kernelspec": {
   "display_name": "enhance_vg",
   "language": "python",
   "name": "python3"
  },
  "language_info": {
   "codemirror_mode": {
    "name": "ipython",
    "version": 3
   },
   "file_extension": ".py",
   "mimetype": "text/x-python",
   "name": "python",
   "nbconvert_exporter": "python",
   "pygments_lexer": "ipython3",
   "version": "3.12.3"
  }
 },
 "nbformat": 4,
 "nbformat_minor": 2
}
