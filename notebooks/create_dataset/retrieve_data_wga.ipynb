{
 "cells": [
  {
   "cell_type": "markdown",
   "metadata": {},
   "source": [
    "# Retrieve paintings and their descriptions from the Web Gallery of Art\n",
    "This notebook retrieves paintings and their descriptions from the Web Gallery of Art digital collection."
   ]
  },
  {
   "cell_type": "markdown",
   "metadata": {},
   "source": [
    "### 0. Import libraries"
   ]
  },
  {
   "cell_type": "code",
   "execution_count": 1,
   "metadata": {},
   "outputs": [
    {
     "name": "stderr",
     "output_type": "stream",
     "text": [
      "[nltk_data] Downloading package stopwords to\n",
      "[nltk_data]     C:\\Users\\Bogdan\\AppData\\Roaming\\nltk_data...\n",
      "[nltk_data]   Package stopwords is already up-to-date!\n"
     ]
    }
   ],
   "source": [
    "import os\n",
    "import json\n",
    "import time\n",
    "\n",
    "import requests\n",
    "import polars as pl\n",
    "from tqdm import tqdm\n",
    "from PIL import Image\n",
    "from io import BytesIO\n",
    "from bs4 import BeautifulSoup\n",
    "\n",
    "from preprocess_data_utils import *\n",
    "\n",
    "RAW_DATA_PATH = \"../../data/raw/\"\n",
    "INTERMEDIATE_DATA_PATH = \"../../data/intermediate/\""
   ]
  },
  {
   "cell_type": "code",
   "execution_count": 2,
   "metadata": {},
   "outputs": [],
   "source": [
    "try:\n",
    "    os.mkdir(RAW_DATA_PATH + \"wga_paintings/\")\n",
    "except FileExistsError:\n",
    "    pass\n",
    "\n",
    "try:\n",
    "    os.mkdir(INTERMEDIATE_DATA_PATH + \"wga_paintings/\")\n",
    "except FileExistsError:\n",
    "    pass"
   ]
  },
  {
   "cell_type": "markdown",
   "metadata": {},
   "source": [
    "### 1. Load and preprocess the data"
   ]
  },
  {
   "cell_type": "code",
   "execution_count": 48,
   "metadata": {},
   "outputs": [
    {
     "data": {
      "text/html": [
       "<div><style>\n",
       ".dataframe > thead > tr,\n",
       ".dataframe > tbody > tr {\n",
       "  text-align: right;\n",
       "  white-space: pre-wrap;\n",
       "}\n",
       "</style>\n",
       "<small>shape: (25_996, 8)</small><table border=\"1\" class=\"dataframe\"><thead><tr><th>title</th><th>artist</th><th>type</th><th>year</th><th>raw_title</th><th>raw_artist</th><th>url</th><th>technique</th></tr><tr><td>str</td><td>str</td><td>str</td><td>i64</td><td>str</td><td>str</td><td>str</td><td>str</td></tr></thead><tbody><tr><td>&quot;polyptych misericordia deposit…</td><td>&quot;piero della francesca&quot;</td><td>&quot;religious&quot;</td><td>1445</td><td>&quot;Polyptych of the Misericordia:…</td><td>&quot;PIERO DELLA FRANCESCA&quot;</td><td>&quot;https://www.wga.hu/html/p/pier…</td><td>&quot;oil tempera panel&quot;</td></tr><tr><td>&quot;market seashore&quot;</td><td>&quot;salomon van ruysdael&quot;</td><td>&quot;landscape&quot;</td><td>1637</td><td>&quot;Market by the Seashore&quot;</td><td>&quot;RUYSDAEL, Salomon van&quot;</td><td>&quot;https://www.wga.hu/html/r/ruys…</td><td>&quot;oil wood&quot;</td></tr><tr><td>&quot;madonna child sts dorothy geor…</td><td>&quot;tiziano vecellio&quot;</td><td>&quot;religious&quot;</td><td>1516</td><td>&quot;Madonna and Child with Sts Dor…</td><td>&quot;TIZIANO Vecellio&quot;</td><td>&quot;https://www.wga.hu/html/t/tizi…</td><td>&quot;oil panel&quot;</td></tr><tr><td>&quot;evangelista scappi&quot;</td><td>&quot;francesco francia&quot;</td><td>&quot;religious&quot;</td><td>1500</td><td>&quot;Evangelista Scappi&quot;</td><td>&quot;FRANCIA, Francesco&quot;</td><td>&quot;https://www.wga.hu/html/f/fran…</td><td>&quot;tempera wood&quot;</td></tr><tr><td>&quot;orchard blossom plum trees&quot;</td><td>&quot;vincent van gogh&quot;</td><td>&quot;landscape&quot;</td><td>1888</td><td>&quot;Orchard in Blossom (Plum Trees…</td><td>&quot;GOGH, Vincent van&quot;</td><td>&quot;https://www.wga.hu/html/g/gogh…</td><td>&quot;oil canvas&quot;</td></tr><tr><td>&hellip;</td><td>&hellip;</td><td>&hellip;</td><td>&hellip;</td><td>&hellip;</td><td>&hellip;</td><td>&hellip;</td><td>&hellip;</td></tr><tr><td>&quot;still life flowers fruit birds…</td><td>&quot;johann baptist drechsler&quot;</td><td>&quot;still life&quot;</td><td>1789</td><td>&quot;Still-Life with Flowers, Fruit…</td><td>&quot;DRECHSLER, Johann Baptist&quot;</td><td>&quot;https://www.wga.hu/html/d/drec…</td><td>&quot;oil canvas&quot;</td></tr><tr><td>&quot;view vienna belvedere&quot;</td><td>&quot;bernardo bellotto&quot;</td><td>&quot;landscape&quot;</td><td>1759</td><td>&quot;View of Vienna from the Belved…</td><td>&quot;BELLOTTO, Bernardo&quot;</td><td>&quot;https://www.wga.hu/html/b/bell…</td><td>&quot;oil canvas&quot;</td></tr><tr><td>&quot;view fresco cycle&quot;</td><td>&quot;fra filippo lippi&quot;</td><td>&quot;interior&quot;</td><td>1452</td><td>&quot;View of the fresco cycle&quot;</td><td>&quot;LIPPI, Fra Filippo&quot;</td><td>&quot;https://www.wga.hu/html/l/lipp…</td><td>&quot;fresco&quot;</td></tr><tr><td>&quot;count comminges recognizing ad…</td><td>&quot;claudius jacquand&quot;</td><td>&quot;history&quot;</td><td>1836</td><td>&quot;The Count of Comminges Recogni…</td><td>&quot;JACQUAND, Claudius&quot;</td><td>&quot;https://www.wga.hu/html/j/jacq…</td><td>&quot;oil canvas&quot;</td></tr><tr><td>&quot;portrait tommaso raimondi&quot;</td><td>&quot;amico aspertini&quot;</td><td>&quot;portrait&quot;</td><td>1500</td><td>&quot;Portrait of Tommaso Raimondi&quot;</td><td>&quot;ASPERTINI, Amico&quot;</td><td>&quot;https://www.wga.hu/html/a/aspe…</td><td>&quot;oil panel&quot;</td></tr></tbody></table></div>"
      ],
      "text/plain": [
       "shape: (25_996, 8)\n",
       "┌─────────────┬────────────┬────────────┬──────┬────────────┬────────────┬────────────┬────────────┐\n",
       "│ title       ┆ artist     ┆ type       ┆ year ┆ raw_title  ┆ raw_artist ┆ url        ┆ technique  │\n",
       "│ ---         ┆ ---        ┆ ---        ┆ ---  ┆ ---        ┆ ---        ┆ ---        ┆ ---        │\n",
       "│ str         ┆ str        ┆ str        ┆ i64  ┆ str        ┆ str        ┆ str        ┆ str        │\n",
       "╞═════════════╪════════════╪════════════╪══════╪════════════╪════════════╪════════════╪════════════╡\n",
       "│ polyptych   ┆ piero      ┆ religious  ┆ 1445 ┆ Polyptych  ┆ PIERO      ┆ https://ww ┆ oil        │\n",
       "│ misericordi ┆ della      ┆            ┆      ┆ of the Mis ┆ DELLA      ┆ w.wga.hu/h ┆ tempera    │\n",
       "│ a deposit…  ┆ francesca  ┆            ┆      ┆ ericordia: ┆ FRANCESCA  ┆ tml/p/pier ┆ panel      │\n",
       "│             ┆            ┆            ┆      ┆ …          ┆            ┆ …          ┆            │\n",
       "│ market      ┆ salomon    ┆ landscape  ┆ 1637 ┆ Market by  ┆ RUYSDAEL,  ┆ https://ww ┆ oil wood   │\n",
       "│ seashore    ┆ van        ┆            ┆      ┆ the        ┆ Salomon    ┆ w.wga.hu/h ┆            │\n",
       "│             ┆ ruysdael   ┆            ┆      ┆ Seashore   ┆ van        ┆ tml/r/ruys ┆            │\n",
       "│             ┆            ┆            ┆      ┆            ┆            ┆ …          ┆            │\n",
       "│ madonna     ┆ tiziano    ┆ religious  ┆ 1516 ┆ Madonna    ┆ TIZIANO    ┆ https://ww ┆ oil panel  │\n",
       "│ child sts   ┆ vecellio   ┆            ┆      ┆ and Child  ┆ Vecellio   ┆ w.wga.hu/h ┆            │\n",
       "│ dorothy     ┆            ┆            ┆      ┆ with Sts   ┆            ┆ tml/t/tizi ┆            │\n",
       "│ geor…       ┆            ┆            ┆      ┆ Dor…       ┆            ┆ …          ┆            │\n",
       "│ evangelista ┆ francesco  ┆ religious  ┆ 1500 ┆ Evangelist ┆ FRANCIA,   ┆ https://ww ┆ tempera    │\n",
       "│ scappi      ┆ francia    ┆            ┆      ┆ a Scappi   ┆ Francesco  ┆ w.wga.hu/h ┆ wood       │\n",
       "│             ┆            ┆            ┆      ┆            ┆            ┆ tml/f/fran ┆            │\n",
       "│             ┆            ┆            ┆      ┆            ┆            ┆ …          ┆            │\n",
       "│ orchard     ┆ vincent    ┆ landscape  ┆ 1888 ┆ Orchard in ┆ GOGH,      ┆ https://ww ┆ oil canvas │\n",
       "│ blossom     ┆ van gogh   ┆            ┆      ┆ Blossom    ┆ Vincent    ┆ w.wga.hu/h ┆            │\n",
       "│ plum trees  ┆            ┆            ┆      ┆ (Plum      ┆ van        ┆ tml/g/gogh ┆            │\n",
       "│             ┆            ┆            ┆      ┆ Trees…     ┆            ┆ …          ┆            │\n",
       "│ …           ┆ …          ┆ …          ┆ …    ┆ …          ┆ …          ┆ …          ┆ …          │\n",
       "│ still life  ┆ johann     ┆ still life ┆ 1789 ┆ Still-Life ┆ DRECHSLER, ┆ https://ww ┆ oil canvas │\n",
       "│ flowers     ┆ baptist    ┆            ┆      ┆ with       ┆ Johann     ┆ w.wga.hu/h ┆            │\n",
       "│ fruit       ┆ drechsler  ┆            ┆      ┆ Flowers,   ┆ Baptist    ┆ tml/d/drec ┆            │\n",
       "│ birds…      ┆            ┆            ┆      ┆ Fruit…     ┆            ┆ …          ┆            │\n",
       "│ view vienna ┆ bernardo   ┆ landscape  ┆ 1759 ┆ View of    ┆ BELLOTTO,  ┆ https://ww ┆ oil canvas │\n",
       "│ belvedere   ┆ bellotto   ┆            ┆      ┆ Vienna     ┆ Bernardo   ┆ w.wga.hu/h ┆            │\n",
       "│             ┆            ┆            ┆      ┆ from the   ┆            ┆ tml/b/bell ┆            │\n",
       "│             ┆            ┆            ┆      ┆ Belved…    ┆            ┆ …          ┆            │\n",
       "│ view fresco ┆ fra        ┆ interior   ┆ 1452 ┆ View of    ┆ LIPPI, Fra ┆ https://ww ┆ fresco     │\n",
       "│ cycle       ┆ filippo    ┆            ┆      ┆ the fresco ┆ Filippo    ┆ w.wga.hu/h ┆            │\n",
       "│             ┆ lippi      ┆            ┆      ┆ cycle      ┆            ┆ tml/l/lipp ┆            │\n",
       "│             ┆            ┆            ┆      ┆            ┆            ┆ …          ┆            │\n",
       "│ count       ┆ claudius   ┆ history    ┆ 1836 ┆ The Count  ┆ JACQUAND,  ┆ https://ww ┆ oil canvas │\n",
       "│ comminges   ┆ jacquand   ┆            ┆      ┆ of         ┆ Claudius   ┆ w.wga.hu/h ┆            │\n",
       "│ recognizing ┆            ┆            ┆      ┆ Comminges  ┆            ┆ tml/j/jacq ┆            │\n",
       "│ ad…         ┆            ┆            ┆      ┆ Recogni…   ┆            ┆ …          ┆            │\n",
       "│ portrait    ┆ amico      ┆ portrait   ┆ 1500 ┆ Portrait   ┆ ASPERTINI, ┆ https://ww ┆ oil panel  │\n",
       "│ tommaso     ┆ aspertini  ┆            ┆      ┆ of Tommaso ┆ Amico      ┆ w.wga.hu/h ┆            │\n",
       "│ raimondi    ┆            ┆            ┆      ┆ Raimondi   ┆            ┆ tml/a/aspe ┆            │\n",
       "│             ┆            ┆            ┆      ┆            ┆            ┆ …          ┆            │\n",
       "└─────────────┴────────────┴────────────┴──────┴────────────┴────────────┴────────────┴────────────┘"
      ]
     },
     "execution_count": 48,
     "metadata": {},
     "output_type": "execute_result"
    }
   ],
   "source": [
    "wga_features_df = (\n",
    "    (\n",
    "        pl.read_excel(RAW_DATA_PATH + \"wga_paintings/wga_data.xlsx\")\n",
    "        .filter(pl.col(\"FORM\") == \"painting\")\n",
    "        .with_columns(pl.col(\"AUTHOR\").alias(\"raw_artist\"))\n",
    "        .with_columns(pl.col(\"TITLE\").alias(\"raw_title\"))\n",
    "        .with_columns(\n",
    "            pl.col(\"AUTHOR\")\n",
    "            .map_elements(\n",
    "                lambda x: clean_artist_name(rearrange_artist_name(x)), return_dtype=pl.String\n",
    "            )\n",
    "            .alias(\"artist\")\n",
    "        )\n",
    "        .with_columns(pl.col(\"URL\").alias(\"url\"))\n",
    "        .with_columns(\n",
    "            pl.col(\"TITLE\")\n",
    "            .map_elements(lambda x: clean_title_name(x), return_dtype=pl.String)\n",
    "            .alias(\"title\")\n",
    "        )\n",
    "        .with_columns(\n",
    "            pl.col(\"DATE\")\n",
    "            .map_elements(lambda x: clean_date(x), return_dtype=pl.Int64)\n",
    "            .alias(\"year\")\n",
    "        )\n",
    "        .with_columns(\n",
    "            pl.col(\"TYPE\")\n",
    "            .replace(\n",
    "                {\n",
    "                    \"historical\": \"history\",\n",
    "                    \"other\": None,\n",
    "                    \"still-life\": \"still life\",\n",
    "                    \"study\": \"sketch and study\",\n",
    "                }\n",
    "            )\n",
    "            .alias(\"type\")\n",
    "        )\n",
    "        .with_columns(\n",
    "            pl.col(\"TECHNIQUE\")\n",
    "            .map_elements(\n",
    "                lambda x: \" \".join([x for x in clean_description(x).split(\" \") if len(x) > 2]),\n",
    "                return_dtype=pl.String,\n",
    "            )\n",
    "            .alias(\"technique\")\n",
    "        )\n",
    "        .select(\"title\", \"artist\", \"type\", \"year\", \"raw_title\", \"raw_artist\", \"url\", \"technique\")\n",
    "    )\n",
    "    .filter(\n",
    "        pl.col(\"type\").is_not_null() & (pl.col(\"year\") > MIN_YEAR) & (pl.col(\"year\") < MAX_YEAR)\n",
    "    )\n",
    "    .filter(~((pl.col(\"artist\").str.len_bytes() <= 4) | (pl.col(\"title\").str.len_bytes() <= 2)))\n",
    "    .unique()\n",
    ")\n",
    "\n",
    "wga_features_df.write_csv(INTERMEDIATE_DATA_PATH + \"wga_paintings/wga_processed.csv\")\n",
    "wga_features_df"
   ]
  },
  {
   "cell_type": "markdown",
   "metadata": {},
   "source": [
    "### 2. Scrape painting descriptions and keep only paintings with long-enough descriptions"
   ]
  },
  {
   "cell_type": "code",
   "execution_count": null,
   "metadata": {},
   "outputs": [],
   "source": [
    "retrieved_descriptions = []\n",
    "\n",
    "for i in tqdm(range(wga_features_df.shape[0])):\n",
    "    painting_url = wga_features_df[\"url\"][i]\n",
    "\n",
    "    response = requests.get(painting_url)\n",
    "\n",
    "    if str(response.status_code)[0] != \"2\":\n",
    "        raise Exception(\"Wrong call\")\n",
    "\n",
    "    soup = BeautifulSoup(response.text, \"html.parser\")\n",
    "\n",
    "    for x in soup.find_all(\"td\"):\n",
    "        if \"<!-- Comment Start -->\" in str(x):\n",
    "            description = x.get_text().strip()\n",
    "\n",
    "    retrieved_descriptions.append(description.split(\"\\r\\n\\n\\n\\r\\n\")[0])\n",
    "\n",
    "wga_features_df = wga_features_df.with_columns(\n",
    "    pl.Series(retrieved_descriptions).alias(\"description\")\n",
    ")\n",
    "\n",
    "wga_features_df"
   ]
  },
  {
   "cell_type": "code",
   "execution_count": null,
   "metadata": {},
   "outputs": [],
   "source": [
    "# are counted only words without punctuation, numbers or stopwords\n",
    "artworks_with_description_df = wga_features_df.with_columns(\n",
    "    pl.col(\"description\")\n",
    "    .map_elements(lambda x: len(clean_description(x).split(\" \")), return_dtype=pl.Int64)\n",
    "    .alias(\"description word count\")\n",
    ").filter((pl.col(\"description word count\") >= MIN_DESCRIPTION_WORD_COUNT))\n",
    "\n",
    "artworks_with_description = artworks_with_description_df.to_numpy()\n",
    "artworks_with_description_df"
   ]
  },
  {
   "cell_type": "code",
   "execution_count": null,
   "metadata": {},
   "outputs": [],
   "source": [
    "artworks_with_description_df.sort(\"description word count\")[\"description\"].to_list()"
   ]
  },
  {
   "cell_type": "markdown",
   "metadata": {},
   "source": [
    "### 3. Keep the paintings that have not been collected so far and get their style and image"
   ]
  },
  {
   "cell_type": "code",
   "execution_count": null,
   "metadata": {},
   "outputs": [],
   "source": [
    "all_wikiart_features = (\n",
    "    pl.read_csv(INTERMEDIATE_DATA_PATH + \"wikiart_paintings/wikiart_processed.csv\")\n",
    "    .select(\"title\", \"artist\", \"type\", \"style\")\n",
    "    .to_numpy()\n",
    ")"
   ]
  },
  {
   "cell_type": "code",
   "execution_count": null,
   "metadata": {},
   "outputs": [],
   "source": [
    "met_paintings_df = (\n",
    "    pl.read_json(INTERMEDIATE_DATA_PATH + \"met_paintings/met_paintings_enhanced_data.json\")\n",
    "    .select(\"id\", \"title\", \"artist\")\n",
    "    .with_columns(\n",
    "        pl.col(\"artist\")\n",
    "        .map_elements(lambda x: clean_artist_name(rearrange_artist_name(x)), return_dtype=pl.String)\n",
    "        .alias(\"artist\")\n",
    "    )\n",
    "    .with_columns(\n",
    "        pl.col(\"title\")\n",
    "        .map_elements(lambda x: clean_title_name(x), return_dtype=pl.String)\n",
    "        .alias(\"title\")\n",
    "    )\n",
    ")\n",
    "\n",
    "wikiart_paintings_df = (\n",
    "    pl.read_json(INTERMEDIATE_DATA_PATH + \"wikiart_paintings/wikiart_paintings_enhanced_data.json\")\n",
    "    .select(\"id\", \"title\", \"artist\")\n",
    "    .with_columns(\n",
    "        pl.col(\"artist\")\n",
    "        .map_elements(lambda x: clean_artist_name(rearrange_artist_name(x)), return_dtype=pl.String)\n",
    "        .alias(\"artist\")\n",
    "    )\n",
    "    .with_columns(\n",
    "        pl.col(\"title\")\n",
    "        .map_elements(lambda x: clean_title_name(x), return_dtype=pl.String)\n",
    "        .alias(\"title\")\n",
    "    )\n",
    ")\n",
    "\n",
    "existing_paintings_df = pl.concat([met_paintings_df, wikiart_paintings_df])\n",
    "existing_paintings = existing_paintings_df.drop(\"id\").to_numpy()"
   ]
  },
  {
   "cell_type": "code",
   "execution_count": null,
   "metadata": {},
   "outputs": [],
   "source": [
    "kept_paintings = []\n",
    "painting_id = existing_paintings_df[\"id\"].max()\n",
    "\n",
    "for index, painting in enumerate(tqdm(artworks_with_description)):\n",
    "    found_painting = False\n",
    "\n",
    "    for existing_painting in existing_paintings:\n",
    "        found_painting = is_same_painting(\n",
    "            painting[0], painting[1], existing_painting[0], existing_painting[1]\n",
    "        )\n",
    "\n",
    "        if found_painting:\n",
    "            break\n",
    "\n",
    "    if not found_painting:\n",
    "        coarse_painting_type = painting[2]\n",
    "        fine_grained_painting_type = None\n",
    "        painting_style = None\n",
    "\n",
    "        for wikiart_features in all_wikiart_features:\n",
    "            found_painting = is_same_painting(\n",
    "                painting[0], painting[1], wikiart_features[0], wikiart_features[1]\n",
    "            )\n",
    "\n",
    "            if found_painting:\n",
    "                painting_style = wikiart_features[3]\n",
    "                fine_grained_painting_type = wikiart_features[2]\n",
    "                break\n",
    "\n",
    "        try:\n",
    "            time.sleep(0.1)\n",
    "            response = requests.get(painting[6])\n",
    "\n",
    "            if str(response.status_code)[0] != \"2\":\n",
    "                raise Exception(\"Wrong call\")\n",
    "\n",
    "            soup = BeautifulSoup(response.text, \"html.parser\")\n",
    "            image_url = (\n",
    "                \"https://www.wga.hu/\"\n",
    "                + soup.find(\"a\", {\"href\": re.compile(r\".*\\.jpg$\")}, {\"onclick\": \".*\"}).attrs[\"href\"]\n",
    "            )\n",
    "            image = requests.get(image_url).content\n",
    "\n",
    "            painting_id += 1\n",
    "            kept_paintings.append(\n",
    "                {\n",
    "                    \"id\": painting_id,\n",
    "                    \"title\": painting[4],\n",
    "                    \"artist\": painting[5],\n",
    "                    \"year\": painting[3],\n",
    "                    \"coarse_type\": coarse_painting_type,\n",
    "                    \"fine_grained_type\": fine_grained_painting_type,\n",
    "                    \"style\": painting_style,\n",
    "                    \"description\": painting[7],\n",
    "                }\n",
    "            )\n",
    "\n",
    "            with open(RAW_DATA_PATH + f\"wga_paintings/{painting_id}.png\", \"wb\") as handler:\n",
    "                handler.write(image)\n",
    "\n",
    "            with open(\n",
    "                INTERMEDIATE_DATA_PATH + \"wga_paintings/wga_paintings_enhanced_data.json\", \"w\"\n",
    "            ) as json_file:\n",
    "                json.dump(kept_paintings, json_file, indent=4)\n",
    "        except:\n",
    "            pass"
   ]
  },
  {
   "cell_type": "code",
   "execution_count": null,
   "metadata": {},
   "outputs": [],
   "source": [
    "Image.open(BytesIO(image))"
   ]
  }
 ],
 "metadata": {
  "kernelspec": {
   "display_name": "enhance_vg",
   "language": "python",
   "name": "python3"
  },
  "language_info": {
   "codemirror_mode": {
    "name": "ipython",
    "version": 3
   },
   "file_extension": ".py",
   "mimetype": "text/x-python",
   "name": "python",
   "nbconvert_exporter": "python",
   "pygments_lexer": "ipython3",
   "version": "3.12.3"
  }
 },
 "nbformat": 4,
 "nbformat_minor": 2
}
