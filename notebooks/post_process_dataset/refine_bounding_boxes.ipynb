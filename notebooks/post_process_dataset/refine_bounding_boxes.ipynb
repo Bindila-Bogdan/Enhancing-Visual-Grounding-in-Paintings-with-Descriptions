{
 "cells": [
  {
   "cell_type": "markdown",
   "id": "43eb6994",
   "metadata": {},
   "source": [
    "# Refine bounding boxes\n",
    "Clean edge cases when bounding boxes overlap, cover the painting entierly, and so on."
   ]
  },
  {
   "cell_type": "markdown",
   "id": "51a11cfc",
   "metadata": {},
   "source": [
    "### 0. Import libraries and load data"
   ]
  },
  {
   "cell_type": "code",
   "execution_count": null,
   "id": "3e791a10",
   "metadata": {},
   "outputs": [],
   "source": [
    "%load_ext autoreload\n",
    "%autoreload 2\n",
    "\n",
    "import sys\n",
    "import copy\n",
    "import json \n",
    "\n",
    "MAX_COVERAGE_AREA = 0.95\n",
    "MIN_OVERLAP_IOU_THRESHOLD = 0.95\n",
    "ANNOTATIONS_PATH = \"../../data/annotations/\"\n",
    "\n",
    "sys.path.append(\"../annotate_dataset/\")\n",
    "\n",
    "from ground_objects import *\n",
    "from annotate_paintings_utils import *"
   ]
  },
  {
   "cell_type": "code",
   "execution_count": null,
   "id": "0513039b",
   "metadata": {},
   "outputs": [],
   "source": [
    "filenames = [\"annotations_10000_10009\", \"annotations_30_39\", \"annotations_100_109\", \"annotations_1000_1009\", \"annotations_2400_2409\", \"annotations_2500_2509\", \"annotations_7000_7009\"]\n",
    "all_annotations = []\n",
    "\n",
    "for filename in filenames:\n",
    "    with open(f\"{ANNOTATIONS_PATH}{filename}.json\") as f:\n",
    "        x = json.load(f)\n",
    "        all_annotations.extend(x[\"annotations\"])"
   ]
  },
  {
   "cell_type": "code",
   "execution_count": null,
   "id": "a93950a8",
   "metadata": {},
   "outputs": [],
   "source": [
    "paintings_bboxes = {\n",
    "    painting_annotation[\"painting_id\"]: painting_annotation[\"bounding_boxes\"]\n",
    "    for painting_annotation in all_annotations\n",
    "}\n"
   ]
  },
  {
   "cell_type": "code",
   "execution_count": null,
   "id": "82c45918",
   "metadata": {},
   "outputs": [],
   "source": [
    "for painting in all_annotations:\n",
    "    extracted_objects = list(painting[\"objects\"].keys())\n",
    "    bbox_labels = [bbox[0] for bbox in painting[\"bounding_boxes\"]]\n",
    "\n",
    "    for bbox_label in bbox_labels:\n",
    "        if bbox_label not in extracted_objects:\n",
    "            print(painting[\"painting_id\"], bbox_label, bbox_labels, extracted_objects)"
   ]
  },
  {
   "cell_type": "markdown",
   "id": "3390e2ef",
   "metadata": {},
   "source": [
    "### 1. Define bounding box comparison functions"
   ]
  },
  {
   "cell_type": "code",
   "execution_count": null,
   "id": "23373d3d",
   "metadata": {},
   "outputs": [],
   "source": [
    "def compute_bbox_area(bbox):\n",
    "    return (bbox[2] - bbox[0]) * (bbox[3] - bbox[1])"
   ]
  },
  {
   "cell_type": "code",
   "execution_count": null,
   "id": "e29585e5",
   "metadata": {},
   "outputs": [],
   "source": [
    "def compute_iou(box_a, box_b):\n",
    "    # determine the coordinates of the intersection rectangle\n",
    "    x_left = max(box_a[0], box_b[0])\n",
    "    y_top = max(box_a[1], box_b[1])\n",
    "    x_right = min(box_a[2], box_b[2])\n",
    "    y_bottom = min(box_a[3], box_b[3])\n",
    "\n",
    "    # compute the area of intersection rectangle\n",
    "    if x_right < x_left or y_bottom < y_top:\n",
    "        return 0.0  \n",
    "    \n",
    "    intersection_area = (x_right - x_left) * (y_bottom - y_top)\n",
    "    \n",
    "    # compute the area of both bounding boxes\n",
    "    area_a = compute_bbox_area(box_a)\n",
    "    area_b = compute_bbox_area(box_b)\n",
    "\n",
    "    # compute the intersection over union\n",
    "    iou = intersection_area / float(area_a + area_b - intersection_area)\n",
    "    return iou\n"
   ]
  },
  {
   "cell_type": "code",
   "execution_count": null,
   "id": "e8841c93",
   "metadata": {},
   "outputs": [],
   "source": [
    "def is_box_inside(box_a, box_b):\n",
    "    # determine if box_a is insede box_b\n",
    "    return (\n",
    "        box_a[0] >= box_b[0] * 0.99 and \n",
    "        box_a[1] >= box_b[1] * 0.99 and \n",
    "        box_a[2] <= box_b[2] * 1.01 and  \n",
    "        box_a[3] <= box_b[3] * 1.01 \n",
    "    )"
   ]
  },
  {
   "cell_type": "code",
   "execution_count": null,
   "id": "cb4aaab2",
   "metadata": {},
   "outputs": [],
   "source": [
    "def compute_bbox_coverage_area(box, image):\n",
    "    # compute the ratio between the bounding box are and image area\n",
    "    image_size = image.size[0] * image.size[1]\n",
    "    box_size = (box[2] - box[0]) * (box[3] - box[1])\n",
    "\n",
    "    return box_size / image_size"
   ]
  },
  {
   "cell_type": "markdown",
   "id": "54228590",
   "metadata": {},
   "source": [
    "### 2. Refine all bounding boxes"
   ]
  },
  {
   "cell_type": "code",
   "execution_count": null,
   "id": "41575462",
   "metadata": {},
   "outputs": [],
   "source": [
    "def refine_bboxes(bboxes, image):\n",
    "    # 1. if any bounding box covers almost the entire painting, check its label and remove it if it's generic (painting, portrait)\n",
    "    for bbox in bboxes:\n",
    "        bbox_coverage_area = compute_bbox_coverage_area(bbox[2], image)\n",
    "        if bbox_coverage_area >= MAX_COVERAGE_AREA:\n",
    "            print(f\"Box {bbox[0]} has a coverage area of {round(bbox_coverage_area, 2)}%\")\n",
    "\n",
    "    for index_a, bbox_a in enumerate(bboxes):\n",
    "        for index_b, bbox_b in enumerate(bboxes):\n",
    "            if index_a == index_b:\n",
    "                continue\n",
    "\n",
    "            is_inside = is_box_inside(bbox_b[2], bbox_a[2])\n",
    "            box_a_coverage_area = compute_bbox_coverage_area(bbox_a[2], image)\n",
    "\n",
    "            # 2. if a box is inside of another, have the same label and the outer one doesn't cover the entire painting, remove the box with lower probability\n",
    "            if is_inside and bbox_a[0] == bbox_b[0] and box_a_coverage_area < MAX_COVERAGE_AREA:\n",
    "                print(f\"Box {bbox_b[0]} is inside box {bbox_a[0]}\")    \n",
    "                if bbox_a[1] < bbox_b[1]:\n",
    "                    del bboxes[index_a]\n",
    "                    return bboxes, False\n",
    "                else:\n",
    "                    del bboxes[index_b]\n",
    "                    return bboxes, False       \n",
    "\n",
    "            # 3. if two bounding boxes overlap almost completely, remove the one with the lower probability\n",
    "            iou = compute_iou(bbox_a[2], bbox_b[2])\n",
    "            if iou >= MIN_OVERLAP_IOU_THRESHOLD:\n",
    "                print(f\"Box {bbox_a[0]} and {bbox_b[0]} have an iou of {round(iou, 4)}\")\n",
    "                if bbox_a[1] < bbox_b[1]:\n",
    "                    del bboxes[index_a]\n",
    "                    return bboxes, False\n",
    "                else:\n",
    "                    del bboxes[index_b]\n",
    "                    return bboxes, False     \n",
    "\n",
    "    return bboxes, True\n"
   ]
  },
  {
   "cell_type": "code",
   "execution_count": null,
   "id": "0317ef3f",
   "metadata": {},
   "outputs": [],
   "source": [
    "def refine_all_bboxes(paintings_bboxes, verbose=True):\n",
    "    refined_paintings_bboxes = {}\n",
    "\n",
    "    for painting_id, formatted_bboxes in list(paintings_bboxes.items()):\n",
    "        print(painting_id)\n",
    "        print(formatted_bboxes)\n",
    "        _, image = load_image(painting_id)\n",
    "        # sort them to traverse boxes from outside towards inside\n",
    "        formatted_bboxes = sorted(formatted_bboxes, key=lambda x:compute_bbox_area(x[2]), reverse=True)\n",
    "                    \n",
    "        if verbose:\n",
    "            display_annotated_image(copy.deepcopy(image), formatted_bboxes, True)\n",
    "    \n",
    "        refined = False\n",
    "        while not refined and len(formatted_bboxes) != 0:\n",
    "            formatted_bboxes, refined = refine_bboxes(formatted_bboxes, image)\n",
    "\n",
    "        if verbose:\n",
    "            display_annotated_image(image, formatted_bboxes, True)\n",
    "\n",
    "        refined_paintings_bboxes[painting_id] = formatted_bboxes\n",
    "\n",
    "    assert len(paintings_bboxes) == len(refined_paintings_bboxes), \"There are missing paintings.\"\n",
    "    bboxes_no_before = sum([len(bboxes) for bboxes in paintings_bboxes.values()])\n",
    "    bboxes_no_after = sum([len(bboxes) for bboxes in refined_paintings_bboxes.values()])\n",
    "    print(f\"\\nNumber of bounding boxes before and after refinement: {bboxes_no_before} -> {bboxes_no_after}\")\n",
    "\n",
    "    return refined_paintings_bboxes"
   ]
  },
  {
   "cell_type": "code",
   "execution_count": null,
   "id": "a57a4b0c",
   "metadata": {},
   "outputs": [],
   "source": [
    "# update annotations with the refined bounding boxes\n",
    "refined_paintings_bboxes = refine_all_bboxes(paintings_bboxes, True)\n",
    "for annotations in all_annotations:\n",
    "    annotations[\"bounding_boxes\"] = refined_paintings_bboxes[annotations[\"painting_id\"]]"
   ]
  }
 ],
 "metadata": {
  "kernelspec": {
   "display_name": "enhance_vg",
   "language": "python",
   "name": "python3"
  },
  "language_info": {
   "codemirror_mode": {
    "name": "ipython",
    "version": 3
   },
   "file_extension": ".py",
   "mimetype": "text/x-python",
   "name": "python",
   "nbconvert_exporter": "python",
   "pygments_lexer": "ipython3",
   "version": "3.12.3"
  }
 },
 "nbformat": 4,
 "nbformat_minor": 5
}
