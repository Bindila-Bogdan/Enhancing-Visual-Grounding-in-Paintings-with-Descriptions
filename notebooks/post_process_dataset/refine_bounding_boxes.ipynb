{
 "cells": [
  {
   "cell_type": "markdown",
   "id": "43eb6994",
   "metadata": {},
   "source": [
    "# Refine bounding boxes\n",
    "Clean edge cases when bounding boxes overlap, cover the painting entierly, and so on."
   ]
  },
  {
   "cell_type": "markdown",
   "id": "51a11cfc",
   "metadata": {},
   "source": [
    "### 0. Import libraries and load data"
   ]
  },
  {
   "cell_type": "code",
   "execution_count": null,
   "id": "3e791a10",
   "metadata": {},
   "outputs": [],
   "source": [
    "%load_ext autoreload\n",
    "%autoreload 2\n",
    "\n",
    "import sys\n",
    "import json \n",
    "ANNOTATIONS_PATH = \"../../data/annotations/\"\n",
    "\n",
    "sys.path.append(\"../annotate_dataset/\")\n",
    "\n",
    "from ground_objects import *\n",
    "from annotate_paintings_utils import *"
   ]
  },
  {
   "cell_type": "code",
   "execution_count": null,
   "id": "0513039b",
   "metadata": {},
   "outputs": [],
   "source": [
    "with open(f\"{ANNOTATIONS_PATH}annotations_30_39.json\") as f:\n",
    "    annotations = json.load(f)"
   ]
  },
  {
   "cell_type": "markdown",
   "id": "3390e2ef",
   "metadata": {},
   "source": [
    "### 1. Define bounding box comparison functions"
   ]
  },
  {
   "cell_type": "code",
   "execution_count": 4,
   "id": "e29585e5",
   "metadata": {},
   "outputs": [],
   "source": [
    "def compute_iou(box_a, box_b):\n",
    "    # determine the coordinates of the intersection rectangle\n",
    "    x_left = max(box_a[0], box_b[0])\n",
    "    y_top = max(box_a[1], box_b[1])\n",
    "    x_right = min(box_a[2], box_b[2])\n",
    "    y_bottom = min(box_a[3], box_b[3])\n",
    "\n",
    "    # compute the area of intersection rectangle\n",
    "    if x_right < x_left or y_bottom < y_top:\n",
    "        return 0.0  \n",
    "    \n",
    "    intersection_area = (x_right - x_left) * (y_bottom - y_top)\n",
    "\n",
    "    # compute the area of both bounding boxes\n",
    "    area_a = (box_a[2] - box_a[0]) * (box_a[3] - box_a[1])\n",
    "    area_b = (box_b[2] - box_b[0]) * (box_b[3] - box_b[1])\n",
    "\n",
    "    # compute the intersection over union\n",
    "    iou = intersection_area / float(area_a + area_b - intersection_area)\n",
    "    return iou\n"
   ]
  },
  {
   "cell_type": "code",
   "execution_count": null,
   "id": "e8841c93",
   "metadata": {},
   "outputs": [],
   "source": [
    "def is_box_inside(box_a, box_b):\n",
    "    # determines if box_a is insede box_b\n",
    "    return (\n",
    "        box_a[0] >= box_b[0] and \n",
    "        box_a[1] >= box_b[1] and \n",
    "        box_a[2] <= box_b[2] and  \n",
    "        box_a[3] <= box_b[3]  \n",
    "    )"
   ]
  },
  {
   "cell_type": "code",
   "execution_count": 6,
   "id": "cb4aaab2",
   "metadata": {},
   "outputs": [],
   "source": [
    "def compute_bbox_area_wrt_image(box, image):\n",
    "    image_size = image.size[0] * image.size[1]\n",
    "    box_size = (box[2] - box[0]) * (box[3] - box[1])\n",
    "\n",
    "    return box_size / image_size"
   ]
  },
  {
   "cell_type": "markdown",
   "id": "54228590",
   "metadata": {},
   "source": [
    "### 2. Refine all bounding boxes"
   ]
  },
  {
   "cell_type": "code",
   "execution_count": null,
   "id": "afcea423",
   "metadata": {},
   "outputs": [],
   "source": [
    "paintings_bboxes = {\n",
    "    painting_annotation[\"painting_id\"]: painting_annotation[\"bounding_boxes\"]\n",
    "    for painting_annotation in annotations[\"annotations\"]\n",
    "}\n",
    "\n",
    "for painting_id, bboxes in paintings_bboxes.items():\n",
    "    resized_image, image = load_image(painting_id)\n",
    "    formatted_bboxes = [[bbox[0], bbox[1][0], bbox[1][1]] for bbox in bboxes]\n",
    "\n",
    "    for index_a, box_a in enumerate(formatted_bboxes):\n",
    "        for index_b, box_b in enumerate(formatted_bboxes):\n",
    "            if index_a != index_b and  box_a[0] != box_b[0]:\n",
    "                print([box_a[0], box_a[1]], [box_b[0], box_b[1]], compute_iou(box_a[-1], box_b[-1]))\n",
    "                \n",
    "    display_annotated_image(image, formatted_bboxes)"
   ]
  }
 ],
 "metadata": {
  "kernelspec": {
   "display_name": "enhance_vg",
   "language": "python",
   "name": "python3"
  },
  "language_info": {
   "codemirror_mode": {
    "name": "ipython",
    "version": 3
   },
   "file_extension": ".py",
   "mimetype": "text/x-python",
   "name": "python",
   "nbconvert_exporter": "python",
   "pygments_lexer": "ipython3",
   "version": "3.12.3"
  }
 },
 "nbformat": 4,
 "nbformat_minor": 5
}
