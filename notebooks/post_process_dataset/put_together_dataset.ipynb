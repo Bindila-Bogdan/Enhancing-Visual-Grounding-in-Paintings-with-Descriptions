{
 "cells": [
  {
   "cell_type": "markdown",
   "id": "2e2a1667",
   "metadata": {},
   "source": [
    "# Put together dataset\n",
    "This notebook is used to merge the data related to paintings with the annotations. There will be created 2 versions:\n",
    "- one includes all objects even though they don't have descriptions or bounding boxes\n",
    "- the other includes only objects with bounding boxes and descriptions"
   ]
  },
  {
   "cell_type": "markdown",
   "id": "02669344",
   "metadata": {},
   "source": [
    "### 0. Import libraries and data"
   ]
  },
  {
   "cell_type": "code",
   "execution_count": null,
   "id": "66134e5d",
   "metadata": {},
   "outputs": [],
   "source": [
    "import json\n",
    "import polars as pl\n",
    "from tqdm import tqdm\n",
    "\n",
    "ANNOTATIONS_PATH = \"../../data/annotations/\"\n",
    "INTERMEDIATE_DATA_PATH = \"../../data/intermediate/filtered_paintings/\"\n",
    "PROCESSED_DATA_PATH = \"../../data/processed/\""
   ]
  },
  {
   "cell_type": "code",
   "execution_count": null,
   "id": "6bbcb022",
   "metadata": {},
   "outputs": [],
   "source": [
    "with open(f\"{ANNOTATIONS_PATH}filtered_and_refined_annotations.json\") as f:\n",
    "    annotations = json.load(f)\n",
    "\n",
    "paintings_data = pl.read_json(f\"{INTERMEDIATE_DATA_PATH}filtered_paintings_enhanced_data.json\").to_dicts()"
   ]
  },
  {
   "cell_type": "markdown",
   "id": "78a47fa1",
   "metadata": {},
   "source": [
    "### 1. Create the first version of the dataset with all objects"
   ]
  },
  {
   "cell_type": "code",
   "execution_count": null,
   "id": "4e545b93",
   "metadata": {},
   "outputs": [],
   "source": [
    "for annotation_index in range(len(annotations)):\n",
    "    for obj, desc in annotations[annotation_index][\"objects\"].items():\n",
    "        annotations[annotation_index][\"objects\"][obj] = {\"description\": desc, \"bounding_boxes\": []}\n",
    "\n",
    "    for bbox in annotations[annotation_index][\"bounding_boxes\"]:\n",
    "        annotations[annotation_index][\"objects\"][bbox[0]][\"bounding_boxes\"].append([bbox[1], bbox[2]])\n",
    "\n",
    "    del annotations[annotation_index][\"bounding_boxes\"]\n"
   ]
  },
  {
   "cell_type": "code",
   "execution_count": null,
   "id": "8b5e96ee",
   "metadata": {},
   "outputs": [],
   "source": [
    "for index in tqdm(range(len(paintings_data))):\n",
    "    painting_id = paintings_data[index][\"id\"]\n",
    "\n",
    "    found_objects = False\n",
    "    for annotation in annotations:\n",
    "        if annotation[\"painting_id\"] == painting_id:\n",
    "            paintings_data[index][\"objects\"] = annotation[\"objects\"]\n",
    "            found_objects = True\n",
    "            break\n",
    "    \n",
    "    if not found_objects:\n",
    "        paintings_data[index][\"objects\"] = []"
   ]
  },
  {
   "cell_type": "code",
   "execution_count": null,
   "id": "43a6625c",
   "metadata": {},
   "outputs": [],
   "source": [
    "with open(f\"{PROCESSED_DATA_PATH}paintings_with_all_objects.json\", \"w\") as f:\n",
    "    json.dump(paintings_data, f, indent=4)"
   ]
  },
  {
   "cell_type": "markdown",
   "id": "983803d1",
   "metadata": {},
   "source": [
    "### 2. Create the first version of the dataset with objects with bboxes and descriptions"
   ]
  },
  {
   "cell_type": "code",
   "execution_count": null,
   "id": "ed42ac91",
   "metadata": {},
   "outputs": [],
   "source": [
    "filtered_paintings_data = []\n",
    "\n",
    "for index in range(len(paintings_data)):\n",
    "    if len(paintings_data[index][\"objects\"]) == 0:\n",
    "        continue\n",
    "\n",
    "    filtered_objects = {}\n",
    "\n",
    "    for obj, obj_data in paintings_data[index][\"objects\"].items():\n",
    "        if len(obj_data[\"description\"]) != 0 and len(obj_data[\"bounding_boxes\"]) != 0:\n",
    "            filtered_objects[obj] = obj_data\n",
    "    \n",
    "    if len(filtered_objects) != 0:\n",
    "        paintings_data[index][\"objects\"] = filtered_objects\n",
    "        filtered_paintings_data.append(paintings_data[index])"
   ]
  },
  {
   "cell_type": "code",
   "execution_count": null,
   "id": "7a86062f",
   "metadata": {},
   "outputs": [],
   "source": [
    "with open(f\"{PROCESSED_DATA_PATH}paintings_with_filtered_objects.json\", \"w\") as f:\n",
    "    json.dump(filtered_paintings_data, f, indent=4)"
   ]
  },
  {
   "cell_type": "markdown",
   "id": "a75f7011",
   "metadata": {},
   "source": [
    "### 3. Split into train and test"
   ]
  },
  {
   "cell_type": "code",
   "execution_count": null,
   "id": "36f6cfad",
   "metadata": {},
   "outputs": [],
   "source": []
  }
 ],
 "metadata": {
  "kernelspec": {
   "display_name": "enhance_vg",
   "language": "python",
   "name": "python3"
  },
  "language_info": {
   "codemirror_mode": {
    "name": "ipython",
    "version": 3
   },
   "file_extension": ".py",
   "mimetype": "text/x-python",
   "name": "python",
   "nbconvert_exporter": "python",
   "pygments_lexer": "ipython3",
   "version": "3.12.3"
  }
 },
 "nbformat": 4,
 "nbformat_minor": 5
}
