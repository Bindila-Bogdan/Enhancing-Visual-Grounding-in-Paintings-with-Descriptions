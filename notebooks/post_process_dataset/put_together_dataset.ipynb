{
 "cells": [
  {
   "cell_type": "markdown",
   "id": "2e2a1667",
   "metadata": {},
   "source": [
    "# Put together dataset\n",
    "This notebook is used to merge the data related to paintings with the annotations. There will be created 2 versions:\n",
    "- one includes all objects even though they don't have descriptions or bounding boxes\n",
    "- the other includes only objects with bounding boxes and descriptions"
   ]
  },
  {
   "cell_type": "markdown",
   "id": "02669344",
   "metadata": {},
   "source": [
    "### 0. Import libraries and data"
   ]
  },
  {
   "cell_type": "code",
   "execution_count": null,
   "id": "66134e5d",
   "metadata": {},
   "outputs": [],
   "source": [
    "import re\n",
    "import json\n",
    "\n",
    "import polars as pl\n",
    "\n",
    "from tqdm import tqdm\n",
    "\n",
    "from collections import Counter\n",
    "\n",
    "\n",
    "\n",
    "ANNOTATIONS_PATH = \"../../data/annotations/\"\n",
    "\n",
    "INTERMEDIATE_DATA_PATH = \"../../data/intermediate/filtered_paintings/\"\n",
    "\n",
    "PROCESSED_DATA_PATH = \"../../data/processed/\""
   ]
  },
  {
   "cell_type": "code",
   "execution_count": null,
   "id": "6bbcb022",
   "metadata": {},
   "outputs": [],
   "source": [
    "with open(f\"{ANNOTATIONS_PATH}filtered_and_refined_annotations.json\") as f:\n",
    "    annotations = json.load(f)\n",
    "\n",
    "paintings_data = pl.read_json(\n",
    "    f\"{INTERMEDIATE_DATA_PATH}filtered_paintings_enhanced_data.json\"\n",
    ").to_dicts()"
   ]
  },
  {
   "cell_type": "markdown",
   "id": "78a47fa1",
   "metadata": {},
   "source": [
    "### 1. Create the first version of the dataset with all objects"
   ]
  },
  {
   "cell_type": "code",
   "execution_count": null,
   "id": "4e545b93",
   "metadata": {},
   "outputs": [],
   "source": [
    "for annotation_index in range(len(annotations)):\n",
    "    for obj, desc in annotations[annotation_index][\"objects\"].items():\n",
    "        annotations[annotation_index][\"objects\"][obj] = {\"description\": desc, \"bounding_boxes\": []}\n",
    "\n",
    "    for bbox in annotations[annotation_index][\"bounding_boxes\"]:\n",
    "        annotations[annotation_index][\"objects\"][bbox[0]][\"bounding_boxes\"].append(\n",
    "            [bbox[1], bbox[2]]\n",
    "        )\n",
    "\n",
    "    del annotations[annotation_index][\"bounding_boxes\"]"
   ]
  },
  {
   "cell_type": "code",
   "execution_count": null,
   "id": "8b5e96ee",
   "metadata": {},
   "outputs": [],
   "source": [
    "for index in tqdm(range(len(paintings_data))):\n",
    "    painting_id = paintings_data[index][\"id\"]\n",
    "\n",
    "    found_objects = False\n",
    "    for annotation in annotations:\n",
    "        if annotation[\"painting_id\"] == painting_id:\n",
    "            paintings_data[index][\"objects\"] = annotation[\"objects\"]\n",
    "            found_objects = True\n",
    "            break\n",
    "\n",
    "    if not found_objects:\n",
    "        paintings_data[index][\"objects\"] = []"
   ]
  },
  {
   "cell_type": "code",
   "execution_count": null,
   "id": "43a6625c",
   "metadata": {},
   "outputs": [],
   "source": [
    "with open(f\"{PROCESSED_DATA_PATH}paintings_with_all_objects.json\", \"w\") as f:\n",
    "    json.dump(paintings_data, f, indent=4)"
   ]
  },
  {
   "cell_type": "markdown",
   "id": "983803d1",
   "metadata": {},
   "source": [
    "### 2. Create the first version of the dataset with objects with bboxes and descriptions"
   ]
  },
  {
   "cell_type": "code",
   "execution_count": null,
   "id": "ed42ac91",
   "metadata": {},
   "outputs": [],
   "source": [
    "filtered_paintings_data = []\n",
    "\n",
    "for index in range(len(paintings_data)):\n",
    "    if len(paintings_data[index][\"objects\"]) == 0:\n",
    "        continue\n",
    "\n",
    "    filtered_objects = {}\n",
    "\n",
    "    for obj, obj_data in paintings_data[index][\"objects\"].items():\n",
    "        if len(obj_data[\"description\"]) != 0 and len(obj_data[\"bounding_boxes\"]) != 0:\n",
    "            filtered_objects[obj] = obj_data\n",
    "\n",
    "    if len(filtered_objects) != 0:\n",
    "        paintings_data[index][\"objects\"] = filtered_objects\n",
    "        filtered_paintings_data.append(paintings_data[index])"
   ]
  },
  {
   "cell_type": "code",
   "execution_count": null,
   "id": "7a86062f",
   "metadata": {},
   "outputs": [],
   "source": [
    "with open(f\"{PROCESSED_DATA_PATH}paintings_with_filtered_objects.json\", \"w\") as f:\n",
    "    json.dump(filtered_paintings_data, f, indent=4)"
   ]
  },
  {
   "cell_type": "markdown",
   "id": "a75f7011",
   "metadata": {},
   "source": [
    "### 3. Analyze and refine descriptions"
   ]
  },
  {
   "cell_type": "code",
   "execution_count": null,
   "id": "36f6cfad",
   "metadata": {},
   "outputs": [],
   "source": [
    "# get the non-unique descriptions\n",
    "object_descriptions = []\n",
    "\n",
    "for painting_data in filtered_paintings_data:\n",
    "    for obj, obj_data in painting_data[\"objects\"].items():\n",
    "        object_descriptions.append(obj_data[\"description\"])\n",
    "\n",
    "duplicates = Counter(object_descriptions)\n",
    "duplicated_object_descriptions = []\n",
    "\n",
    "for obj_description, freq in duplicates.items():\n",
    "    if freq > 1:\n",
    "        duplicated_object_descriptions.append(obj_description)\n",
    "\n",
    "print(\n",
    "    f\"Number of duplicated descriptions that have to be removed: {len(object_descriptions) - len(set(object_descriptions))} \"\n",
    ")\n",
    "print(\n",
    "    f\"Number of unique descriptions that appear more than once: {len(duplicated_object_descriptions)}\"\n",
    ")"
   ]
  },
  {
   "cell_type": "code",
   "execution_count": null,
   "id": "1dbbae0d",
   "metadata": {},
   "outputs": [],
   "source": [
    "# among duplicated descriptions, keep only the one with the largest min bbox probability\n",
    "duplicated_object_descriptions_data = {}\n",
    "\n",
    "for painting_data in filtered_paintings_data:\n",
    "    for obj, obj_data in painting_data[\"objects\"].items():\n",
    "        if obj_data[\"description\"] in duplicated_object_descriptions:\n",
    "            obj_description = obj_data[\"description\"]\n",
    "            min_bbox_prob = min([bbox[0] for bbox in obj_data[\"bounding_boxes\"]])\n",
    "\n",
    "            if (\n",
    "                obj_description in duplicated_object_descriptions_data.keys()\n",
    "                and min_bbox_prob > duplicated_object_descriptions_data[obj_description][-1]\n",
    "            ) or (obj_description not in duplicated_object_descriptions_data.keys()):\n",
    "                duplicated_object_descriptions_data[obj_description] = [\n",
    "                    painting_data[\"id\"],\n",
    "                    obj,\n",
    "                    min_bbox_prob,\n",
    "                ]"
   ]
  },
  {
   "cell_type": "code",
   "execution_count": null,
   "id": "b4c9905e",
   "metadata": {},
   "outputs": [],
   "source": [
    "filtered_paintings_data_wo_duplicates = []\n",
    "\n",
    "for painting_index in range(len(filtered_paintings_data)):\n",
    "    kept_objects = {}\n",
    "\n",
    "    for obj, obj_data in filtered_paintings_data[painting_index][\"objects\"].items():\n",
    "        if (\n",
    "            obj_data[\"description\"] in duplicated_object_descriptions_data.keys()\n",
    "            and duplicated_object_descriptions_data[obj_data[\"description\"]][0]\n",
    "            == filtered_paintings_data[painting_index][\"id\"]\n",
    "            and duplicated_object_descriptions_data[obj_data[\"description\"]][1] == obj\n",
    "            and duplicated_object_descriptions_data[obj_data[\"description\"]][2]\n",
    "            == min([bbox[0] for bbox in obj_data[\"bounding_boxes\"]])\n",
    "        ) or obj_data[\"description\"] not in duplicated_object_descriptions_data.keys():\n",
    "            kept_objects[obj] = obj_data\n",
    "\n",
    "    if len(kept_objects) != 0:\n",
    "        filtered_paintings_data[painting_index][\"objects\"] = kept_objects\n",
    "        filtered_paintings_data_wo_duplicates.append(filtered_paintings_data[painting_index])"
   ]
  },
  {
   "cell_type": "code",
   "execution_count": null,
   "id": "d0f28df4",
   "metadata": {},
   "outputs": [],
   "source": [
    "object_descriptions = []\n",
    "\n",
    "for painting_data in filtered_paintings_data_wo_duplicates:\n",
    "    for obj, obj_data in painting_data[\"objects\"].items():\n",
    "        object_descriptions.append(obj_data[\"description\"])\n",
    "\n",
    "duplicates = Counter(object_descriptions)\n",
    "duplicated_object_descriptions = []\n",
    "\n",
    "for obj_description, freq in duplicates.items():\n",
    "    if freq > 1:\n",
    "        duplicated_object_descriptions.append(obj_description)\n",
    "\n",
    "print(\n",
    "    f\"Number of duplicated descriptions that have to be removed: {len(object_descriptions) - len(set(object_descriptions))} \"\n",
    ")\n",
    "print(\n",
    "    f\"Number of unique descriptions that appear more than once: {len(duplicated_object_descriptions)}\"\n",
    ")"
   ]
  },
  {
   "cell_type": "code",
   "execution_count": null,
   "id": "c335cf1b",
   "metadata": {},
   "outputs": [],
   "source": [
    "len(filtered_paintings_data) - len(filtered_paintings_data_wo_duplicates)"
   ]
  },
  {
   "cell_type": "markdown",
   "id": "5b3ed3b2",
   "metadata": {},
   "source": []
  },
  {
   "cell_type": "code",
   "execution_count": null,
   "id": "e4dfbf48",
   "metadata": {},
   "outputs": [],
   "source": []
  },
  {
   "cell_type": "code",
   "execution_count": null,
   "id": "7b3890cc",
   "metadata": {},
   "outputs": [],
   "source": [
    "import random\n",
    "\n",
    "random.seed(42)\n",
    "random.shuffle(object_descriptions)\n",
    "object_descriptions"
   ]
  },
  {
   "cell_type": "code",
   "execution_count": null,
   "id": "422fc816",
   "metadata": {},
   "outputs": [],
   "source": [
    "def replace_hex_with_escaped_unicode(text):\n",
    "    pattern = r\"U\\+([0-9a-fA-F]{4})|U\\+([0-9a-fA-F]{2})|x([0-9a-fA-F]{4})|x([0-9a-fA-F]{2})|00([0-9a-fA-F]{2})|\\\\\\[([0-9a-fA-F]{4})]\"\n",
    "\n",
    "    def replacer(match):\n",
    "        hex_code_str = None\n",
    "\n",
    "        if match.group(1):\n",
    "            hex_code_str = match.group(1)\n",
    "        elif match.group(2):\n",
    "            hex_code_str = match.group(2)\n",
    "        elif match.group(3):\n",
    "            hex_code_str = match.group(3)\n",
    "        elif match.group(4):\n",
    "            hex_code_str = match.group(4)\n",
    "        elif match.group(5):\n",
    "            hex_code_str = match.group(5)\n",
    "        elif match.group(6):\n",
    "            hex_code_str = match.group(6)\n",
    "\n",
    "        if hex_code_str:\n",
    "            padded_hex_code = hex_code_str.zfill(4)\n",
    "            return f\"\\\\u{padded_hex_code}\"\n",
    "\n",
    "    return re.sub(pattern, replacer, text)"
   ]
  },
  {
   "cell_type": "code",
   "execution_count": null,
   "id": "9567420a",
   "metadata": {},
   "outputs": [],
   "source": [
    "def remove_explicit_errors(text):\n",
    "    text = re.sub(r\"\\\\\\[\\\\\\[Unsupported character: output ([^\\]]+?)\\\\\\]\\\\\\]\", r\"\\1\", text)\n",
    "    text = re.sub(r\"\\\\\\[\\\\\\[Unsupported character: output ([^\\]]+?)\\\\\\]]\", r\"\\1\", text)\n",
    "    text = re.sub(r\"\\\\\\[\\\\\\[Unsupported character: ([^\\]]+?)\\\\\\]\\\\\\]\", r\"\\1\", text)\n",
    "    text = re.sub(r\"\\\\\\[\\\\\\[Unsupported character: ([^\\]]+?)\\\\\\]]\", r\"\\1\", text)\n",
    "    text = re.sub(r\"\\\\\\[\\\\\\[Invalid JSON escape sequence\\\\\\]]\", \"\", text)\n",
    "    text = re.sub(r\"\\\\\\[\\\\\\[Invalid Unicode escape sequence\\\\\\]]\", \"\", text)\n",
    "    text = text.replace('Unsupported character: \", output ', \"\")\n",
    "\n",
    "    return text"
   ]
  },
  {
   "cell_type": "code",
   "execution_count": null,
   "id": "042f77ed",
   "metadata": {},
   "outputs": [],
   "source": [
    "def remove_brackets_and_backslash(text):\n",
    "    text = re.sub(r\"\\\\\\[(.*?)\\\\\\]\", r\"\\1\", text)\n",
    "    text = re.sub(r\"\\\\\\[(.*?)\\]\", r\"\\1\", text)\n",
    "\n",
    "    return text"
   ]
  },
  {
   "cell_type": "code",
   "execution_count": null,
   "id": "0a61a8b2",
   "metadata": {},
   "outputs": [],
   "source": [
    "def clean_and_format_text(text):\n",
    "    text = re.sub(r\"\\\\\\[\\\\\\]\", \" \", text)\n",
    "    text = re.sub(r\"\\\\\\\\\", \"\", text)\n",
    "    text = text.replace(\"[]\", \"\")\n",
    "    text = text.replace(\"\\r\\n\\n\", \"\")\n",
    "    text = text.replace(\"\\n\\n\", \"\")\n",
    "    text = text.replace(\"\\r\\n\", \"\")\n",
    "    text = re.sub(r\"’s\", \"'s\", text)\n",
    "    text = re.sub(r\"\\\\`\", \"'\", text)\n",
    "    text = re.sub(r\"\\\\'\", \"'\", text)\n",
    "    text = re.sub(r\"\\t’s\", \"'s\", text)\n",
    "    text = re.sub(r\"\\n’s\", \"'s\", text)\n",
    "    text = re.sub(r\"[\\n\\t]\", \"\", text)\n",
    "    text = (\n",
    "        text.replace(\"‘\", \"'\")\n",
    "        .replace(\"’\", \"'\")\n",
    "        .replace(r\"\\\\\\\\\", r\"\\\\\")\n",
    "        .replace(\"\\\\t\", \"\")\n",
    "        .replace(\"\\\\r\", \"\")\n",
    "        .replace(\"’\", \"'\")\n",
    "        .replace(\"\\\\[\", \"\")\n",
    "        .replace(\"agrave\", \"à\")\n",
    "        .replace(\"aacute\", \"á\")\n",
    "        .replace(\"egrave\", \"è\")\n",
    "        .replace(\"eacute\", \"é\")\n",
    "    )\n",
    "\n",
    "    text = re.sub(r\"(\\d{4})(\\d{4})\", r\"\\1-\\2\", text)\n",
    "\n",
    "    text = re.sub(r\" +\", \" \", text).strip()\n",
    "\n",
    "    text = text[0].upper() + text[1:]\n",
    "\n",
    "    if text and not re.search(r\"[.!?]$\", text):\n",
    "        text += \".\"\n",
    "\n",
    "    return text"
   ]
  },
  {
   "cell_type": "code",
   "execution_count": null,
   "id": "2649488f",
   "metadata": {},
   "outputs": [],
   "source": [
    "def add_backslash_to_u_patterns(text):\n",
    "    return text  # re.sub(r\"(u[0-9a-fA-F]{4})\", r\"\\\\\\1\", text)"
   ]
  },
  {
   "cell_type": "code",
   "execution_count": null,
   "id": "f90c811f",
   "metadata": {},
   "outputs": [],
   "source": [
    "for index, description in enumerate(object_descriptions):\n",
    "    cleaned_description = add_backslash_to_u_patterns(\n",
    "        clean_and_format_text(\n",
    "            remove_brackets_and_backslash(\n",
    "                remove_explicit_errors(replace_hex_with_escaped_unicode(description))\n",
    "            )\n",
    "        )\n",
    "    )\n",
    "\n",
    "    # if description != cleaned_description:\n",
    "\n",
    "    print(description)\n",
    "    print(\"--\")\n",
    "    print(cleaned_description)\n",
    "    print(\"\\n\")"
   ]
  },
  {
   "cell_type": "code",
   "execution_count": null,
   "id": "c7f53be1",
   "metadata": {},
   "outputs": [],
   "source": [
    "remove_brackets_and_backslash(object_descriptions[71])"
   ]
  },
  {
   "cell_type": "code",
   "execution_count": null,
   "id": "3d7680af",
   "metadata": {},
   "outputs": [],
   "source": []
  },
  {
   "cell_type": "code",
   "execution_count": null,
   "id": "b4b52435",
   "metadata": {},
   "outputs": [],
   "source": [
    "add_backslash_to_u_patterns(\n",
    "    clean_and_format_text(\n",
    "        remove_brackets_and_backslash(\n",
    "            remove_explicit_errors(replace_hex_with_escaped_unicode(object_descriptions[4137]))\n",
    "        )\n",
    "    )\n",
    ")"
   ]
  },
  {
   "cell_type": "code",
   "execution_count": null,
   "id": "b2f2ef19",
   "metadata": {},
   "outputs": [],
   "source": [
    "\"The dragon-handled tureen and vermeil salvers are in the R\\\\ugence style (ca. 1715\\\\u201323)\".replace(\n",
    "    \"\\\\\\\\\", \"\\\\\"\n",
    ")"
   ]
  },
  {
   "cell_type": "code",
   "execution_count": null,
   "id": "635fc550",
   "metadata": {},
   "outputs": [],
   "source": [
    "object_descriptions[262]"
   ]
  },
  {
   "cell_type": "code",
   "execution_count": null,
   "id": "2bc2a772",
   "metadata": {},
   "outputs": [],
   "source": [
    "print(\"at countess ad \\u00e8le's request, and is \")"
   ]
  },
  {
   "cell_type": "code",
   "execution_count": null,
   "id": "280ddf2a",
   "metadata": {},
   "outputs": [],
   "source": [
    "def replace_double_backslash(text):\n",
    "    \"\"\"\n",
    "    Replaces all occurrences of double backslash (\\\\) with a single backslash (\\).\n",
    "\n",
    "    Args:\n",
    "      text (str): The input string.\n",
    "\n",
    "    Returns:\n",
    "      str: The string with double backslashes replaced by single backslashes.\n",
    "    \"\"\"\n",
    "    # In Python, you need to escape backslashes in string literals.\n",
    "    # So, '\\\\\\\\' represents the literal string \"\\\\\".\n",
    "    # And '\\\\' represents the literal string \"\\\".\n",
    "    return text.replace(\"\\\\\\\\\", \"\\\\\")\n",
    "\n",
    "\n",
    "# --- Example Usage ---\n",
    "test_strings = [\n",
    "    r\"This path is C:\\\\Users\\\\MyDocuments\\\\file.txt\",\n",
    "    \"Here's a literal \\\\\\\\back\\\\slash\",\n",
    "    r\"No double backslashes here.\",\n",
    "    r\"Multiple \\\\\\\\ \\\\\\\\ occurrences.\",\n",
    "    r\"Starts with \\\\\\\\ and ends with \\\\\\\\\",\n",
    "    r\"\\\\\",  # Single backslash - should remain unchanged\n",
    "    r\"\\\\\\\\\",  # Double backslash - should become single\n",
    "    \"Normal string without any backslashes.\",\n",
    "]\n",
    "\n",
    "print(\"--- Replacing Double Backslash with Single Backslash ---\")\n",
    "for original_str in test_strings:\n",
    "    cleaned_str = replace_double_backslash(original_str)\n",
    "    print(f\"Original: '{original_str}'\")\n",
    "    print(f\"Cleaned:  '{cleaned_str}'\\n\")"
   ]
  },
  {
   "cell_type": "code",
   "execution_count": null,
   "id": "7db6b63f",
   "metadata": {},
   "outputs": [],
   "source": []
  }
 ],
 "metadata": {
  "kernelspec": {
   "display_name": "enhance_vg",
   "language": "python",
   "name": "python3"
  },
  "language_info": {
   "codemirror_mode": {
    "name": "ipython",
    "version": 3
   },
   "file_extension": ".py",
   "mimetype": "text/x-python",
   "name": "python",
   "nbconvert_exporter": "python",
   "pygments_lexer": "ipython3",
   "version": "3.12.3"
  }
 },
 "nbformat": 4,
 "nbformat_minor": 5
}
