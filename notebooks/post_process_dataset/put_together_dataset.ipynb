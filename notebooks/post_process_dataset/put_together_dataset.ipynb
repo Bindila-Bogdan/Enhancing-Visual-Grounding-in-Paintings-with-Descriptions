{
 "cells": [
  {
   "cell_type": "markdown",
   "id": "2e2a1667",
   "metadata": {},
   "source": [
    "# Put together dataset\n",
    "This notebook is used to merge the data related to paintings with the annotations. There will be created 2 versions:\n",
    "- one includes all objects even though they don't have descriptions or bounding boxes\n",
    "- the other includes only objects with bounding boxes and descriptions"
   ]
  },
  {
   "cell_type": "markdown",
   "id": "02669344",
   "metadata": {},
   "source": [
    "### 0. Import libraries and data"
   ]
  },
  {
   "cell_type": "code",
   "execution_count": null,
   "id": "66134e5d",
   "metadata": {},
   "outputs": [],
   "source": [
    "import re\n",
    "import json\n",
    "\n",
    "import polars as pl\n",
    "from tqdm import tqdm\n",
    "from collections import Counter\n",
    "\n",
    "\n",
    "ANNOTATIONS_PATH = \"../../data/annotations/\"\n",
    "INTERMEDIATE_DATA_PATH = \"../../data/intermediate/filtered_paintings/\"\n",
    "PROCESSED_DATA_PATH = \"../../data/processed/\""
   ]
  },
  {
   "cell_type": "code",
   "execution_count": null,
   "id": "6bbcb022",
   "metadata": {},
   "outputs": [],
   "source": [
    "with open(f\"{ANNOTATIONS_PATH}filtered_and_refined_annotations.json\") as f:\n",
    "    annotations = json.load(f)\n",
    "\n",
    "paintings_data = pl.read_json(\n",
    "    f\"{INTERMEDIATE_DATA_PATH}filtered_paintings_enhanced_data.json\"\n",
    ").to_dicts()"
   ]
  },
  {
   "cell_type": "markdown",
   "id": "78a47fa1",
   "metadata": {},
   "source": [
    "### 1. Create the first version of the dataset with all objects and clean their description"
   ]
  },
  {
   "cell_type": "code",
   "execution_count": null,
   "id": "91812bc7",
   "metadata": {},
   "outputs": [],
   "source": [
    "def replace_hex_with_escaped_unicode(text):\n",
    "    pattern = r\"U\\+([0-9a-fA-F]{4})|U\\+([0-9a-fA-F]{2})|\\\\\\[x([0-9a-fA-F]{2})\\\\\\]|\\\\\\[\\\\\\[x([0-9a-fA-F]{2})\\\\\\]\\\\\\]|00([0-9a-fA-F]{2})|\\\\\\[([0-9a-fA-F]{4})\\]|\\\\\\[([0-9a-fA-F]{4})\\\\\\]\"\n",
    "\n",
    "    def replacer(match):\n",
    "        hex_code_str = None\n",
    "\n",
    "        if match.group(1):\n",
    "            hex_code_str = match.group(1)\n",
    "        elif match.group(2):\n",
    "            hex_code_str = match.group(2)\n",
    "        elif match.group(3):\n",
    "            hex_code_str = match.group(3)\n",
    "        elif match.group(4):\n",
    "            hex_code_str = match.group(4)\n",
    "        elif match.group(5):\n",
    "            hex_code_str = match.group(5)\n",
    "        elif match.group(6):\n",
    "            hex_code_str = match.group(6)\n",
    "        elif match.group(7):\n",
    "            hex_code_str = match.group(7)\n",
    "\n",
    "        if hex_code_str:\n",
    "            padded_hex_code = hex_code_str.zfill(4)\n",
    "            return f\"\\\\u{padded_hex_code}\"\n",
    "\n",
    "    return re.sub(pattern, replacer, text)"
   ]
  },
  {
   "cell_type": "code",
   "execution_count": null,
   "id": "02399e2c",
   "metadata": {},
   "outputs": [],
   "source": [
    "def remove_explicit_errors(text):\n",
    "    text = re.sub(r\"\\\\\\[\\\\\\[Unsupported character: output ([^\\]]+?)\\\\\\]\\\\\\]\", r\"\\1\", text)\n",
    "    text = re.sub(r\"\\\\\\[\\\\\\[Unsupported character: output ([^\\]]+?)\\\\\\]\\]\", r\"\\1\", text)\n",
    "    text = re.sub(r\"\\\\\\[\\\\\\[Unsupported character: ([^\\]]+?)\\\\\\]\\\\\\]\", r\"\\1\", text)\n",
    "    text = re.sub(r\"\\\\\\[\\\\\\[Unsupported character: ([^\\]]+?)\\\\\\]\\]\", r\"\\1\", text)\n",
    "    text = re.sub(r\"\\\\\\[\\\\\\[Invalid JSON escape sequence\\\\\\]\\]\", \"\", text)\n",
    "    text = re.sub(r\"\\\\\\[Invalid Unicode escape sequence\\]\", \"\", text)\n",
    "    text = text.replace('Unsupported character: \", output ', \"\")\n",
    "\n",
    "    return text"
   ]
  },
  {
   "cell_type": "code",
   "execution_count": null,
   "id": "ac58ce64",
   "metadata": {},
   "outputs": [],
   "source": [
    "def remove_brackets_and_backslash(text):\n",
    "    text = re.sub(r\"\\\\\\[(.*?)\\\\\\]\", r\"\\1\", text)\n",
    "    text = re.sub(r\"\\\\\\[(.*?)\\]\", r\"\\1\", text)\n",
    "\n",
    "    return text"
   ]
  },
  {
   "cell_type": "code",
   "execution_count": null,
   "id": "a003094c",
   "metadata": {},
   "outputs": [],
   "source": [
    "def clean_and_format_text(text):\n",
    "    text = re.sub(r\"\\\\\\[\\\\\\]\", \" \", text)\n",
    "    text = re.sub(r\"\\\\\\\\\", \"\", text)\n",
    "    text = text.replace(\"[]\", \"\")\n",
    "    text = text.replace(\"\\r\\n\\n\", \"\")\n",
    "    text = text.replace(\"\\n\\n\", \"\")\n",
    "    text = text.replace(\"\\r\\n\", \"\")\n",
    "    text = re.sub(r\"\\\\'\", \"'\", text)\n",
    "    text = (\n",
    "        text.replace(\"‘\", \"'\")\n",
    "        .replace(\"’\", \"'\")\n",
    "        .replace(\"`\", \"'\")\n",
    "        .replace(\"`\", \"'\")\n",
    "        .replace(\"\\t\", \"\")\n",
    "        .replace(\"\\r\", \"\")\n",
    "        .replace(\"\\n\", \"\")\n",
    "        .replace(\"\\\\[\", \"\")\n",
    "        .replace(\"\\\\]\", \"\")\n",
    "        .replace(\"[\", \"\")\n",
    "        .replace(\"]\", \"\")\n",
    "        .replace(\"\\\\u\\\\u\", \"\\\\u\")\n",
    "        .replace(\"agrave\", \"à\")\n",
    "        .replace(\"aacute\", \"á\")\n",
    "        .replace(\"egrave\", \"è\")\n",
    "        .replace(\"eacute\", \"é\")\n",
    "        .replace(\"oacute\", \"ó\")\n",
    "        .replace(\"ograve\", \"ò\")\n",
    "        .replace(\"uacute\", \"ú\")\n",
    "        .replace(\"ugrave\", \"ù\")\n",
    "    )\n",
    "\n",
    "    text = re.sub(r\"(\\d{4})(\\d{4})\", r\"\\1-\\2\", text)\n",
    "\n",
    "    text = re.sub(r\" +\", \" \", text).strip()\n",
    "\n",
    "    if text[-2:] == \"..\":\n",
    "        text = text[:-1]\n",
    "\n",
    "    text = text[0].upper() + text[1:]\n",
    "\n",
    "    if text and not re.search(r\"[.!?]$\", text):\n",
    "        text += \".\"\n",
    "\n",
    "    return text"
   ]
  },
  {
   "cell_type": "code",
   "execution_count": null,
   "id": "4e545b93",
   "metadata": {},
   "outputs": [],
   "source": [
    "for annotation_index in range(len(annotations)):\n",
    "    for obj, desc in annotations[annotation_index][\"objects\"].items():\n",
    "        if len(desc) > 0:\n",
    "            cleaned_desc = clean_and_format_text(remove_brackets_and_backslash(remove_explicit_errors(replace_hex_with_escaped_unicode(desc))))\n",
    "        else:\n",
    "            cleaned_desc = desc\n",
    "\n",
    "        annotations[annotation_index][\"objects\"][obj] = {\"description\": cleaned_desc, \"bounding_boxes\": []}\n",
    "\n",
    "    for bbox in annotations[annotation_index][\"bounding_boxes\"]:\n",
    "        annotations[annotation_index][\"objects\"][bbox[0]][\"bounding_boxes\"].append(\n",
    "            [bbox[1], bbox[2]]\n",
    "        )\n",
    "\n",
    "    del annotations[annotation_index][\"bounding_boxes\"]"
   ]
  },
  {
   "cell_type": "code",
   "execution_count": null,
   "id": "8b5e96ee",
   "metadata": {},
   "outputs": [],
   "source": [
    "for index in tqdm(range(len(paintings_data))):\n",
    "    painting_id = paintings_data[index][\"id\"]\n",
    "\n",
    "    found_objects = False\n",
    "    for annotation in annotations:\n",
    "        if annotation[\"painting_id\"] == painting_id:\n",
    "            paintings_data[index][\"objects\"] = annotation[\"objects\"]\n",
    "            found_objects = True\n",
    "            break\n",
    "\n",
    "    if not found_objects:\n",
    "        paintings_data[index][\"objects\"] = []"
   ]
  },
  {
   "cell_type": "code",
   "execution_count": null,
   "id": "43a6625c",
   "metadata": {},
   "outputs": [],
   "source": [
    "with open(f\"{PROCESSED_DATA_PATH}paintings_with_all_objects.json\", \"w\") as f:\n",
    "    json.dump(paintings_data, f, indent=4)"
   ]
  },
  {
   "cell_type": "markdown",
   "id": "983803d1",
   "metadata": {},
   "source": [
    "### 2. Create the second version of the dataset with objects with bboxes and descriptions"
   ]
  },
  {
   "cell_type": "code",
   "execution_count": null,
   "id": "ed42ac91",
   "metadata": {},
   "outputs": [],
   "source": [
    "filtered_paintings_data = []\n",
    "\n",
    "for index in range(len(paintings_data)):\n",
    "    if len(paintings_data[index][\"objects\"]) == 0:\n",
    "        continue\n",
    "\n",
    "    filtered_objects = {}\n",
    "\n",
    "    for obj, obj_data in paintings_data[index][\"objects\"].items():\n",
    "        if len(obj_data[\"description\"]) != 0 and len(obj_data[\"bounding_boxes\"]) != 0:\n",
    "            filtered_objects[obj] = obj_data\n",
    "\n",
    "    if len(filtered_objects) != 0:\n",
    "        paintings_data[index][\"objects\"] = filtered_objects\n",
    "        filtered_paintings_data.append(paintings_data[index])"
   ]
  },
  {
   "cell_type": "markdown",
   "id": "a75f7011",
   "metadata": {},
   "source": [
    "#### 2.1. Remove duplicated object descriptions"
   ]
  },
  {
   "cell_type": "code",
   "execution_count": null,
   "id": "36f6cfad",
   "metadata": {},
   "outputs": [],
   "source": [
    "# get the non-unique descriptions\n",
    "object_descriptions = []\n",
    "\n",
    "for painting_data in filtered_paintings_data:\n",
    "    for obj, obj_data in painting_data[\"objects\"].items():\n",
    "        object_descriptions.append(obj_data[\"description\"])\n",
    "\n",
    "duplicates = Counter(object_descriptions)\n",
    "duplicated_object_descriptions = []\n",
    "\n",
    "for obj_description, freq in duplicates.items():\n",
    "    if freq > 1:\n",
    "        duplicated_object_descriptions.append(obj_description)\n",
    "\n",
    "print(\n",
    "    f\"Number of duplicated descriptions that have to be removed: {len(object_descriptions) - len(set(object_descriptions))} \"\n",
    ")\n",
    "print(\n",
    "    f\"Number of unique descriptions that appear more than once: {len(duplicated_object_descriptions)}\"\n",
    ")"
   ]
  },
  {
   "cell_type": "code",
   "execution_count": null,
   "id": "1dbbae0d",
   "metadata": {},
   "outputs": [],
   "source": [
    "# among duplicated descriptions, keep only the one with the largest min bbox probability\n",
    "duplicated_object_descriptions_data = {}\n",
    "\n",
    "for painting_data in filtered_paintings_data:\n",
    "    for obj, obj_data in painting_data[\"objects\"].items():\n",
    "        if obj_data[\"description\"] in duplicated_object_descriptions:\n",
    "            obj_description = obj_data[\"description\"]\n",
    "            min_bbox_prob = min([bbox[0] for bbox in obj_data[\"bounding_boxes\"]])\n",
    "\n",
    "            if (\n",
    "                obj_description in duplicated_object_descriptions_data.keys()\n",
    "                and min_bbox_prob > duplicated_object_descriptions_data[obj_description][-1]\n",
    "            ) or (obj_description not in duplicated_object_descriptions_data.keys()):\n",
    "                duplicated_object_descriptions_data[obj_description] = [\n",
    "                    painting_data[\"id\"],\n",
    "                    obj,\n",
    "                    min_bbox_prob,\n",
    "                ]"
   ]
  },
  {
   "cell_type": "code",
   "execution_count": null,
   "id": "b4c9905e",
   "metadata": {},
   "outputs": [],
   "source": [
    "filtered_paintings_data_wo_duplicates = []\n",
    "\n",
    "for painting_index in range(len(filtered_paintings_data)):\n",
    "    kept_objects = {}\n",
    "\n",
    "    for obj, obj_data in filtered_paintings_data[painting_index][\"objects\"].items():\n",
    "        if (\n",
    "            obj_data[\"description\"] in duplicated_object_descriptions_data.keys()\n",
    "            and duplicated_object_descriptions_data[obj_data[\"description\"]][0]\n",
    "            == filtered_paintings_data[painting_index][\"id\"]\n",
    "            and duplicated_object_descriptions_data[obj_data[\"description\"]][1] == obj\n",
    "            and duplicated_object_descriptions_data[obj_data[\"description\"]][2]\n",
    "            == min([bbox[0] for bbox in obj_data[\"bounding_boxes\"]])\n",
    "        ) or obj_data[\"description\"] not in duplicated_object_descriptions_data.keys():\n",
    "            kept_objects[obj] = obj_data\n",
    "\n",
    "    if len(kept_objects) != 0:\n",
    "        filtered_paintings_data[painting_index][\"objects\"] = kept_objects\n",
    "        filtered_paintings_data_wo_duplicates.append(filtered_paintings_data[painting_index])"
   ]
  },
  {
   "cell_type": "code",
   "execution_count": null,
   "id": "d0f28df4",
   "metadata": {},
   "outputs": [],
   "source": [
    "object_descriptions = []\n",
    "\n",
    "for painting_data in filtered_paintings_data_wo_duplicates:\n",
    "    for obj, obj_data in painting_data[\"objects\"].items():\n",
    "        object_descriptions.append(obj_data[\"description\"])\n",
    "\n",
    "duplicates = Counter(object_descriptions)\n",
    "duplicated_object_descriptions = []\n",
    "\n",
    "for obj_description, freq in duplicates.items():\n",
    "    if freq > 1:\n",
    "        duplicated_object_descriptions.append(obj_description)\n",
    "\n",
    "print(\n",
    "    f\"Number of duplicated descriptions that have to be removed: {len(object_descriptions) - len(set(object_descriptions))} \"\n",
    ")\n",
    "print(\n",
    "    f\"Number of unique descriptions that appear more than once: {len(duplicated_object_descriptions)}\"\n",
    ")\n",
    "print(f\"Number of paintings removed: {len(filtered_paintings_data) - len(filtered_paintings_data_wo_duplicates)}\")"
   ]
  },
  {
   "cell_type": "code",
   "execution_count": null,
   "id": "e9210134",
   "metadata": {},
   "outputs": [],
   "source": [
    "with open(f\"{PROCESSED_DATA_PATH}paintings_with_filtered_objects.json\", \"w\") as f:\n",
    "    json.dump(filtered_paintings_data_wo_duplicates, f, indent=4)"
   ]
  }
 ],
 "metadata": {
  "kernelspec": {
   "display_name": "enhance_vg",
   "language": "python",
   "name": "python3"
  },
  "language_info": {
   "codemirror_mode": {
    "name": "ipython",
    "version": 3
   },
   "file_extension": ".py",
   "mimetype": "text/x-python",
   "name": "python",
   "nbconvert_exporter": "python",
   "pygments_lexer": "ipython3",
   "version": "3.12.3"
  }
 },
 "nbformat": 4,
 "nbformat_minor": 5
}
