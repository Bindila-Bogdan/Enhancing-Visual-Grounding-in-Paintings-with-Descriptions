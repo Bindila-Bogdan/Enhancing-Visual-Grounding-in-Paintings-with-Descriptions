{
 "cells": [
  {
   "cell_type": "markdown",
   "id": "1f86d5eb",
   "metadata": {},
   "source": [
    "# Merge annotations\n",
    "This notebook is used to place all annotations in one json file."
   ]
  },
  {
   "cell_type": "markdown",
   "id": "29f1623e",
   "metadata": {},
   "source": [
    "### 0. Import libraries and load data"
   ]
  },
  {
   "cell_type": "code",
   "execution_count": null,
   "id": "f608cac8",
   "metadata": {},
   "outputs": [],
   "source": [
    "import os\n",
    "import re\n",
    "import json \n",
    "\n",
    "ANNOTATIONS_PATH = \"../../data/annotations/\""
   ]
  },
  {
   "cell_type": "code",
   "execution_count": null,
   "id": "0612e505",
   "metadata": {},
   "outputs": [],
   "source": [
    "regex_pattern = r\"^annotations_.*\\.json$\"\n",
    "annotation_chunks = []\n",
    "\n",
    "for filename in os.listdir(ANNOTATIONS_PATH):\n",
    "    if filename in \"annotations_0_610.json\":\n",
    "        continue\n",
    "    \n",
    "    if re.match(regex_pattern, filename):\n",
    "        with open(f\"{ANNOTATIONS_PATH}{filename}\", \"r\") as f:\n",
    "            annotation_chunks.append(json.load(f))"
   ]
  },
  {
   "cell_type": "markdown",
   "id": "dd0e5587",
   "metadata": {},
   "source": [
    "### 1. Analyze results of the first trial"
   ]
  },
  {
   "cell_type": "code",
   "execution_count": null,
   "id": "72b79e9e",
   "metadata": {},
   "outputs": [],
   "source": [
    "paintings_ids_unprocessed = []\n",
    "paintings_ids_to_check = []\n",
    "paintings_ids_wo_objects = []"
   ]
  },
  {
   "cell_type": "code",
   "execution_count": null,
   "id": "011eb9f8",
   "metadata": {},
   "outputs": [],
   "source": [
    "for annotation_chunk in annotation_chunks:\n",
    "    paintings_ids_unprocessed.extend(annotation_chunk[\"paintings_ids_unprocessed\"])\n",
    "    paintings_ids_to_check.extend(annotation_chunk[\"paintings_ids_to_check\"])\n",
    "    paintings_ids_wo_objects.extend(annotation_chunk[\"paintings_ids_wo_objects\"])"
   ]
  },
  {
   "cell_type": "code",
   "execution_count": null,
   "id": "ccc983f1",
   "metadata": {},
   "outputs": [],
   "source": [
    "indices = list(set(paintings_ids_unprocessed + paintings_ids_to_check))\n",
    "print(f\"The number of paintings for which the annotator did not work correctly: {len(set(paintings_ids_unprocessed))}\")\n",
    "print(f\"The number of paintings for which the judhe did not work correctly: {len(set(paintings_ids_to_check))}\")\n",
    "print(f\"The number of paintings without objects: {len(set(paintings_ids_wo_objects))}\")"
   ]
  },
  {
   "cell_type": "markdown",
   "id": "484b472b",
   "metadata": {},
   "source": [
    "### 2. Analyze results of the second trial\n",
    "The paintings for which the annotator / judge initially failed, were processed again."
   ]
  },
  {
   "cell_type": "code",
   "execution_count": null,
   "id": "19897f8a",
   "metadata": {},
   "outputs": [],
   "source": [
    "with open(f\"{ANNOTATIONS_PATH}annotations_0_610.json\", \"r\") as f:\n",
    "    second_trial_annotations = json.load(f)\n",
    "\n",
    "paintings_ids_unprocessed2 = set(second_trial_annotations[\"paintings_ids_unprocessed\"])\n",
    "paintings_ids_to_check2 = set(second_trial_annotations[\"paintings_ids_to_check\"])\n",
    "paintings_ids_wo_objects2 = set(paintings_ids_wo_objects).union(set(second_trial_annotations[\"paintings_ids_wo_objects\"]))"
   ]
  },
  {
   "cell_type": "code",
   "execution_count": null,
   "id": "c1666ac4",
   "metadata": {},
   "outputs": [],
   "source": [
    "annotation_chunks.append(second_trial_annotations)\n",
    "all_annotations = []\n",
    "\n",
    "for current_annotations in annotation_chunks:\n",
    "    all_annotations.extend(current_annotations[\"annotations\"])\n",
    "\n",
    "seen_ids = set()\n",
    "unique_annotations = []\n",
    "\n",
    "for annotation in all_annotations:\n",
    "    painting_id = annotation.get(\"painting_id\")\n",
    "    if painting_id not in seen_ids:\n",
    "        seen_ids.add(painting_id)\n",
    "        unique_annotations.append(annotation)"
   ]
  },
  {
   "cell_type": "code",
   "execution_count": null,
   "id": "a31ceffd",
   "metadata": {},
   "outputs": [],
   "source": [
    "assert len(unique_annotations) + len(paintings_ids_unprocessed2) + len(paintings_ids_wo_objects2) == 12078\n",
    "print(f\"The final number of paintings for which the annotator did not work correctly: {len(paintings_ids_unprocessed2)}\")\n",
    "print(f\"The final number of paintings for which the judge did not work correctly: {len(paintings_ids_to_check2)}\")\n",
    "print(f\"The final number of paitings without objects: {len(paintings_ids_wo_objects2)}\")\n",
    "print(f\"The final number of of annotated paintings: {len(unique_annotations)}\")"
   ]
  },
  {
   "cell_type": "markdown",
   "id": "3adada85",
   "metadata": {},
   "source": [
    "### 3. Store results"
   ]
  },
  {
   "cell_type": "code",
   "execution_count": null,
   "id": "6f0b051c",
   "metadata": {},
   "outputs": [],
   "source": [
    "with open(f\"{ANNOTATIONS_PATH}unfiltered_annotations.json\", \"w\") as f:\n",
    "    json.dump(unique_annotations, f, indent=4)"
   ]
  }
 ],
 "metadata": {
  "kernelspec": {
   "display_name": "enhance_vg",
   "language": "python",
   "name": "python3"
  },
  "language_info": {
   "codemirror_mode": {
    "name": "ipython",
    "version": 3
   },
   "file_extension": ".py",
   "mimetype": "text/x-python",
   "name": "python",
   "nbconvert_exporter": "python",
   "pygments_lexer": "ipython3",
   "version": "3.12.3"
  }
 },
 "nbformat": 4,
 "nbformat_minor": 5
}
