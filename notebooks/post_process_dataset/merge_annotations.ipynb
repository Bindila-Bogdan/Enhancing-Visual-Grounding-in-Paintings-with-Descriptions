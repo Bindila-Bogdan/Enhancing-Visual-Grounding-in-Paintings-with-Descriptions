{
 "cells": [
  {
   "cell_type": "markdown",
   "id": "1f86d5eb",
   "metadata": {},
   "source": [
    "# Merge annotations\n",
    "This notebook is used to place all annotations in one json file."
   ]
  },
  {
   "cell_type": "markdown",
   "id": "29f1623e",
   "metadata": {},
   "source": [
    "### 0. Import libraries and load data"
   ]
  },
  {
   "cell_type": "code",
   "execution_count": null,
   "id": "f608cac8",
   "metadata": {},
   "outputs": [],
   "source": [
    "import os\n",
    "import re\n",
    "import json\n",
    "import numpy as np\n",
    "import polars as pl\n",
    "from tqdm import tqdm\n",
    "from collections import Counter\n",
    "from transformers import AutoTokenizer\n",
    "\n",
    "ANNOTATIONS_PATH = \"../../data/annotations/\"\n",
    "INTERMEDIATE_DATA_PATH = \"../../data/intermediate/filtered_paintings/\""
   ]
  },
  {
   "cell_type": "code",
   "execution_count": null,
   "id": "0612e505",
   "metadata": {},
   "outputs": [],
   "source": [
    "regex_pattern = r\"^annotations_.*\\.json$\"\n",
    "annotation_chunks = []\n",
    "\n",
    "for filename in os.listdir(ANNOTATIONS_PATH):\n",
    "    if filename in \"annotations_0_610.json\":\n",
    "        continue\n",
    "\n",
    "    if re.match(regex_pattern, filename):\n",
    "        with open(f\"{ANNOTATIONS_PATH}{filename}\", \"r\") as f:\n",
    "            annotation_chunks.append(json.load(f))"
   ]
  },
  {
   "cell_type": "markdown",
   "id": "dd0e5587",
   "metadata": {},
   "source": [
    "### 1. Analyze results of the first trial"
   ]
  },
  {
   "cell_type": "code",
   "execution_count": null,
   "id": "72b79e9e",
   "metadata": {},
   "outputs": [],
   "source": [
    "paintings_ids_unprocessed = []\n",
    "paintings_ids_to_check = []\n",
    "paintings_ids_wo_objects = []"
   ]
  },
  {
   "cell_type": "code",
   "execution_count": null,
   "id": "011eb9f8",
   "metadata": {},
   "outputs": [],
   "source": [
    "for annotation_chunk in annotation_chunks:\n",
    "    paintings_ids_unprocessed.extend(annotation_chunk[\"paintings_ids_unprocessed\"])\n",
    "    paintings_ids_to_check.extend(annotation_chunk[\"paintings_ids_to_check\"])\n",
    "    paintings_ids_wo_objects.extend(annotation_chunk[\"paintings_ids_wo_objects\"])"
   ]
  },
  {
   "cell_type": "code",
   "execution_count": null,
   "id": "ccc983f1",
   "metadata": {},
   "outputs": [],
   "source": [
    "indices = list(set(paintings_ids_unprocessed + paintings_ids_to_check))\n",
    "print(\n",
    "    f\"The number of paintings for which the annotator did not work correctly: {len(set(paintings_ids_unprocessed))}\"\n",
    ")\n",
    "print(\n",
    "    f\"The number of paintings for which the judge did not work correctly: {len(set(paintings_ids_to_check))}\"\n",
    ")\n",
    "print(f\"The number of paintings without objects: {len(set(paintings_ids_wo_objects))}\")"
   ]
  },
  {
   "cell_type": "markdown",
   "id": "484b472b",
   "metadata": {},
   "source": [
    "### 2. Analyze results of the second trial\n",
    "The paintings for which the annotator / judge initially failed, were processed again."
   ]
  },
  {
   "cell_type": "code",
   "execution_count": null,
   "id": "19897f8a",
   "metadata": {},
   "outputs": [],
   "source": [
    "with open(f\"{ANNOTATIONS_PATH}annotations_0_610.json\", \"r\") as f:\n",
    "    second_trial_annotations = json.load(f)\n",
    "\n",
    "paintings_ids_unprocessed2 = set(second_trial_annotations[\"paintings_ids_unprocessed\"])\n",
    "paintings_ids_to_check2 = set(second_trial_annotations[\"paintings_ids_to_check\"])\n",
    "paintings_ids_wo_objects2 = set(paintings_ids_wo_objects).union(\n",
    "    set(second_trial_annotations[\"paintings_ids_wo_objects\"])\n",
    ")"
   ]
  },
  {
   "cell_type": "code",
   "execution_count": null,
   "id": "1048da17",
   "metadata": {},
   "outputs": [],
   "source": [
    "annotation_chunks.append(second_trial_annotations)\n",
    "all_annotations = []\n",
    "\n",
    "for current_annotations in annotation_chunks:\n",
    "    all_annotations.extend(current_annotations[\"annotations\"])\n",
    "\n",
    "painting_ids_incorrect_judgements = set()\n",
    "\n",
    "for annotation in all_annotations:\n",
    "    desc = [desc[-1] for desc in annotation[\"objects\"].values() if desc[-1] != \"\"]\n",
    "    if not (\n",
    "        len(desc)\n",
    "        == len(annotation[\"description_judgement\"][\"factual_accuracy\"])\n",
    "        == len(annotation[\"description_judgement\"][\"coherence\"])\n",
    "        == len(annotation[\"description_judgement\"][\"completeness\"])\n",
    "        == len(annotation[\"description_judgement\"][\"grounding_potential\"])\n",
    "    ):\n",
    "        painting_ids_incorrect_judgements.add(annotation[\"painting_id\"])"
   ]
  },
  {
   "cell_type": "code",
   "execution_count": null,
   "id": "c1666ac4",
   "metadata": {},
   "outputs": [],
   "source": [
    "seen_ids = set()\n",
    "unique_annotations = []\n",
    "\n",
    "for annotation in all_annotations:\n",
    "    painting_id = annotation.get(\"painting_id\")\n",
    "\n",
    "    if painting_id not in seen_ids and painting_id not in painting_ids_incorrect_judgements:\n",
    "        seen_ids.add(painting_id)\n",
    "        unique_annotations.append(annotation)"
   ]
  },
  {
   "cell_type": "code",
   "execution_count": null,
   "id": "a31ceffd",
   "metadata": {},
   "outputs": [],
   "source": [
    "print(\n",
    "    f\"The final number of paintings for which the annotator did not work correctly: {len(paintings_ids_unprocessed2)} ({len(paintings_ids_unprocessed2) / 12078 * 100}%)\"\n",
    ")\n",
    "print(\n",
    "    f\"The final number of paintings for which the judge did not work correctly: {len(painting_ids_incorrect_judgements)} ({len(painting_ids_incorrect_judgements) / 12078 * 100}%)\"\n",
    ")\n",
    "print(\n",
    "    f\"The final number of paintings without objects: {len(paintings_ids_wo_objects2)} ({len(paintings_ids_wo_objects2) / 12078 * 100}%)\"\n",
    ")\n",
    "print(\n",
    "    f\"The final number of of annotated paintings: {len(unique_annotations)} ({len(unique_annotations) / 12078 * 100}%)\"\n",
    ")"
   ]
  },
  {
   "cell_type": "markdown",
   "id": "328f400f",
   "metadata": {},
   "source": [
    "#### 2.1. Analyze the cause of unprocessed paintings"
   ]
  },
  {
   "cell_type": "code",
   "execution_count": null,
   "id": "b17f0a28",
   "metadata": {},
   "outputs": [],
   "source": [
    "unprocessed_paintings = pl.read_json(f\"{INTERMEDIATE_DATA_PATH}filtered_paintings_enhanced_data.json\").filter(pl.col(\"id\").is_in(paintings_ids_unprocessed2))\n",
    "unprocessed_paintings"
   ]
  },
  {
   "cell_type": "code",
   "execution_count": null,
   "id": "b75c83b1",
   "metadata": {},
   "outputs": [],
   "source": [
    "# the large majority of unprocessed paintings are from MET\n",
    "unprocessed_paintings[\"source\"].value_counts().sort(\"count\", descending=True)"
   ]
  },
  {
   "cell_type": "code",
   "execution_count": null,
   "id": "e7c7a8df",
   "metadata": {},
   "outputs": [],
   "source": [
    "desc_length = []\n",
    "for desc in unprocessed_paintings[\"description\"].to_list():\n",
    "    desc_length.append(len(desc.split(\" \")))\n",
    "\n",
    "np.percentile(np.array(desc_length), 50)"
   ]
  },
  {
   "cell_type": "code",
   "execution_count": null,
   "id": "7657434d",
   "metadata": {},
   "outputs": [],
   "source": [
    "def print_description(description, words_per_line=15):   \n",
    "    description_words = description.replace(\"\\n\", \" \").split(\" \")\n",
    "\n",
    "    for i in range(0, len(description_words), words_per_line):\n",
    "        line = \" \".join(description_words[i:i + words_per_line])\n",
    "        print(line)"
   ]
  },
  {
   "cell_type": "code",
   "execution_count": null,
   "id": "a73b6ef1",
   "metadata": {},
   "outputs": [],
   "source": [
    "# the paintings that failed to be annotated have either description which do not present the painting or very long descriptions\n",
    "for index in range(10):\n",
    "    print(unprocessed_paintings[index][\"id\"][0])\n",
    "    print_description(unprocessed_paintings[index][\"description\"][0])\n",
    "    print(128 * \"-\")"
   ]
  },
  {
   "cell_type": "markdown",
   "id": "3adada85",
   "metadata": {},
   "source": [
    "### 3. Store results"
   ]
  },
  {
   "cell_type": "code",
   "execution_count": null,
   "id": "6f0b051c",
   "metadata": {},
   "outputs": [],
   "source": [
    "with open(f\"{ANNOTATIONS_PATH}unfiltered_annotations.json\", \"w\") as f:\n",
    "    json.dump(unique_annotations, f, indent=4)"
   ]
  },
  {
   "cell_type": "code",
   "execution_count": null,
   "id": "149927df",
   "metadata": {},
   "outputs": [],
   "source": [
    "sum([len(annotation[\"objects\"]) for annotation in unique_annotations])"
   ]
  },
  {
   "cell_type": "code",
   "execution_count": null,
   "id": "36aed588",
   "metadata": {},
   "outputs": [],
   "source": [
    "objects = []\n",
    "\n",
    "_ = [objects.extend(list(annotation[\"objects\"].keys())) for annotation in unique_annotations]\n",
    "Counter(objects)"
   ]
  },
  {
   "cell_type": "code",
   "execution_count": null,
   "id": "e74549f0",
   "metadata": {},
   "outputs": [],
   "source": [
    "sum([len(annotation[\"bounding_boxes\"]) for annotation in unique_annotations])"
   ]
  },
  {
   "cell_type": "code",
   "execution_count": null,
   "id": "6fc660a0",
   "metadata": {},
   "outputs": [],
   "source": [
    "object_descriptions = []\n",
    "\n",
    "_ = [\n",
    "    object_descriptions.extend([objects[-1] for objects in list(annotation[\"objects\"].values())])\n",
    "    for annotation in unique_annotations\n",
    "]"
   ]
  },
  {
   "cell_type": "code",
   "execution_count": null,
   "id": "07fde50d",
   "metadata": {},
   "outputs": [],
   "source": [
    "len(set(object_descriptions))"
   ]
  },
  {
   "cell_type": "code",
   "execution_count": null,
   "id": "97991008",
   "metadata": {},
   "outputs": [],
   "source": [
    "tokenizer = AutoTokenizer.from_pretrained(\"bert-base-uncased\")"
   ]
  },
  {
   "cell_type": "code",
   "execution_count": null,
   "id": "dd4129c9",
   "metadata": {},
   "outputs": [],
   "source": [
    "descriptions_num_tokens = []\n",
    "\n",
    "for object_description in tqdm(object_descriptions):\n",
    "    tokens = tokenizer.tokenize(object_description)\n",
    "    descriptions_num_tokens.append(len(tokens))"
   ]
  },
  {
   "cell_type": "code",
   "execution_count": null,
   "id": "72130dae",
   "metadata": {},
   "outputs": [],
   "source": [
    "max(descriptions_num_tokens)"
   ]
  },
  {
   "cell_type": "code",
   "execution_count": null,
   "id": "7724701c",
   "metadata": {},
   "outputs": [],
   "source": [
    "import plotly.graph_objects as go\n",
    "\n",
    "# Create a Box trace\n",
    "box_trace = go.Box(x=descriptions_num_tokens, name=\"My Data\")\n",
    "\n",
    "# Create a Figure and add the trace\n",
    "fig = go.Figure(box_trace)\n",
    "\n",
    "# Customize the layout (optional)\n",
    "fig.update_layout(\n",
    "    title=\"Box Plot of My Data\",\n",
    "    yaxis_title=\"Values\",\n",
    "    showlegend=False,  # Often not needed for a single box plot\n",
    ")\n",
    "\n",
    "# Show the plot\n",
    "fig.show()"
   ]
  },
  {
   "cell_type": "code",
   "execution_count": null,
   "id": "704eaeee",
   "metadata": {},
   "outputs": [],
   "source": [
    "import numpy as np"
   ]
  },
  {
   "cell_type": "code",
   "execution_count": null,
   "id": "9bbabe22",
   "metadata": {},
   "outputs": [],
   "source": [
    "np.percentile(np.array(descriptions_num_tokens), 99.5)"
   ]
  },
  {
   "cell_type": "code",
   "execution_count": null,
   "id": "e600fdcd",
   "metadata": {},
   "outputs": [],
   "source": [
    "len(np.where(np.array(descriptions_num_tokens) > 256)[0])"
   ]
  }
 ],
 "metadata": {
  "kernelspec": {
   "display_name": "enhance_vg",
   "language": "python",
   "name": "python3"
  },
  "language_info": {
   "codemirror_mode": {
    "name": "ipython",
    "version": 3
   },
   "file_extension": ".py",
   "mimetype": "text/x-python",
   "name": "python",
   "nbconvert_exporter": "python",
   "pygments_lexer": "ipython3",
   "version": "3.12.3"
  }
 },
 "nbformat": 4,
 "nbformat_minor": 5
}
