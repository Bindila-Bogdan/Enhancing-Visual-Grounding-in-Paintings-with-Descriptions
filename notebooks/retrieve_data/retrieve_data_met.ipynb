{
 "cells": [
  {
   "cell_type": "code",
   "execution_count": null,
   "metadata": {},
   "outputs": [],
   "source": [
    "import os\n",
    "import json\n",
    "import requests\n",
    "import polars as pl\n",
    "from PIL import Image\n",
    "from io import BytesIO\n",
    "from tqdm import tqdm\n",
    "from bs4 import BeautifulSoup"
   ]
  },
  {
   "cell_type": "code",
   "execution_count": null,
   "metadata": {},
   "outputs": [],
   "source": [
    "DATA_PATH = \"../../data/raw/\""
   ]
  },
  {
   "cell_type": "code",
   "execution_count": null,
   "metadata": {},
   "outputs": [],
   "source": [
    "try:\n",
    "    os.mkdir(DATA_PATH + \"met_paintings/\")\n",
    "except FileExistsError:\n",
    "    pass"
   ]
  },
  {
   "cell_type": "code",
   "execution_count": null,
   "metadata": {},
   "outputs": [],
   "source": [
    "met_data = pl.read_csv(DATA_PATH + \"met_objects.csv\", ignore_errors=True)\n",
    "met_data.head()"
   ]
  },
  {
   "cell_type": "code",
   "execution_count": null,
   "metadata": {},
   "outputs": [],
   "source": [
    "met_european_paintings = met_data.filter((pl.col(\"Department\") == \"European Paintings\") & (pl.col(\"Is Public Domain\") == True) & (pl.col(\"Object End Date\") > 1201) & (pl.col(\"Object End Date\") < 2001))\n",
    "european_paintings_urls = met_european_paintings[[\"Title\", \"Artist Display Name\", \"Object End Date\", \"Link Resource\"]].to_numpy()\n",
    "european_paintings_urls"
   ]
  },
  {
   "cell_type": "code",
   "execution_count": null,
   "metadata": {},
   "outputs": [],
   "source": [
    "paintings_data = []\n",
    "\n",
    "for painting_id, (title, artist, year, painting_url) in enumerate(tqdm(european_paintings_urls[:5])):\n",
    "    # Send a request to the page\n",
    "    response = requests.get(painting_url)\n",
    "    response.raise_for_status()  # Check if the request was successful\n",
    "\n",
    "    description = \"\"\n",
    "\n",
    "    # Parse the page content\n",
    "    soup = BeautifulSoup(response.text, \"html.parser\")\n",
    "    brief_description = soup.find(\"div\", {\"class\": \"artwork__intro__desc js-artwork__intro__desc\"}).get_text().strip()\n",
    "\n",
    "    if len(brief_description) > 0:\n",
    "        description += brief_description + \"\\n\"\n",
    "\n",
    "    try:\n",
    "        catalog_entry = (\n",
    "            soup.find(\"section\", {\"id\": \"catalogue-entry\"})\n",
    "            .find(\"div\", class_=\"show-more__body js-show-more__body\")\n",
    "            .get_text()\n",
    "            .strip()\n",
    "        )\n",
    "        description += catalog_entry\n",
    "    except AttributeError:\n",
    "        pass\n",
    "\n",
    "    if len(description) > 0:\n",
    "        image_url = soup.find(\"meta\", {\"property\": \"og:image\"})[\"content\"]\n",
    "        image = requests.get(image_url).content\n",
    "\n",
    "        paintings_data.append({\"id\": painting_id, \"title\": title, \"artist\": artist, \"year\": year, \"description\": description})\n",
    "\n",
    "        with open(DATA_PATH + f'{painting_id}.png', 'wb') as handler:\n",
    "            handler.write(image)"
   ]
  },
  {
   "cell_type": "code",
   "execution_count": null,
   "metadata": {},
   "outputs": [],
   "source": [
    "with open(DATA_PATH + \"met_paintings_data.json\", 'w') as json_file:\n",
    "    json.dump(paintings_data, json_file, indent=4)  "
   ]
  },
  {
   "cell_type": "code",
   "execution_count": null,
   "metadata": {},
   "outputs": [],
   "source": [
    "Image.open(BytesIO(image))"
   ]
  }
 ],
 "metadata": {
  "kernelspec": {
   "display_name": "enhance_vg",
   "language": "python",
   "name": "python3"
  },
  "language_info": {
   "codemirror_mode": {
    "name": "ipython",
    "version": 3
   },
   "file_extension": ".py",
   "mimetype": "text/x-python",
   "name": "python",
   "nbconvert_exporter": "python",
   "pygments_lexer": "ipython3",
   "version": "3.12.3"
  }
 },
 "nbformat": 4,
 "nbformat_minor": 2
}
