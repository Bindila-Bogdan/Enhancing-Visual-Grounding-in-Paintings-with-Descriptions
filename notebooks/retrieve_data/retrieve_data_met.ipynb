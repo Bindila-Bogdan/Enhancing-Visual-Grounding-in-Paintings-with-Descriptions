{
 "cells": [
  {
   "cell_type": "markdown",
   "metadata": {},
   "source": [
    "# Retrieve paintings and their descriptions from MET\n",
    "This notebook retrieves European paintings and their descriptions from the Metropolitan Museum of Art from the period 13th-20th century."
   ]
  },
  {
   "cell_type": "markdown",
   "metadata": {},
   "source": [
    "### 0. Import libraries"
   ]
  },
  {
   "cell_type": "code",
   "execution_count": null,
   "metadata": {},
   "outputs": [],
   "source": [
    "import os\n",
    "import json\n",
    "import requests\n",
    "import polars as pl\n",
    "from tqdm import tqdm\n",
    "from PIL import Image\n",
    "from io import BytesIO\n",
    "from bs4 import BeautifulSoup"
   ]
  },
  {
   "cell_type": "markdown",
   "metadata": {},
   "source": [
    "### 1. Load data"
   ]
  },
  {
   "cell_type": "code",
   "execution_count": null,
   "metadata": {},
   "outputs": [],
   "source": [
    "DATA_PATH = \"../../data/raw/\""
   ]
  },
  {
   "cell_type": "code",
   "execution_count": null,
   "metadata": {},
   "outputs": [],
   "source": [
    "try:\n",
    "    os.mkdir(DATA_PATH + \"met_paintings/\")\n",
    "except FileExistsError:\n",
    "    pass"
   ]
  },
  {
   "cell_type": "code",
   "execution_count": null,
   "metadata": {},
   "outputs": [],
   "source": [
    "data = pl.read_csv(DATA_PATH + \"met_objects.csv\", ignore_errors=True)\n",
    "data.head()"
   ]
  },
  {
   "cell_type": "code",
   "execution_count": null,
   "metadata": {},
   "outputs": [],
   "source": [
    "european_paintings = data.filter(\n",
    "    (pl.col(\"Department\") == \"European Paintings\")\n",
    "    & (pl.col(\"Is Public Domain\") == True)\n",
    "    & (pl.col(\"Object End Date\") >= 1201)\n",
    "    & (pl.col(\"Object End Date\") < 2001)\n",
    ")\n",
    "\n",
    "european_paintings_details = european_paintings[\n",
    "    [\"Title\", \"Artist Display Name\", \"Object End Date\", \"Link Resource\"]\n",
    "].to_numpy()\n",
    "european_paintings_details"
   ]
  },
  {
   "cell_type": "code",
   "execution_count": null,
   "metadata": {},
   "outputs": [],
   "source": [
    "paintings_data = []\n",
    "\n",
    "for painting_id, (title, artist, year, painting_url) in enumerate(tqdm(european_paintings_details)):\n",
    "    response = requests.get(painting_url)\n",
    "    response.raise_for_status()\n",
    "\n",
    "    description = \"\"\n",
    "\n",
    "    soup = BeautifulSoup(response.text, \"html.parser\")\n",
    "    brief_description = (\n",
    "        soup.find(\"div\", {\"class\": \"artwork__intro__desc js-artwork__intro__desc\"})\n",
    "        .get_text()\n",
    "        .strip()\n",
    "    )\n",
    "\n",
    "    if len(brief_description) > 0:\n",
    "        description += brief_description + \"\\n\"\n",
    "\n",
    "    try:\n",
    "        catalog_entry = (\n",
    "            soup.find(\"section\", {\"id\": \"catalogue-entry\"})\n",
    "            .find(\"div\", class_=\"show-more__body js-show-more__body\")\n",
    "            .get_text()\n",
    "            .strip()\n",
    "        )\n",
    "        description += catalog_entry\n",
    "    except AttributeError:\n",
    "        pass\n",
    "\n",
    "    if len(description) > 0:\n",
    "        image_url = soup.find(\"meta\", {\"property\": \"og:image\"})[\"content\"]\n",
    "        image = requests.get(image_url).content\n",
    "\n",
    "        paintings_data.append(\n",
    "            {\n",
    "                \"id\": painting_id,\n",
    "                \"title\": title,\n",
    "                \"artist\": artist,\n",
    "                \"year\": year,\n",
    "                \"description\": description,\n",
    "            }\n",
    "        )\n",
    "\n",
    "        with open(DATA_PATH + \"met_paintings/\" + f\"{painting_id}.png\", \"wb\") as handler:\n",
    "            handler.write(image)\n",
    "\n",
    "        with open(DATA_PATH + \"met_paintings_data.json\", 'w') as json_file:\n",
    "            json.dump(paintings_data, json_file, indent=4)  "
   ]
  },
  {
   "cell_type": "code",
   "execution_count": null,
   "metadata": {},
   "outputs": [],
   "source": [
    "Image.open(BytesIO(image))"
   ]
  },
  {
   "cell_type": "markdown",
   "metadata": {},
   "source": [
    "the first 730 were processed"
   ]
  }
 ],
 "metadata": {
  "kernelspec": {
   "display_name": "enhance_vg",
   "language": "python",
   "name": "python3"
  },
  "language_info": {
   "codemirror_mode": {
    "name": "ipython",
    "version": 3
   },
   "file_extension": ".py",
   "mimetype": "text/x-python",
   "name": "python",
   "nbconvert_exporter": "python",
   "pygments_lexer": "ipython3",
   "version": "3.12.3"
  }
 },
 "nbformat": 4,
 "nbformat_minor": 2
}
