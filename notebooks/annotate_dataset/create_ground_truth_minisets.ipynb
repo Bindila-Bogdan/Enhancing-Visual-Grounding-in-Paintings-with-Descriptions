{
 "cells": [
  {
   "cell_type": "markdown",
   "metadata": {},
   "source": [
    "# Create ground truth miniset\n",
    "This notebook selects the paintings that will be manually annotated. They will be used to optimize and measure the performance of the prompts needed to automate the dataset annotation process."
   ]
  },
  {
   "cell_type": "markdown",
   "metadata": {},
   "source": [
    "### 0. Import libraries"
   ]
  },
  {
   "cell_type": "code",
   "execution_count": null,
   "metadata": {},
   "outputs": [],
   "source": [
    "import os\n",
    "import polars as pl\n",
    "from PIL import Image"
   ]
  },
  {
   "cell_type": "code",
   "execution_count": null,
   "metadata": {},
   "outputs": [],
   "source": [
    "RAW_DATA_PATH = \"../../data/raw/\"\n",
    "INTERMEDIATE_DATA_PATH = \"../../data/intermediate/\"\n",
    "ANNOTATIONS_DATA_PATH = \"../../data/annotations/\""
   ]
  },
  {
   "cell_type": "markdown",
   "metadata": {},
   "source": [
    "### 1. Load data"
   ]
  },
  {
   "cell_type": "code",
   "execution_count": null,
   "metadata": {},
   "outputs": [],
   "source": [
    "try:\n",
    "    os.mkdir(ANNOTATIONS_DATA_PATH)\n",
    "except FileExistsError:\n",
    "    pass"
   ]
  },
  {
   "cell_type": "code",
   "execution_count": null,
   "metadata": {},
   "outputs": [],
   "source": [
    "data = (\n",
    "    pl.read_json(\n",
    "        INTERMEDIATE_DATA_PATH + \"filtered_paintings/filtered_paintings_enhanced_data.json\"\n",
    "    )\n",
    "    .with_columns(\n",
    "        pl.col(\"description\")\n",
    "        .map_elements(lambda x: len(x.split(\" \")), return_dtype=pl.Int64)\n",
    "        .alias(\"words_no\")\n",
    "    )\n",
    "    .select(\"source\", \"coarse_type\", \"first_style\", \"words_no\", \"id\", \"description\")\n",
    "    .sample(fraction=1.0, shuffle=True)\n",
    ")\n",
    "data\n"
   ]
  },
  {
   "cell_type": "markdown",
   "metadata": {},
   "source": [
    "### 2. Select paintings for the train and val ground truth sets \n",
    "There are selected paintings considering all combinations of data source (3) and type (8). Additionally, the stratified sample includes artworks from all styles."
   ]
  },
  {
   "cell_type": "code",
   "execution_count": null,
   "metadata": {},
   "outputs": [],
   "source": [
    "source_type_pairs = (\n",
    "    data.sort(\"words_no\")\n",
    "    .group_by(\"source\", \"coarse_type\")\n",
    "    .len()\n",
    "    .sort(\"len\")\n",
    "    .select(\"source\", \"coarse_type\")\n",
    "    .to_numpy()\n",
    ")\n",
    "source_type_pairs\n"
   ]
  },
  {
   "cell_type": "code",
   "execution_count": null,
   "metadata": {},
   "outputs": [],
   "source": [
    "selected_paintings = {\"id\": [], \"source\": [], \"type\": [], \"style\": [], \"words_no\": []}\n",
    "\n",
    "for source_type in source_type_pairs:\n",
    "    source = source_type[0]\n",
    "    coarse_type = source_type[1]\n",
    "\n",
    "    try:\n",
    "        if coarse_type is None:\n",
    "            id, style, words_no = (\n",
    "                data.filter(\n",
    "                    (pl.col(\"source\") == source)\n",
    "                    & (pl.col(\"coarse_type\").is_null())\n",
    "                    & (pl.col(\"first_style\").is_not_null())\n",
    "                    & (~pl.col(\"first_style\").is_in(selected_paintings[\"style\"]))\n",
    "                )\n",
    "                .select(\"id\", \"first_style\", \"words_no\")\n",
    "                .to_numpy()[0]\n",
    "            )\n",
    "        else:\n",
    "            id, style, words_no = (\n",
    "                data.filter(\n",
    "                    (pl.col(\"source\") == source)\n",
    "                    & (pl.col(\"coarse_type\") == source_type[1])\n",
    "                    & (pl.col(\"first_style\").is_not_null())\n",
    "                    & (~pl.col(\"first_style\").is_in(selected_paintings[\"style\"]))\n",
    "                )\n",
    "                .select(\"id\", \"first_style\", \"words_no\")\n",
    "                .to_numpy()[0]\n",
    "            )\n",
    "    except:\n",
    "        id, style, words_no = (\n",
    "            data.filter((pl.col(\"source\") == source) & (pl.col(\"coarse_type\") == source_type[1]))\n",
    "            .select(\"id\", \"first_style\", \"words_no\")\n",
    "            .to_numpy()[0]\n",
    "        )\n",
    "        \n",
    "    selected_paintings[\"id\"].append(id)\n",
    "    selected_paintings[\"source\"].append(source)\n",
    "    selected_paintings[\"type\"].append(source_type[1])\n",
    "    selected_paintings[\"style\"].append(style)\n",
    "    selected_paintings[\"words_no\"].append(words_no)\n",
    "\n",
    "selected_paintings_df = pl.from_dict(selected_paintings).sort(\"words_no\")\n",
    "selected_paintings_df\n"
   ]
  },
  {
   "cell_type": "code",
   "execution_count": null,
   "metadata": {},
   "outputs": [],
   "source": [
    "left_out_styles = set(data[\"first_style\"].to_list()) - set(selected_paintings_df[\"style\"].to_list())\n",
    "\n",
    "for style in left_out_styles:\n",
    "    if style is not None:\n",
    "        id, source, coarse_type, words_no = data.filter(pl.col(\"first_style\") == style).select(\"id\", \"source\", \"coarse_type\", \"words_no\").to_numpy()[0]\n",
    "\n",
    "    selected_paintings[\"id\"].append(id)\n",
    "    selected_paintings[\"source\"].append(source)\n",
    "    selected_paintings[\"type\"].append(coarse_type)\n",
    "    selected_paintings[\"style\"].append(style)\n",
    "    selected_paintings[\"words_no\"].append(words_no)\n",
    "\n",
    "selected_paintings_df = pl.from_dict(selected_paintings).sort(\"words_no\").unique(\"id\")\n",
    "selected_paintings_df\n"
   ]
  },
  {
   "cell_type": "code",
   "execution_count": null,
   "metadata": {},
   "outputs": [],
   "source": [
    "for painting_data in selected_paintings_df.to_dicts():\n",
    "    print(f\"Type: {painting_data[\"type\"]}\\nStyle: {painting_data[\"style\"]}\")\n",
    "    print(\n",
    "        data.filter(pl.col(\"id\") == painting_data[\"id\"])[\"description\"][0]\n",
    "        .replace(\"\\n\", \" \")\n",
    "        .strip()\n",
    "    )\n",
    "    painting = Image.open(f\"{RAW_DATA_PATH}filtered_paintings/{painting_data[\"id\"]}.png\")\n",
    "\n",
    "    width, height = painting.size\n",
    "    new_size = (width // 3, height // 3)\n",
    "    resized_paining = painting.resize(new_size)\n",
    "\n",
    "    display(resized_paining)\n"
   ]
  },
  {
   "cell_type": "markdown",
   "metadata": {},
   "source": [
    "### 3. Select paintings that will be used as examples for the LLM that will annotate the data"
   ]
  },
  {
   "cell_type": "code",
   "execution_count": null,
   "metadata": {},
   "outputs": [],
   "source": [
    "select_paintings_for_prompt = (\n",
    "    data.filter(~pl.col(\"id\").is_in(selected_paintings_df[\"id\"].to_list()))\n",
    "    .group_by(\"coarse_type\")\n",
    "    .agg(pl.col(\"*\").get(8))\n",
    "    .rename({\"coarse_type\": \"type\", \"first_style\": \"style\"})\n",
    ")\n",
    "select_paintings_for_prompt\n"
   ]
  },
  {
   "cell_type": "code",
   "execution_count": null,
   "metadata": {},
   "outputs": [],
   "source": [
    "for painting_data in select_paintings_for_prompt.to_dicts():\n",
    "    print(f\"Type: {painting_data[\"type\"]}\\nStyle: {painting_data[\"style\"]}\")\n",
    "    print(data.filter(pl.col(\"id\") == painting_data[\"id\"])[\"description\"][0].replace(\"\\n\", \" \"))\n",
    "    painting = Image.open(f\"{RAW_DATA_PATH}filtered_paintings/{painting_data[\"id\"]}.png\")\n",
    "\n",
    "    width, height = painting.size\n",
    "    new_size = (width // 3, height // 3)\n",
    "    resized_paining = painting.resize(new_size)\n",
    "\n",
    "    display(resized_paining)\n"
   ]
  },
  {
   "cell_type": "markdown",
   "metadata": {},
   "source": [
    "### 4. Store the selected paintings and their attributes"
   ]
  },
  {
   "cell_type": "code",
   "execution_count": null,
   "metadata": {},
   "outputs": [],
   "source": [
    "paintings_to_manually_annotate = pl.concat(\n",
    "    [\n",
    "        selected_paintings_df.with_columns(pl.lit(\"train_val\").alias(\"set\")).select(\n",
    "            \"id\", \"source\", \"type\", \"style\", \"words_no\", \"set\"\n",
    "        ),\n",
    "        select_paintings_for_prompt.with_columns(pl.lit(\"prompt\").alias(\"set\")).select(\n",
    "            \"id\", \"source\", \"type\", \"style\", \"words_no\", \"set\"\n",
    "        ),\n",
    "    ]\n",
    ")\n",
    "paintings_to_manually_annotate.write_csv(\n",
    "    f\"{ANNOTATIONS_DATA_PATH}paintings_to_manually_annotate.csv\"\n",
    ")\n",
    "paintings_to_manually_annotate\n"
   ]
  }
 ],
 "metadata": {
  "kernelspec": {
   "display_name": "enhance_vg",
   "language": "python",
   "name": "python3"
  },
  "language_info": {
   "codemirror_mode": {
    "name": "ipython",
    "version": 3
   },
   "file_extension": ".py",
   "mimetype": "text/x-python",
   "name": "python",
   "nbconvert_exporter": "python",
   "pygments_lexer": "ipython3",
   "version": "3.12.3"
  }
 },
 "nbformat": 4,
 "nbformat_minor": 2
}
